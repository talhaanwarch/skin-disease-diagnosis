{
  "nbformat": 4,
  "nbformat_minor": 0,
  "metadata": {
    "colab": {
      "name": "transfer_learning_approach.ipynb",
      "provenance": [],
      "authorship_tag": "ABX9TyPQkZD+Qd30L/gxlrHBtG3Y",
      "include_colab_link": true
    },
    "kernelspec": {
      "name": "python3",
      "display_name": "Python 3"
    },
    "accelerator": "GPU"
  },
  "cells": [
    {
      "cell_type": "markdown",
      "metadata": {
        "id": "view-in-github",
        "colab_type": "text"
      },
      "source": [
        "<a href=\"https://colab.research.google.com/github/talhaanwarch/skin_cancer_detection_phone_camera/blob/master/transfer_learning_approach.ipynb\" target=\"_parent\"><img src=\"https://colab.research.google.com/assets/colab-badge.svg\" alt=\"Open In Colab\"/></a>"
      ]
    },
    {
      "cell_type": "code",
      "metadata": {
        "id": "FzpATBgHIHqu",
        "colab_type": "code",
        "colab": {
          "base_uri": "https://localhost:8080/",
          "height": 120
        },
        "outputId": "605f72e3-0c2d-4e49-f859-ac342be4bea8"
      },
      "source": [
        "from google.colab import drive\n",
        "drive.mount('/content/drive')"
      ],
      "execution_count": 1,
      "outputs": [
        {
          "output_type": "stream",
          "text": [
            "Go to this URL in a browser: https://accounts.google.com/o/oauth2/auth?client_id=947318989803-6bn6qk8qdgf4n4g3pfee6491hc0brc4i.apps.googleusercontent.com&redirect_uri=urn%3aietf%3awg%3aoauth%3a2.0%3aoob&response_type=code&scope=email%20https%3a%2f%2fwww.googleapis.com%2fauth%2fdocs.test%20https%3a%2f%2fwww.googleapis.com%2fauth%2fdrive%20https%3a%2f%2fwww.googleapis.com%2fauth%2fdrive.photos.readonly%20https%3a%2f%2fwww.googleapis.com%2fauth%2fpeopleapi.readonly\n",
            "\n",
            "Enter your authorization code:\n",
            "··········\n",
            "Mounted at /content/drive\n"
          ],
          "name": "stdout"
        }
      ]
    },
    {
      "cell_type": "code",
      "metadata": {
        "id": "ogr6mRTfIPTn",
        "colab_type": "code",
        "colab": {
          "base_uri": "https://localhost:8080/",
          "height": 87
        },
        "outputId": "6d963b1b-fd72-43ea-838d-b1f1a9c53c2d"
      },
      "source": [
        "print('Are you using the model for the first time')\n",
        "if input('y/n \\n')=='y':\n",
        "  print('donwloading the model')\n",
        "  !wget https://www.kaggleusercontent.com/kf/40082680/eyJhbGciOiJkaXIiLCJlbmMiOiJBMTI4Q0JDLUhTMjU2In0..E_XAUtjdDidxaML8Ct3SAg.X6vbQHK5QH7vnYLcyAGqMAEPr0cshww9Tsz_PlQ_xlKmUmcXHKD1TL1nS3cqyjp6s2-NDkIBBwko2LkoNtMwugZ8KG8UoqnRoqCBRbZ-seJBlRPu6aE6cIPMrmTjYAiRTQkfwCGm7Bb70uGdFse8DMBnDGyfQf285Hxhz9tcNdGCwfDNvf3bpxYgWiIIMTCffT0mZnHOq-5pEU5OhC5tdh8bQuuWGWUIgO9xcYvoYQNZdyeQh3-oi3F7LHZxl39pqjXZZLIP5aafs4tl-0mYCtbNGki6naV-sNSrDU4aRDjomqTcxKO4fHkJwlJYMrjGLuXnupa21NxAEyvbQmU5p2DABSAyWzuq_7yAdoLC4HozKcyZPlSWCmAS4_urG1EEZ0ao1FC9Ocms4jeGUDXDWOydqRoKPBMJHzn_S3fad07pinwTBvwj3tSUHEw7VWFYEyZR6Ffn6U4o6qMcSTMMweRuXDC0aNJg5u_3uzuqJsJdye2_NeGMX0bQ15zKtKK3Q6bZ1y4b4JVqO7yPtLJWBfyUBFFrQ1dWgmpkmlSRrFyXAqFBGmCBhYl-6yl0XVgRYrwbd0TptPc_8u6iROMUOxMWtkyNTWbFhxmxrVqkz4t5R1rFtZ61joTZ_8g_dx-in_yJTpCLqQfnwS-B9G6vIQ.2QRaAD9Er0LczqFQSDoaTg/ham_eff3_weights.hdf5\n",
        "  print('saving model to drive')\n",
        "  !cp /content/ham_eff3_weights.hdf5  /content/drive/My\\ Drive/\n",
        "else:\n",
        "  print('load model from thie google drive') \n",
        "  !cp /content/drive/My\\ Drive/ham_eff3_weights.hdf5 /content/"
      ],
      "execution_count": 2,
      "outputs": [
        {
          "output_type": "stream",
          "text": [
            "Are you using the model for the first time\n",
            "y/n \n",
            "n\n",
            "load model from thie google drive\n"
          ],
          "name": "stdout"
        }
      ]
    },
    {
      "cell_type": "code",
      "metadata": {
        "id": "tN-dRYVxFchm",
        "colab_type": "code",
        "colab": {}
      },
      "source": [
        "%%capture\n",
        "!pip install efficientnet"
      ],
      "execution_count": 3,
      "outputs": []
    },
    {
      "cell_type": "code",
      "metadata": {
        "id": "Ys4Vc6mwF_U8",
        "colab_type": "code",
        "colab": {
          "base_uri": "https://localhost:8080/",
          "height": 221
        },
        "outputId": "d3327564-0e48-4a41-ba51-8476971714a2"
      },
      "source": [
        "#download the dataset\n",
        "!wget https://md-datasets-cache-zipfiles-prod.s3.eu-west-1.amazonaws.com/zr7vgbcyr2-1.zip"
      ],
      "execution_count": 4,
      "outputs": [
        {
          "output_type": "stream",
          "text": [
            "--2020-08-04 05:15:10--  https://md-datasets-cache-zipfiles-prod.s3.eu-west-1.amazonaws.com/zr7vgbcyr2-1.zip\n",
            "Resolving md-datasets-cache-zipfiles-prod.s3.eu-west-1.amazonaws.com (md-datasets-cache-zipfiles-prod.s3.eu-west-1.amazonaws.com)... 52.218.101.176\n",
            "Connecting to md-datasets-cache-zipfiles-prod.s3.eu-west-1.amazonaws.com (md-datasets-cache-zipfiles-prod.s3.eu-west-1.amazonaws.com)|52.218.101.176|:443... connected.\n",
            "HTTP request sent, awaiting response... 200 OK\n",
            "Length: 3593344681 (3.3G) [application/octet-stream]\n",
            "Saving to: ‘zr7vgbcyr2-1.zip’\n",
            "\n",
            "zr7vgbcyr2-1.zip    100%[===================>]   3.35G  81.3MB/s    in 60s     \n",
            "\n",
            "2020-08-04 05:16:10 (56.8 MB/s) - ‘zr7vgbcyr2-1.zip’ saved [3593344681/3593344681]\n",
            "\n"
          ],
          "name": "stdout"
        }
      ]
    },
    {
      "cell_type": "code",
      "metadata": {
        "id": "crr19GsaGB2w",
        "colab_type": "code",
        "colab": {}
      },
      "source": [
        "#unzip the dataset\n",
        "%%capture\n",
        "!unzip zr7vgbcyr2-1.zip"
      ],
      "execution_count": 5,
      "outputs": []
    },
    {
      "cell_type": "code",
      "metadata": {
        "id": "_bPafWo1GCQF",
        "colab_type": "code",
        "colab": {}
      },
      "source": [
        "#create a new folder named as data\n",
        "!mkdir data"
      ],
      "execution_count": 6,
      "outputs": []
    },
    {
      "cell_type": "code",
      "metadata": {
        "id": "qjc8HZ54GCTG",
        "colab_type": "code",
        "colab": {}
      },
      "source": [
        "#unzip all subfolder\n",
        "%%capture\n",
        "!unzip /content/images/imgs_part_1.zip\n",
        "!unzip /content/images/imgs_part_2.zip\n",
        "!unzip /content/images/imgs_part_3.zip"
      ],
      "execution_count": 7,
      "outputs": []
    },
    {
      "cell_type": "code",
      "metadata": {
        "id": "evwiG9ihGCWK",
        "colab_type": "code",
        "colab": {}
      },
      "source": [
        "#move all pictures from subfolder to main folder data\n",
        "!mv  /content/imgs_part_1/* /content/data\n",
        "!mv  /content/imgs_part_2/* /content/data\n",
        "!mv  /content/imgs_part_3/* /content/data"
      ],
      "execution_count": 8,
      "outputs": []
    },
    {
      "cell_type": "code",
      "metadata": {
        "id": "Wymt3DYLGCew",
        "colab_type": "code",
        "colab": {}
      },
      "source": [
        "#remove the folder that contain subfolders\n",
        "!rm -r /content/images"
      ],
      "execution_count": 9,
      "outputs": []
    },
    {
      "cell_type": "code",
      "metadata": {
        "id": "HAEyK-mJGCb6",
        "colab_type": "code",
        "colab": {
          "base_uri": "https://localhost:8080/",
          "height": 216
        },
        "outputId": "8e93571c-67b9-4be9-99f5-da30d858468c"
      },
      "source": [
        "import pandas as pd\n",
        "import numpy as np\n",
        "import matplotlib.pyplot as plt\n",
        "#read annotation file\n",
        "df=pd.read_csv('/content/metadata.csv')\n",
        "df.head()"
      ],
      "execution_count": 10,
      "outputs": [
        {
          "output_type": "execute_result",
          "data": {
            "text/html": [
              "<div>\n",
              "<style scoped>\n",
              "    .dataframe tbody tr th:only-of-type {\n",
              "        vertical-align: middle;\n",
              "    }\n",
              "\n",
              "    .dataframe tbody tr th {\n",
              "        vertical-align: top;\n",
              "    }\n",
              "\n",
              "    .dataframe thead th {\n",
              "        text-align: right;\n",
              "    }\n",
              "</style>\n",
              "<table border=\"1\" class=\"dataframe\">\n",
              "  <thead>\n",
              "    <tr style=\"text-align: right;\">\n",
              "      <th></th>\n",
              "      <th>patient_id</th>\n",
              "      <th>lesion_id</th>\n",
              "      <th>smoke</th>\n",
              "      <th>drink</th>\n",
              "      <th>background_father</th>\n",
              "      <th>background_mother</th>\n",
              "      <th>age</th>\n",
              "      <th>pesticide</th>\n",
              "      <th>gender</th>\n",
              "      <th>skin_cancer_history</th>\n",
              "      <th>cancer_history</th>\n",
              "      <th>has_piped_water</th>\n",
              "      <th>has_sewage_system</th>\n",
              "      <th>fitspatrick</th>\n",
              "      <th>region</th>\n",
              "      <th>diameter_1</th>\n",
              "      <th>diameter_2</th>\n",
              "      <th>diagnostic</th>\n",
              "      <th>itch</th>\n",
              "      <th>grew</th>\n",
              "      <th>hurt</th>\n",
              "      <th>changed</th>\n",
              "      <th>bleed</th>\n",
              "      <th>elevation</th>\n",
              "      <th>img_id</th>\n",
              "      <th>biopsed</th>\n",
              "    </tr>\n",
              "  </thead>\n",
              "  <tbody>\n",
              "    <tr>\n",
              "      <th>0</th>\n",
              "      <td>PAT_1516</td>\n",
              "      <td>1765</td>\n",
              "      <td>NaN</td>\n",
              "      <td>NaN</td>\n",
              "      <td>NaN</td>\n",
              "      <td>NaN</td>\n",
              "      <td>8</td>\n",
              "      <td>NaN</td>\n",
              "      <td>NaN</td>\n",
              "      <td>NaN</td>\n",
              "      <td>NaN</td>\n",
              "      <td>NaN</td>\n",
              "      <td>NaN</td>\n",
              "      <td>NaN</td>\n",
              "      <td>ARM</td>\n",
              "      <td>NaN</td>\n",
              "      <td>NaN</td>\n",
              "      <td>NEV</td>\n",
              "      <td>False</td>\n",
              "      <td>False</td>\n",
              "      <td>False</td>\n",
              "      <td>False</td>\n",
              "      <td>False</td>\n",
              "      <td>False</td>\n",
              "      <td>PAT_1516_1765_530.png</td>\n",
              "      <td>False</td>\n",
              "    </tr>\n",
              "    <tr>\n",
              "      <th>1</th>\n",
              "      <td>PAT_46</td>\n",
              "      <td>881</td>\n",
              "      <td>False</td>\n",
              "      <td>False</td>\n",
              "      <td>POMERANIA</td>\n",
              "      <td>POMERANIA</td>\n",
              "      <td>55</td>\n",
              "      <td>False</td>\n",
              "      <td>FEMALE</td>\n",
              "      <td>True</td>\n",
              "      <td>True</td>\n",
              "      <td>True</td>\n",
              "      <td>True</td>\n",
              "      <td>3.0</td>\n",
              "      <td>NECK</td>\n",
              "      <td>6.0</td>\n",
              "      <td>5.0</td>\n",
              "      <td>BCC</td>\n",
              "      <td>True</td>\n",
              "      <td>True</td>\n",
              "      <td>False</td>\n",
              "      <td>True</td>\n",
              "      <td>True</td>\n",
              "      <td>True</td>\n",
              "      <td>PAT_46_881_939.png</td>\n",
              "      <td>True</td>\n",
              "    </tr>\n",
              "    <tr>\n",
              "      <th>2</th>\n",
              "      <td>PAT_1545</td>\n",
              "      <td>1867</td>\n",
              "      <td>NaN</td>\n",
              "      <td>NaN</td>\n",
              "      <td>NaN</td>\n",
              "      <td>NaN</td>\n",
              "      <td>77</td>\n",
              "      <td>NaN</td>\n",
              "      <td>NaN</td>\n",
              "      <td>NaN</td>\n",
              "      <td>NaN</td>\n",
              "      <td>NaN</td>\n",
              "      <td>NaN</td>\n",
              "      <td>NaN</td>\n",
              "      <td>FACE</td>\n",
              "      <td>NaN</td>\n",
              "      <td>NaN</td>\n",
              "      <td>ACK</td>\n",
              "      <td>True</td>\n",
              "      <td>False</td>\n",
              "      <td>False</td>\n",
              "      <td>False</td>\n",
              "      <td>False</td>\n",
              "      <td>False</td>\n",
              "      <td>PAT_1545_1867_547.png</td>\n",
              "      <td>False</td>\n",
              "    </tr>\n",
              "    <tr>\n",
              "      <th>3</th>\n",
              "      <td>PAT_1989</td>\n",
              "      <td>4061</td>\n",
              "      <td>NaN</td>\n",
              "      <td>NaN</td>\n",
              "      <td>NaN</td>\n",
              "      <td>NaN</td>\n",
              "      <td>75</td>\n",
              "      <td>NaN</td>\n",
              "      <td>NaN</td>\n",
              "      <td>NaN</td>\n",
              "      <td>NaN</td>\n",
              "      <td>NaN</td>\n",
              "      <td>NaN</td>\n",
              "      <td>NaN</td>\n",
              "      <td>HAND</td>\n",
              "      <td>NaN</td>\n",
              "      <td>NaN</td>\n",
              "      <td>ACK</td>\n",
              "      <td>True</td>\n",
              "      <td>False</td>\n",
              "      <td>False</td>\n",
              "      <td>False</td>\n",
              "      <td>False</td>\n",
              "      <td>False</td>\n",
              "      <td>PAT_1989_4061_934.png</td>\n",
              "      <td>False</td>\n",
              "    </tr>\n",
              "    <tr>\n",
              "      <th>4</th>\n",
              "      <td>PAT_684</td>\n",
              "      <td>1302</td>\n",
              "      <td>False</td>\n",
              "      <td>True</td>\n",
              "      <td>POMERANIA</td>\n",
              "      <td>POMERANIA</td>\n",
              "      <td>79</td>\n",
              "      <td>False</td>\n",
              "      <td>MALE</td>\n",
              "      <td>True</td>\n",
              "      <td>False</td>\n",
              "      <td>False</td>\n",
              "      <td>False</td>\n",
              "      <td>1.0</td>\n",
              "      <td>FOREARM</td>\n",
              "      <td>5.0</td>\n",
              "      <td>5.0</td>\n",
              "      <td>BCC</td>\n",
              "      <td>True</td>\n",
              "      <td>True</td>\n",
              "      <td>False</td>\n",
              "      <td>False</td>\n",
              "      <td>True</td>\n",
              "      <td>True</td>\n",
              "      <td>PAT_684_1302_588.png</td>\n",
              "      <td>True</td>\n",
              "    </tr>\n",
              "  </tbody>\n",
              "</table>\n",
              "</div>"
            ],
            "text/plain": [
              "  patient_id  lesion_id  smoke  ... elevation                 img_id biopsed\n",
              "0   PAT_1516       1765    NaN  ...     False  PAT_1516_1765_530.png   False\n",
              "1     PAT_46        881  False  ...      True     PAT_46_881_939.png    True\n",
              "2   PAT_1545       1867    NaN  ...     False  PAT_1545_1867_547.png   False\n",
              "3   PAT_1989       4061    NaN  ...     False  PAT_1989_4061_934.png   False\n",
              "4    PAT_684       1302  False  ...      True   PAT_684_1302_588.png    True\n",
              "\n",
              "[5 rows x 26 columns]"
            ]
          },
          "metadata": {
            "tags": []
          },
          "execution_count": 10
        }
      ]
    },
    {
      "cell_type": "code",
      "metadata": {
        "id": "oIP9M4WoGCZz",
        "colab_type": "code",
        "colab": {
          "base_uri": "https://localhost:8080/",
          "height": 196
        },
        "outputId": "aad78f14-e912-4d5b-c93d-1c1ab14089f3"
      },
      "source": [
        "#create a dataframe with image name and encoded labels\n",
        "labels=pd.get_dummies(df['diagnostic'])\n",
        "df=pd.concat([df['img_id'],labels],axis=1)\n",
        "df.head()"
      ],
      "execution_count": 11,
      "outputs": [
        {
          "output_type": "execute_result",
          "data": {
            "text/html": [
              "<div>\n",
              "<style scoped>\n",
              "    .dataframe tbody tr th:only-of-type {\n",
              "        vertical-align: middle;\n",
              "    }\n",
              "\n",
              "    .dataframe tbody tr th {\n",
              "        vertical-align: top;\n",
              "    }\n",
              "\n",
              "    .dataframe thead th {\n",
              "        text-align: right;\n",
              "    }\n",
              "</style>\n",
              "<table border=\"1\" class=\"dataframe\">\n",
              "  <thead>\n",
              "    <tr style=\"text-align: right;\">\n",
              "      <th></th>\n",
              "      <th>img_id</th>\n",
              "      <th>ACK</th>\n",
              "      <th>BCC</th>\n",
              "      <th>MEL</th>\n",
              "      <th>NEV</th>\n",
              "      <th>SCC</th>\n",
              "      <th>SEK</th>\n",
              "    </tr>\n",
              "  </thead>\n",
              "  <tbody>\n",
              "    <tr>\n",
              "      <th>0</th>\n",
              "      <td>PAT_1516_1765_530.png</td>\n",
              "      <td>0</td>\n",
              "      <td>0</td>\n",
              "      <td>0</td>\n",
              "      <td>1</td>\n",
              "      <td>0</td>\n",
              "      <td>0</td>\n",
              "    </tr>\n",
              "    <tr>\n",
              "      <th>1</th>\n",
              "      <td>PAT_46_881_939.png</td>\n",
              "      <td>0</td>\n",
              "      <td>1</td>\n",
              "      <td>0</td>\n",
              "      <td>0</td>\n",
              "      <td>0</td>\n",
              "      <td>0</td>\n",
              "    </tr>\n",
              "    <tr>\n",
              "      <th>2</th>\n",
              "      <td>PAT_1545_1867_547.png</td>\n",
              "      <td>1</td>\n",
              "      <td>0</td>\n",
              "      <td>0</td>\n",
              "      <td>0</td>\n",
              "      <td>0</td>\n",
              "      <td>0</td>\n",
              "    </tr>\n",
              "    <tr>\n",
              "      <th>3</th>\n",
              "      <td>PAT_1989_4061_934.png</td>\n",
              "      <td>1</td>\n",
              "      <td>0</td>\n",
              "      <td>0</td>\n",
              "      <td>0</td>\n",
              "      <td>0</td>\n",
              "      <td>0</td>\n",
              "    </tr>\n",
              "    <tr>\n",
              "      <th>4</th>\n",
              "      <td>PAT_684_1302_588.png</td>\n",
              "      <td>0</td>\n",
              "      <td>1</td>\n",
              "      <td>0</td>\n",
              "      <td>0</td>\n",
              "      <td>0</td>\n",
              "      <td>0</td>\n",
              "    </tr>\n",
              "  </tbody>\n",
              "</table>\n",
              "</div>"
            ],
            "text/plain": [
              "                  img_id  ACK  BCC  MEL  NEV  SCC  SEK\n",
              "0  PAT_1516_1765_530.png    0    0    0    1    0    0\n",
              "1     PAT_46_881_939.png    0    1    0    0    0    0\n",
              "2  PAT_1545_1867_547.png    1    0    0    0    0    0\n",
              "3  PAT_1989_4061_934.png    1    0    0    0    0    0\n",
              "4   PAT_684_1302_588.png    0    1    0    0    0    0"
            ]
          },
          "metadata": {
            "tags": []
          },
          "execution_count": 11
        }
      ]
    },
    {
      "cell_type": "code",
      "metadata": {
        "id": "B4uO3ChKG2EO",
        "colab_type": "code",
        "colab": {
          "base_uri": "https://localhost:8080/",
          "height": 196
        },
        "outputId": "27a2f551-0bce-4c56-c654-617f5a7916f1"
      },
      "source": [
        "#shuffle the dataframe\n",
        "df=df.sample(frac=1)\n",
        "df.head()"
      ],
      "execution_count": 12,
      "outputs": [
        {
          "output_type": "execute_result",
          "data": {
            "text/html": [
              "<div>\n",
              "<style scoped>\n",
              "    .dataframe tbody tr th:only-of-type {\n",
              "        vertical-align: middle;\n",
              "    }\n",
              "\n",
              "    .dataframe tbody tr th {\n",
              "        vertical-align: top;\n",
              "    }\n",
              "\n",
              "    .dataframe thead th {\n",
              "        text-align: right;\n",
              "    }\n",
              "</style>\n",
              "<table border=\"1\" class=\"dataframe\">\n",
              "  <thead>\n",
              "    <tr style=\"text-align: right;\">\n",
              "      <th></th>\n",
              "      <th>img_id</th>\n",
              "      <th>ACK</th>\n",
              "      <th>BCC</th>\n",
              "      <th>MEL</th>\n",
              "      <th>NEV</th>\n",
              "      <th>SCC</th>\n",
              "      <th>SEK</th>\n",
              "    </tr>\n",
              "  </thead>\n",
              "  <tbody>\n",
              "    <tr>\n",
              "      <th>287</th>\n",
              "      <td>PAT_1324_1145_309.png</td>\n",
              "      <td>1</td>\n",
              "      <td>0</td>\n",
              "      <td>0</td>\n",
              "      <td>0</td>\n",
              "      <td>0</td>\n",
              "      <td>0</td>\n",
              "    </tr>\n",
              "    <tr>\n",
              "      <th>389</th>\n",
              "      <td>PAT_425_841_644.png</td>\n",
              "      <td>0</td>\n",
              "      <td>0</td>\n",
              "      <td>0</td>\n",
              "      <td>1</td>\n",
              "      <td>0</td>\n",
              "      <td>0</td>\n",
              "    </tr>\n",
              "    <tr>\n",
              "      <th>676</th>\n",
              "      <td>PAT_115_177_575.png</td>\n",
              "      <td>0</td>\n",
              "      <td>1</td>\n",
              "      <td>0</td>\n",
              "      <td>0</td>\n",
              "      <td>0</td>\n",
              "      <td>0</td>\n",
              "    </tr>\n",
              "    <tr>\n",
              "      <th>371</th>\n",
              "      <td>PAT_2125_4653_497.png</td>\n",
              "      <td>0</td>\n",
              "      <td>0</td>\n",
              "      <td>0</td>\n",
              "      <td>1</td>\n",
              "      <td>0</td>\n",
              "      <td>0</td>\n",
              "    </tr>\n",
              "    <tr>\n",
              "      <th>2120</th>\n",
              "      <td>PAT_75_113_647.png</td>\n",
              "      <td>0</td>\n",
              "      <td>0</td>\n",
              "      <td>0</td>\n",
              "      <td>0</td>\n",
              "      <td>1</td>\n",
              "      <td>0</td>\n",
              "    </tr>\n",
              "  </tbody>\n",
              "</table>\n",
              "</div>"
            ],
            "text/plain": [
              "                     img_id  ACK  BCC  MEL  NEV  SCC  SEK\n",
              "287   PAT_1324_1145_309.png    1    0    0    0    0    0\n",
              "389     PAT_425_841_644.png    0    0    0    1    0    0\n",
              "676     PAT_115_177_575.png    0    1    0    0    0    0\n",
              "371   PAT_2125_4653_497.png    0    0    0    1    0    0\n",
              "2120     PAT_75_113_647.png    0    0    0    0    1    0"
            ]
          },
          "metadata": {
            "tags": []
          },
          "execution_count": 12
        }
      ]
    },
    {
      "cell_type": "code",
      "metadata": {
        "id": "Ogf8B7C-G2NB",
        "colab_type": "code",
        "colab": {
          "base_uri": "https://localhost:8080/",
          "height": 33
        },
        "outputId": "8dcdb152-1ad8-4135-ab7b-013f5570ad8b"
      },
      "source": [
        "#labels columns in dataframe\n",
        "col=list(df.columns)[1::]\n",
        "col"
      ],
      "execution_count": 13,
      "outputs": [
        {
          "output_type": "execute_result",
          "data": {
            "text/plain": [
              "['ACK', 'BCC', 'MEL', 'NEV', 'SCC', 'SEK']"
            ]
          },
          "metadata": {
            "tags": []
          },
          "execution_count": 13
        }
      ]
    },
    {
      "cell_type": "code",
      "metadata": {
        "id": "ihQ3fznlG2Q7",
        "colab_type": "code",
        "colab": {}
      },
      "source": [
        "# data augmentation\n",
        "from tensorflow.keras.preprocessing.image import ImageDataGenerator\n",
        "data_gen= ImageDataGenerator(\n",
        "    horizontal_flip=True,\n",
        "    vertical_flip=True,\n",
        "    rotation_range=360,\n",
        "    width_shift_range=0.1,\n",
        "    height_shift_range=0.1,\n",
        "    zoom_range=.1,\n",
        "    rescale=1/255,\n",
        "    fill_mode='nearest')"
      ],
      "execution_count": 14,
      "outputs": []
    },
    {
      "cell_type": "code",
      "metadata": {
        "id": "Y4GNCOf3G2KD",
        "colab_type": "code",
        "colab": {}
      },
      "source": [
        "# model hyperparameters\n",
        "img_shape=300\n",
        "batch_size=24\n",
        "n_epochs=20"
      ],
      "execution_count": 15,
      "outputs": []
    },
    {
      "cell_type": "code",
      "metadata": {
        "id": "P72df_UPH2l1",
        "colab_type": "code",
        "colab": {}
      },
      "source": [
        "from tensorflow.keras.layers import GlobalAveragePooling2D,Dropout,Dense\n",
        "from tensorflow.keras.callbacks import ModelCheckpoint,ReduceLROnPlateau\n",
        "from tensorflow.keras.optimizers import Adam\n",
        "import tensorflow.keras.backend as K\n",
        "from tensorflow.keras.models import Sequential,Model"
      ],
      "execution_count": 16,
      "outputs": []
    },
    {
      "cell_type": "code",
      "metadata": {
        "id": "ngi230XBH5MN",
        "colab_type": "code",
        "colab": {}
      },
      "source": [
        "#first create the pretrained model and load weights\n",
        "import efficientnet.tfkeras as efn\n",
        "pre_trained_model =efn.EfficientNetB3(weights =None, include_top=False, input_shape = (img_shape,img_shape,3))\n",
        "x = pre_trained_model.output\n",
        "x = GlobalAveragePooling2D()(x)\n",
        "x = Dropout(0.3)(x)\n",
        "x = Dense(128, activation=\"relu\")(x)\n",
        "x = Dropout(0.3)(x)\n",
        "x = Dense(64, activation=\"relu\")(x)\n",
        "predictions = Dense(7, activation=\"softmax\")(x) #pretrained model has 7 classes\n",
        "pre_trained_model = Model(inputs=pre_trained_model.input, outputs=predictions)\n",
        "pre_trained_model.load_weights('/content/ham_eff3_weights.hdf5') #load pretrained weights to to model"
      ],
      "execution_count": 17,
      "outputs": []
    },
    {
      "cell_type": "code",
      "metadata": {
        "id": "_e3UDto2KtoS",
        "colab_type": "code",
        "colab": {}
      },
      "source": [
        "def basemodel():\n",
        "  #now remove all added layers in pretrained layers add new leayer and create base model\n",
        "  #here we can test how many layers we want to remove\n",
        "  base_model = Model(pre_trained_model.input, pre_trained_model.layers[-7].output)\n",
        "  #now add our new layers\n",
        "  x = base_model.output\n",
        "  x = GlobalAveragePooling2D()(x)\n",
        "  x = Dropout(0.3)(x)\n",
        "  x = Dense(128,name='dense1', activation=\"relu\")(x)\n",
        "  x = Dropout(0.3)(x)\n",
        "  x = Dense(64,name='dense2', activation=\"relu\")(x)\n",
        "\n",
        "  predictions  = Dense(len(col),name='output', activation=\"softmax\")(x) #base model has six layers\n",
        "  base_model = Model(inputs=base_model.input, outputs=predictions )\n",
        "  #compile the base model\n",
        "  base_model.compile(optimizer=Adam(0.001), loss='categorical_crossentropy', metrics=['accuracy'])\n",
        "  return base_model"
      ],
      "execution_count": 18,
      "outputs": []
    },
    {
      "cell_type": "code",
      "metadata": {
        "id": "hx-WGWBVNMri",
        "colab_type": "code",
        "colab": {
          "base_uri": "https://localhost:8080/",
          "height": 538
        },
        "outputId": "b5d0c6b9-24fb-4d51-c621-ffcdf0c4f84f"
      },
      "source": [
        "import warnings\n",
        "warnings.filterwarnings('always')\n",
        "from sklearn.model_selection import KFold\n",
        "import gc\n",
        "\n",
        "from sklearn.metrics import classification_report,accuracy_score,f1_score,roc_auc_score\n",
        "classification_reports=[]\n",
        "kf = KFold(n_splits=5)\n",
        "history=[]\n",
        "accuracy=[]\n",
        "f1_scores=[]\n",
        "auc=[]\n",
        "y_pred=[]\n",
        "fold=0\n",
        "for train_index, test_index in kf.split(df):\n",
        "  train=df.iloc[train_index,:]\n",
        "  val=df.iloc[test_index,:]\n",
        "  print('-----------fold {}--------------'.format(fold))\n",
        "  train_generator=data_gen.flow_from_dataframe(train,directory='/content/data',\n",
        "                                               target_size=(img_shape,img_shape),\n",
        "                                               x_col='img_id',\n",
        "                                               y_col=col,\n",
        "                                               class_mode='raw',\n",
        "                                               shuffle=True,\n",
        "                                               batch_size=batch_size)\n",
        "\n",
        "  val_generator=data_gen.flow_from_dataframe(val,directory='/content/data',\n",
        "                                             target_size=(img_shape,img_shape),\n",
        "                                             x_col=\"img_id\",\n",
        "                                             y_col=col,\n",
        "                                             class_mode='raw',\n",
        "                                             shuffle=False,\n",
        "                                             batch_size=batch_size)\n",
        "  #train_generator.next()[0].shape,train_generator.next()[1].shape\n",
        "\n",
        "  #load base model\n",
        "  base_model=basemodel()\n",
        "  #train model\n",
        "  results = base_model.fit(train_generator,epochs=10,verbose=0,\n",
        "                              steps_per_epoch=train_generator.n/batch_size,\n",
        "                              validation_data=val_generator,\n",
        "                             validation_steps=val_generator.n/batch_size,\n",
        "                              callbacks=[ReduceLROnPlateau(monitor='val_loss', factor=0.5,patience=3, min_lr=0.000001),\n",
        "                                         #ModelCheckpoint('model_{}.hdf5'.format(fold), save_best_only=True, monitor='val_loss', mode='min')\n",
        "                                         ])\n",
        "  #model.load_weights('model_{}.hdf5'.format(fold))\n",
        "  val_generator.reset()\n",
        "  y_pred=base_model.predict(val_generator,steps=val_generator.n/batch_size,verbose=0)\n",
        "  y_pred=y_pred.round().astype(int)\n",
        "  y_true=val.iloc[:,1::]\n",
        "\n",
        "  f1=f1_score(y_true,y_pred,average='macro',labels=np.unique(y_pred))\n",
        "  print('f1 score is ', f1)\n",
        "\n",
        "  classification_reports.append(classification_report(y_true, y_pred,target_names=col))#\n",
        "  accuracy.append(accuracy_score(y_true,y_pred))\n",
        "  auc.append(roc_auc_score(y_true,y_pred))\n",
        "  f1_scores.append(f1)\n",
        "  history.append(results)\n",
        "  fold+=1\n",
        "\n",
        "  del base_model\n",
        "  K.clear_session()\n",
        "  gc.collect()"
      ],
      "execution_count": 20,
      "outputs": [
        {
          "output_type": "stream",
          "text": [
            "-----------fold 0--------------\n",
            "Found 1838 validated image filenames.\n",
            "Found 460 validated image filenames.\n",
            "f1 score is  0.8052190220460527\n"
          ],
          "name": "stdout"
        },
        {
          "output_type": "stream",
          "text": [
            "/usr/local/lib/python3.6/dist-packages/sklearn/metrics/_classification.py:1272: UndefinedMetricWarning: Precision and F-score are ill-defined and being set to 0.0 in samples with no predicted labels. Use `zero_division` parameter to control this behavior.\n",
            "  _warn_prf(average, modifier, msg_start, len(result))\n"
          ],
          "name": "stderr"
        },
        {
          "output_type": "stream",
          "text": [
            "-----------fold 1--------------\n",
            "Found 1838 validated image filenames.\n",
            "Found 460 validated image filenames.\n",
            "f1 score is  0.9258066739530716\n"
          ],
          "name": "stdout"
        },
        {
          "output_type": "stream",
          "text": [
            "/usr/local/lib/python3.6/dist-packages/sklearn/metrics/_classification.py:1272: UndefinedMetricWarning: Precision and F-score are ill-defined and being set to 0.0 in samples with no predicted labels. Use `zero_division` parameter to control this behavior.\n",
            "  _warn_prf(average, modifier, msg_start, len(result))\n"
          ],
          "name": "stderr"
        },
        {
          "output_type": "stream",
          "text": [
            "-----------fold 2--------------\n",
            "Found 1838 validated image filenames.\n",
            "Found 460 validated image filenames.\n",
            "f1 score is  0.9440113971710593\n"
          ],
          "name": "stdout"
        },
        {
          "output_type": "stream",
          "text": [
            "/usr/local/lib/python3.6/dist-packages/sklearn/metrics/_classification.py:1272: UndefinedMetricWarning: Precision and F-score are ill-defined and being set to 0.0 in samples with no predicted labels. Use `zero_division` parameter to control this behavior.\n",
            "  _warn_prf(average, modifier, msg_start, len(result))\n"
          ],
          "name": "stderr"
        },
        {
          "output_type": "stream",
          "text": [
            "-----------fold 3--------------\n",
            "Found 1839 validated image filenames.\n",
            "Found 459 validated image filenames.\n",
            "f1 score is  0.9577187356848373\n"
          ],
          "name": "stdout"
        },
        {
          "output_type": "stream",
          "text": [
            "/usr/local/lib/python3.6/dist-packages/sklearn/metrics/_classification.py:1272: UndefinedMetricWarning: Precision and F-score are ill-defined and being set to 0.0 in samples with no predicted labels. Use `zero_division` parameter to control this behavior.\n",
            "  _warn_prf(average, modifier, msg_start, len(result))\n"
          ],
          "name": "stderr"
        },
        {
          "output_type": "stream",
          "text": [
            "-----------fold 4--------------\n",
            "Found 1839 validated image filenames.\n",
            "Found 459 validated image filenames.\n",
            "f1 score is  0.9690590111642743\n"
          ],
          "name": "stdout"
        },
        {
          "output_type": "stream",
          "text": [
            "/usr/local/lib/python3.6/dist-packages/sklearn/metrics/_classification.py:1272: UndefinedMetricWarning: Precision and F-score are ill-defined and being set to 0.0 in samples with no predicted labels. Use `zero_division` parameter to control this behavior.\n",
            "  _warn_prf(average, modifier, msg_start, len(result))\n"
          ],
          "name": "stderr"
        }
      ]
    },
    {
      "cell_type": "code",
      "metadata": {
        "id": "DCKnaWlGQGf5",
        "colab_type": "code",
        "colab": {
          "base_uri": "https://localhost:8080/",
          "height": 1000
        },
        "outputId": "7e5e71ed-f147-4e4d-8f8f-a566ba0c5483"
      },
      "source": [
        "# print classification report of all folds\n",
        "for report in classification_reports:\n",
        "  print('--------------------------------------------------------')\n",
        "  print(report)"
      ],
      "execution_count": 21,
      "outputs": [
        {
          "output_type": "stream",
          "text": [
            "--------------------------------------------------------\n",
            "              precision    recall  f1-score   support\n",
            "\n",
            "         ACK       0.81      0.82      0.82       142\n",
            "         BCC       0.77      0.82      0.80       159\n",
            "         MEL       0.80      0.36      0.50        11\n",
            "         NEV       0.78      0.84      0.81        55\n",
            "         SCC       0.38      0.17      0.24        46\n",
            "         SEK       0.71      0.77      0.73        47\n",
            "\n",
            "   micro avg       0.76      0.74      0.75       460\n",
            "   macro avg       0.71      0.63      0.65       460\n",
            "weighted avg       0.74      0.74      0.73       460\n",
            " samples avg       0.74      0.74      0.74       460\n",
            "\n",
            "--------------------------------------------------------\n",
            "              precision    recall  f1-score   support\n",
            "\n",
            "         ACK       0.92      0.95      0.93       143\n",
            "         BCC       0.95      0.89      0.92       180\n",
            "         MEL       0.83      1.00      0.91        10\n",
            "         NEV       0.82      1.00      0.90        41\n",
            "         SCC       0.74      0.72      0.73        40\n",
            "         SEK       1.00      0.78      0.88        46\n",
            "\n",
            "   micro avg       0.91      0.90      0.90       460\n",
            "   macro avg       0.88      0.89      0.88       460\n",
            "weighted avg       0.91      0.90      0.90       460\n",
            " samples avg       0.90      0.90      0.90       460\n",
            "\n",
            "--------------------------------------------------------\n",
            "              precision    recall  f1-score   support\n",
            "\n",
            "         ACK       0.93      0.99      0.96       154\n",
            "         BCC       0.96      0.90      0.93       160\n",
            "         MEL       0.75      1.00      0.86         3\n",
            "         NEV       0.98      0.96      0.97        53\n",
            "         SCC       0.97      0.88      0.93        43\n",
            "         SEK       0.98      1.00      0.99        47\n",
            "\n",
            "   micro avg       0.95      0.95      0.95       460\n",
            "   macro avg       0.93      0.96      0.94       460\n",
            "weighted avg       0.96      0.95      0.95       460\n",
            " samples avg       0.95      0.95      0.95       460\n",
            "\n",
            "--------------------------------------------------------\n",
            "              precision    recall  f1-score   support\n",
            "\n",
            "         ACK       0.99      0.95      0.97       151\n",
            "         BCC       0.91      0.98      0.95       178\n",
            "         MEL       1.00      0.73      0.84        11\n",
            "         NEV       0.93      0.93      0.93        44\n",
            "         SCC       0.88      0.68      0.76        31\n",
            "         SEK       1.00      1.00      1.00        44\n",
            "\n",
            "   micro avg       0.95      0.94      0.94       459\n",
            "   macro avg       0.95      0.88      0.91       459\n",
            "weighted avg       0.95      0.94      0.94       459\n",
            " samples avg       0.94      0.94      0.94       459\n",
            "\n",
            "--------------------------------------------------------\n",
            "              precision    recall  f1-score   support\n",
            "\n",
            "         ACK       0.95      0.99      0.97       140\n",
            "         BCC       0.99      0.95      0.97       168\n",
            "         MEL       1.00      0.94      0.97        17\n",
            "         NEV       0.98      0.94      0.96        51\n",
            "         SCC       0.82      0.84      0.83        32\n",
            "         SEK       0.92      0.96      0.94        51\n",
            "\n",
            "   micro avg       0.96      0.95      0.96       459\n",
            "   macro avg       0.94      0.94      0.94       459\n",
            "weighted avg       0.96      0.95      0.96       459\n",
            " samples avg       0.95      0.95      0.95       459\n",
            "\n"
          ],
          "name": "stdout"
        }
      ]
    },
    {
      "cell_type": "code",
      "metadata": {
        "id": "yesXG_AnTxV_",
        "colab_type": "code",
        "colab": {
          "base_uri": "https://localhost:8080/",
          "height": 33
        },
        "outputId": "51998b48-e226-4530-b3cb-909f3f6c5aa7"
      },
      "source": [
        "#average accuracy across all folds\n",
        "np.mean(accuracy)"
      ],
      "execution_count": 22,
      "outputs": [
        {
          "output_type": "execute_result",
          "data": {
            "text/plain": [
              "0.8956067064506963"
            ]
          },
          "metadata": {
            "tags": []
          },
          "execution_count": 22
        }
      ]
    },
    {
      "cell_type": "code",
      "metadata": {
        "id": "IBEnsXEAUE0v",
        "colab_type": "code",
        "colab": {
          "base_uri": "https://localhost:8080/",
          "height": 33
        },
        "outputId": "8ae819f6-1ffb-44ae-b547-b69428a34847"
      },
      "source": [
        "#average f1_scores across all folds\n",
        "np.mean(f1_scores)"
      ],
      "execution_count": 23,
      "outputs": [
        {
          "output_type": "execute_result",
          "data": {
            "text/plain": [
              "0.920362968003859"
            ]
          },
          "metadata": {
            "tags": []
          },
          "execution_count": 23
        }
      ]
    },
    {
      "cell_type": "code",
      "metadata": {
        "id": "nSynF5hyUJKL",
        "colab_type": "code",
        "colab": {
          "base_uri": "https://localhost:8080/",
          "height": 33
        },
        "outputId": "5768f801-03f0-423f-a1c3-41f9ec74ec0c"
      },
      "source": [
        "#average auc_scores across all folds\n",
        "np.mean(auc)"
      ],
      "execution_count": 24,
      "outputs": [
        {
          "output_type": "execute_result",
          "data": {
            "text/plain": [
              "0.9186505838618965"
            ]
          },
          "metadata": {
            "tags": []
          },
          "execution_count": 24
        }
      ]
    },
    {
      "cell_type": "code",
      "metadata": {
        "id": "ZS59r4ejUMib",
        "colab_type": "code",
        "colab": {
          "base_uri": "https://localhost:8080/",
          "height": 33
        },
        "outputId": "92c499ed-e9e3-4cd2-fab2-07343c8a285f"
      },
      "source": [
        "history[0].history.keys()"
      ],
      "execution_count": 25,
      "outputs": [
        {
          "output_type": "execute_result",
          "data": {
            "text/plain": [
              "dict_keys(['loss', 'accuracy', 'val_loss', 'val_accuracy', 'lr'])"
            ]
          },
          "metadata": {
            "tags": []
          },
          "execution_count": 25
        }
      ]
    },
    {
      "cell_type": "code",
      "metadata": {
        "id": "gqrytK3kUz8y",
        "colab_type": "code",
        "colab": {}
      },
      "source": [
        "def plot_accuracy(hist,acc='val_accuracy'):\n",
        "    for i in range(5):\n",
        "      plt.plot(hist[i].history[acc],linestyle='-.',linewidth=1.5)\n",
        "     \n",
        "    mean=np.mean([[j for j in x.history[acc]] for x in hist],axis=0)\n",
        "    std=np.std([[j for j in x.history[acc]] for x in hist],axis=0)\n",
        "    plt.plot(mean,linewidth=2,color='black')\n",
        "    if acc=='val_accuracy':\n",
        "      plt.title('Model Validation Accuracy')\n",
        "    else:\n",
        "      plt.title('Model Training Accuracy')\n",
        "    plt.ylabel('Accuracy')\n",
        "    plt.xlabel('Epochs')\n",
        "    plt.legend(['Fold1','Fold2','Fold3','Fold4','Fold5','Average Val Accuracy' ], loc='best')\n",
        "    plt.show()"
      ],
      "execution_count": 34,
      "outputs": []
    },
    {
      "cell_type": "code",
      "metadata": {
        "id": "bU00gMO6Vjt0",
        "colab_type": "code",
        "colab": {
          "base_uri": "https://localhost:8080/",
          "height": 295
        },
        "outputId": "25d318d2-93cb-4d56-e961-2b3168a9bf76"
      },
      "source": [
        "plot_accuracy(history)"
      ],
      "execution_count": 35,
      "outputs": [
        {
          "output_type": "display_data",
          "data": {
            "image/png": "[encoded data removed]",
            "text/plain": [
              "<Figure size 432x288 with 1 Axes>"
            ]
          },
          "metadata": {
            "tags": [],
            "needs_background": "light"
          }
        }
      ]
    },
    {
      "cell_type": "code",
      "metadata": {
        "id": "iCsZIxDS2Pck",
        "colab_type": "code",
        "colab": {
          "base_uri": "https://localhost:8080/",
          "height": 295
        },
        "outputId": "f007ba8a-9478-47c8-e1a0-34b20bbc2fd1"
      },
      "source": [
        "plot_accuracy(history,acc='accuracy')"
      ],
      "execution_count": 37,
      "outputs": [
        {
          "output_type": "display_data",
          "data": {
            "image/png": "[encoded data removed]",
            "text/plain": [
              "<Figure size 432x288 with 1 Axes>"
            ]
          },
          "metadata": {
            "tags": [],
            "needs_background": "light"
          }
        }
      ]
    },
    {
      "cell_type": "code",
      "metadata": {
        "id": "o0nx7FTsogaB",
        "colab_type": "code",
        "colab": {}
      },
      "source": [
        ""
      ],
      "execution_count": null,
      "outputs": []
    }
  ]
}