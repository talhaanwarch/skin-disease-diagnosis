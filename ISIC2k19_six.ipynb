{
  "nbformat": 4,
  "nbformat_minor": 0,
  "metadata": {
    "colab": {
      "name": "ISIC2k19.ipynb",
      "provenance": [],
      "collapsed_sections": [],
      "include_colab_link": true
    },
    "kernelspec": {
      "name": "python3",
      "display_name": "Python 3"
    },
    "accelerator": "GPU"
  },
  "cells": [
    {
      "cell_type": "markdown",
      "metadata": {
        "id": "view-in-github",
        "colab_type": "text"
      },
      "source": [
        "<a href=\"https://colab.research.google.com/github/talhaanwarch/skin_cancer_detection_phone_camera/blob/master/ISIC2k19_six.ipynb\" target=\"_parent\"><img src=\"https://colab.research.google.com/assets/colab-badge.svg\" alt=\"Open In Colab\"/></a>"
      ]
    },
    {
      "cell_type": "markdown",
      "metadata": {
        "id": "ZCq6S218a683",
        "colab_type": "text"
      },
      "source": [
        "#data download"
      ]
    },
    {
      "cell_type": "code",
      "metadata": {
        "id": "6FV6Y73WWApL",
        "colab_type": "code",
        "colab": {
          "base_uri": "https://localhost:8080/",
          "height": 212
        },
        "outputId": "62d87a9c-9b49-457a-ad2e-78fdf18eb970"
      },
      "source": [
        "!wget https://s3.amazonaws.com/isic-challenge-2019/ISIC_2019_Training_Input.zip"
      ],
      "execution_count": null,
      "outputs": [
        {
          "output_type": "stream",
          "text": [
            "--2020-08-19 14:50:00--  https://s3.amazonaws.com/isic-challenge-2019/ISIC_2019_Training_Input.zip\n",
            "Resolving s3.amazonaws.com (s3.amazonaws.com)... 52.216.248.94\n",
            "Connecting to s3.amazonaws.com (s3.amazonaws.com)|52.216.248.94|:443... connected.\n",
            "HTTP request sent, awaiting response... 200 OK\n",
            "Length: 9771618190 (9.1G) [application/zip]\n",
            "Saving to: ‘ISIC_2019_Training_Input.zip’\n",
            "\n",
            "ISIC_2019_Training_ 100%[===================>]   9.10G  16.7MB/s    in 9m 51s  \n",
            "\n",
            "2020-08-19 14:59:51 (15.8 MB/s) - ‘ISIC_2019_Training_Input.zip’ saved [9771618190/9771618190]\n",
            "\n"
          ],
          "name": "stdout"
        }
      ]
    },
    {
      "cell_type": "code",
      "metadata": {
        "id": "jRbzfyYiXEKN",
        "colab_type": "code",
        "colab": {}
      },
      "source": [
        "%%capture\n",
        "!unzip ISIC_2019_Training_Input.zip;"
      ],
      "execution_count": null,
      "outputs": []
    },
    {
      "cell_type": "code",
      "metadata": {
        "id": "NrBW0Zn0XYIc",
        "colab_type": "code",
        "colab": {}
      },
      "source": [
        "rm ISIC_2019_Training_Input.zip"
      ],
      "execution_count": null,
      "outputs": []
    },
    {
      "cell_type": "code",
      "metadata": {
        "id": "8Nx7lSdnWGyV",
        "colab_type": "code",
        "colab": {
          "base_uri": "https://localhost:8080/",
          "height": 212
        },
        "outputId": "f43c799a-1051-4c5a-beea-2f510bac9386"
      },
      "source": [
        "!wget https://s3.amazonaws.com/isic-challenge-2019/ISIC_2019_Test_Input.zip"
      ],
      "execution_count": null,
      "outputs": [
        {
          "output_type": "stream",
          "text": [
            "--2020-08-19 15:04:45--  https://s3.amazonaws.com/isic-challenge-2019/ISIC_2019_Test_Input.zip\n",
            "Resolving s3.amazonaws.com (s3.amazonaws.com)... 52.216.104.61\n",
            "Connecting to s3.amazonaws.com (s3.amazonaws.com)|52.216.104.61|:443... connected.\n",
            "HTTP request sent, awaiting response... 200 OK\n",
            "Length: 3823247963 (3.6G) [application/zip]\n",
            "Saving to: ‘ISIC_2019_Test_Input.zip’\n",
            "\n",
            "ISIC_2019_Test_Inpu 100%[===================>]   3.56G  16.6MB/s    in 3m 52s  \n",
            "\n",
            "2020-08-19 15:08:38 (15.7 MB/s) - ‘ISIC_2019_Test_Input.zip’ saved [3823247963/3823247963]\n",
            "\n"
          ],
          "name": "stdout"
        }
      ]
    },
    {
      "cell_type": "code",
      "metadata": {
        "id": "8vOHFeJNZDRe",
        "colab_type": "code",
        "colab": {}
      },
      "source": [
        "%%capture\n",
        "!unzip ISIC_2019_Test_Input.zip;"
      ],
      "execution_count": null,
      "outputs": []
    },
    {
      "cell_type": "code",
      "metadata": {
        "id": "ZS4q_z79Zkn-",
        "colab_type": "code",
        "colab": {}
      },
      "source": [
        "rm ISIC_2019_Test_Input.zip"
      ],
      "execution_count": null,
      "outputs": []
    },
    {
      "cell_type": "code",
      "metadata": {
        "id": "IsJ3fOIfZxl3",
        "colab_type": "code",
        "colab": {
          "base_uri": "https://localhost:8080/",
          "height": 200
        },
        "outputId": "98f63fb9-3bae-4c1b-c2f5-cbca4447ddd2"
      },
      "source": [
        "import pandas as pd\n",
        "train_df=pd.read_csv('https://s3.amazonaws.com/isic-challenge-2019/ISIC_2019_Training_GroundTruth.csv')\n",
        "train_df.drop('UNK',inplace=True,axis=1)\n",
        "train_df['image']=train_df['image']+'.jpg'\n",
        "train_df.head()"
      ],
      "execution_count": null,
      "outputs": [
        {
          "output_type": "execute_result",
          "data": {
            "text/html": [
              "<div>\n",
              "<style scoped>\n",
              "    .dataframe tbody tr th:only-of-type {\n",
              "        vertical-align: middle;\n",
              "    }\n",
              "\n",
              "    .dataframe tbody tr th {\n",
              "        vertical-align: top;\n",
              "    }\n",
              "\n",
              "    .dataframe thead th {\n",
              "        text-align: right;\n",
              "    }\n",
              "</style>\n",
              "<table border=\"1\" class=\"dataframe\">\n",
              "  <thead>\n",
              "    <tr style=\"text-align: right;\">\n",
              "      <th></th>\n",
              "      <th>image</th>\n",
              "      <th>MEL</th>\n",
              "      <th>NV</th>\n",
              "      <th>BCC</th>\n",
              "      <th>AK</th>\n",
              "      <th>BKL</th>\n",
              "      <th>DF</th>\n",
              "      <th>VASC</th>\n",
              "      <th>SCC</th>\n",
              "    </tr>\n",
              "  </thead>\n",
              "  <tbody>\n",
              "    <tr>\n",
              "      <th>0</th>\n",
              "      <td>ISIC_0000000.jpg</td>\n",
              "      <td>0.0</td>\n",
              "      <td>1.0</td>\n",
              "      <td>0.0</td>\n",
              "      <td>0.0</td>\n",
              "      <td>0.0</td>\n",
              "      <td>0.0</td>\n",
              "      <td>0.0</td>\n",
              "      <td>0.0</td>\n",
              "    </tr>\n",
              "    <tr>\n",
              "      <th>1</th>\n",
              "      <td>ISIC_0000001.jpg</td>\n",
              "      <td>0.0</td>\n",
              "      <td>1.0</td>\n",
              "      <td>0.0</td>\n",
              "      <td>0.0</td>\n",
              "      <td>0.0</td>\n",
              "      <td>0.0</td>\n",
              "      <td>0.0</td>\n",
              "      <td>0.0</td>\n",
              "    </tr>\n",
              "    <tr>\n",
              "      <th>2</th>\n",
              "      <td>ISIC_0000002.jpg</td>\n",
              "      <td>1.0</td>\n",
              "      <td>0.0</td>\n",
              "      <td>0.0</td>\n",
              "      <td>0.0</td>\n",
              "      <td>0.0</td>\n",
              "      <td>0.0</td>\n",
              "      <td>0.0</td>\n",
              "      <td>0.0</td>\n",
              "    </tr>\n",
              "    <tr>\n",
              "      <th>3</th>\n",
              "      <td>ISIC_0000003.jpg</td>\n",
              "      <td>0.0</td>\n",
              "      <td>1.0</td>\n",
              "      <td>0.0</td>\n",
              "      <td>0.0</td>\n",
              "      <td>0.0</td>\n",
              "      <td>0.0</td>\n",
              "      <td>0.0</td>\n",
              "      <td>0.0</td>\n",
              "    </tr>\n",
              "    <tr>\n",
              "      <th>4</th>\n",
              "      <td>ISIC_0000004.jpg</td>\n",
              "      <td>1.0</td>\n",
              "      <td>0.0</td>\n",
              "      <td>0.0</td>\n",
              "      <td>0.0</td>\n",
              "      <td>0.0</td>\n",
              "      <td>0.0</td>\n",
              "      <td>0.0</td>\n",
              "      <td>0.0</td>\n",
              "    </tr>\n",
              "  </tbody>\n",
              "</table>\n",
              "</div>"
            ],
            "text/plain": [
              "              image  MEL   NV  BCC   AK  BKL   DF  VASC  SCC\n",
              "0  ISIC_0000000.jpg  0.0  1.0  0.0  0.0  0.0  0.0   0.0  0.0\n",
              "1  ISIC_0000001.jpg  0.0  1.0  0.0  0.0  0.0  0.0   0.0  0.0\n",
              "2  ISIC_0000002.jpg  1.0  0.0  0.0  0.0  0.0  0.0   0.0  0.0\n",
              "3  ISIC_0000003.jpg  0.0  1.0  0.0  0.0  0.0  0.0   0.0  0.0\n",
              "4  ISIC_0000004.jpg  1.0  0.0  0.0  0.0  0.0  0.0   0.0  0.0"
            ]
          },
          "metadata": {
            "tags": []
          },
          "execution_count": 20
        }
      ]
    },
    {
      "cell_type": "code",
      "metadata": {
        "id": "6AHVuuKQScHJ",
        "colab_type": "code",
        "colab": {
          "base_uri": "https://localhost:8080/",
          "height": 35
        },
        "outputId": "9d887bd3-1ccb-401f-8fc5-1f2a90fdb7d3"
      },
      "source": [
        "len(train_df)"
      ],
      "execution_count": null,
      "outputs": [
        {
          "output_type": "execute_result",
          "data": {
            "text/plain": [
              "25331"
            ]
          },
          "metadata": {
            "tags": []
          },
          "execution_count": 21
        }
      ]
    },
    {
      "cell_type": "code",
      "metadata": {
        "id": "oaYE_NuxSmR0",
        "colab_type": "code",
        "colab": {}
      },
      "source": [
        "train_df=train_df[train_df['DF']!=1]"
      ],
      "execution_count": null,
      "outputs": []
    },
    {
      "cell_type": "code",
      "metadata": {
        "id": "9uUN4gmqR-GO",
        "colab_type": "code",
        "colab": {}
      },
      "source": [
        "train_df=train_df[train_df['VASC']!=1]"
      ],
      "execution_count": null,
      "outputs": []
    },
    {
      "cell_type": "code",
      "metadata": {
        "id": "nXdN7YkISrNn",
        "colab_type": "code",
        "colab": {
          "base_uri": "https://localhost:8080/",
          "height": 35
        },
        "outputId": "3f58d544-c269-4bfa-fb9c-ede41168ff3b"
      },
      "source": [
        "len(train_df)"
      ],
      "execution_count": null,
      "outputs": [
        {
          "output_type": "execute_result",
          "data": {
            "text/plain": [
              "24839"
            ]
          },
          "metadata": {
            "tags": []
          },
          "execution_count": 24
        }
      ]
    },
    {
      "cell_type": "code",
      "metadata": {
        "id": "NidhIHUPSuBb",
        "colab_type": "code",
        "colab": {}
      },
      "source": [
        "train_df.drop(['DF','VASC'],axis=1,inplace=True)"
      ],
      "execution_count": null,
      "outputs": []
    },
    {
      "cell_type": "code",
      "metadata": {
        "id": "YXsQ-Ox8aDOz",
        "colab_type": "code",
        "colab": {
          "base_uri": "https://localhost:8080/",
          "height": 200
        },
        "outputId": "1c021ee7-b69e-40d3-b5f8-4cbe59f24a16"
      },
      "source": [
        "test_df=pd.read_csv('https://s3.amazonaws.com/isic-challenge-2019/ISIC_2019_Test_Metadata.csv')\n",
        "test_df['image']=test_df['image']+'.jpg'\n",
        "test_df.head()"
      ],
      "execution_count": null,
      "outputs": [
        {
          "output_type": "execute_result",
          "data": {
            "text/html": [
              "<div>\n",
              "<style scoped>\n",
              "    .dataframe tbody tr th:only-of-type {\n",
              "        vertical-align: middle;\n",
              "    }\n",
              "\n",
              "    .dataframe tbody tr th {\n",
              "        vertical-align: top;\n",
              "    }\n",
              "\n",
              "    .dataframe thead th {\n",
              "        text-align: right;\n",
              "    }\n",
              "</style>\n",
              "<table border=\"1\" class=\"dataframe\">\n",
              "  <thead>\n",
              "    <tr style=\"text-align: right;\">\n",
              "      <th></th>\n",
              "      <th>image</th>\n",
              "      <th>age_approx</th>\n",
              "      <th>anatom_site_general</th>\n",
              "      <th>sex</th>\n",
              "    </tr>\n",
              "  </thead>\n",
              "  <tbody>\n",
              "    <tr>\n",
              "      <th>0</th>\n",
              "      <td>ISIC_0034321.jpg</td>\n",
              "      <td>60.0</td>\n",
              "      <td>NaN</td>\n",
              "      <td>female</td>\n",
              "    </tr>\n",
              "    <tr>\n",
              "      <th>1</th>\n",
              "      <td>ISIC_0034322.jpg</td>\n",
              "      <td>70.0</td>\n",
              "      <td>anterior torso</td>\n",
              "      <td>male</td>\n",
              "    </tr>\n",
              "    <tr>\n",
              "      <th>2</th>\n",
              "      <td>ISIC_0034323.jpg</td>\n",
              "      <td>70.0</td>\n",
              "      <td>lower extremity</td>\n",
              "      <td>male</td>\n",
              "    </tr>\n",
              "    <tr>\n",
              "      <th>3</th>\n",
              "      <td>ISIC_0034324.jpg</td>\n",
              "      <td>70.0</td>\n",
              "      <td>lower extremity</td>\n",
              "      <td>male</td>\n",
              "    </tr>\n",
              "    <tr>\n",
              "      <th>4</th>\n",
              "      <td>ISIC_0034325.jpg</td>\n",
              "      <td>30.0</td>\n",
              "      <td>upper extremity</td>\n",
              "      <td>female</td>\n",
              "    </tr>\n",
              "  </tbody>\n",
              "</table>\n",
              "</div>"
            ],
            "text/plain": [
              "              image  age_approx anatom_site_general     sex\n",
              "0  ISIC_0034321.jpg        60.0                 NaN  female\n",
              "1  ISIC_0034322.jpg        70.0      anterior torso    male\n",
              "2  ISIC_0034323.jpg        70.0     lower extremity    male\n",
              "3  ISIC_0034324.jpg        70.0     lower extremity    male\n",
              "4  ISIC_0034325.jpg        30.0     upper extremity  female"
            ]
          },
          "metadata": {
            "tags": []
          },
          "execution_count": 26
        }
      ]
    },
    {
      "cell_type": "code",
      "metadata": {
        "id": "CxlHye-IZyWh",
        "colab_type": "code",
        "colab": {
          "base_uri": "https://localhost:8080/",
          "height": 35
        },
        "outputId": "6e7a390a-5347-48ae-95f4-48b25994450a"
      },
      "source": [
        "import cv2\n",
        "img=cv2.imread('ISIC_2019_Test_Input/ISIC_0073120.jpg')\n",
        "img.shape"
      ],
      "execution_count": null,
      "outputs": [
        {
          "output_type": "execute_result",
          "data": {
            "text/plain": [
              "(1024, 1024, 3)"
            ]
          },
          "metadata": {
            "tags": []
          },
          "execution_count": 27
        }
      ]
    },
    {
      "cell_type": "markdown",
      "metadata": {
        "id": "HrcifLOBa_W0",
        "colab_type": "text"
      },
      "source": [
        "#Model download"
      ]
    },
    {
      "cell_type": "code",
      "metadata": {
        "id": "RZadX4RdbAuC",
        "colab_type": "code",
        "colab": {}
      },
      "source": [
        "%%capture\n",
        "!pip install efficientnet"
      ],
      "execution_count": null,
      "outputs": []
    },
    {
      "cell_type": "code",
      "metadata": {
        "id": "57Y9SxV0bCeB",
        "colab_type": "code",
        "colab": {}
      },
      "source": [
        "from sklearn.model_selection import train_test_split\n",
        "train, val = train_test_split(train_df, test_size = 0.2)"
      ],
      "execution_count": null,
      "outputs": []
    },
    {
      "cell_type": "code",
      "metadata": {
        "id": "YVE9g2nCbKOH",
        "colab_type": "code",
        "colab": {}
      },
      "source": [
        "from keras_preprocessing.image import ImageDataGenerator\n",
        "\n",
        "train_data_gen= ImageDataGenerator(\n",
        "    horizontal_flip=True,\n",
        "    vertical_flip=True,\n",
        "    rotation_range=30,\n",
        "    width_shift_range=0.2,\n",
        "    height_shift_range=0.2,\n",
        "    zoom_range=.2,\n",
        "    rescale=1/255,\n",
        "    fill_mode='nearest',\n",
        "    shear_range=0.2,\n",
        "    brightness_range=[0.5, 1.5])"
      ],
      "execution_count": null,
      "outputs": []
    },
    {
      "cell_type": "code",
      "metadata": {
        "id": "LxKWzlcEbOpu",
        "colab_type": "code",
        "colab": {
          "base_uri": "https://localhost:8080/",
          "height": 35
        },
        "outputId": "70401b40-449a-4259-9b4e-9a1ac0022caf"
      },
      "source": [
        "img_shape=300\n",
        "batch_size=20\n",
        "col=train_df.columns[1::].to_list()\n",
        "col"
      ],
      "execution_count": null,
      "outputs": [
        {
          "output_type": "execute_result",
          "data": {
            "text/plain": [
              "['MEL', 'NV', 'BCC', 'AK', 'BKL', 'SCC']"
            ]
          },
          "metadata": {
            "tags": []
          },
          "execution_count": 31
        }
      ]
    },
    {
      "cell_type": "code",
      "metadata": {
        "id": "QDKVl-KubO-h",
        "colab_type": "code",
        "colab": {
          "base_uri": "https://localhost:8080/",
          "height": 35
        },
        "outputId": "8a2f8d10-95e4-4a75-ea02-2db407820b31"
      },
      "source": [
        "train_generator=train_data_gen.flow_from_dataframe(train,directory='/content/ISIC_2019_Training_Input',\n",
        "                                                      target_size=(img_shape,img_shape),\n",
        "                                                      x_col=\"image\",\n",
        "                                                      y_col=col,\n",
        "                                                      class_mode='raw',\n",
        "                                                      shuffle=False,\n",
        "                                                      batch_size=batch_size)"
      ],
      "execution_count": null,
      "outputs": [
        {
          "output_type": "stream",
          "text": [
            "Found 19871 validated image filenames.\n"
          ],
          "name": "stdout"
        }
      ]
    },
    {
      "cell_type": "code",
      "metadata": {
        "id": "8Zx5Zk-_bdvh",
        "colab_type": "code",
        "colab": {
          "base_uri": "https://localhost:8080/",
          "height": 35
        },
        "outputId": "a1ca6668-20a4-438c-da53-35f23d351e87"
      },
      "source": [
        "val_generator=train_data_gen.flow_from_dataframe(val,directory='/content/ISIC_2019_Training_Input',\n",
        "                                                      target_size=(img_shape,img_shape),\n",
        "                                                      x_col=\"image\",\n",
        "                                                      y_col=col,\n",
        "                                                      class_mode='raw',\n",
        "                                                      shuffle=False,\n",
        "                                                      batch_size=batch_size)"
      ],
      "execution_count": null,
      "outputs": [
        {
          "output_type": "stream",
          "text": [
            "Found 4968 validated image filenames.\n"
          ],
          "name": "stdout"
        }
      ]
    },
    {
      "cell_type": "code",
      "metadata": {
        "id": "EZinsx2Kbk6B",
        "colab_type": "code",
        "colab": {
          "base_uri": "https://localhost:8080/",
          "height": 35
        },
        "outputId": "ebe20dda-b8e0-4b54-9a2f-4e56c1a69135"
      },
      "source": [
        "test_generator=train_data_gen.flow_from_dataframe(test_df,directory='/content/ISIC_2019_Test_Input',\n",
        "                                                      target_size=(img_shape,img_shape),\n",
        "                                                      x_col=\"image\",\n",
        "                                                      class_mode=None,\n",
        "                                                      shuffle=False,\n",
        "                                                      batch_size=batch_size)"
      ],
      "execution_count": null,
      "outputs": [
        {
          "output_type": "stream",
          "text": [
            "Found 8238 validated image filenames.\n"
          ],
          "name": "stdout"
        }
      ]
    },
    {
      "cell_type": "code",
      "metadata": {
        "id": "v5r-vzxVbsP1",
        "colab_type": "code",
        "colab": {
          "base_uri": "https://localhost:8080/",
          "height": 35
        },
        "outputId": "a46389e4-61fc-4b98-a1d1-edb1a53ae9a4"
      },
      "source": [
        "train_generator.next()[0].shape,train_generator.next()[1].shape"
      ],
      "execution_count": null,
      "outputs": [
        {
          "output_type": "execute_result",
          "data": {
            "text/plain": [
              "((20, 300, 300, 3), (20, 6))"
            ]
          },
          "metadata": {
            "tags": []
          },
          "execution_count": 35
        }
      ]
    },
    {
      "cell_type": "code",
      "metadata": {
        "id": "oNXpLhvdb0Ay",
        "colab_type": "code",
        "colab": {}
      },
      "source": [
        "from tensorflow.keras.layers import GlobalAveragePooling2D,Dropout,Dense\n",
        "from tensorflow.keras.callbacks import ModelCheckpoint,ReduceLROnPlateau\n",
        "from tensorflow.keras.optimizers import Adam\n",
        "import tensorflow.keras.backend as K\n",
        "from tensorflow.keras.models import Sequential,Model\n",
        "\n",
        "\n"
      ],
      "execution_count": null,
      "outputs": []
    },
    {
      "cell_type": "code",
      "metadata": {
        "id": "2hu0q2S2cEwq",
        "colab_type": "code",
        "colab": {
          "base_uri": "https://localhost:8080/",
          "height": 52
        },
        "outputId": "49fbc8e3-d709-44dd-9c4d-c4e60797ef18"
      },
      "source": [
        "import efficientnet.tfkeras as efn\n",
        "model =efn.EfficientNetB3(weights ='noisy-student', include_top=False, input_shape = (img_shape,img_shape,3))"
      ],
      "execution_count": null,
      "outputs": [
        {
          "output_type": "stream",
          "text": [
            "Downloading data from https://github.com/qubvel/efficientnet/releases/download/v0.0.1/efficientnet-b3_noisy-student_notop.h5\n",
            "43933696/43933088 [==============================] - 4s 0us/step\n"
          ],
          "name": "stdout"
        }
      ]
    },
    {
      "cell_type": "code",
      "metadata": {
        "id": "YzofPsyXcTBZ",
        "colab_type": "code",
        "colab": {}
      },
      "source": [
        "x = model.output\n",
        "x = GlobalAveragePooling2D()(x)\n",
        "x = Dropout(0.3)(x)\n",
        "x = Dense(128, activation=\"relu\")(x)\n",
        "x = Dropout(0.3)(x)\n",
        "x = Dense(64, activation=\"relu\")(x)\n",
        "predictions = Dense(len(col), activation=\"softmax\")(x)\n",
        "model = Model(inputs=model.input, outputs=predictions)"
      ],
      "execution_count": null,
      "outputs": []
    },
    {
      "cell_type": "code",
      "metadata": {
        "id": "PCujV3rjrJYM",
        "colab_type": "code",
        "colab": {}
      },
      "source": [
        "import tensorflow.keras.backend as K\n",
        "import tensorflow as tf\n",
        "def focal_loss(y_true, y_pred, alpha = 0.75, gamma = 2):\n",
        "  alpha_factor = K.ones_like(y_true) * alpha\n",
        "  alpha_factor = tf.where(K.equal(y_true, 1), alpha_factor, 1 - alpha_factor)\n",
        "  focal_weight = tf.where(K.equal(y_true, 1), 1 - y_pred, y_pred)\n",
        "  focal_weight = alpha_factor * focal_weight ** gamma\n",
        "  loss = focal_weight * K.binary_crossentropy(y_true, y_pred)\n",
        "  return loss"
      ],
      "execution_count": null,
      "outputs": []
    },
    {
      "cell_type": "code",
      "metadata": {
        "id": "wjkiEoGsccqa",
        "colab_type": "code",
        "colab": {}
      },
      "source": [
        "model = Model(inputs=model.input, outputs=predictions)\n",
        "#model.compile(optimizer='adam', loss=focal_loss, metrics=['accuracy'])\n",
        "model.compile('adam',loss=\"categorical_crossentropy\",metrics=[\"accuracy\"])\n"
      ],
      "execution_count": null,
      "outputs": []
    },
    {
      "cell_type": "code",
      "metadata": {
        "id": "RbEUbsLUcmtG",
        "colab_type": "code",
        "colab": {
          "base_uri": "https://localhost:8080/",
          "height": 410
        },
        "outputId": "4b9674ef-be25-447c-ccf5-020dbb1acf63"
      },
      "source": [
        "results = model.fit(train_generator,epochs=10,\n",
        "                              steps_per_epoch=train_generator.n/batch_size,\n",
        "                              validation_data=val_generator,\n",
        "                             validation_steps=val_generator.n/batch_size,\n",
        "                              callbacks=[\n",
        "                                  ReduceLROnPlateau(monitor='val_loss', factor=0.3,patience=3, min_lr=0.000001)])"
      ],
      "execution_count": null,
      "outputs": [
        {
          "output_type": "stream",
          "text": [
            "Epoch 1/10\n",
            "  2/993 [..............................] - ETA: 10:10 - loss: 1.8083 - accuracy: 0.2500WARNING:tensorflow:Callbacks method `on_train_batch_end` is slow compared to the batch time (batch time: 0.4842s vs `on_train_batch_end` time: 0.7457s). Check your callbacks.\n",
            "994/993 [==============================] - 1561s 2s/step - loss: 1.0260 - accuracy: 0.6300 - val_loss: 0.8739 - val_accuracy: 0.6822\n",
            "Epoch 2/10\n",
            "994/993 [==============================] - 1513s 2s/step - loss: 0.8882 - accuracy: 0.6813 - val_loss: 0.8034 - val_accuracy: 0.7138\n",
            "Epoch 3/10\n",
            "994/993 [==============================] - 1526s 2s/step - loss: 0.8323 - accuracy: 0.6984 - val_loss: 0.8031 - val_accuracy: 0.7200\n",
            "Epoch 4/10\n",
            "994/993 [==============================] - 1505s 2s/step - loss: 0.7817 - accuracy: 0.7148 - val_loss: 0.7628 - val_accuracy: 0.7152\n",
            "Epoch 5/10\n",
            "994/993 [==============================] - 1491s 2s/step - loss: 0.7544 - accuracy: 0.7267 - val_loss: 0.7284 - val_accuracy: 0.7267\n",
            "Epoch 6/10\n",
            "994/993 [==============================] - 1478s 1s/step - loss: 0.7147 - accuracy: 0.7393 - val_loss: 0.7424 - val_accuracy: 0.7212\n",
            "Epoch 7/10\n",
            "994/993 [==============================] - 1490s 1s/step - loss: 0.6860 - accuracy: 0.7525 - val_loss: 0.7185 - val_accuracy: 0.7341\n",
            "Epoch 8/10\n",
            "994/993 [==============================] - 1480s 1s/step - loss: 0.6653 - accuracy: 0.7623 - val_loss: 0.6769 - val_accuracy: 0.7478\n",
            "Epoch 9/10\n",
            "994/993 [==============================] - 1475s 1s/step - loss: 0.6464 - accuracy: 0.7674 - val_loss: 0.7129 - val_accuracy: 0.7488\n",
            "Epoch 10/10\n",
            "994/993 [==============================] - 1474s 1s/step - loss: 0.6271 - accuracy: 0.7713 - val_loss: 0.6399 - val_accuracy: 0.7727\n"
          ],
          "name": "stdout"
        }
      ]
    },
    {
      "cell_type": "code",
      "metadata": {
        "id": "DYTVei5GcqYw",
        "colab_type": "code",
        "colab": {
          "base_uri": "https://localhost:8080/",
          "height": 295
        },
        "outputId": "1c396a82-3d08-4acf-c3ef-83d6c3de7927"
      },
      "source": [
        "import matplotlib.pyplot as plt\n",
        "\n",
        "plt.plot(results.history['loss'])\n",
        "plt.plot(results.history['val_loss'])\n",
        "plt.title('model loss')\n",
        "plt.ylabel('loss')\n",
        "plt.xlabel('epoch')\n",
        "plt.legend(['train', 'test'], loc='upper left')\n",
        "plt.show()"
      ],
      "execution_count": null,
      "outputs": [
        {
          "output_type": "display_data",
          "data": {
            "image/png": "[encoded data removed]",
            "text/plain": [
              "<Figure size 432x288 with 1 Axes>"
            ]
          },
          "metadata": {
            "tags": [],
            "needs_background": "light"
          }
        }
      ]
    },
    {
      "cell_type": "code",
      "metadata": {
        "id": "dP37qPGyealY",
        "colab_type": "code",
        "colab": {}
      },
      "source": [
        "y_pred = model.predict(val_generator,steps=val_generator.n/batch_size)\n",
        "y_pred=y_pred.round().astype(int)\n",
        "y_true=val.iloc[:,1::].values\n",
        "\n"
      ],
      "execution_count": null,
      "outputs": []
    },
    {
      "cell_type": "code",
      "metadata": {
        "id": "JQ2eOP2n6KsS",
        "colab_type": "code",
        "colab": {
          "base_uri": "https://localhost:8080/",
          "height": 52
        },
        "outputId": "742bc0f8-e5ed-47bd-c4ac-bab377af824f"
      },
      "source": [
        "from sklearn.metrics import accuracy_score,f1_score\n",
        "print(accuracy_score(y_true,y_pred))\n",
        "print(f1_score(y_true,y_pred,average='macro'))"
      ],
      "execution_count": null,
      "outputs": [
        {
          "output_type": "stream",
          "text": [
            "0.7562660351292678\n",
            "0.6445385258677239\n"
          ],
          "name": "stdout"
        }
      ]
    },
    {
      "cell_type": "code",
      "metadata": {
        "id": "jWW5F-gRN52E",
        "colab_type": "code",
        "colab": {
          "base_uri": "https://localhost:8080/",
          "height": 126
        },
        "outputId": "8cde51b3-928e-48f9-8809-c8fc2ca4a9e9"
      },
      "source": [
        "from google.colab import drive\n",
        "drive.mount('/content/drive',force_remount=True)"
      ],
      "execution_count": null,
      "outputs": [
        {
          "output_type": "stream",
          "text": [
            "Go to this URL in a browser: https://accounts.google.com/o/oauth2/auth?client_id=947318989803-6bn6qk8qdgf4n4g3pfee6491hc0brc4i.apps.googleusercontent.com&redirect_uri=urn%3aietf%3awg%3aoauth%3a2.0%3aoob&scope=email%20https%3a%2f%2fwww.googleapis.com%2fauth%2fdocs.test%20https%3a%2f%2fwww.googleapis.com%2fauth%2fdrive%20https%3a%2f%2fwww.googleapis.com%2fauth%2fdrive.photos.readonly%20https%3a%2f%2fwww.googleapis.com%2fauth%2fpeopleapi.readonly&response_type=code\n",
            "\n",
            "Enter your authorization code:\n",
            "··········\n",
            "Mounted at /content/drive\n"
          ],
          "name": "stdout"
        }
      ]
    },
    {
      "cell_type": "code",
      "metadata": {
        "id": "9yxaZ2O0PXkO",
        "colab_type": "code",
        "colab": {}
      },
      "source": [
        "model.save_weights('/content/drive/My Drive/isic_weights/isic6_eff3_weights.hdf5')"
      ],
      "execution_count": null,
      "outputs": []
    },
    {
      "cell_type": "code",
      "metadata": {
        "id": "Mmjme-j6evHK",
        "colab_type": "code",
        "colab": {}
      },
      "source": [
        "y_test = model.predict(test_generator,steps=test_generator.n/batch_size)\n",
        "#y_test=y_test.round().astype(int)"
      ],
      "execution_count": null,
      "outputs": []
    },
    {
      "cell_type": "code",
      "metadata": {
        "id": "BLVFaRfRfmhw",
        "colab_type": "code",
        "colab": {
          "base_uri": "https://localhost:8080/",
          "height": 194
        },
        "outputId": "156d6028-9649-4b36-f7cb-c97a92dfe013"
      },
      "source": [
        "import numpy as np\n",
        "d = pd.DataFrame(0, index=np.arange(len(y_test)), columns=col)\n",
        "sub=pd.concat([test_df['image'],d],axis=1)\n",
        "sub['image']=sub['image'].str.replace(r'.jpg', '')\n",
        "sub.head()"
      ],
      "execution_count": null,
      "outputs": [
        {
          "output_type": "execute_result",
          "data": {
            "text/html": [
              "<div>\n",
              "<style scoped>\n",
              "    .dataframe tbody tr th:only-of-type {\n",
              "        vertical-align: middle;\n",
              "    }\n",
              "\n",
              "    .dataframe tbody tr th {\n",
              "        vertical-align: top;\n",
              "    }\n",
              "\n",
              "    .dataframe thead th {\n",
              "        text-align: right;\n",
              "    }\n",
              "</style>\n",
              "<table border=\"1\" class=\"dataframe\">\n",
              "  <thead>\n",
              "    <tr style=\"text-align: right;\">\n",
              "      <th></th>\n",
              "      <th>image</th>\n",
              "      <th>MEL</th>\n",
              "      <th>NV</th>\n",
              "      <th>BCC</th>\n",
              "      <th>AK</th>\n",
              "      <th>BKL</th>\n",
              "      <th>DF</th>\n",
              "      <th>VASC</th>\n",
              "      <th>SCC</th>\n",
              "      <th>UNK</th>\n",
              "    </tr>\n",
              "  </thead>\n",
              "  <tbody>\n",
              "    <tr>\n",
              "      <th>0</th>\n",
              "      <td>ISIC_0034321</td>\n",
              "      <td>0</td>\n",
              "      <td>0</td>\n",
              "      <td>0</td>\n",
              "      <td>0</td>\n",
              "      <td>0</td>\n",
              "      <td>0</td>\n",
              "      <td>0</td>\n",
              "      <td>0</td>\n",
              "      <td>0</td>\n",
              "    </tr>\n",
              "    <tr>\n",
              "      <th>1</th>\n",
              "      <td>ISIC_0034322</td>\n",
              "      <td>0</td>\n",
              "      <td>0</td>\n",
              "      <td>0</td>\n",
              "      <td>0</td>\n",
              "      <td>0</td>\n",
              "      <td>0</td>\n",
              "      <td>0</td>\n",
              "      <td>0</td>\n",
              "      <td>0</td>\n",
              "    </tr>\n",
              "    <tr>\n",
              "      <th>2</th>\n",
              "      <td>ISIC_0034323</td>\n",
              "      <td>0</td>\n",
              "      <td>0</td>\n",
              "      <td>0</td>\n",
              "      <td>0</td>\n",
              "      <td>0</td>\n",
              "      <td>0</td>\n",
              "      <td>0</td>\n",
              "      <td>0</td>\n",
              "      <td>0</td>\n",
              "    </tr>\n",
              "    <tr>\n",
              "      <th>3</th>\n",
              "      <td>ISIC_0034324</td>\n",
              "      <td>0</td>\n",
              "      <td>0</td>\n",
              "      <td>0</td>\n",
              "      <td>0</td>\n",
              "      <td>0</td>\n",
              "      <td>0</td>\n",
              "      <td>0</td>\n",
              "      <td>0</td>\n",
              "      <td>0</td>\n",
              "    </tr>\n",
              "    <tr>\n",
              "      <th>4</th>\n",
              "      <td>ISIC_0034325</td>\n",
              "      <td>0</td>\n",
              "      <td>0</td>\n",
              "      <td>0</td>\n",
              "      <td>0</td>\n",
              "      <td>0</td>\n",
              "      <td>0</td>\n",
              "      <td>0</td>\n",
              "      <td>0</td>\n",
              "      <td>0</td>\n",
              "    </tr>\n",
              "  </tbody>\n",
              "</table>\n",
              "</div>"
            ],
            "text/plain": [
              "          image  MEL  NV  BCC  AK  BKL  DF  VASC  SCC  UNK\n",
              "0  ISIC_0034321    0   0    0   0    0   0     0    0    0\n",
              "1  ISIC_0034322    0   0    0   0    0   0     0    0    0\n",
              "2  ISIC_0034323    0   0    0   0    0   0     0    0    0\n",
              "3  ISIC_0034324    0   0    0   0    0   0     0    0    0\n",
              "4  ISIC_0034325    0   0    0   0    0   0     0    0    0"
            ]
          },
          "metadata": {
            "tags": []
          },
          "execution_count": 40
        }
      ]
    },
    {
      "cell_type": "code",
      "metadata": {
        "id": "N53LWkrofqHI",
        "colab_type": "code",
        "colab": {
          "base_uri": "https://localhost:8080/",
          "height": 194
        },
        "outputId": "30ad09c7-ffd2-42cd-8fbc-19083a988eeb"
      },
      "source": [
        "for i,j in enumerate(col):\n",
        "    sub[j]=y_test[:,i]\n",
        "sub.head()"
      ],
      "execution_count": null,
      "outputs": [
        {
          "output_type": "execute_result",
          "data": {
            "text/html": [
              "<div>\n",
              "<style scoped>\n",
              "    .dataframe tbody tr th:only-of-type {\n",
              "        vertical-align: middle;\n",
              "    }\n",
              "\n",
              "    .dataframe tbody tr th {\n",
              "        vertical-align: top;\n",
              "    }\n",
              "\n",
              "    .dataframe thead th {\n",
              "        text-align: right;\n",
              "    }\n",
              "</style>\n",
              "<table border=\"1\" class=\"dataframe\">\n",
              "  <thead>\n",
              "    <tr style=\"text-align: right;\">\n",
              "      <th></th>\n",
              "      <th>image</th>\n",
              "      <th>MEL</th>\n",
              "      <th>NV</th>\n",
              "      <th>BCC</th>\n",
              "      <th>AK</th>\n",
              "      <th>BKL</th>\n",
              "      <th>DF</th>\n",
              "      <th>VASC</th>\n",
              "      <th>SCC</th>\n",
              "      <th>UNK</th>\n",
              "    </tr>\n",
              "  </thead>\n",
              "  <tbody>\n",
              "    <tr>\n",
              "      <th>0</th>\n",
              "      <td>ISIC_0034321</td>\n",
              "      <td>0.044373</td>\n",
              "      <td>0.017932</td>\n",
              "      <td>9.586475e-01</td>\n",
              "      <td>0.000180</td>\n",
              "      <td>0.003910</td>\n",
              "      <td>5.599052e-03</td>\n",
              "      <td>1.416504e-04</td>\n",
              "      <td>0.000405</td>\n",
              "      <td>0.000000e+00</td>\n",
              "    </tr>\n",
              "    <tr>\n",
              "      <th>1</th>\n",
              "      <td>ISIC_0034322</td>\n",
              "      <td>0.000620</td>\n",
              "      <td>0.999036</td>\n",
              "      <td>0.000000e+00</td>\n",
              "      <td>0.000000</td>\n",
              "      <td>0.000079</td>\n",
              "      <td>8.136034e-06</td>\n",
              "      <td>8.940697e-08</td>\n",
              "      <td>0.000003</td>\n",
              "      <td>0.000000e+00</td>\n",
              "    </tr>\n",
              "    <tr>\n",
              "      <th>2</th>\n",
              "      <td>ISIC_0034323</td>\n",
              "      <td>0.002069</td>\n",
              "      <td>0.000971</td>\n",
              "      <td>5.707813e-01</td>\n",
              "      <td>0.024641</td>\n",
              "      <td>0.012428</td>\n",
              "      <td>4.199088e-02</td>\n",
              "      <td>1.130253e-03</td>\n",
              "      <td>0.044904</td>\n",
              "      <td>5.960464e-08</td>\n",
              "    </tr>\n",
              "    <tr>\n",
              "      <th>3</th>\n",
              "      <td>ISIC_0034324</td>\n",
              "      <td>0.063528</td>\n",
              "      <td>0.953907</td>\n",
              "      <td>2.980232e-08</td>\n",
              "      <td>0.000000</td>\n",
              "      <td>0.000104</td>\n",
              "      <td>6.854534e-07</td>\n",
              "      <td>3.278255e-07</td>\n",
              "      <td>0.000000</td>\n",
              "      <td>0.000000e+00</td>\n",
              "    </tr>\n",
              "    <tr>\n",
              "      <th>4</th>\n",
              "      <td>ISIC_0034325</td>\n",
              "      <td>0.000001</td>\n",
              "      <td>0.999997</td>\n",
              "      <td>0.000000e+00</td>\n",
              "      <td>0.000000</td>\n",
              "      <td>0.000000</td>\n",
              "      <td>0.000000e+00</td>\n",
              "      <td>0.000000e+00</td>\n",
              "      <td>0.000000</td>\n",
              "      <td>0.000000e+00</td>\n",
              "    </tr>\n",
              "  </tbody>\n",
              "</table>\n",
              "</div>"
            ],
            "text/plain": [
              "          image       MEL        NV  ...          VASC       SCC           UNK\n",
              "0  ISIC_0034321  0.044373  0.017932  ...  1.416504e-04  0.000405  0.000000e+00\n",
              "1  ISIC_0034322  0.000620  0.999036  ...  8.940697e-08  0.000003  0.000000e+00\n",
              "2  ISIC_0034323  0.002069  0.000971  ...  1.130253e-03  0.044904  5.960464e-08\n",
              "3  ISIC_0034324  0.063528  0.953907  ...  3.278255e-07  0.000000  0.000000e+00\n",
              "4  ISIC_0034325  0.000001  0.999997  ...  0.000000e+00  0.000000  0.000000e+00\n",
              "\n",
              "[5 rows x 10 columns]"
            ]
          },
          "metadata": {
            "tags": []
          },
          "execution_count": 41
        }
      ]
    },
    {
      "cell_type": "code",
      "metadata": {
        "id": "HY35Yr50ir1O",
        "colab_type": "code",
        "colab": {}
      },
      "source": [
        "sub.to_csv('effnet_binary.csv', index=False)"
      ],
      "execution_count": null,
      "outputs": []
    },
    {
      "cell_type": "code",
      "metadata": {
        "id": "XdJW_AD8sHK2",
        "colab_type": "code",
        "colab": {}
      },
      "source": [
        "from google.colab import files\n",
        "files.download('effnet_binary.csv') "
      ],
      "execution_count": null,
      "outputs": []
    },
    {
      "cell_type": "code",
      "metadata": {
        "id": "djXGbRV9dlxZ",
        "colab_type": "code",
        "colab": {}
      },
      "source": [
        "model.load_weights('model.h5')"
      ],
      "execution_count": null,
      "outputs": []
    },
    {
      "cell_type": "code",
      "metadata": {
        "id": "psFTTA6ddmBJ",
        "colab_type": "code",
        "colab": {}
      },
      "source": [
        "y_pred = model.predict_generator(val_generator,steps=val_generator.n/batch_size)\n",
        "y_pred=y_pred.round().astype(int)"
      ],
      "execution_count": null,
      "outputs": []
    },
    {
      "cell_type": "code",
      "metadata": {
        "id": "7QkoGlyqdl-Q",
        "colab_type": "code",
        "colab": {
          "base_uri": "https://localhost:8080/",
          "height": 108
        },
        "outputId": "eaa90ef5-73ad-4612-c9c3-3dce89ea3ee3"
      },
      "source": [
        "y_true=val.iloc[:,1::].values\n",
        "print(accuracy_score(y_true,y_pred))\n",
        "print(f1_score(y_true,y_pred,average='macro'))\n"
      ],
      "execution_count": null,
      "outputs": [
        {
          "output_type": "stream",
          "text": [
            "0.8107361357805407\n",
            "0.6658335333928403\n"
          ],
          "name": "stdout"
        },
        {
          "output_type": "stream",
          "text": [
            "/usr/local/lib/python3.6/dist-packages/sklearn/metrics/_classification.py:1515: UndefinedMetricWarning: F-score is ill-defined and being set to 0.0 in labels with no true nor predicted samples. Use `zero_division` parameter to control this behavior.\n",
            "  average, \"true nor predicted\", 'F-score is', len(true_sum)\n"
          ],
          "name": "stderr"
        }
      ]
    },
    {
      "cell_type": "code",
      "metadata": {
        "id": "M0Gm108bciTv",
        "colab_type": "code",
        "colab": {}
      },
      "source": [
        "y_test = model.predict_generator(test_generator,steps=test_generator.n/batch_size)\n"
      ],
      "execution_count": null,
      "outputs": []
    },
    {
      "cell_type": "code",
      "metadata": {
        "id": "HdaEe5CkSw1N",
        "colab_type": "code",
        "colab": {
          "base_uri": "https://localhost:8080/",
          "height": 194
        },
        "outputId": "9709f708-0670-4a29-822d-8c4a9fbf1982"
      },
      "source": [
        "d = pd.DataFrame(0, index=np.arange(len(y_test)), columns=col)\n",
        "sub=pd.concat([test_df['image'],d],axis=1)\n",
        "sub['image']=sub['image'].str.replace(r'.jpg', '')\n",
        "sub.head()"
      ],
      "execution_count": null,
      "outputs": [
        {
          "output_type": "execute_result",
          "data": {
            "text/html": [
              "<div>\n",
              "<style scoped>\n",
              "    .dataframe tbody tr th:only-of-type {\n",
              "        vertical-align: middle;\n",
              "    }\n",
              "\n",
              "    .dataframe tbody tr th {\n",
              "        vertical-align: top;\n",
              "    }\n",
              "\n",
              "    .dataframe thead th {\n",
              "        text-align: right;\n",
              "    }\n",
              "</style>\n",
              "<table border=\"1\" class=\"dataframe\">\n",
              "  <thead>\n",
              "    <tr style=\"text-align: right;\">\n",
              "      <th></th>\n",
              "      <th>image</th>\n",
              "      <th>MEL</th>\n",
              "      <th>NV</th>\n",
              "      <th>BCC</th>\n",
              "      <th>AK</th>\n",
              "      <th>BKL</th>\n",
              "      <th>DF</th>\n",
              "      <th>VASC</th>\n",
              "      <th>SCC</th>\n",
              "      <th>UNK</th>\n",
              "    </tr>\n",
              "  </thead>\n",
              "  <tbody>\n",
              "    <tr>\n",
              "      <th>0</th>\n",
              "      <td>ISIC_0034321</td>\n",
              "      <td>0</td>\n",
              "      <td>0</td>\n",
              "      <td>0</td>\n",
              "      <td>0</td>\n",
              "      <td>0</td>\n",
              "      <td>0</td>\n",
              "      <td>0</td>\n",
              "      <td>0</td>\n",
              "      <td>0</td>\n",
              "    </tr>\n",
              "    <tr>\n",
              "      <th>1</th>\n",
              "      <td>ISIC_0034322</td>\n",
              "      <td>0</td>\n",
              "      <td>0</td>\n",
              "      <td>0</td>\n",
              "      <td>0</td>\n",
              "      <td>0</td>\n",
              "      <td>0</td>\n",
              "      <td>0</td>\n",
              "      <td>0</td>\n",
              "      <td>0</td>\n",
              "    </tr>\n",
              "    <tr>\n",
              "      <th>2</th>\n",
              "      <td>ISIC_0034323</td>\n",
              "      <td>0</td>\n",
              "      <td>0</td>\n",
              "      <td>0</td>\n",
              "      <td>0</td>\n",
              "      <td>0</td>\n",
              "      <td>0</td>\n",
              "      <td>0</td>\n",
              "      <td>0</td>\n",
              "      <td>0</td>\n",
              "    </tr>\n",
              "    <tr>\n",
              "      <th>3</th>\n",
              "      <td>ISIC_0034324</td>\n",
              "      <td>0</td>\n",
              "      <td>0</td>\n",
              "      <td>0</td>\n",
              "      <td>0</td>\n",
              "      <td>0</td>\n",
              "      <td>0</td>\n",
              "      <td>0</td>\n",
              "      <td>0</td>\n",
              "      <td>0</td>\n",
              "    </tr>\n",
              "    <tr>\n",
              "      <th>4</th>\n",
              "      <td>ISIC_0034325</td>\n",
              "      <td>0</td>\n",
              "      <td>0</td>\n",
              "      <td>0</td>\n",
              "      <td>0</td>\n",
              "      <td>0</td>\n",
              "      <td>0</td>\n",
              "      <td>0</td>\n",
              "      <td>0</td>\n",
              "      <td>0</td>\n",
              "    </tr>\n",
              "  </tbody>\n",
              "</table>\n",
              "</div>"
            ],
            "text/plain": [
              "          image  MEL  NV  BCC  AK  BKL  DF  VASC  SCC  UNK\n",
              "0  ISIC_0034321    0   0    0   0    0   0     0    0    0\n",
              "1  ISIC_0034322    0   0    0   0    0   0     0    0    0\n",
              "2  ISIC_0034323    0   0    0   0    0   0     0    0    0\n",
              "3  ISIC_0034324    0   0    0   0    0   0     0    0    0\n",
              "4  ISIC_0034325    0   0    0   0    0   0     0    0    0"
            ]
          },
          "metadata": {
            "tags": []
          },
          "execution_count": 47
        }
      ]
    },
    {
      "cell_type": "code",
      "metadata": {
        "id": "c63eArgIcP-Q",
        "colab_type": "code",
        "colab": {
          "base_uri": "https://localhost:8080/",
          "height": 194
        },
        "outputId": "bd35b51f-3028-4904-e263-9891553e467e"
      },
      "source": [
        "for i,j in enumerate(col):\n",
        "    sub[j]=y_test[:,i]\n",
        "sub.head()"
      ],
      "execution_count": null,
      "outputs": [
        {
          "output_type": "execute_result",
          "data": {
            "text/html": [
              "<div>\n",
              "<style scoped>\n",
              "    .dataframe tbody tr th:only-of-type {\n",
              "        vertical-align: middle;\n",
              "    }\n",
              "\n",
              "    .dataframe tbody tr th {\n",
              "        vertical-align: top;\n",
              "    }\n",
              "\n",
              "    .dataframe thead th {\n",
              "        text-align: right;\n",
              "    }\n",
              "</style>\n",
              "<table border=\"1\" class=\"dataframe\">\n",
              "  <thead>\n",
              "    <tr style=\"text-align: right;\">\n",
              "      <th></th>\n",
              "      <th>image</th>\n",
              "      <th>MEL</th>\n",
              "      <th>NV</th>\n",
              "      <th>BCC</th>\n",
              "      <th>AK</th>\n",
              "      <th>BKL</th>\n",
              "      <th>DF</th>\n",
              "      <th>VASC</th>\n",
              "      <th>SCC</th>\n",
              "      <th>UNK</th>\n",
              "    </tr>\n",
              "  </thead>\n",
              "  <tbody>\n",
              "    <tr>\n",
              "      <th>0</th>\n",
              "      <td>ISIC_0034321</td>\n",
              "      <td>0.030809</td>\n",
              "      <td>0.077074</td>\n",
              "      <td>0.946737</td>\n",
              "      <td>0.000228</td>\n",
              "      <td>0.004595</td>\n",
              "      <td>0.001822</td>\n",
              "      <td>0.000128</td>\n",
              "      <td>2.401769e-04</td>\n",
              "      <td>0.0</td>\n",
              "    </tr>\n",
              "    <tr>\n",
              "      <th>1</th>\n",
              "      <td>ISIC_0034322</td>\n",
              "      <td>0.018896</td>\n",
              "      <td>0.977762</td>\n",
              "      <td>0.000003</td>\n",
              "      <td>0.000006</td>\n",
              "      <td>0.001700</td>\n",
              "      <td>0.000102</td>\n",
              "      <td>0.000001</td>\n",
              "      <td>1.843274e-04</td>\n",
              "      <td>0.0</td>\n",
              "    </tr>\n",
              "    <tr>\n",
              "      <th>2</th>\n",
              "      <td>ISIC_0034323</td>\n",
              "      <td>0.000698</td>\n",
              "      <td>0.000038</td>\n",
              "      <td>0.946685</td>\n",
              "      <td>0.000876</td>\n",
              "      <td>0.000730</td>\n",
              "      <td>0.001417</td>\n",
              "      <td>0.000003</td>\n",
              "      <td>2.417856e-02</td>\n",
              "      <td>0.0</td>\n",
              "    </tr>\n",
              "    <tr>\n",
              "      <th>3</th>\n",
              "      <td>ISIC_0034324</td>\n",
              "      <td>0.001160</td>\n",
              "      <td>0.998322</td>\n",
              "      <td>0.000000</td>\n",
              "      <td>0.000000</td>\n",
              "      <td>0.000000</td>\n",
              "      <td>0.000000</td>\n",
              "      <td>0.000000</td>\n",
              "      <td>0.000000e+00</td>\n",
              "      <td>0.0</td>\n",
              "    </tr>\n",
              "    <tr>\n",
              "      <th>4</th>\n",
              "      <td>ISIC_0034325</td>\n",
              "      <td>0.000201</td>\n",
              "      <td>0.999921</td>\n",
              "      <td>0.000000</td>\n",
              "      <td>0.000000</td>\n",
              "      <td>0.000006</td>\n",
              "      <td>0.000000</td>\n",
              "      <td>0.000000</td>\n",
              "      <td>5.960464e-08</td>\n",
              "      <td>0.0</td>\n",
              "    </tr>\n",
              "  </tbody>\n",
              "</table>\n",
              "</div>"
            ],
            "text/plain": [
              "          image       MEL        NV  ...      VASC           SCC  UNK\n",
              "0  ISIC_0034321  0.030809  0.077074  ...  0.000128  2.401769e-04  0.0\n",
              "1  ISIC_0034322  0.018896  0.977762  ...  0.000001  1.843274e-04  0.0\n",
              "2  ISIC_0034323  0.000698  0.000038  ...  0.000003  2.417856e-02  0.0\n",
              "3  ISIC_0034324  0.001160  0.998322  ...  0.000000  0.000000e+00  0.0\n",
              "4  ISIC_0034325  0.000201  0.999921  ...  0.000000  5.960464e-08  0.0\n",
              "\n",
              "[5 rows x 10 columns]"
            ]
          },
          "metadata": {
            "tags": []
          },
          "execution_count": 48
        }
      ]
    },
    {
      "cell_type": "code",
      "metadata": {
        "id": "um77AjsNbg0v",
        "colab_type": "code",
        "colab": {}
      },
      "source": [
        "sub.to_csv('effnet_binary_1.csv', index=False)"
      ],
      "execution_count": null,
      "outputs": []
    },
    {
      "cell_type": "code",
      "metadata": {
        "id": "jJsz3WmRbVvI",
        "colab_type": "code",
        "colab": {}
      },
      "source": [
        ""
      ],
      "execution_count": null,
      "outputs": []
    }
  ]
}