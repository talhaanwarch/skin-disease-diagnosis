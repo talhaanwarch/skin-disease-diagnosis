{
  "nbformat": 4,
  "nbformat_minor": 0,
  "metadata": {
    "colab": {
      "name": "Scenario_IV.ipynb",
      "provenance": [],
      "include_colab_link": true
    },
    "kernelspec": {
      "name": "python3",
      "display_name": "Python 3"
    },
    "accelerator": "GPU"
  },
  "cells": [
    {
      "cell_type": "markdown",
      "metadata": {
        "id": "view-in-github",
        "colab_type": "text"
      },
      "source": [
        "<a href=\"https://colab.research.google.com/github/talhaanwarch/skin-disease-diagnosis/blob/master/Scenario_IV.ipynb\" target=\"_parent\"><img src=\"https://colab.research.google.com/assets/colab-badge.svg\" alt=\"Open In Colab\"/></a>"
      ]
    },
    {
      "cell_type": "markdown",
      "metadata": {
        "id": "REQXLqij5JoE",
        "colab_type": "text"
      },
      "source": [
        "**Scenario II:** Training on ISIC 2019 and tested on PAD dataset (Only images)\n"
      ]
    },
    {
      "cell_type": "code",
      "metadata": {
        "id": "FzpATBgHIHqu",
        "colab_type": "code",
        "colab": {
          "base_uri": "https://localhost:8080/",
          "height": 126
        },
        "outputId": "aa65650a-c507-4c6c-e901-69ad41e01620"
      },
      "source": [
        "from google.colab import drive\n",
        "drive.mount('/content/drive')"
      ],
      "execution_count": 1,
      "outputs": [
        {
          "output_type": "stream",
          "text": [
            "Go to this URL in a browser: https://accounts.google.com/o/oauth2/auth?client_id=947318989803-6bn6qk8qdgf4n4g3pfee6491hc0brc4i.apps.googleusercontent.com&redirect_uri=urn%3aietf%3awg%3aoauth%3a2.0%3aoob&scope=email%20https%3a%2f%2fwww.googleapis.com%2fauth%2fdocs.test%20https%3a%2f%2fwww.googleapis.com%2fauth%2fdrive%20https%3a%2f%2fwww.googleapis.com%2fauth%2fdrive.photos.readonly%20https%3a%2f%2fwww.googleapis.com%2fauth%2fpeopleapi.readonly&response_type=code\n",
            "\n",
            "Enter your authorization code:\n",
            "··········\n",
            "Mounted at /content/drive\n"
          ],
          "name": "stdout"
        }
      ]
    },
    {
      "cell_type": "code",
      "metadata": {
        "id": "ogr6mRTfIPTn",
        "colab_type": "code",
        "colab": {}
      },
      "source": [
        "!cp /content/drive/My\\ Drive/isic_weights/isicall_eff3_weights.hdf5 /content/"
      ],
      "execution_count": 2,
      "outputs": []
    },
    {
      "cell_type": "code",
      "metadata": {
        "id": "tN-dRYVxFchm",
        "colab_type": "code",
        "colab": {}
      },
      "source": [
        "%%capture\n",
        "!pip install efficientnet"
      ],
      "execution_count": 3,
      "outputs": []
    },
    {
      "cell_type": "code",
      "metadata": {
        "id": "Ys4Vc6mwF_U8",
        "colab_type": "code",
        "colab": {
          "base_uri": "https://localhost:8080/",
          "height": 212
        },
        "outputId": "46b05213-4d1b-44da-b42e-6fad00edb84b"
      },
      "source": [
        "#download the dataset\n",
        "!wget https://md-datasets-cache-zipfiles-prod.s3.eu-west-1.amazonaws.com/zr7vgbcyr2-1.zip"
      ],
      "execution_count": 4,
      "outputs": [
        {
          "output_type": "stream",
          "text": [
            "--2020-08-27 15:36:02--  https://md-datasets-cache-zipfiles-prod.s3.eu-west-1.amazonaws.com/zr7vgbcyr2-1.zip\n",
            "Resolving md-datasets-cache-zipfiles-prod.s3.eu-west-1.amazonaws.com (md-datasets-cache-zipfiles-prod.s3.eu-west-1.amazonaws.com)... 52.218.97.187\n",
            "Connecting to md-datasets-cache-zipfiles-prod.s3.eu-west-1.amazonaws.com (md-datasets-cache-zipfiles-prod.s3.eu-west-1.amazonaws.com)|52.218.97.187|:443... connected.\n",
            "HTTP request sent, awaiting response... 200 OK\n",
            "Length: 3593344681 (3.3G) [application/octet-stream]\n",
            "Saving to: ‘zr7vgbcyr2-1.zip’\n",
            "\n",
            "zr7vgbcyr2-1.zip    100%[===================>]   3.35G  20.9MB/s    in 2m 45s  \n",
            "\n",
            "2020-08-27 15:38:48 (20.7 MB/s) - ‘zr7vgbcyr2-1.zip’ saved [3593344681/3593344681]\n",
            "\n"
          ],
          "name": "stdout"
        }
      ]
    },
    {
      "cell_type": "code",
      "metadata": {
        "id": "crr19GsaGB2w",
        "colab_type": "code",
        "colab": {}
      },
      "source": [
        "#unzip the dataset\n",
        "%%capture\n",
        "!unzip zr7vgbcyr2-1.zip"
      ],
      "execution_count": 5,
      "outputs": []
    },
    {
      "cell_type": "code",
      "metadata": {
        "id": "_bPafWo1GCQF",
        "colab_type": "code",
        "colab": {}
      },
      "source": [
        "#create a new folder named as data\n",
        "!mkdir data"
      ],
      "execution_count": 6,
      "outputs": []
    },
    {
      "cell_type": "code",
      "metadata": {
        "id": "qjc8HZ54GCTG",
        "colab_type": "code",
        "colab": {}
      },
      "source": [
        "#unzip all subfolder\n",
        "%%capture\n",
        "!unzip /content/images/imgs_part_1.zip\n",
        "!unzip /content/images/imgs_part_2.zip\n",
        "!unzip /content/images/imgs_part_3.zip"
      ],
      "execution_count": 7,
      "outputs": []
    },
    {
      "cell_type": "code",
      "metadata": {
        "id": "evwiG9ihGCWK",
        "colab_type": "code",
        "colab": {}
      },
      "source": [
        "#move all pictures from subfolder to main folder data\n",
        "!mv  /content/imgs_part_1/* /content/data\n",
        "!mv  /content/imgs_part_2/* /content/data\n",
        "!mv  /content/imgs_part_3/* /content/data"
      ],
      "execution_count": 8,
      "outputs": []
    },
    {
      "cell_type": "code",
      "metadata": {
        "id": "Wymt3DYLGCew",
        "colab_type": "code",
        "colab": {}
      },
      "source": [
        "#remove the folder that contain subfolders\n",
        "!rm -r /content/images"
      ],
      "execution_count": 9,
      "outputs": []
    },
    {
      "cell_type": "code",
      "metadata": {
        "id": "HAEyK-mJGCb6",
        "colab_type": "code",
        "colab": {
          "base_uri": "https://localhost:8080/",
          "height": 220
        },
        "outputId": "7de29972-cebe-4d4d-9459-0e169dc037ce"
      },
      "source": [
        "import pandas as pd\n",
        "import numpy as np\n",
        "import matplotlib.pyplot as plt\n",
        "#read annotation file\n",
        "df=pd.read_csv('/content/metadata.csv')\n",
        "df.head()"
      ],
      "execution_count": 10,
      "outputs": [
        {
          "output_type": "execute_result",
          "data": {
            "text/html": [
              "<div>\n",
              "<style scoped>\n",
              "    .dataframe tbody tr th:only-of-type {\n",
              "        vertical-align: middle;\n",
              "    }\n",
              "\n",
              "    .dataframe tbody tr th {\n",
              "        vertical-align: top;\n",
              "    }\n",
              "\n",
              "    .dataframe thead th {\n",
              "        text-align: right;\n",
              "    }\n",
              "</style>\n",
              "<table border=\"1\" class=\"dataframe\">\n",
              "  <thead>\n",
              "    <tr style=\"text-align: right;\">\n",
              "      <th></th>\n",
              "      <th>patient_id</th>\n",
              "      <th>lesion_id</th>\n",
              "      <th>smoke</th>\n",
              "      <th>drink</th>\n",
              "      <th>background_father</th>\n",
              "      <th>background_mother</th>\n",
              "      <th>age</th>\n",
              "      <th>pesticide</th>\n",
              "      <th>gender</th>\n",
              "      <th>skin_cancer_history</th>\n",
              "      <th>cancer_history</th>\n",
              "      <th>has_piped_water</th>\n",
              "      <th>has_sewage_system</th>\n",
              "      <th>fitspatrick</th>\n",
              "      <th>region</th>\n",
              "      <th>diameter_1</th>\n",
              "      <th>diameter_2</th>\n",
              "      <th>diagnostic</th>\n",
              "      <th>itch</th>\n",
              "      <th>grew</th>\n",
              "      <th>hurt</th>\n",
              "      <th>changed</th>\n",
              "      <th>bleed</th>\n",
              "      <th>elevation</th>\n",
              "      <th>img_id</th>\n",
              "      <th>biopsed</th>\n",
              "    </tr>\n",
              "  </thead>\n",
              "  <tbody>\n",
              "    <tr>\n",
              "      <th>0</th>\n",
              "      <td>PAT_1516</td>\n",
              "      <td>1765</td>\n",
              "      <td>NaN</td>\n",
              "      <td>NaN</td>\n",
              "      <td>NaN</td>\n",
              "      <td>NaN</td>\n",
              "      <td>8</td>\n",
              "      <td>NaN</td>\n",
              "      <td>NaN</td>\n",
              "      <td>NaN</td>\n",
              "      <td>NaN</td>\n",
              "      <td>NaN</td>\n",
              "      <td>NaN</td>\n",
              "      <td>NaN</td>\n",
              "      <td>ARM</td>\n",
              "      <td>NaN</td>\n",
              "      <td>NaN</td>\n",
              "      <td>NEV</td>\n",
              "      <td>False</td>\n",
              "      <td>False</td>\n",
              "      <td>False</td>\n",
              "      <td>False</td>\n",
              "      <td>False</td>\n",
              "      <td>False</td>\n",
              "      <td>PAT_1516_1765_530.png</td>\n",
              "      <td>False</td>\n",
              "    </tr>\n",
              "    <tr>\n",
              "      <th>1</th>\n",
              "      <td>PAT_46</td>\n",
              "      <td>881</td>\n",
              "      <td>False</td>\n",
              "      <td>False</td>\n",
              "      <td>POMERANIA</td>\n",
              "      <td>POMERANIA</td>\n",
              "      <td>55</td>\n",
              "      <td>False</td>\n",
              "      <td>FEMALE</td>\n",
              "      <td>True</td>\n",
              "      <td>True</td>\n",
              "      <td>True</td>\n",
              "      <td>True</td>\n",
              "      <td>3.0</td>\n",
              "      <td>NECK</td>\n",
              "      <td>6.0</td>\n",
              "      <td>5.0</td>\n",
              "      <td>BCC</td>\n",
              "      <td>True</td>\n",
              "      <td>True</td>\n",
              "      <td>False</td>\n",
              "      <td>True</td>\n",
              "      <td>True</td>\n",
              "      <td>True</td>\n",
              "      <td>PAT_46_881_939.png</td>\n",
              "      <td>True</td>\n",
              "    </tr>\n",
              "    <tr>\n",
              "      <th>2</th>\n",
              "      <td>PAT_1545</td>\n",
              "      <td>1867</td>\n",
              "      <td>NaN</td>\n",
              "      <td>NaN</td>\n",
              "      <td>NaN</td>\n",
              "      <td>NaN</td>\n",
              "      <td>77</td>\n",
              "      <td>NaN</td>\n",
              "      <td>NaN</td>\n",
              "      <td>NaN</td>\n",
              "      <td>NaN</td>\n",
              "      <td>NaN</td>\n",
              "      <td>NaN</td>\n",
              "      <td>NaN</td>\n",
              "      <td>FACE</td>\n",
              "      <td>NaN</td>\n",
              "      <td>NaN</td>\n",
              "      <td>ACK</td>\n",
              "      <td>True</td>\n",
              "      <td>False</td>\n",
              "      <td>False</td>\n",
              "      <td>False</td>\n",
              "      <td>False</td>\n",
              "      <td>False</td>\n",
              "      <td>PAT_1545_1867_547.png</td>\n",
              "      <td>False</td>\n",
              "    </tr>\n",
              "    <tr>\n",
              "      <th>3</th>\n",
              "      <td>PAT_1989</td>\n",
              "      <td>4061</td>\n",
              "      <td>NaN</td>\n",
              "      <td>NaN</td>\n",
              "      <td>NaN</td>\n",
              "      <td>NaN</td>\n",
              "      <td>75</td>\n",
              "      <td>NaN</td>\n",
              "      <td>NaN</td>\n",
              "      <td>NaN</td>\n",
              "      <td>NaN</td>\n",
              "      <td>NaN</td>\n",
              "      <td>NaN</td>\n",
              "      <td>NaN</td>\n",
              "      <td>HAND</td>\n",
              "      <td>NaN</td>\n",
              "      <td>NaN</td>\n",
              "      <td>ACK</td>\n",
              "      <td>True</td>\n",
              "      <td>False</td>\n",
              "      <td>False</td>\n",
              "      <td>False</td>\n",
              "      <td>False</td>\n",
              "      <td>False</td>\n",
              "      <td>PAT_1989_4061_934.png</td>\n",
              "      <td>False</td>\n",
              "    </tr>\n",
              "    <tr>\n",
              "      <th>4</th>\n",
              "      <td>PAT_684</td>\n",
              "      <td>1302</td>\n",
              "      <td>False</td>\n",
              "      <td>True</td>\n",
              "      <td>POMERANIA</td>\n",
              "      <td>POMERANIA</td>\n",
              "      <td>79</td>\n",
              "      <td>False</td>\n",
              "      <td>MALE</td>\n",
              "      <td>True</td>\n",
              "      <td>False</td>\n",
              "      <td>False</td>\n",
              "      <td>False</td>\n",
              "      <td>1.0</td>\n",
              "      <td>FOREARM</td>\n",
              "      <td>5.0</td>\n",
              "      <td>5.0</td>\n",
              "      <td>BCC</td>\n",
              "      <td>True</td>\n",
              "      <td>True</td>\n",
              "      <td>False</td>\n",
              "      <td>False</td>\n",
              "      <td>True</td>\n",
              "      <td>True</td>\n",
              "      <td>PAT_684_1302_588.png</td>\n",
              "      <td>True</td>\n",
              "    </tr>\n",
              "  </tbody>\n",
              "</table>\n",
              "</div>"
            ],
            "text/plain": [
              "  patient_id  lesion_id  smoke  ... elevation                 img_id biopsed\n",
              "0   PAT_1516       1765    NaN  ...     False  PAT_1516_1765_530.png   False\n",
              "1     PAT_46        881  False  ...      True     PAT_46_881_939.png    True\n",
              "2   PAT_1545       1867    NaN  ...     False  PAT_1545_1867_547.png   False\n",
              "3   PAT_1989       4061    NaN  ...     False  PAT_1989_4061_934.png   False\n",
              "4    PAT_684       1302  False  ...      True   PAT_684_1302_588.png    True\n",
              "\n",
              "[5 rows x 26 columns]"
            ]
          },
          "metadata": {
            "tags": []
          },
          "execution_count": 10
        }
      ]
    },
    {
      "cell_type": "code",
      "metadata": {
        "id": "B4uO3ChKG2EO",
        "colab_type": "code",
        "colab": {
          "base_uri": "https://localhost:8080/",
          "height": 220
        },
        "outputId": "4a0d2df6-d195-41d0-c376-10fd948b57d3"
      },
      "source": [
        "#shuffle the dataframe\n",
        "df=df.sample(frac=1)\n",
        "df.head()"
      ],
      "execution_count": 11,
      "outputs": [
        {
          "output_type": "execute_result",
          "data": {
            "text/html": [
              "<div>\n",
              "<style scoped>\n",
              "    .dataframe tbody tr th:only-of-type {\n",
              "        vertical-align: middle;\n",
              "    }\n",
              "\n",
              "    .dataframe tbody tr th {\n",
              "        vertical-align: top;\n",
              "    }\n",
              "\n",
              "    .dataframe thead th {\n",
              "        text-align: right;\n",
              "    }\n",
              "</style>\n",
              "<table border=\"1\" class=\"dataframe\">\n",
              "  <thead>\n",
              "    <tr style=\"text-align: right;\">\n",
              "      <th></th>\n",
              "      <th>patient_id</th>\n",
              "      <th>lesion_id</th>\n",
              "      <th>smoke</th>\n",
              "      <th>drink</th>\n",
              "      <th>background_father</th>\n",
              "      <th>background_mother</th>\n",
              "      <th>age</th>\n",
              "      <th>pesticide</th>\n",
              "      <th>gender</th>\n",
              "      <th>skin_cancer_history</th>\n",
              "      <th>cancer_history</th>\n",
              "      <th>has_piped_water</th>\n",
              "      <th>has_sewage_system</th>\n",
              "      <th>fitspatrick</th>\n",
              "      <th>region</th>\n",
              "      <th>diameter_1</th>\n",
              "      <th>diameter_2</th>\n",
              "      <th>diagnostic</th>\n",
              "      <th>itch</th>\n",
              "      <th>grew</th>\n",
              "      <th>hurt</th>\n",
              "      <th>changed</th>\n",
              "      <th>bleed</th>\n",
              "      <th>elevation</th>\n",
              "      <th>img_id</th>\n",
              "      <th>biopsed</th>\n",
              "    </tr>\n",
              "  </thead>\n",
              "  <tbody>\n",
              "    <tr>\n",
              "      <th>284</th>\n",
              "      <td>PAT_1071</td>\n",
              "      <td>313</td>\n",
              "      <td>NaN</td>\n",
              "      <td>NaN</td>\n",
              "      <td>NaN</td>\n",
              "      <td>NaN</td>\n",
              "      <td>55</td>\n",
              "      <td>NaN</td>\n",
              "      <td>NaN</td>\n",
              "      <td>NaN</td>\n",
              "      <td>NaN</td>\n",
              "      <td>NaN</td>\n",
              "      <td>NaN</td>\n",
              "      <td>NaN</td>\n",
              "      <td>FACE</td>\n",
              "      <td>NaN</td>\n",
              "      <td>NaN</td>\n",
              "      <td>ACK</td>\n",
              "      <td>False</td>\n",
              "      <td>False</td>\n",
              "      <td>False</td>\n",
              "      <td>False</td>\n",
              "      <td>False</td>\n",
              "      <td>False</td>\n",
              "      <td>PAT_1071_313_789.png</td>\n",
              "      <td>False</td>\n",
              "    </tr>\n",
              "    <tr>\n",
              "      <th>643</th>\n",
              "      <td>PAT_412</td>\n",
              "      <td>817</td>\n",
              "      <td>False</td>\n",
              "      <td>False</td>\n",
              "      <td>POMERANIA</td>\n",
              "      <td>POMERANIA</td>\n",
              "      <td>46</td>\n",
              "      <td>True</td>\n",
              "      <td>MALE</td>\n",
              "      <td>False</td>\n",
              "      <td>True</td>\n",
              "      <td>False</td>\n",
              "      <td>True</td>\n",
              "      <td>2.0</td>\n",
              "      <td>FACE</td>\n",
              "      <td>10.0</td>\n",
              "      <td>9.0</td>\n",
              "      <td>BCC</td>\n",
              "      <td>False</td>\n",
              "      <td>True</td>\n",
              "      <td>False</td>\n",
              "      <td>False</td>\n",
              "      <td>False</td>\n",
              "      <td>True</td>\n",
              "      <td>PAT_412_817_232.png</td>\n",
              "      <td>True</td>\n",
              "    </tr>\n",
              "    <tr>\n",
              "      <th>546</th>\n",
              "      <td>PAT_517</td>\n",
              "      <td>972</td>\n",
              "      <td>False</td>\n",
              "      <td>False</td>\n",
              "      <td>POMERANIA</td>\n",
              "      <td>POMERANIA</td>\n",
              "      <td>94</td>\n",
              "      <td>False</td>\n",
              "      <td>FEMALE</td>\n",
              "      <td>True</td>\n",
              "      <td>True</td>\n",
              "      <td>True</td>\n",
              "      <td>True</td>\n",
              "      <td>2.0</td>\n",
              "      <td>NOSE</td>\n",
              "      <td>8.0</td>\n",
              "      <td>7.0</td>\n",
              "      <td>BCC</td>\n",
              "      <td>True</td>\n",
              "      <td>UNK</td>\n",
              "      <td>True</td>\n",
              "      <td>UNK</td>\n",
              "      <td>True</td>\n",
              "      <td>True</td>\n",
              "      <td>PAT_517_972_845.png</td>\n",
              "      <td>True</td>\n",
              "    </tr>\n",
              "    <tr>\n",
              "      <th>2194</th>\n",
              "      <td>PAT_191</td>\n",
              "      <td>293</td>\n",
              "      <td>True</td>\n",
              "      <td>False</td>\n",
              "      <td>POMERANIA</td>\n",
              "      <td>POMERANIA</td>\n",
              "      <td>85</td>\n",
              "      <td>False</td>\n",
              "      <td>FEMALE</td>\n",
              "      <td>False</td>\n",
              "      <td>True</td>\n",
              "      <td>True</td>\n",
              "      <td>True</td>\n",
              "      <td>2.0</td>\n",
              "      <td>ARM</td>\n",
              "      <td>15.0</td>\n",
              "      <td>10.0</td>\n",
              "      <td>BCC</td>\n",
              "      <td>True</td>\n",
              "      <td>True</td>\n",
              "      <td>True</td>\n",
              "      <td>False</td>\n",
              "      <td>True</td>\n",
              "      <td>True</td>\n",
              "      <td>PAT_191_293_699.png</td>\n",
              "      <td>True</td>\n",
              "    </tr>\n",
              "    <tr>\n",
              "      <th>1208</th>\n",
              "      <td>PAT_1412</td>\n",
              "      <td>1421</td>\n",
              "      <td>NaN</td>\n",
              "      <td>NaN</td>\n",
              "      <td>NaN</td>\n",
              "      <td>NaN</td>\n",
              "      <td>75</td>\n",
              "      <td>NaN</td>\n",
              "      <td>NaN</td>\n",
              "      <td>NaN</td>\n",
              "      <td>NaN</td>\n",
              "      <td>NaN</td>\n",
              "      <td>NaN</td>\n",
              "      <td>NaN</td>\n",
              "      <td>HAND</td>\n",
              "      <td>NaN</td>\n",
              "      <td>NaN</td>\n",
              "      <td>ACK</td>\n",
              "      <td>True</td>\n",
              "      <td>False</td>\n",
              "      <td>False</td>\n",
              "      <td>False</td>\n",
              "      <td>False</td>\n",
              "      <td>False</td>\n",
              "      <td>PAT_1412_1421_512.png</td>\n",
              "      <td>False</td>\n",
              "    </tr>\n",
              "  </tbody>\n",
              "</table>\n",
              "</div>"
            ],
            "text/plain": [
              "     patient_id  lesion_id  smoke  ... elevation                 img_id biopsed\n",
              "284    PAT_1071        313    NaN  ...     False   PAT_1071_313_789.png   False\n",
              "643     PAT_412        817  False  ...      True    PAT_412_817_232.png    True\n",
              "546     PAT_517        972  False  ...      True    PAT_517_972_845.png    True\n",
              "2194    PAT_191        293   True  ...      True    PAT_191_293_699.png    True\n",
              "1208   PAT_1412       1421    NaN  ...     False  PAT_1412_1421_512.png   False\n",
              "\n",
              "[5 rows x 26 columns]"
            ]
          },
          "metadata": {
            "tags": []
          },
          "execution_count": 11
        }
      ]
    },
    {
      "cell_type": "code",
      "metadata": {
        "id": "oIP9M4WoGCZz",
        "colab_type": "code",
        "colab": {
          "base_uri": "https://localhost:8080/",
          "height": 200
        },
        "outputId": "9441110c-0b93-41c3-9839-b9098fc6ffbb"
      },
      "source": [
        "#create a dataframe with image name and encoded labels\n",
        "labels=pd.get_dummies(df['diagnostic'])\n",
        "df_img=pd.concat([df['img_id'],labels],axis=1)\n",
        "df_img.head()\n",
        "#MEL\tNV\tBCC\tAK\tBKL\t\tSCC"
      ],
      "execution_count": 12,
      "outputs": [
        {
          "output_type": "execute_result",
          "data": {
            "text/html": [
              "<div>\n",
              "<style scoped>\n",
              "    .dataframe tbody tr th:only-of-type {\n",
              "        vertical-align: middle;\n",
              "    }\n",
              "\n",
              "    .dataframe tbody tr th {\n",
              "        vertical-align: top;\n",
              "    }\n",
              "\n",
              "    .dataframe thead th {\n",
              "        text-align: right;\n",
              "    }\n",
              "</style>\n",
              "<table border=\"1\" class=\"dataframe\">\n",
              "  <thead>\n",
              "    <tr style=\"text-align: right;\">\n",
              "      <th></th>\n",
              "      <th>img_id</th>\n",
              "      <th>ACK</th>\n",
              "      <th>BCC</th>\n",
              "      <th>MEL</th>\n",
              "      <th>NEV</th>\n",
              "      <th>SCC</th>\n",
              "      <th>SEK</th>\n",
              "    </tr>\n",
              "  </thead>\n",
              "  <tbody>\n",
              "    <tr>\n",
              "      <th>284</th>\n",
              "      <td>PAT_1071_313_789.png</td>\n",
              "      <td>1</td>\n",
              "      <td>0</td>\n",
              "      <td>0</td>\n",
              "      <td>0</td>\n",
              "      <td>0</td>\n",
              "      <td>0</td>\n",
              "    </tr>\n",
              "    <tr>\n",
              "      <th>643</th>\n",
              "      <td>PAT_412_817_232.png</td>\n",
              "      <td>0</td>\n",
              "      <td>1</td>\n",
              "      <td>0</td>\n",
              "      <td>0</td>\n",
              "      <td>0</td>\n",
              "      <td>0</td>\n",
              "    </tr>\n",
              "    <tr>\n",
              "      <th>546</th>\n",
              "      <td>PAT_517_972_845.png</td>\n",
              "      <td>0</td>\n",
              "      <td>1</td>\n",
              "      <td>0</td>\n",
              "      <td>0</td>\n",
              "      <td>0</td>\n",
              "      <td>0</td>\n",
              "    </tr>\n",
              "    <tr>\n",
              "      <th>2194</th>\n",
              "      <td>PAT_191_293_699.png</td>\n",
              "      <td>0</td>\n",
              "      <td>1</td>\n",
              "      <td>0</td>\n",
              "      <td>0</td>\n",
              "      <td>0</td>\n",
              "      <td>0</td>\n",
              "    </tr>\n",
              "    <tr>\n",
              "      <th>1208</th>\n",
              "      <td>PAT_1412_1421_512.png</td>\n",
              "      <td>1</td>\n",
              "      <td>0</td>\n",
              "      <td>0</td>\n",
              "      <td>0</td>\n",
              "      <td>0</td>\n",
              "      <td>0</td>\n",
              "    </tr>\n",
              "  </tbody>\n",
              "</table>\n",
              "</div>"
            ],
            "text/plain": [
              "                     img_id  ACK  BCC  MEL  NEV  SCC  SEK\n",
              "284    PAT_1071_313_789.png    1    0    0    0    0    0\n",
              "643     PAT_412_817_232.png    0    1    0    0    0    0\n",
              "546     PAT_517_972_845.png    0    1    0    0    0    0\n",
              "2194    PAT_191_293_699.png    0    1    0    0    0    0\n",
              "1208  PAT_1412_1421_512.png    1    0    0    0    0    0"
            ]
          },
          "metadata": {
            "tags": []
          },
          "execution_count": 12
        }
      ]
    },
    {
      "cell_type": "code",
      "metadata": {
        "id": "Ogf8B7C-G2NB",
        "colab_type": "code",
        "colab": {
          "base_uri": "https://localhost:8080/",
          "height": 35
        },
        "outputId": "42ba5cd8-9806-4a7c-c346-5efa7ebba7df"
      },
      "source": [
        "#labels columns in dataframe\n",
        "col=list(df_img.columns)[1::]\n",
        "col"
      ],
      "execution_count": 13,
      "outputs": [
        {
          "output_type": "execute_result",
          "data": {
            "text/plain": [
              "['ACK', 'BCC', 'MEL', 'NEV', 'SCC', 'SEK']"
            ]
          },
          "metadata": {
            "tags": []
          },
          "execution_count": 13
        }
      ]
    },
    {
      "cell_type": "code",
      "metadata": {
        "id": "zGNKHTSskUZ7",
        "colab_type": "code",
        "colab": {}
      },
      "source": [
        "df['smoke']=df['smoke'].fillna('unknown').astype('str')\n",
        "df['drink']=df['drink'].fillna('unknown').astype('str')\n",
        "df['pesticide']=df['pesticide'].fillna('unknown').astype('str')\n",
        "df['gender']=df['gender'].fillna('unknown').astype('str')\n",
        "df['skin_cancer_history']=df['skin_cancer_history'].fillna('unknown').astype('str')\n",
        "df['cancer_history']=df['cancer_history'].fillna('unknown').astype('str')\n",
        "df['has_piped_water']=df['has_piped_water'].fillna('unknown').astype('str')\n",
        "df['has_sewage_system']=df['has_sewage_system'].fillna('unknown').astype('str')\n",
        "\n",
        "df['fitspatrick']=df['fitspatrick'].fillna('unknown').astype('str')\n",
        "df['has_sewage_system']=df['has_sewage_system'].fillna('unknown').astype('str')\n",
        "df['diameter_1'].fillna(df['diameter_1'].mean(),inplace=True)\n",
        "df['diameter_2'].fillna(df['diameter_2'].mean(),inplace=True)"
      ],
      "execution_count": 14,
      "outputs": []
    },
    {
      "cell_type": "code",
      "metadata": {
        "id": "3mQsD3iJkW3x",
        "colab_type": "code",
        "colab": {}
      },
      "source": [
        "from sklearn.preprocessing import LabelEncoder,OneHotEncoder\n",
        "encLE=LabelEncoder()\n",
        "encOHE=OneHotEncoder(sparse=False)"
      ],
      "execution_count": 15,
      "outputs": []
    },
    {
      "cell_type": "code",
      "metadata": {
        "id": "XAzAukNWka7X",
        "colab_type": "code",
        "colab": {}
      },
      "source": [
        "for i in df.columns[2::]:\n",
        "  if i!='diagnostic' or i!='img_id':\n",
        "    df[i]=encLE.fit_transform(df[i].astype('str'))"
      ],
      "execution_count": 16,
      "outputs": []
    },
    {
      "cell_type": "code",
      "metadata": {
        "id": "_-Fp3dAnkcL9",
        "colab_type": "code",
        "colab": {
          "base_uri": "https://localhost:8080/",
          "height": 220
        },
        "outputId": "2de6d778-c7d2-4c2e-a43f-0327d076f82b"
      },
      "source": [
        "tab_features=df.drop(['patient_id','lesion_id','diagnostic','img_id'],axis=1)\n",
        "tab_labels=df['diagnostic']\n",
        "tab_features.head()"
      ],
      "execution_count": 17,
      "outputs": [
        {
          "output_type": "execute_result",
          "data": {
            "text/html": [
              "<div>\n",
              "<style scoped>\n",
              "    .dataframe tbody tr th:only-of-type {\n",
              "        vertical-align: middle;\n",
              "    }\n",
              "\n",
              "    .dataframe tbody tr th {\n",
              "        vertical-align: top;\n",
              "    }\n",
              "\n",
              "    .dataframe thead th {\n",
              "        text-align: right;\n",
              "    }\n",
              "</style>\n",
              "<table border=\"1\" class=\"dataframe\">\n",
              "  <thead>\n",
              "    <tr style=\"text-align: right;\">\n",
              "      <th></th>\n",
              "      <th>smoke</th>\n",
              "      <th>drink</th>\n",
              "      <th>background_father</th>\n",
              "      <th>background_mother</th>\n",
              "      <th>age</th>\n",
              "      <th>pesticide</th>\n",
              "      <th>gender</th>\n",
              "      <th>skin_cancer_history</th>\n",
              "      <th>cancer_history</th>\n",
              "      <th>has_piped_water</th>\n",
              "      <th>has_sewage_system</th>\n",
              "      <th>fitspatrick</th>\n",
              "      <th>region</th>\n",
              "      <th>diameter_1</th>\n",
              "      <th>diameter_2</th>\n",
              "      <th>itch</th>\n",
              "      <th>grew</th>\n",
              "      <th>hurt</th>\n",
              "      <th>changed</th>\n",
              "      <th>bleed</th>\n",
              "      <th>elevation</th>\n",
              "      <th>biopsed</th>\n",
              "    </tr>\n",
              "  </thead>\n",
              "  <tbody>\n",
              "    <tr>\n",
              "      <th>284</th>\n",
              "      <td>2</td>\n",
              "      <td>2</td>\n",
              "      <td>13</td>\n",
              "      <td>11</td>\n",
              "      <td>42</td>\n",
              "      <td>2</td>\n",
              "      <td>2</td>\n",
              "      <td>2</td>\n",
              "      <td>2</td>\n",
              "      <td>2</td>\n",
              "      <td>2</td>\n",
              "      <td>6</td>\n",
              "      <td>5</td>\n",
              "      <td>6</td>\n",
              "      <td>37</td>\n",
              "      <td>0</td>\n",
              "      <td>0</td>\n",
              "      <td>0</td>\n",
              "      <td>0</td>\n",
              "      <td>0</td>\n",
              "      <td>0</td>\n",
              "      <td>0</td>\n",
              "    </tr>\n",
              "    <tr>\n",
              "      <th>643</th>\n",
              "      <td>0</td>\n",
              "      <td>0</td>\n",
              "      <td>9</td>\n",
              "      <td>7</td>\n",
              "      <td>33</td>\n",
              "      <td>1</td>\n",
              "      <td>1</td>\n",
              "      <td>0</td>\n",
              "      <td>1</td>\n",
              "      <td>0</td>\n",
              "      <td>1</td>\n",
              "      <td>1</td>\n",
              "      <td>5</td>\n",
              "      <td>3</td>\n",
              "      <td>38</td>\n",
              "      <td>0</td>\n",
              "      <td>1</td>\n",
              "      <td>0</td>\n",
              "      <td>0</td>\n",
              "      <td>0</td>\n",
              "      <td>1</td>\n",
              "      <td>1</td>\n",
              "    </tr>\n",
              "    <tr>\n",
              "      <th>546</th>\n",
              "      <td>0</td>\n",
              "      <td>0</td>\n",
              "      <td>9</td>\n",
              "      <td>7</td>\n",
              "      <td>83</td>\n",
              "      <td>0</td>\n",
              "      <td>0</td>\n",
              "      <td>1</td>\n",
              "      <td>1</td>\n",
              "      <td>1</td>\n",
              "      <td>1</td>\n",
              "      <td>1</td>\n",
              "      <td>11</td>\n",
              "      <td>39</td>\n",
              "      <td>34</td>\n",
              "      <td>1</td>\n",
              "      <td>2</td>\n",
              "      <td>1</td>\n",
              "      <td>2</td>\n",
              "      <td>1</td>\n",
              "      <td>1</td>\n",
              "      <td>1</td>\n",
              "    </tr>\n",
              "    <tr>\n",
              "      <th>2194</th>\n",
              "      <td>1</td>\n",
              "      <td>0</td>\n",
              "      <td>9</td>\n",
              "      <td>7</td>\n",
              "      <td>74</td>\n",
              "      <td>0</td>\n",
              "      <td>0</td>\n",
              "      <td>0</td>\n",
              "      <td>1</td>\n",
              "      <td>1</td>\n",
              "      <td>1</td>\n",
              "      <td>1</td>\n",
              "      <td>1</td>\n",
              "      <td>10</td>\n",
              "      <td>3</td>\n",
              "      <td>1</td>\n",
              "      <td>1</td>\n",
              "      <td>1</td>\n",
              "      <td>0</td>\n",
              "      <td>1</td>\n",
              "      <td>1</td>\n",
              "      <td>1</td>\n",
              "    </tr>\n",
              "    <tr>\n",
              "      <th>1208</th>\n",
              "      <td>2</td>\n",
              "      <td>2</td>\n",
              "      <td>13</td>\n",
              "      <td>11</td>\n",
              "      <td>63</td>\n",
              "      <td>2</td>\n",
              "      <td>2</td>\n",
              "      <td>2</td>\n",
              "      <td>2</td>\n",
              "      <td>2</td>\n",
              "      <td>2</td>\n",
              "      <td>6</td>\n",
              "      <td>8</td>\n",
              "      <td>6</td>\n",
              "      <td>37</td>\n",
              "      <td>1</td>\n",
              "      <td>0</td>\n",
              "      <td>0</td>\n",
              "      <td>0</td>\n",
              "      <td>0</td>\n",
              "      <td>0</td>\n",
              "      <td>0</td>\n",
              "    </tr>\n",
              "  </tbody>\n",
              "</table>\n",
              "</div>"
            ],
            "text/plain": [
              "      smoke  drink  background_father  ...  bleed  elevation  biopsed\n",
              "284       2      2                 13  ...      0          0        0\n",
              "643       0      0                  9  ...      0          1        1\n",
              "546       0      0                  9  ...      1          1        1\n",
              "2194      1      0                  9  ...      1          1        1\n",
              "1208      2      2                 13  ...      0          0        0\n",
              "\n",
              "[5 rows x 22 columns]"
            ]
          },
          "metadata": {
            "tags": []
          },
          "execution_count": 17
        }
      ]
    },
    {
      "cell_type": "code",
      "metadata": {
        "id": "ihQ3fznlG2Q7",
        "colab_type": "code",
        "colab": {}
      },
      "source": [
        "# data augmentation\n",
        "from tensorflow.keras.preprocessing.image import ImageDataGenerator\n",
        "data_gen= ImageDataGenerator(\n",
        "    horizontal_flip=True,\n",
        "    vertical_flip=True,\n",
        "    rotation_range=360,\n",
        "    width_shift_range=0.1,\n",
        "    height_shift_range=0.1,\n",
        "    zoom_range=.1,\n",
        "    rescale=1/255,\n",
        "    fill_mode='nearest')"
      ],
      "execution_count": 18,
      "outputs": []
    },
    {
      "cell_type": "code",
      "metadata": {
        "id": "Y4GNCOf3G2KD",
        "colab_type": "code",
        "colab": {}
      },
      "source": [
        "# model hyperparameters\n",
        "img_shape=300\n",
        "batch_size=20\n",
        "n_epochs=20"
      ],
      "execution_count": 19,
      "outputs": []
    },
    {
      "cell_type": "code",
      "metadata": {
        "id": "P72df_UPH2l1",
        "colab_type": "code",
        "colab": {}
      },
      "source": [
        "from tensorflow.keras.layers import GlobalAveragePooling2D,Dropout,Dense\n",
        "from tensorflow.keras.callbacks import ModelCheckpoint,ReduceLROnPlateau\n",
        "from tensorflow.keras.optimizers import Adam\n",
        "import tensorflow.keras.backend as K\n",
        "from tensorflow.keras.models import Sequential,Model"
      ],
      "execution_count": 23,
      "outputs": []
    },
    {
      "cell_type": "code",
      "metadata": {
        "id": "ngi230XBH5MN",
        "colab_type": "code",
        "colab": {}
      },
      "source": [
        "from xgboost import XGBClassifier\n",
        "xgb_clf = XGBClassifier(base_score=0.5, booster='gbtree', colsample_bylevel=1,\n",
        "              colsample_bynode=1, colsample_bytree=0.6, gamma=1,\n",
        "              learning_rate=0.5, max_delta_step=0, max_depth=4,\n",
        "              min_child_weight=1, missing=None, n_estimators=1000, n_jobs=1,\n",
        "              nthread=1, objective='multi:softprob', random_state=0,\n",
        "              reg_alpha=0, reg_lambda=1, scale_pos_weight=1, seed=None,\n",
        "              silent=True, subsample=1.0, verbosity=1)"
      ],
      "execution_count": 20,
      "outputs": []
    },
    {
      "cell_type": "code",
      "metadata": {
        "id": "_e3UDto2KtoS",
        "colab_type": "code",
        "colab": {}
      },
      "source": [
        "def basemodel():\n",
        "  import efficientnet.tfkeras as efn\n",
        "  pre_trained_model =efn.EfficientNetB3(weights =None, include_top=False, input_shape = (img_shape,img_shape,3))\n",
        "  x = pre_trained_model.output\n",
        "  x = GlobalAveragePooling2D()(x)\n",
        "  x = Dropout(0.3)(x)\n",
        "  x = Dense(128, activation=\"relu\")(x)\n",
        "  x = Dropout(0.3)(x)\n",
        "  x = Dense(64, activation=\"relu\")(x)\n",
        "  predictions = Dense(8, activation=\"softmax\")(x) #pretrained model has 7 classes\n",
        "  pre_trained_model = Model(inputs=pre_trained_model.input, outputs=predictions)\n",
        "  pre_trained_model.load_weights('/content/isicall_eff3_weights.hdf5') #load pretrained weights to to model\n",
        "  #now remove all added layers in pretrained layers add new leayer and create base model\n",
        "  #here we can test how many layers we want to remove\n",
        "  base_model = Model(pre_trained_model.input, pre_trained_model.layers[-7].output)\n",
        "  #now add our new layers\n",
        "  x = base_model.output\n",
        "  x = GlobalAveragePooling2D()(x)\n",
        "  x = Dropout(0.3)(x)\n",
        "  x = Dense(128,name='dense1', activation=\"relu\")(x)\n",
        "  x = Dropout(0.3)(x)\n",
        "  x = Dense(64,name='dense2', activation=\"relu\")(x)\n",
        "\n",
        "  predictions  = Dense(len(col),name='output', activation=\"softmax\")(x) #base model has six layers\n",
        "  base_model = Model(inputs=base_model.input, outputs=predictions )\n",
        "  #compile the base model\n",
        "  base_model.compile(optimizer=Adam(0.001), loss='categorical_crossentropy', metrics=['accuracy'])\n",
        "  return base_model"
      ],
      "execution_count": 21,
      "outputs": []
    },
    {
      "cell_type": "code",
      "metadata": {
        "id": "hx-WGWBVNMri",
        "colab_type": "code",
        "colab": {
          "base_uri": "https://localhost:8080/",
          "height": 1000
        },
        "outputId": "4e187e80-f76d-4c75-d9ec-f5affadbc790"
      },
      "source": [
        "\n",
        "from sklearn.model_selection import KFold,StratifiedKFold\n",
        "import gc\n",
        "\n",
        "from sklearn.metrics import classification_report,accuracy_score,f1_score,roc_auc_score,recall_score,precision_score\n",
        "classification_reports=[]\n",
        "kf = KFold(n_splits=5,shuffle=True)\n",
        "history=[]\n",
        "accuracy=[]\n",
        "f1_scores=[]\n",
        "auc=[]\n",
        "y_pred=[]\n",
        "precision=[]\n",
        "recall=[]\n",
        "fold=0\n",
        "for train_index, test_index in kf.split(df_img):\n",
        "  train=df_img.iloc[train_index,:]\n",
        "  val=df_img.iloc[test_index,:]\n",
        "  print('-----------fold {}--------------'.format(fold))\n",
        "  train_generator=data_gen.flow_from_dataframe(train,directory='/content/data',\n",
        "                                               target_size=(img_shape,img_shape),\n",
        "                                               x_col='img_id',\n",
        "                                               y_col=col,\n",
        "                                               class_mode='raw',\n",
        "                                               shuffle=True,\n",
        "                                               batch_size=batch_size)\n",
        "\n",
        "  val_generator=data_gen.flow_from_dataframe(val,directory='/content/data',\n",
        "                                             target_size=(img_shape,img_shape),\n",
        "                                             x_col=\"img_id\",\n",
        "                                             y_col=col,\n",
        "                                             class_mode='raw',\n",
        "                                             shuffle=False,\n",
        "                                             batch_size=batch_size)\n",
        "  #train_generator.next()[0].shape,train_generator.next()[1].shape\n",
        "\n",
        "  #load base model\n",
        "  base_model=basemodel()\n",
        "  #train model\n",
        "  results = base_model.fit(train_generator,epochs=25,verbose=1,\n",
        "                              steps_per_epoch=train_generator.n/batch_size,\n",
        "                              validation_data=val_generator,\n",
        "                             validation_steps=val_generator.n/batch_size,\n",
        "                              callbacks=[ReduceLROnPlateau(monitor='val_loss', factor=0.5,patience=5, min_lr=0.000001),\n",
        "                                         #ModelCheckpoint('model_{}.hdf5'.format(fold), save_best_only=True, monitor='val_loss', mode='min')\n",
        "                                         ])\n",
        "  y_true=val.iloc[:,1::]\n",
        "  val_generator.reset()\n",
        "  img_pred=base_model.predict(val_generator,steps=val_generator.n/batch_size,verbose=0)\n",
        "\n",
        "  xgb_clf.fit(tab_features.values[train_index,:],tab_labels.iloc[train_index],verbose=False)\n",
        "  tab_pred=xgb_clf.predict_proba(tab_features.values[test_index,:])\n",
        "\n",
        "  tab_f1=f1_score(y_true,tab_pred.round().astype(int),average='macro',labels=np.unique(tab_pred))\n",
        "  img_f1=f1_score(y_true,img_pred.round().astype(int),average='macro',labels=np.unique(img_pred))\n",
        "  print('f1 score is ', img_f1,' and ',tab_f1)\n",
        "\n",
        "  wt=tab_f1+img_f1\n",
        "  y_pred=((tab_f1/wt)*tab_pred)+((img_f1/wt)*img_pred)\n",
        "  y_pred=np.round(y_pred,0)\n",
        "  accuracy.append(accuracy_score(y_true,y_pred))\n",
        "  auc.append(roc_auc_score(y_true,y_pred))\n",
        "  precision.append(precision_score(y_true,y_pred,average='macro',labels=np.unique(y_pred)))\n",
        "  recall.append(recall_score(y_true,y_pred,average='macro',labels=np.unique(y_pred)))\n",
        "  f1_scores.append(f1_score(y_true,y_pred,average='macro',labels=np.unique(y_pred)))\n",
        "  history.append(results)\n",
        "  fold+=1\n",
        "\n",
        "  del base_model\n",
        "  K.clear_session()\n",
        "  gc.collect()"
      ],
      "execution_count": 55,
      "outputs": [
        {
          "output_type": "stream",
          "text": [
            "-----------fold 0--------------\n",
            "Found 1838 validated image filenames.\n",
            "Found 460 validated image filenames.\n",
            "Epoch 1/25\n",
            "92/91 [==============================] - 157s 2s/step - loss: 1.1651 - accuracy: 0.5724 - val_loss: 1.1149 - val_accuracy: 0.6239\n",
            "Epoch 2/25\n",
            "92/91 [==============================] - 154s 2s/step - loss: 0.8823 - accuracy: 0.6915 - val_loss: 2.3709 - val_accuracy: 0.6152\n",
            "Epoch 3/25\n",
            "92/91 [==============================] - 155s 2s/step - loss: 0.8005 - accuracy: 0.7182 - val_loss: 1.5916 - val_accuracy: 0.6457\n",
            "Epoch 4/25\n",
            "92/91 [==============================] - 154s 2s/step - loss: 0.7204 - accuracy: 0.7405 - val_loss: 0.8858 - val_accuracy: 0.6609\n",
            "Epoch 5/25\n",
            "92/91 [==============================] - 154s 2s/step - loss: 0.6894 - accuracy: 0.7612 - val_loss: 0.9423 - val_accuracy: 0.7109\n",
            "Epoch 6/25\n",
            "92/91 [==============================] - 154s 2s/step - loss: 0.6393 - accuracy: 0.7726 - val_loss: 0.8038 - val_accuracy: 0.7000\n",
            "Epoch 7/25\n",
            "92/91 [==============================] - 154s 2s/step - loss: 0.6263 - accuracy: 0.7650 - val_loss: 1.0207 - val_accuracy: 0.6739\n",
            "Epoch 8/25\n",
            "92/91 [==============================] - 155s 2s/step - loss: 0.5872 - accuracy: 0.7911 - val_loss: 1.1195 - val_accuracy: 0.6478\n",
            "Epoch 9/25\n",
            "92/91 [==============================] - 154s 2s/step - loss: 0.5394 - accuracy: 0.7982 - val_loss: 0.8971 - val_accuracy: 0.7109\n",
            "Epoch 10/25\n",
            "92/91 [==============================] - 154s 2s/step - loss: 0.5017 - accuracy: 0.8254 - val_loss: 0.9716 - val_accuracy: 0.6674\n",
            "Epoch 11/25\n",
            "92/91 [==============================] - 155s 2s/step - loss: 0.5134 - accuracy: 0.8134 - val_loss: 0.8743 - val_accuracy: 0.7304\n",
            "Epoch 12/25\n",
            "92/91 [==============================] - 155s 2s/step - loss: 0.4153 - accuracy: 0.8520 - val_loss: 0.9954 - val_accuracy: 0.6935\n",
            "Epoch 13/25\n",
            "92/91 [==============================] - 154s 2s/step - loss: 0.3790 - accuracy: 0.8662 - val_loss: 0.9657 - val_accuracy: 0.6978\n",
            "Epoch 14/25\n",
            "92/91 [==============================] - 154s 2s/step - loss: 0.3334 - accuracy: 0.8743 - val_loss: 0.9841 - val_accuracy: 0.7217\n",
            "Epoch 15/25\n",
            "92/91 [==============================] - 155s 2s/step - loss: 0.3106 - accuracy: 0.8836 - val_loss: 0.9650 - val_accuracy: 0.7326\n",
            "Epoch 16/25\n",
            "92/91 [==============================] - 154s 2s/step - loss: 0.2638 - accuracy: 0.9053 - val_loss: 1.0636 - val_accuracy: 0.7174\n",
            "Epoch 17/25\n",
            "92/91 [==============================] - 154s 2s/step - loss: 0.2297 - accuracy: 0.9195 - val_loss: 0.9477 - val_accuracy: 0.7457\n",
            "Epoch 18/25\n",
            "92/91 [==============================] - 154s 2s/step - loss: 0.2170 - accuracy: 0.9249 - val_loss: 0.9531 - val_accuracy: 0.7370\n",
            "Epoch 19/25\n",
            "92/91 [==============================] - 154s 2s/step - loss: 0.1929 - accuracy: 0.9282 - val_loss: 1.0374 - val_accuracy: 0.7543\n",
            "Epoch 20/25\n",
            "92/91 [==============================] - 154s 2s/step - loss: 0.1667 - accuracy: 0.9434 - val_loss: 1.1776 - val_accuracy: 0.7304\n",
            "Epoch 21/25\n",
            "92/91 [==============================] - 153s 2s/step - loss: 0.1851 - accuracy: 0.9353 - val_loss: 1.0626 - val_accuracy: 0.7348\n",
            "Epoch 22/25\n",
            "92/91 [==============================] - 154s 2s/step - loss: 0.1632 - accuracy: 0.9494 - val_loss: 1.1457 - val_accuracy: 0.7457\n",
            "Epoch 23/25\n",
            "92/91 [==============================] - 154s 2s/step - loss: 0.1524 - accuracy: 0.9505 - val_loss: 1.0974 - val_accuracy: 0.7304\n",
            "Epoch 24/25\n",
            "92/91 [==============================] - 153s 2s/step - loss: 0.1359 - accuracy: 0.9559 - val_loss: 1.1313 - val_accuracy: 0.7435\n",
            "Epoch 25/25\n",
            "92/91 [==============================] - 154s 2s/step - loss: 0.1130 - accuracy: 0.9630 - val_loss: 1.2094 - val_accuracy: 0.7478\n",
            "f1 score is  0.7924507456241104  and  0.815126050420168\n",
            "-----------fold 1--------------\n",
            "Found 1838 validated image filenames.\n",
            "Found 460 validated image filenames.\n",
            "Epoch 1/25\n",
            "92/91 [==============================] - 158s 2s/step - loss: 1.1650 - accuracy: 0.5686 - val_loss: 1.0494 - val_accuracy: 0.6457\n",
            "Epoch 2/25\n",
            "92/91 [==============================] - 154s 2s/step - loss: 0.8662 - accuracy: 0.6980 - val_loss: 0.8338 - val_accuracy: 0.7130\n",
            "Epoch 3/25\n",
            "92/91 [==============================] - 155s 2s/step - loss: 0.7655 - accuracy: 0.7225 - val_loss: 0.8627 - val_accuracy: 0.6761\n",
            "Epoch 4/25\n",
            "92/91 [==============================] - 155s 2s/step - loss: 0.7363 - accuracy: 0.7350 - val_loss: 1.1662 - val_accuracy: 0.6304\n",
            "Epoch 5/25\n",
            "92/91 [==============================] - 154s 2s/step - loss: 0.6767 - accuracy: 0.7612 - val_loss: 0.7633 - val_accuracy: 0.7152\n",
            "Epoch 6/25\n",
            "92/91 [==============================] - 154s 2s/step - loss: 0.6420 - accuracy: 0.7661 - val_loss: 0.7678 - val_accuracy: 0.7261\n",
            "Epoch 7/25\n",
            "92/91 [==============================] - 154s 2s/step - loss: 0.6047 - accuracy: 0.7758 - val_loss: 0.7792 - val_accuracy: 0.7391\n",
            "Epoch 8/25\n",
            "92/91 [==============================] - 156s 2s/step - loss: 0.5413 - accuracy: 0.8134 - val_loss: 0.8320 - val_accuracy: 0.6978\n",
            "Epoch 9/25\n",
            "92/91 [==============================] - 157s 2s/step - loss: 0.5697 - accuracy: 0.7960 - val_loss: 0.8122 - val_accuracy: 0.7130\n",
            "Epoch 10/25\n",
            "92/91 [==============================] - 156s 2s/step - loss: 0.5377 - accuracy: 0.7987 - val_loss: 0.7901 - val_accuracy: 0.7022\n",
            "Epoch 11/25\n",
            "92/91 [==============================] - 154s 2s/step - loss: 0.4506 - accuracy: 0.8422 - val_loss: 0.8293 - val_accuracy: 0.7261\n",
            "Epoch 12/25\n",
            "92/91 [==============================] - 155s 2s/step - loss: 0.3512 - accuracy: 0.8749 - val_loss: 0.7963 - val_accuracy: 0.7609\n",
            "Epoch 13/25\n",
            "92/91 [==============================] - 155s 2s/step - loss: 0.3678 - accuracy: 0.8678 - val_loss: 0.7764 - val_accuracy: 0.7326\n",
            "Epoch 14/25\n",
            "92/91 [==============================] - 154s 2s/step - loss: 0.3473 - accuracy: 0.8776 - val_loss: 0.9114 - val_accuracy: 0.7348\n",
            "Epoch 15/25\n",
            "92/91 [==============================] - 154s 2s/step - loss: 0.3089 - accuracy: 0.8923 - val_loss: 0.8471 - val_accuracy: 0.7370\n",
            "Epoch 16/25\n",
            "92/91 [==============================] - 155s 2s/step - loss: 0.2722 - accuracy: 0.9026 - val_loss: 0.7742 - val_accuracy: 0.7804\n",
            "Epoch 17/25\n",
            "92/91 [==============================] - 155s 2s/step - loss: 0.2415 - accuracy: 0.9140 - val_loss: 0.8096 - val_accuracy: 0.7739\n",
            "Epoch 18/25\n",
            "92/91 [==============================] - 155s 2s/step - loss: 0.2288 - accuracy: 0.9189 - val_loss: 0.9963 - val_accuracy: 0.7196\n",
            "Epoch 19/25\n",
            "92/91 [==============================] - 155s 2s/step - loss: 0.1992 - accuracy: 0.9287 - val_loss: 0.8339 - val_accuracy: 0.7609\n",
            "Epoch 20/25\n",
            "92/91 [==============================] - 154s 2s/step - loss: 0.1761 - accuracy: 0.9374 - val_loss: 0.8711 - val_accuracy: 0.7543\n",
            "Epoch 21/25\n",
            "92/91 [==============================] - 154s 2s/step - loss: 0.1780 - accuracy: 0.9347 - val_loss: 0.8660 - val_accuracy: 0.7783\n",
            "Epoch 22/25\n",
            "92/91 [==============================] - 154s 2s/step - loss: 0.1678 - accuracy: 0.9396 - val_loss: 0.8443 - val_accuracy: 0.7696\n",
            "Epoch 23/25\n",
            "92/91 [==============================] - 153s 2s/step - loss: 0.1406 - accuracy: 0.9489 - val_loss: 0.9333 - val_accuracy: 0.7587\n",
            "Epoch 24/25\n",
            "92/91 [==============================] - 155s 2s/step - loss: 0.1459 - accuracy: 0.9478 - val_loss: 0.8539 - val_accuracy: 0.7804\n",
            "Epoch 25/25\n",
            "92/91 [==============================] - 155s 2s/step - loss: 0.1400 - accuracy: 0.9510 - val_loss: 0.8738 - val_accuracy: 0.7783\n",
            "f1 score is  0.8083740762205395  and  0.8602150537634408\n",
            "-----------fold 2--------------\n",
            "Found 1838 validated image filenames.\n",
            "Found 460 validated image filenames.\n",
            "Epoch 1/25\n",
            "92/91 [==============================] - 158s 2s/step - loss: 1.1441 - accuracy: 0.5805 - val_loss: 1.0433 - val_accuracy: 0.6174\n",
            "Epoch 2/25\n",
            "92/91 [==============================] - 155s 2s/step - loss: 0.8668 - accuracy: 0.6959 - val_loss: 1.0322 - val_accuracy: 0.6435\n",
            "Epoch 3/25\n",
            "92/91 [==============================] - 155s 2s/step - loss: 0.8006 - accuracy: 0.7138 - val_loss: 0.7918 - val_accuracy: 0.6783\n",
            "Epoch 4/25\n",
            "92/91 [==============================] - 155s 2s/step - loss: 0.7088 - accuracy: 0.7524 - val_loss: 0.7705 - val_accuracy: 0.7022\n",
            "Epoch 5/25\n",
            "92/91 [==============================] - 155s 2s/step - loss: 0.6641 - accuracy: 0.7622 - val_loss: 0.8302 - val_accuracy: 0.7152\n",
            "Epoch 6/25\n",
            "92/91 [==============================] - 154s 2s/step - loss: 0.6389 - accuracy: 0.7802 - val_loss: 0.7666 - val_accuracy: 0.7174\n",
            "Epoch 7/25\n",
            "92/91 [==============================] - 155s 2s/step - loss: 0.5898 - accuracy: 0.7867 - val_loss: 0.7733 - val_accuracy: 0.6913\n",
            "Epoch 8/25\n",
            "92/91 [==============================] - 155s 2s/step - loss: 0.5458 - accuracy: 0.8047 - val_loss: 1.0232 - val_accuracy: 0.6739\n",
            "Epoch 9/25\n",
            "92/91 [==============================] - 155s 2s/step - loss: 0.5591 - accuracy: 0.7992 - val_loss: 0.7918 - val_accuracy: 0.7435\n",
            "Epoch 10/25\n",
            "92/91 [==============================] - 155s 2s/step - loss: 0.4940 - accuracy: 0.8275 - val_loss: 0.8976 - val_accuracy: 0.7152\n",
            "Epoch 11/25\n",
            "92/91 [==============================] - 154s 2s/step - loss: 0.4849 - accuracy: 0.8341 - val_loss: 0.8968 - val_accuracy: 0.7261\n",
            "Epoch 12/25\n",
            "92/91 [==============================] - 154s 2s/step - loss: 0.3835 - accuracy: 0.8694 - val_loss: 0.7536 - val_accuracy: 0.7500\n",
            "Epoch 13/25\n",
            "92/91 [==============================] - 154s 2s/step - loss: 0.3310 - accuracy: 0.8808 - val_loss: 0.8154 - val_accuracy: 0.7370\n",
            "Epoch 14/25\n",
            "92/91 [==============================] - 155s 2s/step - loss: 0.3128 - accuracy: 0.8901 - val_loss: 0.8283 - val_accuracy: 0.7565\n",
            "Epoch 15/25\n",
            "92/91 [==============================] - 155s 2s/step - loss: 0.2958 - accuracy: 0.8961 - val_loss: 0.8917 - val_accuracy: 0.7348\n",
            "Epoch 16/25\n",
            "92/91 [==============================] - 154s 2s/step - loss: 0.3011 - accuracy: 0.8966 - val_loss: 0.8130 - val_accuracy: 0.7739\n",
            "Epoch 17/25\n",
            "92/91 [==============================] - 155s 2s/step - loss: 0.2405 - accuracy: 0.9151 - val_loss: 0.9500 - val_accuracy: 0.7543\n",
            "Epoch 18/25\n",
            "92/91 [==============================] - 155s 2s/step - loss: 0.2181 - accuracy: 0.9293 - val_loss: 0.9474 - val_accuracy: 0.7500\n",
            "Epoch 19/25\n",
            "92/91 [==============================] - 155s 2s/step - loss: 0.1805 - accuracy: 0.9396 - val_loss: 0.9454 - val_accuracy: 0.7522\n",
            "Epoch 20/25\n",
            "92/91 [==============================] - 154s 2s/step - loss: 0.1775 - accuracy: 0.9396 - val_loss: 0.8443 - val_accuracy: 0.7630\n",
            "Epoch 21/25\n",
            "92/91 [==============================] - 154s 2s/step - loss: 0.1650 - accuracy: 0.9440 - val_loss: 0.9782 - val_accuracy: 0.7478\n",
            "Epoch 22/25\n",
            "92/91 [==============================] - 154s 2s/step - loss: 0.1488 - accuracy: 0.9516 - val_loss: 0.8608 - val_accuracy: 0.7783\n",
            "Epoch 23/25\n",
            "92/91 [==============================] - 154s 2s/step - loss: 0.1442 - accuracy: 0.9543 - val_loss: 0.9309 - val_accuracy: 0.7652\n",
            "Epoch 24/25\n",
            "92/91 [==============================] - 154s 2s/step - loss: 0.1346 - accuracy: 0.9527 - val_loss: 0.9373 - val_accuracy: 0.7652\n",
            "Epoch 25/25\n",
            "92/91 [==============================] - 154s 2s/step - loss: 0.1199 - accuracy: 0.9597 - val_loss: 0.9829 - val_accuracy: 0.7457\n",
            "f1 score is  0.81186588179863  and  0.8531468531468531\n",
            "-----------fold 3--------------\n",
            "Found 1839 validated image filenames.\n",
            "Found 459 validated image filenames.\n",
            "Epoch 1/25\n",
            "92/91 [==============================] - 159s 2s/step - loss: 1.1721 - accuracy: 0.5737 - val_loss: 0.8989 - val_accuracy: 0.7037\n",
            "Epoch 2/25\n",
            "92/91 [==============================] - 155s 2s/step - loss: 0.8393 - accuracy: 0.7074 - val_loss: 0.8867 - val_accuracy: 0.6514\n",
            "Epoch 3/25\n",
            "92/91 [==============================] - 154s 2s/step - loss: 0.7684 - accuracy: 0.7167 - val_loss: 0.9025 - val_accuracy: 0.6667\n",
            "Epoch 4/25\n",
            "92/91 [==============================] - 154s 2s/step - loss: 0.7138 - accuracy: 0.7439 - val_loss: 0.8763 - val_accuracy: 0.7081\n",
            "Epoch 5/25\n",
            "92/91 [==============================] - 155s 2s/step - loss: 0.6727 - accuracy: 0.7531 - val_loss: 0.7409 - val_accuracy: 0.7190\n",
            "Epoch 6/25\n",
            "92/91 [==============================] - 155s 2s/step - loss: 0.6325 - accuracy: 0.7651 - val_loss: 1.1159 - val_accuracy: 0.6906\n",
            "Epoch 7/25\n",
            "92/91 [==============================] - 155s 2s/step - loss: 0.5947 - accuracy: 0.7814 - val_loss: 0.7286 - val_accuracy: 0.7298\n",
            "Epoch 8/25\n",
            "92/91 [==============================] - 155s 2s/step - loss: 0.5478 - accuracy: 0.8070 - val_loss: 0.8196 - val_accuracy: 0.7037\n",
            "Epoch 9/25\n",
            "92/91 [==============================] - 155s 2s/step - loss: 0.5486 - accuracy: 0.8070 - val_loss: 1.1399 - val_accuracy: 0.6950\n",
            "Epoch 10/25\n",
            "92/91 [==============================] - 155s 2s/step - loss: 0.5335 - accuracy: 0.8010 - val_loss: 0.7784 - val_accuracy: 0.7342\n",
            "Epoch 11/25\n",
            "92/91 [==============================] - 155s 2s/step - loss: 0.5049 - accuracy: 0.8108 - val_loss: 0.7312 - val_accuracy: 0.7190\n",
            "Epoch 12/25\n",
            "92/91 [==============================] - 155s 2s/step - loss: 0.4337 - accuracy: 0.8461 - val_loss: 0.8950 - val_accuracy: 0.6863\n",
            "Epoch 13/25\n",
            "92/91 [==============================] - 155s 2s/step - loss: 0.3524 - accuracy: 0.8700 - val_loss: 0.7089 - val_accuracy: 0.7865\n",
            "Epoch 14/25\n",
            "92/91 [==============================] - 154s 2s/step - loss: 0.3341 - accuracy: 0.8809 - val_loss: 0.8276 - val_accuracy: 0.7211\n",
            "Epoch 15/25\n",
            "92/91 [==============================] - 155s 2s/step - loss: 0.2627 - accuracy: 0.9119 - val_loss: 0.7899 - val_accuracy: 0.7495\n",
            "Epoch 16/25\n",
            "92/91 [==============================] - 154s 2s/step - loss: 0.2759 - accuracy: 0.9119 - val_loss: 0.8848 - val_accuracy: 0.7473\n",
            "Epoch 17/25\n",
            "92/91 [==============================] - 155s 2s/step - loss: 0.2506 - accuracy: 0.9086 - val_loss: 0.8361 - val_accuracy: 0.7473\n",
            "Epoch 18/25\n",
            "92/91 [==============================] - 156s 2s/step - loss: 0.2335 - accuracy: 0.9152 - val_loss: 0.9754 - val_accuracy: 0.7429\n",
            "Epoch 19/25\n",
            "92/91 [==============================] - 156s 2s/step - loss: 0.2064 - accuracy: 0.9309 - val_loss: 0.8315 - val_accuracy: 0.7669\n",
            "Epoch 20/25\n",
            "92/91 [==============================] - 155s 2s/step - loss: 0.1662 - accuracy: 0.9391 - val_loss: 0.9134 - val_accuracy: 0.7451\n",
            "Epoch 21/25\n",
            "92/91 [==============================] - 155s 2s/step - loss: 0.1628 - accuracy: 0.9418 - val_loss: 0.9441 - val_accuracy: 0.7669\n",
            "Epoch 22/25\n",
            "92/91 [==============================] - 155s 2s/step - loss: 0.1669 - accuracy: 0.9424 - val_loss: 0.9084 - val_accuracy: 0.7538\n",
            "Epoch 23/25\n",
            "92/91 [==============================] - 155s 2s/step - loss: 0.1361 - accuracy: 0.9565 - val_loss: 0.9960 - val_accuracy: 0.7495\n",
            "Epoch 24/25\n",
            "92/91 [==============================] - 154s 2s/step - loss: 0.1160 - accuracy: 0.9592 - val_loss: 1.0185 - val_accuracy: 0.7778\n",
            "Epoch 25/25\n",
            "92/91 [==============================] - 155s 2s/step - loss: 0.1102 - accuracy: 0.9625 - val_loss: 1.0037 - val_accuracy: 0.7495\n",
            "f1 score is  0.8173913043478259  and  0.9101796407185626\n",
            "-----------fold 4--------------\n",
            "Found 1839 validated image filenames.\n",
            "Found 459 validated image filenames.\n",
            "Epoch 1/25\n",
            "92/91 [==============================] - 159s 2s/step - loss: 1.1475 - accuracy: 0.5900 - val_loss: 0.9964 - val_accuracy: 0.6601\n",
            "Epoch 2/25\n",
            "92/91 [==============================] - 155s 2s/step - loss: 0.8476 - accuracy: 0.6917 - val_loss: 1.0448 - val_accuracy: 0.6231\n",
            "Epoch 3/25\n",
            "92/91 [==============================] - 155s 2s/step - loss: 0.7668 - accuracy: 0.7162 - val_loss: 0.8413 - val_accuracy: 0.6906\n",
            "Epoch 4/25\n",
            "92/91 [==============================] - 156s 2s/step - loss: 0.7172 - accuracy: 0.7384 - val_loss: 0.8513 - val_accuracy: 0.7190\n",
            "Epoch 5/25\n",
            "92/91 [==============================] - 155s 2s/step - loss: 0.6469 - accuracy: 0.7640 - val_loss: 0.8775 - val_accuracy: 0.6972\n",
            "Epoch 6/25\n",
            "92/91 [==============================] - 156s 2s/step - loss: 0.6077 - accuracy: 0.7684 - val_loss: 0.8489 - val_accuracy: 0.7081\n",
            "Epoch 7/25\n",
            "92/91 [==============================] - 156s 2s/step - loss: 0.5688 - accuracy: 0.8004 - val_loss: 0.8750 - val_accuracy: 0.6950\n",
            "Epoch 8/25\n",
            "92/91 [==============================] - 155s 2s/step - loss: 0.5511 - accuracy: 0.8010 - val_loss: 0.9210 - val_accuracy: 0.6885\n",
            "Epoch 9/25\n",
            "92/91 [==============================] - 155s 2s/step - loss: 0.4603 - accuracy: 0.8320 - val_loss: 0.8632 - val_accuracy: 0.7146\n",
            "Epoch 10/25\n",
            "92/91 [==============================] - 156s 2s/step - loss: 0.4084 - accuracy: 0.8472 - val_loss: 0.8632 - val_accuracy: 0.7255\n",
            "Epoch 11/25\n",
            "92/91 [==============================] - 155s 2s/step - loss: 0.3796 - accuracy: 0.8635 - val_loss: 1.0419 - val_accuracy: 0.6906\n",
            "Epoch 12/25\n",
            "92/91 [==============================] - 156s 2s/step - loss: 0.3327 - accuracy: 0.8733 - val_loss: 0.9627 - val_accuracy: 0.6885\n",
            "Epoch 13/25\n",
            "92/91 [==============================] - 156s 2s/step - loss: 0.3328 - accuracy: 0.8825 - val_loss: 1.0198 - val_accuracy: 0.6993\n",
            "Epoch 14/25\n",
            "92/91 [==============================] - 156s 2s/step - loss: 0.2695 - accuracy: 0.9054 - val_loss: 0.9964 - val_accuracy: 0.7190\n",
            "Epoch 15/25\n",
            "92/91 [==============================] - 156s 2s/step - loss: 0.2411 - accuracy: 0.9141 - val_loss: 1.1255 - val_accuracy: 0.7037\n",
            "Epoch 16/25\n",
            "92/91 [==============================] - 155s 2s/step - loss: 0.2212 - accuracy: 0.9168 - val_loss: 1.0527 - val_accuracy: 0.7407\n",
            "Epoch 17/25\n",
            "92/91 [==============================] - 156s 2s/step - loss: 0.2074 - accuracy: 0.9299 - val_loss: 1.0859 - val_accuracy: 0.7081\n",
            "Epoch 18/25\n",
            "92/91 [==============================] - 156s 2s/step - loss: 0.2105 - accuracy: 0.9190 - val_loss: 1.0110 - val_accuracy: 0.7255\n",
            "Epoch 19/25\n",
            "92/91 [==============================] - 156s 2s/step - loss: 0.1763 - accuracy: 0.9386 - val_loss: 1.1195 - val_accuracy: 0.7124\n",
            "Epoch 20/25\n",
            "92/91 [==============================] - 155s 2s/step - loss: 0.1574 - accuracy: 0.9456 - val_loss: 1.1500 - val_accuracy: 0.7255\n",
            "Epoch 21/25\n",
            "92/91 [==============================] - 156s 2s/step - loss: 0.1526 - accuracy: 0.9473 - val_loss: 1.2175 - val_accuracy: 0.7255\n",
            "Epoch 22/25\n",
            "92/91 [==============================] - 156s 2s/step - loss: 0.1498 - accuracy: 0.9478 - val_loss: 1.2562 - val_accuracy: 0.7320\n",
            "Epoch 23/25\n",
            "92/91 [==============================] - 155s 2s/step - loss: 0.1460 - accuracy: 0.9462 - val_loss: 1.2869 - val_accuracy: 0.7298\n",
            "Epoch 24/25\n",
            "92/91 [==============================] - 156s 2s/step - loss: 0.1221 - accuracy: 0.9641 - val_loss: 1.1665 - val_accuracy: 0.7190\n",
            "Epoch 25/25\n",
            "92/91 [==============================] - 155s 2s/step - loss: 0.1092 - accuracy: 0.9587 - val_loss: 1.2311 - val_accuracy: 0.7407\n",
            "f1 score is  0.7471698113207548  and  0.8070175438596491\n"
          ],
          "name": "stdout"
        }
      ]
    },
    {
      "cell_type": "code",
      "metadata": {
        "id": "yesXG_AnTxV_",
        "colab_type": "code",
        "colab": {
          "base_uri": "https://localhost:8080/",
          "height": 35
        },
        "outputId": "1b126094-13c4-403e-e48a-70b0ae874fe7"
      },
      "source": [
        "#average accuracy across all folds\n",
        "np.mean(accuracy)"
      ],
      "execution_count": 56,
      "outputs": [
        {
          "output_type": "execute_result",
          "data": {
            "text/plain": [
              "0.7806782229800133"
            ]
          },
          "metadata": {
            "tags": []
          },
          "execution_count": 56
        }
      ]
    },
    {
      "cell_type": "code",
      "metadata": {
        "id": "cYVz2U6e_j2K",
        "colab_type": "code",
        "colab": {
          "base_uri": "https://localhost:8080/",
          "height": 35
        },
        "outputId": "ec4dbc58-6ec8-433e-b820-1880a8501946"
      },
      "source": [
        "#average precision across all folds\n",
        "np.mean(precision)"
      ],
      "execution_count": 57,
      "outputs": [
        {
          "output_type": "execute_result",
          "data": {
            "text/plain": [
              "0.896752989269937"
            ]
          },
          "metadata": {
            "tags": []
          },
          "execution_count": 57
        }
      ]
    },
    {
      "cell_type": "code",
      "metadata": {
        "id": "5zbG89ex_l0a",
        "colab_type": "code",
        "colab": {
          "base_uri": "https://localhost:8080/",
          "height": 35
        },
        "outputId": "30f66d7b-f475-497b-b0db-8d2e6ced4cb4"
      },
      "source": [
        "#average recall across all folds\n",
        "np.mean(recall)"
      ],
      "execution_count": 58,
      "outputs": [
        {
          "output_type": "execute_result",
          "data": {
            "text/plain": [
              "0.86161435101272"
            ]
          },
          "metadata": {
            "tags": []
          },
          "execution_count": 58
        }
      ]
    },
    {
      "cell_type": "code",
      "metadata": {
        "id": "IBEnsXEAUE0v",
        "colab_type": "code",
        "colab": {
          "base_uri": "https://localhost:8080/",
          "height": 35
        },
        "outputId": "9d88eb7a-133a-43c2-99ad-cca06c555f18"
      },
      "source": [
        "#average f1_scores across all folds\n",
        "np.mean(f1_scores)"
      ],
      "execution_count": 59,
      "outputs": [
        {
          "output_type": "execute_result",
          "data": {
            "text/plain": [
              "0.8774669645863469"
            ]
          },
          "metadata": {
            "tags": []
          },
          "execution_count": 59
        }
      ]
    },
    {
      "cell_type": "code",
      "metadata": {
        "id": "nSynF5hyUJKL",
        "colab_type": "code",
        "colab": {
          "base_uri": "https://localhost:8080/",
          "height": 35
        },
        "outputId": "456319a6-fbce-45ac-fa2f-ba2a79d7d7f3"
      },
      "source": [
        "#average auc_scores across all folds\n",
        "np.mean(auc)"
      ],
      "execution_count": 60,
      "outputs": [
        {
          "output_type": "execute_result",
          "data": {
            "text/plain": [
              "0.8165380121888683"
            ]
          },
          "metadata": {
            "tags": []
          },
          "execution_count": 60
        }
      ]
    },
    {
      "cell_type": "code",
      "metadata": {
        "id": "ZS59r4ejUMib",
        "colab_type": "code",
        "colab": {
          "base_uri": "https://localhost:8080/",
          "height": 35
        },
        "outputId": "47425f4b-2288-4dc4-820d-1918413773a5"
      },
      "source": [
        "history[0].history.keys()"
      ],
      "execution_count": 61,
      "outputs": [
        {
          "output_type": "execute_result",
          "data": {
            "text/plain": [
              "dict_keys(['loss', 'accuracy', 'val_loss', 'val_accuracy', 'lr'])"
            ]
          },
          "metadata": {
            "tags": []
          },
          "execution_count": 61
        }
      ]
    },
    {
      "cell_type": "code",
      "metadata": {
        "id": "gqrytK3kUz8y",
        "colab_type": "code",
        "colab": {}
      },
      "source": [
        "def plot_accuracy(hist,acc='val_accuracy'):\n",
        "    for i in range(5):\n",
        "      plt.plot(hist[i].history[acc],linestyle='-.',linewidth=1.5)\n",
        "     \n",
        "    mean=np.mean([[j for j in x.history[acc]] for x in hist],axis=0)\n",
        "    std=np.std([[j for j in x.history[acc]] for x in hist],axis=0)\n",
        "    plt.plot(mean,linewidth=2,color='black')\n",
        "    if acc=='val_accuracy':\n",
        "      plt.title('Model Validation Accuracy')\n",
        "    else:\n",
        "      plt.title('Model Training Accuracy')\n",
        "    plt.ylabel('Accuracy')\n",
        "    plt.xlabel('Epochs')\n",
        "    plt.legend(['Fold1','Fold2','Fold3','Fold4','Fold5','Average Val Accuracy' ], loc='best')\n",
        "    plt.show()"
      ],
      "execution_count": 62,
      "outputs": []
    },
    {
      "cell_type": "code",
      "metadata": {
        "id": "bU00gMO6Vjt0",
        "colab_type": "code",
        "colab": {
          "base_uri": "https://localhost:8080/",
          "height": 295
        },
        "outputId": "ea0abc0f-b1c4-402d-f946-2c1af2620c9b"
      },
      "source": [
        "plot_accuracy(history)"
      ],
      "execution_count": 63,
      "outputs": [
        {
          "output_type": "display_data",
          "data": {
            "image/png": "[encoded data removed]",
            "text/plain": [
              "<Figure size 432x288 with 1 Axes>"
            ]
          },
          "metadata": {
            "tags": [],
            "needs_background": "light"
          }
        }
      ]
    },
    {
      "cell_type": "code",
      "metadata": {
        "id": "iCsZIxDS2Pck",
        "colab_type": "code",
        "colab": {
          "base_uri": "https://localhost:8080/",
          "height": 295
        },
        "outputId": "f556282a-bad2-488b-d837-c2f07e160d1c"
      },
      "source": [
        "plot_accuracy(history,acc='accuracy')"
      ],
      "execution_count": 64,
      "outputs": [
        {
          "output_type": "display_data",
          "data": {
            "image/png": "[encoded data removed]",
            "text/plain": [
              "<Figure size 432x288 with 1 Axes>"
            ]
          },
          "metadata": {
            "tags": [],
            "needs_background": "light"
          }
        }
      ]
    },
    {
      "cell_type": "code",
      "metadata": {
        "id": "o0nx7FTsogaB",
        "colab_type": "code",
        "colab": {}
      },
      "source": [
        ""
      ],
      "execution_count": 64,
      "outputs": []
    }
  ]
}