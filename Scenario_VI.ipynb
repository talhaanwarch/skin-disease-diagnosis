{
  "nbformat": 4,
  "nbformat_minor": 0,
  "metadata": {
    "colab": {
      "name": "Scenario_VI.ipynb",
      "provenance": [],
      "collapsed_sections": [],
      "include_colab_link": true
    },
    "kernelspec": {
      "name": "python3",
      "display_name": "Python 3"
    },
    "accelerator": "GPU"
  },
  "cells": [
    {
      "cell_type": "markdown",
      "metadata": {
        "id": "view-in-github",
        "colab_type": "text"
      },
      "source": [
        "<a href=\"https://colab.research.google.com/github/talhaanwarch/skin_cancer_detection_phone_camera/blob/master/Scenario_VI.ipynb\" target=\"_parent\"><img src=\"https://colab.research.google.com/assets/colab-badge.svg\" alt=\"Open In Colab\"/></a>"
      ]
    },
    {
      "cell_type": "markdown",
      "metadata": {
        "id": "REQXLqij5JoE",
        "colab_type": "text"
      },
      "source": [
        "**Scenario II:** Training on ISIC 2019 and tested on PAD dataset (Only images)\n"
      ]
    },
    {
      "cell_type": "code",
      "metadata": {
        "id": "FzpATBgHIHqu",
        "colab_type": "code",
        "colab": {
          "base_uri": "https://localhost:8080/",
          "height": 129
        },
        "outputId": "45134e6d-73dc-4a70-b53d-664162465108"
      },
      "source": [
        "from google.colab import drive\n",
        "drive.mount('/content/drive')"
      ],
      "execution_count": null,
      "outputs": [
        {
          "output_type": "stream",
          "text": [
            "Go to this URL in a browser: https://accounts.google.com/o/oauth2/auth?client_id=947318989803-6bn6qk8qdgf4n4g3pfee6491hc0brc4i.apps.googleusercontent.com&redirect_uri=urn%3aietf%3awg%3aoauth%3a2.0%3aoob&scope=email%20https%3a%2f%2fwww.googleapis.com%2fauth%2fdocs.test%20https%3a%2f%2fwww.googleapis.com%2fauth%2fdrive%20https%3a%2f%2fwww.googleapis.com%2fauth%2fdrive.photos.readonly%20https%3a%2f%2fwww.googleapis.com%2fauth%2fpeopleapi.readonly&response_type=code\n",
            "\n",
            "Enter your authorization code:\n",
            "··········\n",
            "Mounted at /content/drive\n"
          ],
          "name": "stdout"
        }
      ]
    },
    {
      "cell_type": "code",
      "metadata": {
        "id": "ogr6mRTfIPTn",
        "colab_type": "code",
        "colab": {}
      },
      "source": [
        "!cp /content/drive/My\\ Drive/isic_weights/isicall_eff3_weights.hdf5 /content/"
      ],
      "execution_count": null,
      "outputs": []
    },
    {
      "cell_type": "code",
      "metadata": {
        "id": "tN-dRYVxFchm",
        "colab_type": "code",
        "colab": {}
      },
      "source": [
        "%%capture\n",
        "!pip install efficientnet\n",
        "!pip install catboost"
      ],
      "execution_count": null,
      "outputs": []
    },
    {
      "cell_type": "code",
      "metadata": {
        "id": "Ys4Vc6mwF_U8",
        "colab_type": "code",
        "colab": {
          "base_uri": "https://localhost:8080/",
          "height": 240
        },
        "outputId": "ee9958ce-f51c-4812-c5a0-1aaa5d9fa813"
      },
      "source": [
        "#download the dataset\n",
        "!wget https://md-datasets-cache-zipfiles-prod.s3.eu-west-1.amazonaws.com/zr7vgbcyr2-1.zip"
      ],
      "execution_count": null,
      "outputs": [
        {
          "output_type": "stream",
          "text": [
            "--2020-08-26 00:34:07--  https://md-datasets-cache-zipfiles-prod.s3.eu-west-1.amazonaws.com/zr7vgbcyr2-1.zip\n",
            "Resolving md-datasets-cache-zipfiles-prod.s3.eu-west-1.amazonaws.com (md-datasets-cache-zipfiles-prod.s3.eu-west-1.amazonaws.com)... 52.218.49.91\n",
            "Connecting to md-datasets-cache-zipfiles-prod.s3.eu-west-1.amazonaws.com (md-datasets-cache-zipfiles-prod.s3.eu-west-1.amazonaws.com)|52.218.49.91|:443... connected.\n",
            "HTTP request sent, awaiting response... 200 OK\n",
            "Length: 3593344681 (3.3G) [application/octet-stream]\n",
            "Saving to: ‘zr7vgbcyr2-1.zip’\n",
            "\n",
            "zr7vgbcyr2-1.zip    100%[===================>]   3.35G  9.54MB/s    in 6m 10s  \n",
            "\n",
            "2020-08-26 00:40:18 (9.25 MB/s) - ‘zr7vgbcyr2-1.zip’ saved [3593344681/3593344681]\n",
            "\n"
          ],
          "name": "stdout"
        }
      ]
    },
    {
      "cell_type": "code",
      "metadata": {
        "id": "crr19GsaGB2w",
        "colab_type": "code",
        "colab": {}
      },
      "source": [
        "#unzip the dataset\n",
        "%%capture\n",
        "!unzip zr7vgbcyr2-1.zip"
      ],
      "execution_count": null,
      "outputs": []
    },
    {
      "cell_type": "code",
      "metadata": {
        "id": "_bPafWo1GCQF",
        "colab_type": "code",
        "colab": {}
      },
      "source": [
        "#create a new folder named as data\n",
        "!mkdir data"
      ],
      "execution_count": null,
      "outputs": []
    },
    {
      "cell_type": "code",
      "metadata": {
        "id": "qjc8HZ54GCTG",
        "colab_type": "code",
        "colab": {}
      },
      "source": [
        "#unzip all subfolder\n",
        "%%capture\n",
        "!unzip /content/images/imgs_part_1.zip\n",
        "!unzip /content/images/imgs_part_2.zip\n",
        "!unzip /content/images/imgs_part_3.zip"
      ],
      "execution_count": null,
      "outputs": []
    },
    {
      "cell_type": "code",
      "metadata": {
        "id": "evwiG9ihGCWK",
        "colab_type": "code",
        "colab": {}
      },
      "source": [
        "#move all pictures from subfolder to main folder data\n",
        "!mv  /content/imgs_part_1/* /content/data\n",
        "!mv  /content/imgs_part_2/* /content/data\n",
        "!mv  /content/imgs_part_3/* /content/data"
      ],
      "execution_count": null,
      "outputs": []
    },
    {
      "cell_type": "code",
      "metadata": {
        "id": "Wymt3DYLGCew",
        "colab_type": "code",
        "colab": {}
      },
      "source": [
        "#remove the folder that contain subfolders\n",
        "!rm -r /content/images"
      ],
      "execution_count": null,
      "outputs": []
    },
    {
      "cell_type": "code",
      "metadata": {
        "id": "HAEyK-mJGCb6",
        "colab_type": "code",
        "colab": {
          "base_uri": "https://localhost:8080/",
          "height": 226
        },
        "outputId": "247a6f1b-9dff-4982-9fa4-0e127c079b9f"
      },
      "source": [
        "import pandas as pd\n",
        "import numpy as np\n",
        "import matplotlib.pyplot as plt\n",
        "from sklearn.model_selection import KFold,StratifiedKFold\n",
        "import gc\n",
        "\n",
        "from sklearn.metrics import classification_report,accuracy_score,f1_score,roc_auc_score,precision_score,recall_score\n",
        "#read annotation file\n",
        "df=pd.read_csv('/content/metadata.csv')\n",
        "df.head()"
      ],
      "execution_count": null,
      "outputs": [
        {
          "output_type": "execute_result",
          "data": {
            "text/html": [
              "<div>\n",
              "<style scoped>\n",
              "    .dataframe tbody tr th:only-of-type {\n",
              "        vertical-align: middle;\n",
              "    }\n",
              "\n",
              "    .dataframe tbody tr th {\n",
              "        vertical-align: top;\n",
              "    }\n",
              "\n",
              "    .dataframe thead th {\n",
              "        text-align: right;\n",
              "    }\n",
              "</style>\n",
              "<table border=\"1\" class=\"dataframe\">\n",
              "  <thead>\n",
              "    <tr style=\"text-align: right;\">\n",
              "      <th></th>\n",
              "      <th>patient_id</th>\n",
              "      <th>lesion_id</th>\n",
              "      <th>smoke</th>\n",
              "      <th>drink</th>\n",
              "      <th>background_father</th>\n",
              "      <th>background_mother</th>\n",
              "      <th>age</th>\n",
              "      <th>pesticide</th>\n",
              "      <th>gender</th>\n",
              "      <th>skin_cancer_history</th>\n",
              "      <th>cancer_history</th>\n",
              "      <th>has_piped_water</th>\n",
              "      <th>has_sewage_system</th>\n",
              "      <th>fitspatrick</th>\n",
              "      <th>region</th>\n",
              "      <th>diameter_1</th>\n",
              "      <th>diameter_2</th>\n",
              "      <th>diagnostic</th>\n",
              "      <th>itch</th>\n",
              "      <th>grew</th>\n",
              "      <th>hurt</th>\n",
              "      <th>changed</th>\n",
              "      <th>bleed</th>\n",
              "      <th>elevation</th>\n",
              "      <th>img_id</th>\n",
              "      <th>biopsed</th>\n",
              "    </tr>\n",
              "  </thead>\n",
              "  <tbody>\n",
              "    <tr>\n",
              "      <th>0</th>\n",
              "      <td>PAT_1516</td>\n",
              "      <td>1765</td>\n",
              "      <td>NaN</td>\n",
              "      <td>NaN</td>\n",
              "      <td>NaN</td>\n",
              "      <td>NaN</td>\n",
              "      <td>8</td>\n",
              "      <td>NaN</td>\n",
              "      <td>NaN</td>\n",
              "      <td>NaN</td>\n",
              "      <td>NaN</td>\n",
              "      <td>NaN</td>\n",
              "      <td>NaN</td>\n",
              "      <td>NaN</td>\n",
              "      <td>ARM</td>\n",
              "      <td>NaN</td>\n",
              "      <td>NaN</td>\n",
              "      <td>NEV</td>\n",
              "      <td>False</td>\n",
              "      <td>False</td>\n",
              "      <td>False</td>\n",
              "      <td>False</td>\n",
              "      <td>False</td>\n",
              "      <td>False</td>\n",
              "      <td>PAT_1516_1765_530.png</td>\n",
              "      <td>False</td>\n",
              "    </tr>\n",
              "    <tr>\n",
              "      <th>1</th>\n",
              "      <td>PAT_46</td>\n",
              "      <td>881</td>\n",
              "      <td>False</td>\n",
              "      <td>False</td>\n",
              "      <td>POMERANIA</td>\n",
              "      <td>POMERANIA</td>\n",
              "      <td>55</td>\n",
              "      <td>False</td>\n",
              "      <td>FEMALE</td>\n",
              "      <td>True</td>\n",
              "      <td>True</td>\n",
              "      <td>True</td>\n",
              "      <td>True</td>\n",
              "      <td>3.0</td>\n",
              "      <td>NECK</td>\n",
              "      <td>6.0</td>\n",
              "      <td>5.0</td>\n",
              "      <td>BCC</td>\n",
              "      <td>True</td>\n",
              "      <td>True</td>\n",
              "      <td>False</td>\n",
              "      <td>True</td>\n",
              "      <td>True</td>\n",
              "      <td>True</td>\n",
              "      <td>PAT_46_881_939.png</td>\n",
              "      <td>True</td>\n",
              "    </tr>\n",
              "    <tr>\n",
              "      <th>2</th>\n",
              "      <td>PAT_1545</td>\n",
              "      <td>1867</td>\n",
              "      <td>NaN</td>\n",
              "      <td>NaN</td>\n",
              "      <td>NaN</td>\n",
              "      <td>NaN</td>\n",
              "      <td>77</td>\n",
              "      <td>NaN</td>\n",
              "      <td>NaN</td>\n",
              "      <td>NaN</td>\n",
              "      <td>NaN</td>\n",
              "      <td>NaN</td>\n",
              "      <td>NaN</td>\n",
              "      <td>NaN</td>\n",
              "      <td>FACE</td>\n",
              "      <td>NaN</td>\n",
              "      <td>NaN</td>\n",
              "      <td>ACK</td>\n",
              "      <td>True</td>\n",
              "      <td>False</td>\n",
              "      <td>False</td>\n",
              "      <td>False</td>\n",
              "      <td>False</td>\n",
              "      <td>False</td>\n",
              "      <td>PAT_1545_1867_547.png</td>\n",
              "      <td>False</td>\n",
              "    </tr>\n",
              "    <tr>\n",
              "      <th>3</th>\n",
              "      <td>PAT_1989</td>\n",
              "      <td>4061</td>\n",
              "      <td>NaN</td>\n",
              "      <td>NaN</td>\n",
              "      <td>NaN</td>\n",
              "      <td>NaN</td>\n",
              "      <td>75</td>\n",
              "      <td>NaN</td>\n",
              "      <td>NaN</td>\n",
              "      <td>NaN</td>\n",
              "      <td>NaN</td>\n",
              "      <td>NaN</td>\n",
              "      <td>NaN</td>\n",
              "      <td>NaN</td>\n",
              "      <td>HAND</td>\n",
              "      <td>NaN</td>\n",
              "      <td>NaN</td>\n",
              "      <td>ACK</td>\n",
              "      <td>True</td>\n",
              "      <td>False</td>\n",
              "      <td>False</td>\n",
              "      <td>False</td>\n",
              "      <td>False</td>\n",
              "      <td>False</td>\n",
              "      <td>PAT_1989_4061_934.png</td>\n",
              "      <td>False</td>\n",
              "    </tr>\n",
              "    <tr>\n",
              "      <th>4</th>\n",
              "      <td>PAT_684</td>\n",
              "      <td>1302</td>\n",
              "      <td>False</td>\n",
              "      <td>True</td>\n",
              "      <td>POMERANIA</td>\n",
              "      <td>POMERANIA</td>\n",
              "      <td>79</td>\n",
              "      <td>False</td>\n",
              "      <td>MALE</td>\n",
              "      <td>True</td>\n",
              "      <td>False</td>\n",
              "      <td>False</td>\n",
              "      <td>False</td>\n",
              "      <td>1.0</td>\n",
              "      <td>FOREARM</td>\n",
              "      <td>5.0</td>\n",
              "      <td>5.0</td>\n",
              "      <td>BCC</td>\n",
              "      <td>True</td>\n",
              "      <td>True</td>\n",
              "      <td>False</td>\n",
              "      <td>False</td>\n",
              "      <td>True</td>\n",
              "      <td>True</td>\n",
              "      <td>PAT_684_1302_588.png</td>\n",
              "      <td>True</td>\n",
              "    </tr>\n",
              "  </tbody>\n",
              "</table>\n",
              "</div>"
            ],
            "text/plain": [
              "  patient_id  lesion_id  smoke  ... elevation                 img_id biopsed\n",
              "0   PAT_1516       1765    NaN  ...     False  PAT_1516_1765_530.png   False\n",
              "1     PAT_46        881  False  ...      True     PAT_46_881_939.png    True\n",
              "2   PAT_1545       1867    NaN  ...     False  PAT_1545_1867_547.png   False\n",
              "3   PAT_1989       4061    NaN  ...     False  PAT_1989_4061_934.png   False\n",
              "4    PAT_684       1302  False  ...      True   PAT_684_1302_588.png    True\n",
              "\n",
              "[5 rows x 26 columns]"
            ]
          },
          "metadata": {
            "tags": []
          },
          "execution_count": 10
        }
      ]
    },
    {
      "cell_type": "code",
      "metadata": {
        "id": "8ttlxlasLWUm",
        "colab_type": "code",
        "colab": {
          "base_uri": "https://localhost:8080/",
          "height": 626
        },
        "outputId": "aee4bcaf-0512-4d64-a66e-4e696e44e6f7"
      },
      "source": [
        "df.info()"
      ],
      "execution_count": null,
      "outputs": [
        {
          "output_type": "stream",
          "text": [
            "<class 'pandas.core.frame.DataFrame'>\n",
            "RangeIndex: 2298 entries, 0 to 2297\n",
            "Data columns (total 26 columns):\n",
            " #   Column               Non-Null Count  Dtype  \n",
            "---  ------               --------------  -----  \n",
            " 0   patient_id           2298 non-null   object \n",
            " 1   lesion_id            2298 non-null   int64  \n",
            " 2   smoke                1494 non-null   object \n",
            " 3   drink                1494 non-null   object \n",
            " 4   background_father    1480 non-null   object \n",
            " 5   background_mother    1476 non-null   object \n",
            " 6   age                  2298 non-null   int64  \n",
            " 7   pesticide            1494 non-null   object \n",
            " 8   gender               1494 non-null   object \n",
            " 9   skin_cancer_history  1494 non-null   object \n",
            " 10  cancer_history       1494 non-null   object \n",
            " 11  has_piped_water      1494 non-null   object \n",
            " 12  has_sewage_system    1494 non-null   object \n",
            " 13  fitspatrick          1494 non-null   float64\n",
            " 14  region               2298 non-null   object \n",
            " 15  diameter_1           1494 non-null   float64\n",
            " 16  diameter_2           1494 non-null   float64\n",
            " 17  diagnostic           2298 non-null   object \n",
            " 18  itch                 2298 non-null   object \n",
            " 19  grew                 2298 non-null   object \n",
            " 20  hurt                 2298 non-null   object \n",
            " 21  changed              2298 non-null   object \n",
            " 22  bleed                2298 non-null   object \n",
            " 23  elevation            2298 non-null   object \n",
            " 24  img_id               2298 non-null   object \n",
            " 25  biopsed              2298 non-null   bool   \n",
            "dtypes: bool(1), float64(3), int64(2), object(20)\n",
            "memory usage: 451.2+ KB\n"
          ],
          "name": "stdout"
        }
      ]
    },
    {
      "cell_type": "code",
      "metadata": {
        "id": "flREtjuYXXUP",
        "colab_type": "code",
        "colab": {}
      },
      "source": [
        "df['smoke']=df['smoke'].fillna('unknown').astype('str')\n",
        "df['drink']=df['drink'].fillna('unknown').astype('str')\n",
        "df['pesticide']=df['pesticide'].fillna('unknown').astype('str')\n",
        "df['gender']=df['gender'].fillna('unknown').astype('str')\n",
        "df['skin_cancer_history']=df['skin_cancer_history'].fillna('unknown').astype('str')\n",
        "df['cancer_history']=df['cancer_history'].fillna('unknown').astype('str')\n",
        "df['has_piped_water']=df['has_piped_water'].fillna('unknown').astype('str')\n",
        "df['has_sewage_system']=df['has_sewage_system'].fillna('unknown').astype('str')\n",
        "\n",
        "df['fitspatrick']=df['fitspatrick'].fillna('unknown').astype('str')\n",
        "df['has_sewage_system']=df['has_sewage_system'].fillna('unknown').astype('str')"
      ],
      "execution_count": null,
      "outputs": []
    },
    {
      "cell_type": "code",
      "metadata": {
        "id": "aAJmc3qmNhwu",
        "colab_type": "code",
        "colab": {}
      },
      "source": [
        "df['diameter_1'].fillna(df['diameter_1'].mean(),inplace=True)\n",
        "df['diameter_2'].fillna(df['diameter_2'].mean(),inplace=True)"
      ],
      "execution_count": null,
      "outputs": []
    },
    {
      "cell_type": "code",
      "metadata": {
        "id": "F6SLyN6vYJnw",
        "colab_type": "code",
        "colab": {
          "base_uri": "https://localhost:8080/",
          "height": 146
        },
        "outputId": "52a4ba43-edcc-4cfc-a0f3-176907c32c67"
      },
      "source": [
        "df.columns"
      ],
      "execution_count": null,
      "outputs": [
        {
          "output_type": "execute_result",
          "data": {
            "text/plain": [
              "Index(['patient_id', 'lesion_id', 'smoke', 'drink', 'background_father',\n",
              "       'background_mother', 'age', 'pesticide', 'gender',\n",
              "       'skin_cancer_history', 'cancer_history', 'has_piped_water',\n",
              "       'has_sewage_system', 'fitspatrick', 'region', 'diameter_1',\n",
              "       'diameter_2', 'diagnostic', 'itch', 'grew', 'hurt', 'changed', 'bleed',\n",
              "       'elevation', 'img_id', 'biopsed'],\n",
              "      dtype='object')"
            ]
          },
          "metadata": {
            "tags": []
          },
          "execution_count": 14
        }
      ]
    },
    {
      "cell_type": "code",
      "metadata": {
        "id": "b2ptyrOkN9sJ",
        "colab_type": "code",
        "colab": {}
      },
      "source": [
        "clinical_features=df[['smoke', 'drink', 'age', 'pesticide', 'gender',\n",
        "       'skin_cancer_history', 'cancer_history', 'has_piped_water',\n",
        "       'has_sewage_system', 'fitspatrick', 'region', 'diameter_1',\n",
        "       'diameter_2',  'itch', 'grew', 'hurt', 'changed', 'bleed',\n",
        "       'elevation', 'img_id', 'biopsed']]\n",
        "clinical_lables=df['diagnostic']"
      ],
      "execution_count": null,
      "outputs": []
    },
    {
      "cell_type": "code",
      "metadata": {
        "id": "yJYfOdspO8N9",
        "colab_type": "code",
        "colab": {
          "base_uri": "https://localhost:8080/",
          "height": 226
        },
        "outputId": "510ef954-0b23-42d3-cb6c-14a13ab5dd55"
      },
      "source": [
        "clinical_features.head()"
      ],
      "execution_count": null,
      "outputs": [
        {
          "output_type": "execute_result",
          "data": {
            "text/html": [
              "<div>\n",
              "<style scoped>\n",
              "    .dataframe tbody tr th:only-of-type {\n",
              "        vertical-align: middle;\n",
              "    }\n",
              "\n",
              "    .dataframe tbody tr th {\n",
              "        vertical-align: top;\n",
              "    }\n",
              "\n",
              "    .dataframe thead th {\n",
              "        text-align: right;\n",
              "    }\n",
              "</style>\n",
              "<table border=\"1\" class=\"dataframe\">\n",
              "  <thead>\n",
              "    <tr style=\"text-align: right;\">\n",
              "      <th></th>\n",
              "      <th>smoke</th>\n",
              "      <th>drink</th>\n",
              "      <th>age</th>\n",
              "      <th>pesticide</th>\n",
              "      <th>gender</th>\n",
              "      <th>skin_cancer_history</th>\n",
              "      <th>cancer_history</th>\n",
              "      <th>has_piped_water</th>\n",
              "      <th>has_sewage_system</th>\n",
              "      <th>fitspatrick</th>\n",
              "      <th>region</th>\n",
              "      <th>diameter_1</th>\n",
              "      <th>diameter_2</th>\n",
              "      <th>itch</th>\n",
              "      <th>grew</th>\n",
              "      <th>hurt</th>\n",
              "      <th>changed</th>\n",
              "      <th>bleed</th>\n",
              "      <th>elevation</th>\n",
              "      <th>img_id</th>\n",
              "      <th>biopsed</th>\n",
              "    </tr>\n",
              "  </thead>\n",
              "  <tbody>\n",
              "    <tr>\n",
              "      <th>0</th>\n",
              "      <td>unknown</td>\n",
              "      <td>unknown</td>\n",
              "      <td>8</td>\n",
              "      <td>unknown</td>\n",
              "      <td>unknown</td>\n",
              "      <td>unknown</td>\n",
              "      <td>unknown</td>\n",
              "      <td>unknown</td>\n",
              "      <td>unknown</td>\n",
              "      <td>unknown</td>\n",
              "      <td>ARM</td>\n",
              "      <td>11.897055</td>\n",
              "      <td>8.852209</td>\n",
              "      <td>False</td>\n",
              "      <td>False</td>\n",
              "      <td>False</td>\n",
              "      <td>False</td>\n",
              "      <td>False</td>\n",
              "      <td>False</td>\n",
              "      <td>PAT_1516_1765_530.png</td>\n",
              "      <td>False</td>\n",
              "    </tr>\n",
              "    <tr>\n",
              "      <th>1</th>\n",
              "      <td>False</td>\n",
              "      <td>False</td>\n",
              "      <td>55</td>\n",
              "      <td>False</td>\n",
              "      <td>FEMALE</td>\n",
              "      <td>True</td>\n",
              "      <td>True</td>\n",
              "      <td>True</td>\n",
              "      <td>True</td>\n",
              "      <td>3.0</td>\n",
              "      <td>NECK</td>\n",
              "      <td>6.000000</td>\n",
              "      <td>5.000000</td>\n",
              "      <td>True</td>\n",
              "      <td>True</td>\n",
              "      <td>False</td>\n",
              "      <td>True</td>\n",
              "      <td>True</td>\n",
              "      <td>True</td>\n",
              "      <td>PAT_46_881_939.png</td>\n",
              "      <td>True</td>\n",
              "    </tr>\n",
              "    <tr>\n",
              "      <th>2</th>\n",
              "      <td>unknown</td>\n",
              "      <td>unknown</td>\n",
              "      <td>77</td>\n",
              "      <td>unknown</td>\n",
              "      <td>unknown</td>\n",
              "      <td>unknown</td>\n",
              "      <td>unknown</td>\n",
              "      <td>unknown</td>\n",
              "      <td>unknown</td>\n",
              "      <td>unknown</td>\n",
              "      <td>FACE</td>\n",
              "      <td>11.897055</td>\n",
              "      <td>8.852209</td>\n",
              "      <td>True</td>\n",
              "      <td>False</td>\n",
              "      <td>False</td>\n",
              "      <td>False</td>\n",
              "      <td>False</td>\n",
              "      <td>False</td>\n",
              "      <td>PAT_1545_1867_547.png</td>\n",
              "      <td>False</td>\n",
              "    </tr>\n",
              "    <tr>\n",
              "      <th>3</th>\n",
              "      <td>unknown</td>\n",
              "      <td>unknown</td>\n",
              "      <td>75</td>\n",
              "      <td>unknown</td>\n",
              "      <td>unknown</td>\n",
              "      <td>unknown</td>\n",
              "      <td>unknown</td>\n",
              "      <td>unknown</td>\n",
              "      <td>unknown</td>\n",
              "      <td>unknown</td>\n",
              "      <td>HAND</td>\n",
              "      <td>11.897055</td>\n",
              "      <td>8.852209</td>\n",
              "      <td>True</td>\n",
              "      <td>False</td>\n",
              "      <td>False</td>\n",
              "      <td>False</td>\n",
              "      <td>False</td>\n",
              "      <td>False</td>\n",
              "      <td>PAT_1989_4061_934.png</td>\n",
              "      <td>False</td>\n",
              "    </tr>\n",
              "    <tr>\n",
              "      <th>4</th>\n",
              "      <td>False</td>\n",
              "      <td>True</td>\n",
              "      <td>79</td>\n",
              "      <td>False</td>\n",
              "      <td>MALE</td>\n",
              "      <td>True</td>\n",
              "      <td>False</td>\n",
              "      <td>False</td>\n",
              "      <td>False</td>\n",
              "      <td>1.0</td>\n",
              "      <td>FOREARM</td>\n",
              "      <td>5.000000</td>\n",
              "      <td>5.000000</td>\n",
              "      <td>True</td>\n",
              "      <td>True</td>\n",
              "      <td>False</td>\n",
              "      <td>False</td>\n",
              "      <td>True</td>\n",
              "      <td>True</td>\n",
              "      <td>PAT_684_1302_588.png</td>\n",
              "      <td>True</td>\n",
              "    </tr>\n",
              "  </tbody>\n",
              "</table>\n",
              "</div>"
            ],
            "text/plain": [
              "     smoke    drink  age  ... elevation                 img_id biopsed\n",
              "0  unknown  unknown    8  ...     False  PAT_1516_1765_530.png   False\n",
              "1    False    False   55  ...      True     PAT_46_881_939.png    True\n",
              "2  unknown  unknown   77  ...     False  PAT_1545_1867_547.png   False\n",
              "3  unknown  unknown   75  ...     False  PAT_1989_4061_934.png   False\n",
              "4    False     True   79  ...      True   PAT_684_1302_588.png    True\n",
              "\n",
              "[5 rows x 21 columns]"
            ]
          },
          "metadata": {
            "tags": []
          },
          "execution_count": 16
        }
      ]
    },
    {
      "cell_type": "code",
      "metadata": {
        "id": "zuyhF-KYPACS",
        "colab_type": "code",
        "colab": {
          "base_uri": "https://localhost:8080/",
          "height": 35
        },
        "outputId": "2d80bec0-3431-4c48-853b-4f70c88f9537"
      },
      "source": [
        "from sklearn.preprocessing import LabelEncoder,OneHotEncoder\n",
        "encLE=LabelEncoder()\n",
        "encOHE=OneHotEncoder(sparse=False)\n",
        "clinical_features=encOHE.fit_transform(clinical_features)\n",
        "clinical_lables=encOHE.fit_transform(clinical_lables.values.reshape(-1,1))\n",
        "clinical_features.shape,clinical_lables.shape"
      ],
      "execution_count": null,
      "outputs": [
        {
          "output_type": "execute_result",
          "data": {
            "text/plain": [
              "((2298, 2529), (2298, 6))"
            ]
          },
          "metadata": {
            "tags": []
          },
          "execution_count": 17
        }
      ]
    },
    {
      "cell_type": "code",
      "metadata": {
        "id": "P48IMsYpYjP6",
        "colab_type": "code",
        "colab": {}
      },
      "source": [
        ""
      ],
      "execution_count": null,
      "outputs": []
    },
    {
      "cell_type": "code",
      "metadata": {
        "id": "KnO4X05VQwlN",
        "colab_type": "code",
        "colab": {}
      },
      "source": [
        "# from sklearn.model_selection import train_test_split\n",
        "# cX_train,cX_test,cY_train,cY_test=train_test_split(clinical_features,clinical_lables,test_size=0.3)"
      ],
      "execution_count": null,
      "outputs": []
    },
    {
      "cell_type": "code",
      "metadata": {
        "id": "t0PDfqyENtze",
        "colab_type": "code",
        "colab": {}
      },
      "source": [
        "# from catboost import CatBoostClassifier\n",
        "# cat_model = CatBoostClassifier()\n",
        "# cat_model.fit(cX_train,cY_train,verbose=False)"
      ],
      "execution_count": null,
      "outputs": []
    },
    {
      "cell_type": "code",
      "metadata": {
        "id": "QAcjAGnBS47-",
        "colab_type": "code",
        "colab": {}
      },
      "source": [
        "# y_pred=cat_model.predict(cX_test)\n",
        "# print(f1_score(cY_test,y_pred,average='macro'))"
      ],
      "execution_count": null,
      "outputs": []
    },
    {
      "cell_type": "code",
      "metadata": {
        "id": "oIP9M4WoGCZz",
        "colab_type": "code",
        "colab": {
          "base_uri": "https://localhost:8080/",
          "height": 226
        },
        "outputId": "1aeb8de0-8130-4ec3-eacc-1a891368f8f3"
      },
      "source": [
        "#create a dataframe with image name and encoded labels\n",
        "labels=pd.get_dummies(df['diagnostic'])\n",
        "df=pd.concat([df,labels],axis=1)\n",
        "df.head()\n",
        "#MEL\tNV\tBCC\tAK\tBKL\t\tSCC"
      ],
      "execution_count": null,
      "outputs": [
        {
          "output_type": "execute_result",
          "data": {
            "text/html": [
              "<div>\n",
              "<style scoped>\n",
              "    .dataframe tbody tr th:only-of-type {\n",
              "        vertical-align: middle;\n",
              "    }\n",
              "\n",
              "    .dataframe tbody tr th {\n",
              "        vertical-align: top;\n",
              "    }\n",
              "\n",
              "    .dataframe thead th {\n",
              "        text-align: right;\n",
              "    }\n",
              "</style>\n",
              "<table border=\"1\" class=\"dataframe\">\n",
              "  <thead>\n",
              "    <tr style=\"text-align: right;\">\n",
              "      <th></th>\n",
              "      <th>patient_id</th>\n",
              "      <th>lesion_id</th>\n",
              "      <th>smoke</th>\n",
              "      <th>drink</th>\n",
              "      <th>background_father</th>\n",
              "      <th>background_mother</th>\n",
              "      <th>age</th>\n",
              "      <th>pesticide</th>\n",
              "      <th>gender</th>\n",
              "      <th>skin_cancer_history</th>\n",
              "      <th>cancer_history</th>\n",
              "      <th>has_piped_water</th>\n",
              "      <th>has_sewage_system</th>\n",
              "      <th>fitspatrick</th>\n",
              "      <th>region</th>\n",
              "      <th>diameter_1</th>\n",
              "      <th>diameter_2</th>\n",
              "      <th>diagnostic</th>\n",
              "      <th>itch</th>\n",
              "      <th>grew</th>\n",
              "      <th>hurt</th>\n",
              "      <th>changed</th>\n",
              "      <th>bleed</th>\n",
              "      <th>elevation</th>\n",
              "      <th>img_id</th>\n",
              "      <th>biopsed</th>\n",
              "      <th>ACK</th>\n",
              "      <th>BCC</th>\n",
              "      <th>MEL</th>\n",
              "      <th>NEV</th>\n",
              "      <th>SCC</th>\n",
              "      <th>SEK</th>\n",
              "    </tr>\n",
              "  </thead>\n",
              "  <tbody>\n",
              "    <tr>\n",
              "      <th>0</th>\n",
              "      <td>PAT_1516</td>\n",
              "      <td>1765</td>\n",
              "      <td>unknown</td>\n",
              "      <td>unknown</td>\n",
              "      <td>NaN</td>\n",
              "      <td>NaN</td>\n",
              "      <td>8</td>\n",
              "      <td>unknown</td>\n",
              "      <td>unknown</td>\n",
              "      <td>unknown</td>\n",
              "      <td>unknown</td>\n",
              "      <td>unknown</td>\n",
              "      <td>unknown</td>\n",
              "      <td>unknown</td>\n",
              "      <td>ARM</td>\n",
              "      <td>11.897055</td>\n",
              "      <td>8.852209</td>\n",
              "      <td>NEV</td>\n",
              "      <td>False</td>\n",
              "      <td>False</td>\n",
              "      <td>False</td>\n",
              "      <td>False</td>\n",
              "      <td>False</td>\n",
              "      <td>False</td>\n",
              "      <td>PAT_1516_1765_530.png</td>\n",
              "      <td>False</td>\n",
              "      <td>0</td>\n",
              "      <td>0</td>\n",
              "      <td>0</td>\n",
              "      <td>1</td>\n",
              "      <td>0</td>\n",
              "      <td>0</td>\n",
              "    </tr>\n",
              "    <tr>\n",
              "      <th>1</th>\n",
              "      <td>PAT_46</td>\n",
              "      <td>881</td>\n",
              "      <td>False</td>\n",
              "      <td>False</td>\n",
              "      <td>POMERANIA</td>\n",
              "      <td>POMERANIA</td>\n",
              "      <td>55</td>\n",
              "      <td>False</td>\n",
              "      <td>FEMALE</td>\n",
              "      <td>True</td>\n",
              "      <td>True</td>\n",
              "      <td>True</td>\n",
              "      <td>True</td>\n",
              "      <td>3.0</td>\n",
              "      <td>NECK</td>\n",
              "      <td>6.000000</td>\n",
              "      <td>5.000000</td>\n",
              "      <td>BCC</td>\n",
              "      <td>True</td>\n",
              "      <td>True</td>\n",
              "      <td>False</td>\n",
              "      <td>True</td>\n",
              "      <td>True</td>\n",
              "      <td>True</td>\n",
              "      <td>PAT_46_881_939.png</td>\n",
              "      <td>True</td>\n",
              "      <td>0</td>\n",
              "      <td>1</td>\n",
              "      <td>0</td>\n",
              "      <td>0</td>\n",
              "      <td>0</td>\n",
              "      <td>0</td>\n",
              "    </tr>\n",
              "    <tr>\n",
              "      <th>2</th>\n",
              "      <td>PAT_1545</td>\n",
              "      <td>1867</td>\n",
              "      <td>unknown</td>\n",
              "      <td>unknown</td>\n",
              "      <td>NaN</td>\n",
              "      <td>NaN</td>\n",
              "      <td>77</td>\n",
              "      <td>unknown</td>\n",
              "      <td>unknown</td>\n",
              "      <td>unknown</td>\n",
              "      <td>unknown</td>\n",
              "      <td>unknown</td>\n",
              "      <td>unknown</td>\n",
              "      <td>unknown</td>\n",
              "      <td>FACE</td>\n",
              "      <td>11.897055</td>\n",
              "      <td>8.852209</td>\n",
              "      <td>ACK</td>\n",
              "      <td>True</td>\n",
              "      <td>False</td>\n",
              "      <td>False</td>\n",
              "      <td>False</td>\n",
              "      <td>False</td>\n",
              "      <td>False</td>\n",
              "      <td>PAT_1545_1867_547.png</td>\n",
              "      <td>False</td>\n",
              "      <td>1</td>\n",
              "      <td>0</td>\n",
              "      <td>0</td>\n",
              "      <td>0</td>\n",
              "      <td>0</td>\n",
              "      <td>0</td>\n",
              "    </tr>\n",
              "    <tr>\n",
              "      <th>3</th>\n",
              "      <td>PAT_1989</td>\n",
              "      <td>4061</td>\n",
              "      <td>unknown</td>\n",
              "      <td>unknown</td>\n",
              "      <td>NaN</td>\n",
              "      <td>NaN</td>\n",
              "      <td>75</td>\n",
              "      <td>unknown</td>\n",
              "      <td>unknown</td>\n",
              "      <td>unknown</td>\n",
              "      <td>unknown</td>\n",
              "      <td>unknown</td>\n",
              "      <td>unknown</td>\n",
              "      <td>unknown</td>\n",
              "      <td>HAND</td>\n",
              "      <td>11.897055</td>\n",
              "      <td>8.852209</td>\n",
              "      <td>ACK</td>\n",
              "      <td>True</td>\n",
              "      <td>False</td>\n",
              "      <td>False</td>\n",
              "      <td>False</td>\n",
              "      <td>False</td>\n",
              "      <td>False</td>\n",
              "      <td>PAT_1989_4061_934.png</td>\n",
              "      <td>False</td>\n",
              "      <td>1</td>\n",
              "      <td>0</td>\n",
              "      <td>0</td>\n",
              "      <td>0</td>\n",
              "      <td>0</td>\n",
              "      <td>0</td>\n",
              "    </tr>\n",
              "    <tr>\n",
              "      <th>4</th>\n",
              "      <td>PAT_684</td>\n",
              "      <td>1302</td>\n",
              "      <td>False</td>\n",
              "      <td>True</td>\n",
              "      <td>POMERANIA</td>\n",
              "      <td>POMERANIA</td>\n",
              "      <td>79</td>\n",
              "      <td>False</td>\n",
              "      <td>MALE</td>\n",
              "      <td>True</td>\n",
              "      <td>False</td>\n",
              "      <td>False</td>\n",
              "      <td>False</td>\n",
              "      <td>1.0</td>\n",
              "      <td>FOREARM</td>\n",
              "      <td>5.000000</td>\n",
              "      <td>5.000000</td>\n",
              "      <td>BCC</td>\n",
              "      <td>True</td>\n",
              "      <td>True</td>\n",
              "      <td>False</td>\n",
              "      <td>False</td>\n",
              "      <td>True</td>\n",
              "      <td>True</td>\n",
              "      <td>PAT_684_1302_588.png</td>\n",
              "      <td>True</td>\n",
              "      <td>0</td>\n",
              "      <td>1</td>\n",
              "      <td>0</td>\n",
              "      <td>0</td>\n",
              "      <td>0</td>\n",
              "      <td>0</td>\n",
              "    </tr>\n",
              "  </tbody>\n",
              "</table>\n",
              "</div>"
            ],
            "text/plain": [
              "  patient_id  lesion_id    smoke    drink  ... MEL NEV  SCC SEK\n",
              "0   PAT_1516       1765  unknown  unknown  ...   0   1    0   0\n",
              "1     PAT_46        881    False    False  ...   0   0    0   0\n",
              "2   PAT_1545       1867  unknown  unknown  ...   0   0    0   0\n",
              "3   PAT_1989       4061  unknown  unknown  ...   0   0    0   0\n",
              "4    PAT_684       1302    False     True  ...   0   0    0   0\n",
              "\n",
              "[5 rows x 32 columns]"
            ]
          },
          "metadata": {
            "tags": []
          },
          "execution_count": 21
        }
      ]
    },
    {
      "cell_type": "code",
      "metadata": {
        "id": "B4uO3ChKG2EO",
        "colab_type": "code",
        "colab": {}
      },
      "source": [
        "#shuffle the dataframe\n",
        "# df=df.sample(frac=1)\n",
        "# df.head()"
      ],
      "execution_count": null,
      "outputs": []
    },
    {
      "cell_type": "code",
      "metadata": {
        "id": "Ogf8B7C-G2NB",
        "colab_type": "code",
        "colab": {
          "base_uri": "https://localhost:8080/",
          "height": 35
        },
        "outputId": "b50e297d-25b0-4843-f7d7-4565a667661a"
      },
      "source": [
        "#labels columns in dataframe\n",
        "col=list(df.columns)[-6::]\n",
        "col"
      ],
      "execution_count": null,
      "outputs": [
        {
          "output_type": "execute_result",
          "data": {
            "text/plain": [
              "['ACK', 'BCC', 'MEL', 'NEV', 'SCC', 'SEK']"
            ]
          },
          "metadata": {
            "tags": []
          },
          "execution_count": 23
        }
      ]
    },
    {
      "cell_type": "code",
      "metadata": {
        "id": "ihQ3fznlG2Q7",
        "colab_type": "code",
        "colab": {}
      },
      "source": [
        "# data augmentation\n",
        "from tensorflow.keras.preprocessing.image import ImageDataGenerator\n",
        "data_gen= ImageDataGenerator(\n",
        "    horizontal_flip=True,\n",
        "    vertical_flip=True,\n",
        "    rotation_range=360,\n",
        "    width_shift_range=0.1,\n",
        "    height_shift_range=0.1,\n",
        "    zoom_range=.1,\n",
        "    rescale=1/255,\n",
        "    fill_mode='nearest')"
      ],
      "execution_count": null,
      "outputs": []
    },
    {
      "cell_type": "code",
      "metadata": {
        "id": "Y4GNCOf3G2KD",
        "colab_type": "code",
        "colab": {}
      },
      "source": [
        "# model hyperparameters\n",
        "img_shape=300\n",
        "batch_size=20\n",
        "n_epochs=20"
      ],
      "execution_count": null,
      "outputs": []
    },
    {
      "cell_type": "code",
      "metadata": {
        "id": "P72df_UPH2l1",
        "colab_type": "code",
        "colab": {}
      },
      "source": [
        "from tensorflow.keras.layers import GlobalAveragePooling2D,Dropout,Dense,Input,concatenate,Dropout\n",
        "from tensorflow.keras.callbacks import ModelCheckpoint,ReduceLROnPlateau\n",
        "from tensorflow.keras.optimizers import Adam\n",
        "import tensorflow.keras.backend as K\n",
        "from tensorflow.keras.models import Sequential,Model"
      ],
      "execution_count": null,
      "outputs": []
    },
    {
      "cell_type": "code",
      "metadata": {
        "id": "32il-Vp4ZoZ0",
        "colab_type": "code",
        "colab": {}
      },
      "source": [
        "def dense_model():\n",
        "  inp=Input(shape=(2529,))\n",
        "  y=Dense(1024,activation=\"relu\")(inp)\n",
        "  y=Dense(256,activation=\"relu\")(y)\n",
        "  y=Dense(128,activation=\"relu\")(y)\n",
        "  y=Dense(64,activation=\"relu\")(y)\n",
        "  out=Dense(6,activation=\"softmax\")(y)\n",
        "  densemodel=Model(inputs=inp, outputs=out )\n",
        "  densemodel.compile(optimizer=Adam(0.001), loss='categorical_crossentropy', metrics=['accuracy'])\n",
        "  return densemodel\n",
        "\n"
      ],
      "execution_count": null,
      "outputs": []
    },
    {
      "cell_type": "code",
      "metadata": {
        "id": "6fTTs45ybbEM",
        "colab_type": "code",
        "colab": {}
      },
      "source": [
        "# densemodel=dense_model()\n",
        "# #densemodel.summary()\n",
        "# densemodel.fit(x=clinical_features,y=clinical_lables,epochs=5,validation_split=0.2)"
      ],
      "execution_count": null,
      "outputs": []
    },
    {
      "cell_type": "code",
      "metadata": {
        "id": "ngi230XBH5MN",
        "colab_type": "code",
        "colab": {}
      },
      "source": [
        "#first create the pretrained model and load weights\n"
      ],
      "execution_count": null,
      "outputs": []
    },
    {
      "cell_type": "code",
      "metadata": {
        "id": "_e3UDto2KtoS",
        "colab_type": "code",
        "colab": {}
      },
      "source": [
        "def basemodel():\n",
        "  import efficientnet.tfkeras as efn\n",
        "  pre_trained_model =efn.EfficientNetB3(weights =None, include_top=False, input_shape = (img_shape,img_shape,3))\n",
        "  x = pre_trained_model.output\n",
        "  x = GlobalAveragePooling2D()(x)\n",
        "  x = Dropout(0.3)(x)\n",
        "  x = Dense(128, activation=\"relu\")(x)\n",
        "  x = Dropout(0.3)(x)\n",
        "  x = Dense(64, activation=\"relu\")(x)\n",
        "  predictions = Dense(8, activation=\"softmax\")(x) #pretrained model has 7 classes\n",
        "  pre_trained_model = Model(inputs=pre_trained_model.input, outputs=predictions)\n",
        "  pre_trained_model.load_weights('/content/isicall_eff3_weights.hdf5') #load pretrained weights to to model\n",
        "  #now remove all added layers in pretrained layers add new leayer and create base model\n",
        "  #here we can test how many layers we want to remove\n",
        "  eff_model = Model(pre_trained_model.input, pre_trained_model.layers[-7].output)\n",
        "  #now add our new layers\n",
        "  x = eff_model.output\n",
        "  x = GlobalAveragePooling2D()(x)\n",
        "  x = Dropout(0.3)(x)\n",
        "  x = Dense(128,name='dense1', activation=\"relu\")(x)\n",
        "  x = Dropout(0.3)(x)\n",
        "  x = Dense(64,name='dense2', activation=\"relu\")(x)\n",
        "\n",
        "\n",
        "  inp=Input(shape=(2529,))\n",
        "  y=Dense(1024,activation=\"relu\")(inp)\n",
        "  y=Dense(256,activation=\"relu\")(y)\n",
        "  y=Dense(128,activation=\"relu\")(y)\n",
        "  y=Dropout(0.3)(y)\n",
        "  y=Dense(64,activation=\"relu\")(y)\n",
        "\n",
        "  z=concatenate([x,y])\n",
        "  z=Dropout(0.3)(z)\n",
        "  z=Dense(32,activation='relu')(z)\n",
        "  z=Dense(16,activation='relu')(z)\n",
        "\n",
        "  predictions  = Dense(len(col),name='output', activation=\"softmax\")(z) #base model has six layers\n",
        "  model = Model(inputs=[eff_model.input,inp], outputs=predictions )\n",
        "  #compile the base model\n",
        "  model.compile(optimizer=Adam(0.001), loss='categorical_crossentropy', metrics=['accuracy'])\n",
        "  return model"
      ],
      "execution_count": null,
      "outputs": []
    },
    {
      "cell_type": "code",
      "metadata": {
        "id": "8dlwGEIbcxLY",
        "colab_type": "code",
        "colab": {}
      },
      "source": [
        ""
      ],
      "execution_count": null,
      "outputs": []
    },
    {
      "cell_type": "code",
      "metadata": {
        "id": "ukqUsCa0lcjf",
        "colab_type": "code",
        "colab": {}
      },
      "source": [
        "\n",
        "def dual_datagen(df,clinical_features,batch_size=20):\n",
        "    eff_generator=data_gen.flow_from_dataframe(df,directory='/content/data',\n",
        "                                               target_size=(img_shape,img_shape),\n",
        "                                               x_col='img_id',\n",
        "                                               y_col=col,\n",
        "                                               class_mode='raw',\n",
        "                                               shuffle=False,\n",
        "                                               batch_size=batch_size)\n",
        "    number_of_batches = len(clinical_features)/batch_size\n",
        "    counter =0\n",
        "    while True:\n",
        "        x_1 = eff_generator.next()\n",
        "        x_2 = np.array(clinical_features[batch_size*counter:batch_size*(counter+1)]).astype('float32')\n",
        "        counter += 1\n",
        "\n",
        "        yield [x_1[0], x_2], x_1[1]\n",
        "        if counter >= number_of_batches:\n",
        "          counter = 0"
      ],
      "execution_count": null,
      "outputs": []
    },
    {
      "cell_type": "code",
      "metadata": {
        "id": "aJrwNqcJtUPs",
        "colab_type": "code",
        "colab": {}
      },
      "source": [
        "# train_gen =dual_datagen(df,clinical_features)\n",
        "# model.fit(train_gen,epochs=2,steps_per_epoch=len(df)/20)"
      ],
      "execution_count": null,
      "outputs": []
    },
    {
      "cell_type": "code",
      "metadata": {
        "id": "hx-WGWBVNMri",
        "colab_type": "code",
        "colab": {
          "base_uri": "https://localhost:8080/",
          "height": 1000
        },
        "outputId": "003b6ac1-e9e6-4fe4-be12-a7bef1380768"
      },
      "source": [
        "\n",
        "\n",
        "classification_reports=[]\n",
        "kf = KFold(n_splits=5,shuffle=False)\n",
        "history=[]\n",
        "accuracy=[]\n",
        "f1_scores=[]\n",
        "auc=[]\n",
        "y_pred=[]\n",
        "precision=[]\n",
        "recall=[]\n",
        "fold=0\n",
        "for train_index, test_index in kf.split(df):\n",
        "  train_img=df.iloc[train_index,:]\n",
        "  val_img=df.iloc[test_index,:]\n",
        "\n",
        "  train_feat=clinical_features[train_index,:]\n",
        "  val_feat=clinical_features[test_index,:]\n",
        "\n",
        "  print('-----------fold {}--------------'.format(fold))\n",
        "  train_gen =dual_datagen(train_img,train_feat)\n",
        "\n",
        "  #load base model\n",
        "  model=basemodel()\n",
        "  val_gen =dual_datagen(val_img,val_feat)\n",
        "  #train model\n",
        "  results = model.fit(train_gen,epochs=20,verbose=1,\n",
        "                              steps_per_epoch=len(train_img)/batch_size,\n",
        "                              validation_data=val_gen,\n",
        "                             validation_steps=len(val_img)/batch_size,\n",
        "                              callbacks=[ReduceLROnPlateau(monitor='val_loss',verbose=1, factor=0.5,patience=5, min_lr=0.000001),\n",
        "                                         #ModelCheckpoint('model_{}.hdf5'.format(fold), save_best_only=True, monitor='val_loss', mode='min')\n",
        "                                         ])\n",
        "  \n",
        "\n",
        "  val_gen =dual_datagen(val_img,val_feat)\n",
        "  y_true=val_img.iloc[:,-6::]\n",
        "  y_pred=model.predict(val_gen,steps=len(val_img)/batch_size,verbose=0)\n",
        "  print(accuracy_score(np.round(y_pred,0),y_true))\n",
        "  print(f1_score(np.round(y_pred,0),y_true,average='macro'))\n",
        "\n",
        "  precision.append(precision_score(y_true,np.round(y_pred,0),average='macro'))\n",
        "  recall.append(recall_score(y_true,np.round(y_pred,0),average='macro'))\n",
        "  accuracy.append(accuracy_score(y_true,np.round(y_pred,0)))\n",
        "  auc.append(roc_auc_score(y_true,np.round(y_pred,0)))\n",
        "  f1_scores.append(f1_score(y_true,np.round(y_pred,0),average='macro'))\n",
        "  history.append(results)\n",
        "  fold+=1\n",
        "\n",
        "  del model\n",
        "  K.clear_session()\n",
        "  gc.collect()"
      ],
      "execution_count": null,
      "outputs": [
        {
          "output_type": "stream",
          "text": [
            "-----------fold 0--------------\n",
            "Found 1838 validated image filenames.\n",
            "Epoch 1/20\n",
            " 2/91 [..............................] - ETA: 58s - loss: 1.7524 - accuracy: 0.3500WARNING:tensorflow:Callbacks method `on_train_batch_end` is slow compared to the batch time (batch time: 0.5085s vs `on_train_batch_end` time: 0.7990s). Check your callbacks.\n",
            "92/91 [==============================] - ETA: 0s - loss: 1.0401 - accuracy: 0.6328Found 460 validated image filenames.\n",
            "92/91 [==============================] - 168s 2s/step - loss: 1.0401 - accuracy: 0.6328 - val_loss: 0.7548 - val_accuracy: 0.7435\n",
            "Epoch 2/20\n",
            "92/91 [==============================] - 165s 2s/step - loss: 0.6756 - accuracy: 0.7612 - val_loss: 0.6359 - val_accuracy: 0.7543\n",
            "Epoch 3/20\n",
            "92/91 [==============================] - 165s 2s/step - loss: 0.5095 - accuracy: 0.8009 - val_loss: 0.8202 - val_accuracy: 0.7196\n",
            "Epoch 4/20\n",
            "92/91 [==============================] - 166s 2s/step - loss: 0.4083 - accuracy: 0.8466 - val_loss: 0.6800 - val_accuracy: 0.7826\n",
            "Epoch 5/20\n",
            "92/91 [==============================] - 167s 2s/step - loss: 0.2986 - accuracy: 0.8906 - val_loss: 0.7681 - val_accuracy: 0.7870\n",
            "Epoch 6/20\n",
            "92/91 [==============================] - 168s 2s/step - loss: 0.2212 - accuracy: 0.9260 - val_loss: 0.8932 - val_accuracy: 0.7935\n",
            "Epoch 7/20\n",
            "92/91 [==============================] - ETA: 0s - loss: 0.1861 - accuracy: 0.9461\n",
            "Epoch 00007: ReduceLROnPlateau reducing learning rate to 0.0005000000237487257.\n",
            "92/91 [==============================] - 167s 2s/step - loss: 0.1861 - accuracy: 0.9461 - val_loss: 0.8140 - val_accuracy: 0.8152\n",
            "Epoch 8/20\n",
            "92/91 [==============================] - 166s 2s/step - loss: 0.0763 - accuracy: 0.9755 - val_loss: 0.7617 - val_accuracy: 0.8261\n",
            "Epoch 9/20\n",
            "92/91 [==============================] - 165s 2s/step - loss: 0.0382 - accuracy: 0.9886 - val_loss: 0.7986 - val_accuracy: 0.8304\n",
            "Epoch 10/20\n",
            "92/91 [==============================] - 164s 2s/step - loss: 0.0175 - accuracy: 0.9956 - val_loss: 0.8858 - val_accuracy: 0.8435\n",
            "Epoch 11/20\n",
            "92/91 [==============================] - 165s 2s/step - loss: 0.0140 - accuracy: 0.9951 - val_loss: 0.9271 - val_accuracy: 0.8326\n",
            "Epoch 12/20\n",
            "92/91 [==============================] - ETA: 0s - loss: 0.0133 - accuracy: 0.9951\n",
            "Epoch 00012: ReduceLROnPlateau reducing learning rate to 0.0002500000118743628.\n",
            "92/91 [==============================] - 164s 2s/step - loss: 0.0133 - accuracy: 0.9951 - val_loss: 0.9134 - val_accuracy: 0.8457\n",
            "Epoch 13/20\n",
            "92/91 [==============================] - 164s 2s/step - loss: 0.0057 - accuracy: 0.9984 - val_loss: 0.9824 - val_accuracy: 0.8065\n",
            "Epoch 14/20\n",
            "92/91 [==============================] - 164s 2s/step - loss: 0.0048 - accuracy: 0.9995 - val_loss: 1.0743 - val_accuracy: 0.8065\n",
            "Epoch 15/20\n",
            "92/91 [==============================] - 165s 2s/step - loss: 0.0058 - accuracy: 0.9984 - val_loss: 1.0543 - val_accuracy: 0.8261\n",
            "Epoch 16/20\n",
            "92/91 [==============================] - 164s 2s/step - loss: 0.0033 - accuracy: 0.9995 - val_loss: 1.0743 - val_accuracy: 0.8326\n",
            "Epoch 17/20\n",
            "92/91 [==============================] - ETA: 0s - loss: 0.0024 - accuracy: 1.0000\n",
            "Epoch 00017: ReduceLROnPlateau reducing learning rate to 0.0001250000059371814.\n",
            "92/91 [==============================] - 164s 2s/step - loss: 0.0024 - accuracy: 1.0000 - val_loss: 1.0969 - val_accuracy: 0.8304\n",
            "Epoch 18/20\n",
            "92/91 [==============================] - 165s 2s/step - loss: 0.0021 - accuracy: 0.9995 - val_loss: 1.1159 - val_accuracy: 0.8348\n",
            "Epoch 19/20\n",
            "92/91 [==============================] - 165s 2s/step - loss: 0.0018 - accuracy: 0.9995 - val_loss: 1.1192 - val_accuracy: 0.8326\n",
            "Epoch 20/20\n",
            "92/91 [==============================] - 165s 2s/step - loss: 0.0029 - accuracy: 0.9989 - val_loss: 1.1088 - val_accuracy: 0.8457\n",
            "Found 460 validated image filenames.\n",
            "0.8456521739130435\n",
            "0.8035591502067674\n",
            "-----------fold 1--------------\n",
            "Found 1838 validated image filenames.\n",
            "Epoch 1/20\n",
            " 2/91 [..............................] - ETA: 58s - loss: 1.8251 - accuracy: 0.0000e+00WARNING:tensorflow:Callbacks method `on_train_batch_end` is slow compared to the batch time (batch time: 0.5068s vs `on_train_batch_end` time: 0.7956s). Check your callbacks.\n",
            "92/91 [==============================] - ETA: 0s - loss: 1.2230 - accuracy: 0.5805Found 460 validated image filenames.\n",
            "92/91 [==============================] - 168s 2s/step - loss: 1.2230 - accuracy: 0.5805 - val_loss: 0.8501 - val_accuracy: 0.6891\n",
            "Epoch 2/20\n",
            "92/91 [==============================] - 165s 2s/step - loss: 0.7334 - accuracy: 0.7454 - val_loss: 0.9842 - val_accuracy: 0.6891\n",
            "Epoch 3/20\n",
            "92/91 [==============================] - 164s 2s/step - loss: 0.5837 - accuracy: 0.7786 - val_loss: 0.7095 - val_accuracy: 0.7696\n",
            "Epoch 4/20\n",
            "92/91 [==============================] - 164s 2s/step - loss: 0.4164 - accuracy: 0.8444 - val_loss: 0.6851 - val_accuracy: 0.7435\n",
            "Epoch 5/20\n",
            "92/91 [==============================] - 164s 2s/step - loss: 0.2841 - accuracy: 0.8928 - val_loss: 0.6544 - val_accuracy: 0.8065\n",
            "Epoch 6/20\n",
            "92/91 [==============================] - 164s 2s/step - loss: 0.2406 - accuracy: 0.9168 - val_loss: 0.9251 - val_accuracy: 0.7957\n",
            "Epoch 7/20\n",
            "92/91 [==============================] - 164s 2s/step - loss: 0.1574 - accuracy: 0.9532 - val_loss: 1.0577 - val_accuracy: 0.7652\n",
            "Epoch 8/20\n",
            "92/91 [==============================] - 164s 2s/step - loss: 0.1235 - accuracy: 0.9603 - val_loss: 0.9302 - val_accuracy: 0.7891\n",
            "Epoch 9/20\n",
            "92/91 [==============================] - 164s 2s/step - loss: 0.1126 - accuracy: 0.9668 - val_loss: 1.0587 - val_accuracy: 0.7891\n",
            "Epoch 10/20\n",
            "92/91 [==============================] - ETA: 0s - loss: 0.0707 - accuracy: 0.9799\n",
            "Epoch 00010: ReduceLROnPlateau reducing learning rate to 0.0005000000237487257.\n",
            "92/91 [==============================] - 164s 2s/step - loss: 0.0707 - accuracy: 0.9799 - val_loss: 0.9967 - val_accuracy: 0.7370\n",
            "Epoch 11/20\n",
            "92/91 [==============================] - 164s 2s/step - loss: 0.0346 - accuracy: 0.9875 - val_loss: 0.9529 - val_accuracy: 0.8043\n",
            "Epoch 12/20\n",
            "92/91 [==============================] - 164s 2s/step - loss: 0.0108 - accuracy: 0.9978 - val_loss: 0.9763 - val_accuracy: 0.8109\n",
            "Epoch 13/20\n",
            "92/91 [==============================] - 164s 2s/step - loss: 0.0212 - accuracy: 0.9951 - val_loss: 0.9393 - val_accuracy: 0.8217\n",
            "Epoch 14/20\n",
            "92/91 [==============================] - 165s 2s/step - loss: 0.0052 - accuracy: 0.9989 - val_loss: 1.0092 - val_accuracy: 0.8174\n",
            "Epoch 15/20\n",
            "92/91 [==============================] - ETA: 0s - loss: 0.0035 - accuracy: 1.0000\n",
            "Epoch 00015: ReduceLROnPlateau reducing learning rate to 0.0002500000118743628.\n",
            "92/91 [==============================] - 165s 2s/step - loss: 0.0035 - accuracy: 1.0000 - val_loss: 1.0611 - val_accuracy: 0.8152\n",
            "Epoch 16/20\n",
            "92/91 [==============================] - 164s 2s/step - loss: 0.0040 - accuracy: 0.9984 - val_loss: 1.0613 - val_accuracy: 0.8130\n",
            "Epoch 17/20\n",
            "92/91 [==============================] - 165s 2s/step - loss: 0.0031 - accuracy: 0.9995 - val_loss: 1.0947 - val_accuracy: 0.8217\n",
            "Epoch 18/20\n",
            "92/91 [==============================] - 164s 2s/step - loss: 0.0017 - accuracy: 1.0000 - val_loss: 1.1150 - val_accuracy: 0.8152\n",
            "Epoch 19/20\n",
            "92/91 [==============================] - 164s 2s/step - loss: 0.0011 - accuracy: 1.0000 - val_loss: 1.1286 - val_accuracy: 0.8152\n",
            "Epoch 20/20\n",
            "92/91 [==============================] - ETA: 0s - loss: 0.0029 - accuracy: 0.9989\n",
            "Epoch 00020: ReduceLROnPlateau reducing learning rate to 0.0001250000059371814.\n",
            "92/91 [==============================] - 165s 2s/step - loss: 0.0029 - accuracy: 0.9989 - val_loss: 1.1638 - val_accuracy: 0.8130\n",
            "Found 460 validated image filenames.\n",
            "0.8108695652173913\n",
            "0.738152964834483\n",
            "-----------fold 2--------------\n",
            "Found 1838 validated image filenames.\n",
            "Epoch 1/20\n",
            " 2/91 [..............................] - ETA: 58s - loss: 1.8104 - accuracy: 0.0500   WARNING:tensorflow:Callbacks method `on_train_batch_end` is slow compared to the batch time (batch time: 0.5054s vs `on_train_batch_end` time: 0.7972s). Check your callbacks.\n",
            "92/91 [==============================] - ETA: 0s - loss: 1.0606 - accuracy: 0.6170Found 460 validated image filenames.\n",
            "92/91 [==============================] - 168s 2s/step - loss: 1.0606 - accuracy: 0.6170 - val_loss: 0.6904 - val_accuracy: 0.7152\n",
            "Epoch 2/20\n",
            "92/91 [==============================] - 166s 2s/step - loss: 0.6671 - accuracy: 0.7486 - val_loss: 0.5941 - val_accuracy: 0.7761\n",
            "Epoch 3/20\n",
            "92/91 [==============================] - 166s 2s/step - loss: 0.5216 - accuracy: 0.7960 - val_loss: 0.5288 - val_accuracy: 0.7913\n",
            "Epoch 4/20\n",
            "92/91 [==============================] - 167s 2s/step - loss: 0.4016 - accuracy: 0.8384 - val_loss: 2.1640 - val_accuracy: 0.4848\n",
            "Epoch 5/20\n",
            "92/91 [==============================] - 166s 2s/step - loss: 0.3054 - accuracy: 0.8879 - val_loss: 0.7412 - val_accuracy: 0.7935\n",
            "Epoch 6/20\n",
            "92/91 [==============================] - 166s 2s/step - loss: 0.2334 - accuracy: 0.9206 - val_loss: 0.7764 - val_accuracy: 0.7174\n",
            "Epoch 7/20\n",
            "92/91 [==============================] - 165s 2s/step - loss: 0.2095 - accuracy: 0.9271 - val_loss: 0.8799 - val_accuracy: 0.7739\n",
            "Epoch 8/20\n",
            "92/91 [==============================] - ETA: 0s - loss: 0.1361 - accuracy: 0.9559\n",
            "Epoch 00008: ReduceLROnPlateau reducing learning rate to 0.0005000000237487257.\n",
            "92/91 [==============================] - 166s 2s/step - loss: 0.1361 - accuracy: 0.9559 - val_loss: 0.7026 - val_accuracy: 0.8109\n",
            "Epoch 9/20\n",
            "92/91 [==============================] - 165s 2s/step - loss: 0.0496 - accuracy: 0.9880 - val_loss: 0.6900 - val_accuracy: 0.8283\n",
            "Epoch 10/20\n",
            "92/91 [==============================] - 166s 2s/step - loss: 0.0281 - accuracy: 0.9918 - val_loss: 0.7637 - val_accuracy: 0.8043\n",
            "Epoch 11/20\n",
            "92/91 [==============================] - 165s 2s/step - loss: 0.0236 - accuracy: 0.9940 - val_loss: 0.8105 - val_accuracy: 0.8283\n",
            "Epoch 12/20\n",
            "92/91 [==============================] - 166s 2s/step - loss: 0.0112 - accuracy: 0.9967 - val_loss: 0.8537 - val_accuracy: 0.8413\n",
            "Epoch 13/20\n",
            "92/91 [==============================] - ETA: 0s - loss: 0.0118 - accuracy: 0.9978\n",
            "Epoch 00013: ReduceLROnPlateau reducing learning rate to 0.0002500000118743628.\n",
            "92/91 [==============================] - 165s 2s/step - loss: 0.0118 - accuracy: 0.9978 - val_loss: 0.9693 - val_accuracy: 0.8261\n",
            "Epoch 14/20\n",
            "92/91 [==============================] - 166s 2s/step - loss: 0.0064 - accuracy: 0.9984 - val_loss: 0.9200 - val_accuracy: 0.8109\n",
            "Epoch 15/20\n",
            "92/91 [==============================] - 166s 2s/step - loss: 0.0037 - accuracy: 0.9995 - val_loss: 0.9144 - val_accuracy: 0.8217\n",
            "Epoch 16/20\n",
            "92/91 [==============================] - 165s 2s/step - loss: 0.0062 - accuracy: 0.9984 - val_loss: 1.1629 - val_accuracy: 0.7848\n",
            "Epoch 17/20\n",
            "92/91 [==============================] - 165s 2s/step - loss: 0.0042 - accuracy: 0.9984 - val_loss: 0.9813 - val_accuracy: 0.8239\n",
            "Epoch 18/20\n",
            "92/91 [==============================] - ETA: 0s - loss: 0.0035 - accuracy: 0.9995\n",
            "Epoch 00018: ReduceLROnPlateau reducing learning rate to 0.0001250000059371814.\n",
            "92/91 [==============================] - 165s 2s/step - loss: 0.0035 - accuracy: 0.9995 - val_loss: 1.0316 - val_accuracy: 0.8196\n",
            "Epoch 19/20\n",
            "92/91 [==============================] - 165s 2s/step - loss: 0.0029 - accuracy: 0.9995 - val_loss: 1.0449 - val_accuracy: 0.8217\n",
            "Epoch 20/20\n",
            "92/91 [==============================] - 165s 2s/step - loss: 0.0014 - accuracy: 1.0000 - val_loss: 1.0815 - val_accuracy: 0.8196\n",
            "Found 460 validated image filenames.\n",
            "0.808695652173913\n",
            "0.7399984913501934\n",
            "-----------fold 3--------------\n",
            "Found 1839 validated image filenames.\n",
            "Epoch 1/20\n",
            " 2/91 [..............................] - ETA: 58s - loss: 1.7684 - accuracy: 0.2750WARNING:tensorflow:Callbacks method `on_train_batch_end` is slow compared to the batch time (batch time: 0.5120s vs `on_train_batch_end` time: 0.8057s). Check your callbacks.\n",
            "92/91 [==============================] - ETA: 0s - loss: 1.0764 - accuracy: 0.6052Found 459 validated image filenames.\n",
            "92/91 [==============================] - 168s 2s/step - loss: 1.0764 - accuracy: 0.6052 - val_loss: 0.6945 - val_accuracy: 0.7603\n",
            "Epoch 2/20\n",
            "92/91 [==============================] - 164s 2s/step - loss: 0.6678 - accuracy: 0.7444 - val_loss: 0.5892 - val_accuracy: 0.7908\n",
            "Epoch 3/20\n",
            "92/91 [==============================] - 164s 2s/step - loss: 0.5547 - accuracy: 0.7966 - val_loss: 0.7001 - val_accuracy: 0.7538\n",
            "Epoch 4/20\n",
            "92/91 [==============================] - 164s 2s/step - loss: 0.3746 - accuracy: 0.8564 - val_loss: 0.8343 - val_accuracy: 0.6688\n",
            "Epoch 5/20\n",
            "92/91 [==============================] - 164s 2s/step - loss: 0.3068 - accuracy: 0.8891 - val_loss: 0.6987 - val_accuracy: 0.7669\n",
            "Epoch 6/20\n",
            "92/91 [==============================] - 165s 2s/step - loss: 0.2030 - accuracy: 0.9288 - val_loss: 0.8825 - val_accuracy: 0.7364\n",
            "Epoch 7/20\n",
            "92/91 [==============================] - ETA: 0s - loss: 0.1675 - accuracy: 0.9445\n",
            "Epoch 00007: ReduceLROnPlateau reducing learning rate to 0.0005000000237487257.\n",
            "92/91 [==============================] - 163s 2s/step - loss: 0.1675 - accuracy: 0.9445 - val_loss: 0.7735 - val_accuracy: 0.7865\n",
            "Epoch 8/20\n",
            "92/91 [==============================] - 164s 2s/step - loss: 0.0943 - accuracy: 0.9636 - val_loss: 0.8138 - val_accuracy: 0.7996\n",
            "Epoch 9/20\n",
            "92/91 [==============================] - 164s 2s/step - loss: 0.0378 - accuracy: 0.9880 - val_loss: 0.9011 - val_accuracy: 0.8083\n",
            "Epoch 10/20\n",
            "92/91 [==============================] - 165s 2s/step - loss: 0.0312 - accuracy: 0.9913 - val_loss: 1.0315 - val_accuracy: 0.7800\n",
            "Epoch 11/20\n",
            "92/91 [==============================] - 164s 2s/step - loss: 0.0169 - accuracy: 0.9946 - val_loss: 1.0181 - val_accuracy: 0.8148\n",
            "Epoch 12/20\n",
            "92/91 [==============================] - ETA: 0s - loss: 0.0101 - accuracy: 0.9984\n",
            "Epoch 00012: ReduceLROnPlateau reducing learning rate to 0.0002500000118743628.\n",
            "92/91 [==============================] - 164s 2s/step - loss: 0.0101 - accuracy: 0.9984 - val_loss: 1.1429 - val_accuracy: 0.7930\n",
            "Epoch 13/20\n",
            "92/91 [==============================] - 164s 2s/step - loss: 0.0133 - accuracy: 0.9951 - val_loss: 1.1621 - val_accuracy: 0.7996\n",
            "Epoch 14/20\n",
            "92/91 [==============================] - 163s 2s/step - loss: 0.0124 - accuracy: 0.9973 - val_loss: 1.1221 - val_accuracy: 0.8083\n",
            "Epoch 15/20\n",
            "92/91 [==============================] - 164s 2s/step - loss: 0.0039 - accuracy: 0.9995 - val_loss: 1.1553 - val_accuracy: 0.8105\n",
            "Epoch 16/20\n",
            "92/91 [==============================] - 164s 2s/step - loss: 0.0029 - accuracy: 1.0000 - val_loss: 1.1871 - val_accuracy: 0.8061\n",
            "Epoch 17/20\n",
            "92/91 [==============================] - ETA: 0s - loss: 0.0059 - accuracy: 0.9978\n",
            "Epoch 00017: ReduceLROnPlateau reducing learning rate to 0.0001250000059371814.\n",
            "92/91 [==============================] - 164s 2s/step - loss: 0.0059 - accuracy: 0.9978 - val_loss: 1.2235 - val_accuracy: 0.7974\n",
            "Epoch 18/20\n",
            "92/91 [==============================] - 165s 2s/step - loss: 0.0044 - accuracy: 0.9995 - val_loss: 1.1634 - val_accuracy: 0.8170\n",
            "Epoch 19/20\n",
            "92/91 [==============================] - 166s 2s/step - loss: 0.0018 - accuracy: 0.9995 - val_loss: 1.1977 - val_accuracy: 0.8105\n",
            "Epoch 20/20\n",
            "92/91 [==============================] - 165s 2s/step - loss: 0.0044 - accuracy: 0.9984 - val_loss: 1.2868 - val_accuracy: 0.7930\n",
            "Found 459 validated image filenames.\n",
            "0.7952069716775599\n",
            "0.7369769751641341\n",
            "-----------fold 4--------------\n",
            "Found 1839 validated image filenames.\n",
            "Epoch 1/20\n",
            " 2/91 [..............................] - ETA: 58s - loss: 1.8077 - accuracy: 0.1250   WARNING:tensorflow:Callbacks method `on_train_batch_end` is slow compared to the batch time (batch time: 0.5112s vs `on_train_batch_end` time: 0.7895s). Check your callbacks.\n",
            "92/91 [==============================] - ETA: 0s - loss: 1.0836 - accuracy: 0.6215Found 459 validated image filenames.\n",
            "92/91 [==============================] - 167s 2s/step - loss: 1.0836 - accuracy: 0.6215 - val_loss: 0.9124 - val_accuracy: 0.6776\n",
            "Epoch 2/20\n",
            "92/91 [==============================] - 165s 2s/step - loss: 0.6560 - accuracy: 0.7624 - val_loss: 0.8793 - val_accuracy: 0.6928\n",
            "Epoch 3/20\n",
            "92/91 [==============================] - 164s 2s/step - loss: 0.5281 - accuracy: 0.8140 - val_loss: 0.7189 - val_accuracy: 0.7320\n",
            "Epoch 4/20\n",
            "92/91 [==============================] - 165s 2s/step - loss: 0.3948 - accuracy: 0.8494 - val_loss: 0.7766 - val_accuracy: 0.7625\n",
            "Epoch 5/20\n",
            "92/91 [==============================] - 165s 2s/step - loss: 0.2795 - accuracy: 0.8994 - val_loss: 0.9408 - val_accuracy: 0.7538\n",
            "Epoch 6/20\n",
            "92/91 [==============================] - 166s 2s/step - loss: 0.2216 - accuracy: 0.9244 - val_loss: 0.7314 - val_accuracy: 0.7821\n",
            "Epoch 7/20\n",
            "92/91 [==============================] - 166s 2s/step - loss: 0.1347 - accuracy: 0.9543 - val_loss: 1.0906 - val_accuracy: 0.7407\n",
            "Epoch 8/20\n",
            "92/91 [==============================] - ETA: 0s - loss: 0.0900 - accuracy: 0.9695\n",
            "Epoch 00008: ReduceLROnPlateau reducing learning rate to 0.0005000000237487257.\n",
            "92/91 [==============================] - 166s 2s/step - loss: 0.0900 - accuracy: 0.9695 - val_loss: 1.1288 - val_accuracy: 0.7190\n",
            "Epoch 9/20\n",
            "92/91 [==============================] - 165s 2s/step - loss: 0.0501 - accuracy: 0.9859 - val_loss: 1.2282 - val_accuracy: 0.7582\n",
            "Epoch 10/20\n",
            "92/91 [==============================] - 165s 2s/step - loss: 0.0379 - accuracy: 0.9908 - val_loss: 1.3461 - val_accuracy: 0.7669\n",
            "Epoch 11/20\n",
            "92/91 [==============================] - 165s 2s/step - loss: 0.0156 - accuracy: 0.9956 - val_loss: 1.0464 - val_accuracy: 0.7843\n",
            "Epoch 12/20\n",
            "92/91 [==============================] - 166s 2s/step - loss: 0.0068 - accuracy: 0.9978 - val_loss: 1.1087 - val_accuracy: 0.7865\n",
            "Epoch 13/20\n",
            "92/91 [==============================] - ETA: 0s - loss: 0.0099 - accuracy: 0.9984\n",
            "Epoch 00013: ReduceLROnPlateau reducing learning rate to 0.0002500000118743628.\n",
            "92/91 [==============================] - 165s 2s/step - loss: 0.0099 - accuracy: 0.9984 - val_loss: 1.1960 - val_accuracy: 0.7821\n",
            "Epoch 14/20\n",
            "92/91 [==============================] - 164s 2s/step - loss: 0.0068 - accuracy: 0.9973 - val_loss: 1.2125 - val_accuracy: 0.7821\n",
            "Epoch 15/20\n",
            "92/91 [==============================] - 164s 2s/step - loss: 0.0056 - accuracy: 0.9984 - val_loss: 1.1667 - val_accuracy: 0.7974\n",
            "Epoch 16/20\n",
            "92/91 [==============================] - 166s 2s/step - loss: 0.0060 - accuracy: 0.9989 - val_loss: 1.2342 - val_accuracy: 0.7843\n",
            "Epoch 17/20\n",
            "92/91 [==============================] - 166s 2s/step - loss: 0.0025 - accuracy: 0.9995 - val_loss: 1.2290 - val_accuracy: 0.7887\n",
            "Epoch 18/20\n",
            "92/91 [==============================] - ETA: 0s - loss: 0.0016 - accuracy: 1.0000\n",
            "Epoch 00018: ReduceLROnPlateau reducing learning rate to 0.0001250000059371814.\n",
            "92/91 [==============================] - 165s 2s/step - loss: 0.0016 - accuracy: 1.0000 - val_loss: 1.2566 - val_accuracy: 0.7952\n",
            "Epoch 19/20\n",
            "92/91 [==============================] - 165s 2s/step - loss: 0.0030 - accuracy: 0.9995 - val_loss: 1.2698 - val_accuracy: 0.7887\n",
            "Epoch 20/20\n",
            "92/91 [==============================] - 165s 2s/step - loss: 9.9419e-04 - accuracy: 1.0000 - val_loss: 1.2777 - val_accuracy: 0.8017\n",
            "Found 459 validated image filenames.\n",
            "0.7864923747276689\n",
            "0.730997428056245\n"
          ],
          "name": "stdout"
        }
      ]
    },
    {
      "cell_type": "code",
      "metadata": {
        "id": "0O0ztk95K9fU",
        "colab_type": "code",
        "colab": {
          "base_uri": "https://localhost:8080/",
          "height": 35
        },
        "outputId": "b6e29e95-e455-40df-dd3a-e8f22f9dc3da"
      },
      "source": [
        "np.mean(precision)"
      ],
      "execution_count": null,
      "outputs": [
        {
          "output_type": "execute_result",
          "data": {
            "text/plain": [
              "0.7467650449638831"
            ]
          },
          "metadata": {
            "tags": []
          },
          "execution_count": 39
        }
      ]
    },
    {
      "cell_type": "code",
      "metadata": {
        "id": "M78e_8yNLDoZ",
        "colab_type": "code",
        "colab": {
          "base_uri": "https://localhost:8080/",
          "height": 35
        },
        "outputId": "583aaf95-9e02-4ef7-fe99-ddc99eb9c322"
      },
      "source": [
        "np.mean(recall)"
      ],
      "execution_count": null,
      "outputs": [
        {
          "output_type": "execute_result",
          "data": {
            "text/plain": [
              "0.7681606746762559"
            ]
          },
          "metadata": {
            "tags": []
          },
          "execution_count": 40
        }
      ]
    },
    {
      "cell_type": "code",
      "metadata": {
        "id": "yesXG_AnTxV_",
        "colab_type": "code",
        "colab": {
          "base_uri": "https://localhost:8080/",
          "height": 35
        },
        "outputId": "dcd7fffe-430a-4457-c03d-b1a69be37231"
      },
      "source": [
        "#average accuracy across all folds\n",
        "np.mean(accuracy)"
      ],
      "execution_count": null,
      "outputs": [
        {
          "output_type": "execute_result",
          "data": {
            "text/plain": [
              "0.8093833475419153"
            ]
          },
          "metadata": {
            "tags": []
          },
          "execution_count": 41
        }
      ]
    },
    {
      "cell_type": "code",
      "metadata": {
        "id": "IBEnsXEAUE0v",
        "colab_type": "code",
        "colab": {
          "base_uri": "https://localhost:8080/",
          "height": 35
        },
        "outputId": "9dab3622-5f1d-4c03-9e14-a51e11bd45bb"
      },
      "source": [
        "#average f1_scores across all folds\n",
        "np.mean(f1_scores)"
      ],
      "execution_count": null,
      "outputs": [
        {
          "output_type": "execute_result",
          "data": {
            "text/plain": [
              "0.7499370019223646"
            ]
          },
          "metadata": {
            "tags": []
          },
          "execution_count": 42
        }
      ]
    },
    {
      "cell_type": "code",
      "metadata": {
        "id": "nSynF5hyUJKL",
        "colab_type": "code",
        "colab": {
          "base_uri": "https://localhost:8080/",
          "height": 35
        },
        "outputId": "ddcb2cbc-6929-460c-f2f5-5176934e9b99"
      },
      "source": [
        "#average auc_scores across all folds\n",
        "np.mean(auc)"
      ],
      "execution_count": null,
      "outputs": [
        {
          "output_type": "execute_result",
          "data": {
            "text/plain": [
              "0.8644411046158771"
            ]
          },
          "metadata": {
            "tags": []
          },
          "execution_count": 43
        }
      ]
    },
    {
      "cell_type": "code",
      "metadata": {
        "id": "ZS59r4ejUMib",
        "colab_type": "code",
        "colab": {
          "base_uri": "https://localhost:8080/",
          "height": 35
        },
        "outputId": "fc9d2497-8b35-4d9f-cc08-e9314773a7be"
      },
      "source": [
        "history[0].history.keys()"
      ],
      "execution_count": null,
      "outputs": [
        {
          "output_type": "execute_result",
          "data": {
            "text/plain": [
              "dict_keys(['loss', 'accuracy', 'val_loss', 'val_accuracy', 'lr'])"
            ]
          },
          "metadata": {
            "tags": []
          },
          "execution_count": 30
        }
      ]
    },
    {
      "cell_type": "code",
      "metadata": {
        "id": "gqrytK3kUz8y",
        "colab_type": "code",
        "colab": {}
      },
      "source": [
        "def plot_accuracy(hist,acc='val_accuracy'):\n",
        "    for i in range(5):\n",
        "      plt.plot(hist[i].history[acc],linestyle='-.',linewidth=1.5)\n",
        "     \n",
        "    mean=np.mean([[j for j in x.history[acc]] for x in hist],axis=0)\n",
        "    std=np.std([[j for j in x.history[acc]] for x in hist],axis=0)\n",
        "    plt.plot(mean,linewidth=2,color='black')\n",
        "    if acc=='val_accuracy':\n",
        "      plt.title('Model Validation Accuracy')\n",
        "    else:\n",
        "      plt.title('Model Training Accuracy')\n",
        "    plt.ylabel('Accuracy')\n",
        "    plt.xlabel('Epochs')\n",
        "    plt.legend(['Fold1','Fold2','Fold3','Fold4','Fold5','Average Val Accuracy' ], loc='best')\n",
        "    plt.show()"
      ],
      "execution_count": null,
      "outputs": []
    },
    {
      "cell_type": "code",
      "metadata": {
        "id": "bU00gMO6Vjt0",
        "colab_type": "code",
        "colab": {
          "base_uri": "https://localhost:8080/",
          "height": 295
        },
        "outputId": "f5dc7b80-c010-4480-8777-daa3af191bc8"
      },
      "source": [
        "plot_accuracy(history)"
      ],
      "execution_count": null,
      "outputs": [
        {
          "output_type": "display_data",
          "data": {
            "image/png": "[encoded data removed]",
            "text/plain": [
              "<Figure size 432x288 with 1 Axes>"
            ]
          },
          "metadata": {
            "tags": [],
            "needs_background": "light"
          }
        }
      ]
    },
    {
      "cell_type": "code",
      "metadata": {
        "id": "iCsZIxDS2Pck",
        "colab_type": "code",
        "colab": {
          "base_uri": "https://localhost:8080/",
          "height": 295
        },
        "outputId": "5dcb8f92-f85a-4558-9a80-abd1ebde7e86"
      },
      "source": [
        "plot_accuracy(history,acc='accuracy')"
      ],
      "execution_count": null,
      "outputs": [
        {
          "output_type": "display_data",
          "data": {
            "image/png": "[encoded data removed]",
            "text/plain": [
              "<Figure size 432x288 with 1 Axes>"
            ]
          },
          "metadata": {
            "tags": [],
            "needs_background": "light"
          }
        }
      ]
    },
    {
      "cell_type": "code",
      "metadata": {
        "id": "o0nx7FTsogaB",
        "colab_type": "code",
        "colab": {}
      },
      "source": [
        ""
      ],
      "execution_count": null,
      "outputs": []
    }
  ]
}