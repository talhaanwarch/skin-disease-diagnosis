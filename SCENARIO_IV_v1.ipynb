{
  "nbformat": 4,
  "nbformat_minor": 0,
  "metadata": {
    "colab": {
      "name": "SCENARIO IV v1.ipynb",
      "provenance": [],
      "collapsed_sections": [],
      "include_colab_link": true
    },
    "kernelspec": {
      "name": "python3",
      "display_name": "Python 3"
    },
    "accelerator": "GPU"
  },
  "cells": [
    {
      "cell_type": "markdown",
      "metadata": {
        "id": "view-in-github",
        "colab_type": "text"
      },
      "source": [
        "<a href=\"https://colab.research.google.com/github/talhaanwarch/skin_cancer_detection_phone_camera/blob/master/SCENARIO_IV_v1.ipynb\" target=\"_parent\"><img src=\"https://colab.research.google.com/assets/colab-badge.svg\" alt=\"Open In Colab\"/></a>"
      ]
    },
    {
      "cell_type": "markdown",
      "metadata": {
        "id": "REQXLqij5JoE",
        "colab_type": "text"
      },
      "source": [
        "**Scenario II:** Training on ISIC 2019 and tested on PAD dataset (Only images)\n"
      ]
    },
    {
      "cell_type": "code",
      "metadata": {
        "id": "FzpATBgHIHqu",
        "colab_type": "code",
        "colab": {
          "base_uri": "https://localhost:8080/",
          "height": 124
        },
        "outputId": "d1c9f4c9-0e87-40f0-a81c-0dd3e35d2661"
      },
      "source": [
        "from google.colab import drive\n",
        "drive.mount('/content/drive')"
      ],
      "execution_count": 1,
      "outputs": [
        {
          "output_type": "stream",
          "text": [
            "Go to this URL in a browser: https://accounts.google.com/o/oauth2/auth?client_id=947318989803-6bn6qk8qdgf4n4g3pfee6491hc0brc4i.apps.googleusercontent.com&redirect_uri=urn%3aietf%3awg%3aoauth%3a2.0%3aoob&scope=email%20https%3a%2f%2fwww.googleapis.com%2fauth%2fdocs.test%20https%3a%2f%2fwww.googleapis.com%2fauth%2fdrive%20https%3a%2f%2fwww.googleapis.com%2fauth%2fdrive.photos.readonly%20https%3a%2f%2fwww.googleapis.com%2fauth%2fpeopleapi.readonly&response_type=code\n",
            "\n",
            "Enter your authorization code:\n",
            "··········\n",
            "Mounted at /content/drive\n"
          ],
          "name": "stdout"
        }
      ]
    },
    {
      "cell_type": "code",
      "metadata": {
        "id": "ogr6mRTfIPTn",
        "colab_type": "code",
        "colab": {}
      },
      "source": [
        "!cp /content/drive/My\\ Drive/isic_weights/isicall_eff3_weights.hdf5 /content/"
      ],
      "execution_count": 2,
      "outputs": []
    },
    {
      "cell_type": "code",
      "metadata": {
        "id": "tN-dRYVxFchm",
        "colab_type": "code",
        "colab": {}
      },
      "source": [
        "%%capture\n",
        "!pip install efficientnet\n",
        "!pip install pytorch-tabnet"
      ],
      "execution_count": 3,
      "outputs": []
    },
    {
      "cell_type": "code",
      "metadata": {
        "id": "Ys4Vc6mwF_U8",
        "colab_type": "code",
        "colab": {
          "base_uri": "https://localhost:8080/",
          "height": 228
        },
        "outputId": "64a1fd8e-d6de-4f74-9bd2-7ea33e2e766e"
      },
      "source": [
        "#download the dataset\n",
        "!wget https://md-datasets-cache-zipfiles-prod.s3.eu-west-1.amazonaws.com/zr7vgbcyr2-1.zip"
      ],
      "execution_count": 4,
      "outputs": [
        {
          "output_type": "stream",
          "text": [
            "--2020-08-27 14:03:20--  https://md-datasets-cache-zipfiles-prod.s3.eu-west-1.amazonaws.com/zr7vgbcyr2-1.zip\n",
            "Resolving md-datasets-cache-zipfiles-prod.s3.eu-west-1.amazonaws.com (md-datasets-cache-zipfiles-prod.s3.eu-west-1.amazonaws.com)... 52.218.21.163\n",
            "Connecting to md-datasets-cache-zipfiles-prod.s3.eu-west-1.amazonaws.com (md-datasets-cache-zipfiles-prod.s3.eu-west-1.amazonaws.com)|52.218.21.163|:443... connected.\n",
            "HTTP request sent, awaiting response... 200 OK\n",
            "Length: 3593344681 (3.3G) [application/octet-stream]\n",
            "Saving to: ‘zr7vgbcyr2-1.zip’\n",
            "\n",
            "zr7vgbcyr2-1.zip    100%[===================>]   3.35G  40.4MB/s    in 60s     \n",
            "\n",
            "2020-08-27 14:04:20 (57.2 MB/s) - ‘zr7vgbcyr2-1.zip’ saved [3593344681/3593344681]\n",
            "\n"
          ],
          "name": "stdout"
        }
      ]
    },
    {
      "cell_type": "code",
      "metadata": {
        "id": "crr19GsaGB2w",
        "colab_type": "code",
        "colab": {}
      },
      "source": [
        "#unzip the dataset\n",
        "%%capture\n",
        "!unzip zr7vgbcyr2-1.zip"
      ],
      "execution_count": 5,
      "outputs": []
    },
    {
      "cell_type": "code",
      "metadata": {
        "id": "_bPafWo1GCQF",
        "colab_type": "code",
        "colab": {}
      },
      "source": [
        "#create a new folder named as data\n",
        "!mkdir data"
      ],
      "execution_count": 6,
      "outputs": []
    },
    {
      "cell_type": "code",
      "metadata": {
        "id": "qjc8HZ54GCTG",
        "colab_type": "code",
        "colab": {}
      },
      "source": [
        "#unzip all subfolder\n",
        "%%capture\n",
        "!unzip /content/images/imgs_part_1.zip\n",
        "!unzip /content/images/imgs_part_2.zip\n",
        "!unzip /content/images/imgs_part_3.zip"
      ],
      "execution_count": 7,
      "outputs": []
    },
    {
      "cell_type": "code",
      "metadata": {
        "id": "evwiG9ihGCWK",
        "colab_type": "code",
        "colab": {}
      },
      "source": [
        "#move all pictures from subfolder to main folder data\n",
        "!mv  /content/imgs_part_1/* /content/data\n",
        "!mv  /content/imgs_part_2/* /content/data\n",
        "!mv  /content/imgs_part_3/* /content/data"
      ],
      "execution_count": 8,
      "outputs": []
    },
    {
      "cell_type": "code",
      "metadata": {
        "id": "Wymt3DYLGCew",
        "colab_type": "code",
        "colab": {}
      },
      "source": [
        "#remove the folder that contain subfolders\n",
        "!rm -r /content/images"
      ],
      "execution_count": 9,
      "outputs": []
    },
    {
      "cell_type": "code",
      "metadata": {
        "id": "HAEyK-mJGCb6",
        "colab_type": "code",
        "colab": {
          "base_uri": "https://localhost:8080/",
          "height": 215
        },
        "outputId": "2f8355f2-161f-4383-e347-789b867fad3e"
      },
      "source": [
        "import pandas as pd\n",
        "import numpy as np\n",
        "import matplotlib.pyplot as plt\n",
        "from sklearn.model_selection import KFold,StratifiedKFold\n",
        "import gc\n",
        "\n",
        "from sklearn.metrics import classification_report,accuracy_score,f1_score,roc_auc_score,recall_score,precision_score\n",
        "#read annotation file\n",
        "df=pd.read_csv('/content/metadata.csv')\n",
        "df.head()"
      ],
      "execution_count": 10,
      "outputs": [
        {
          "output_type": "execute_result",
          "data": {
            "text/html": [
              "<div>\n",
              "<style scoped>\n",
              "    .dataframe tbody tr th:only-of-type {\n",
              "        vertical-align: middle;\n",
              "    }\n",
              "\n",
              "    .dataframe tbody tr th {\n",
              "        vertical-align: top;\n",
              "    }\n",
              "\n",
              "    .dataframe thead th {\n",
              "        text-align: right;\n",
              "    }\n",
              "</style>\n",
              "<table border=\"1\" class=\"dataframe\">\n",
              "  <thead>\n",
              "    <tr style=\"text-align: right;\">\n",
              "      <th></th>\n",
              "      <th>patient_id</th>\n",
              "      <th>lesion_id</th>\n",
              "      <th>smoke</th>\n",
              "      <th>drink</th>\n",
              "      <th>background_father</th>\n",
              "      <th>background_mother</th>\n",
              "      <th>age</th>\n",
              "      <th>pesticide</th>\n",
              "      <th>gender</th>\n",
              "      <th>skin_cancer_history</th>\n",
              "      <th>cancer_history</th>\n",
              "      <th>has_piped_water</th>\n",
              "      <th>has_sewage_system</th>\n",
              "      <th>fitspatrick</th>\n",
              "      <th>region</th>\n",
              "      <th>diameter_1</th>\n",
              "      <th>diameter_2</th>\n",
              "      <th>diagnostic</th>\n",
              "      <th>itch</th>\n",
              "      <th>grew</th>\n",
              "      <th>hurt</th>\n",
              "      <th>changed</th>\n",
              "      <th>bleed</th>\n",
              "      <th>elevation</th>\n",
              "      <th>img_id</th>\n",
              "      <th>biopsed</th>\n",
              "    </tr>\n",
              "  </thead>\n",
              "  <tbody>\n",
              "    <tr>\n",
              "      <th>0</th>\n",
              "      <td>PAT_1516</td>\n",
              "      <td>1765</td>\n",
              "      <td>NaN</td>\n",
              "      <td>NaN</td>\n",
              "      <td>NaN</td>\n",
              "      <td>NaN</td>\n",
              "      <td>8</td>\n",
              "      <td>NaN</td>\n",
              "      <td>NaN</td>\n",
              "      <td>NaN</td>\n",
              "      <td>NaN</td>\n",
              "      <td>NaN</td>\n",
              "      <td>NaN</td>\n",
              "      <td>NaN</td>\n",
              "      <td>ARM</td>\n",
              "      <td>NaN</td>\n",
              "      <td>NaN</td>\n",
              "      <td>NEV</td>\n",
              "      <td>False</td>\n",
              "      <td>False</td>\n",
              "      <td>False</td>\n",
              "      <td>False</td>\n",
              "      <td>False</td>\n",
              "      <td>False</td>\n",
              "      <td>PAT_1516_1765_530.png</td>\n",
              "      <td>False</td>\n",
              "    </tr>\n",
              "    <tr>\n",
              "      <th>1</th>\n",
              "      <td>PAT_46</td>\n",
              "      <td>881</td>\n",
              "      <td>False</td>\n",
              "      <td>False</td>\n",
              "      <td>POMERANIA</td>\n",
              "      <td>POMERANIA</td>\n",
              "      <td>55</td>\n",
              "      <td>False</td>\n",
              "      <td>FEMALE</td>\n",
              "      <td>True</td>\n",
              "      <td>True</td>\n",
              "      <td>True</td>\n",
              "      <td>True</td>\n",
              "      <td>3.0</td>\n",
              "      <td>NECK</td>\n",
              "      <td>6.0</td>\n",
              "      <td>5.0</td>\n",
              "      <td>BCC</td>\n",
              "      <td>True</td>\n",
              "      <td>True</td>\n",
              "      <td>False</td>\n",
              "      <td>True</td>\n",
              "      <td>True</td>\n",
              "      <td>True</td>\n",
              "      <td>PAT_46_881_939.png</td>\n",
              "      <td>True</td>\n",
              "    </tr>\n",
              "    <tr>\n",
              "      <th>2</th>\n",
              "      <td>PAT_1545</td>\n",
              "      <td>1867</td>\n",
              "      <td>NaN</td>\n",
              "      <td>NaN</td>\n",
              "      <td>NaN</td>\n",
              "      <td>NaN</td>\n",
              "      <td>77</td>\n",
              "      <td>NaN</td>\n",
              "      <td>NaN</td>\n",
              "      <td>NaN</td>\n",
              "      <td>NaN</td>\n",
              "      <td>NaN</td>\n",
              "      <td>NaN</td>\n",
              "      <td>NaN</td>\n",
              "      <td>FACE</td>\n",
              "      <td>NaN</td>\n",
              "      <td>NaN</td>\n",
              "      <td>ACK</td>\n",
              "      <td>True</td>\n",
              "      <td>False</td>\n",
              "      <td>False</td>\n",
              "      <td>False</td>\n",
              "      <td>False</td>\n",
              "      <td>False</td>\n",
              "      <td>PAT_1545_1867_547.png</td>\n",
              "      <td>False</td>\n",
              "    </tr>\n",
              "    <tr>\n",
              "      <th>3</th>\n",
              "      <td>PAT_1989</td>\n",
              "      <td>4061</td>\n",
              "      <td>NaN</td>\n",
              "      <td>NaN</td>\n",
              "      <td>NaN</td>\n",
              "      <td>NaN</td>\n",
              "      <td>75</td>\n",
              "      <td>NaN</td>\n",
              "      <td>NaN</td>\n",
              "      <td>NaN</td>\n",
              "      <td>NaN</td>\n",
              "      <td>NaN</td>\n",
              "      <td>NaN</td>\n",
              "      <td>NaN</td>\n",
              "      <td>HAND</td>\n",
              "      <td>NaN</td>\n",
              "      <td>NaN</td>\n",
              "      <td>ACK</td>\n",
              "      <td>True</td>\n",
              "      <td>False</td>\n",
              "      <td>False</td>\n",
              "      <td>False</td>\n",
              "      <td>False</td>\n",
              "      <td>False</td>\n",
              "      <td>PAT_1989_4061_934.png</td>\n",
              "      <td>False</td>\n",
              "    </tr>\n",
              "    <tr>\n",
              "      <th>4</th>\n",
              "      <td>PAT_684</td>\n",
              "      <td>1302</td>\n",
              "      <td>False</td>\n",
              "      <td>True</td>\n",
              "      <td>POMERANIA</td>\n",
              "      <td>POMERANIA</td>\n",
              "      <td>79</td>\n",
              "      <td>False</td>\n",
              "      <td>MALE</td>\n",
              "      <td>True</td>\n",
              "      <td>False</td>\n",
              "      <td>False</td>\n",
              "      <td>False</td>\n",
              "      <td>1.0</td>\n",
              "      <td>FOREARM</td>\n",
              "      <td>5.0</td>\n",
              "      <td>5.0</td>\n",
              "      <td>BCC</td>\n",
              "      <td>True</td>\n",
              "      <td>True</td>\n",
              "      <td>False</td>\n",
              "      <td>False</td>\n",
              "      <td>True</td>\n",
              "      <td>True</td>\n",
              "      <td>PAT_684_1302_588.png</td>\n",
              "      <td>True</td>\n",
              "    </tr>\n",
              "  </tbody>\n",
              "</table>\n",
              "</div>"
            ],
            "text/plain": [
              "  patient_id  lesion_id  smoke  ... elevation                 img_id biopsed\n",
              "0   PAT_1516       1765    NaN  ...     False  PAT_1516_1765_530.png   False\n",
              "1     PAT_46        881  False  ...      True     PAT_46_881_939.png    True\n",
              "2   PAT_1545       1867    NaN  ...     False  PAT_1545_1867_547.png   False\n",
              "3   PAT_1989       4061    NaN  ...     False  PAT_1989_4061_934.png   False\n",
              "4    PAT_684       1302  False  ...      True   PAT_684_1302_588.png    True\n",
              "\n",
              "[5 rows x 26 columns]"
            ]
          },
          "metadata": {
            "tags": []
          },
          "execution_count": 10
        }
      ]
    },
    {
      "cell_type": "code",
      "metadata": {
        "id": "2frivyi2P-OO",
        "colab_type": "code",
        "colab": {
          "base_uri": "https://localhost:8080/",
          "height": 195
        },
        "outputId": "bd2813c5-43ae-490b-a4f6-9d3c37a3e41e"
      },
      "source": [
        "labels=pd.get_dummies(df['diagnostic'])\n",
        "df_img=pd.concat([df['img_id'],labels],axis=1)\n",
        "df_img.head()"
      ],
      "execution_count": 11,
      "outputs": [
        {
          "output_type": "execute_result",
          "data": {
            "text/html": [
              "<div>\n",
              "<style scoped>\n",
              "    .dataframe tbody tr th:only-of-type {\n",
              "        vertical-align: middle;\n",
              "    }\n",
              "\n",
              "    .dataframe tbody tr th {\n",
              "        vertical-align: top;\n",
              "    }\n",
              "\n",
              "    .dataframe thead th {\n",
              "        text-align: right;\n",
              "    }\n",
              "</style>\n",
              "<table border=\"1\" class=\"dataframe\">\n",
              "  <thead>\n",
              "    <tr style=\"text-align: right;\">\n",
              "      <th></th>\n",
              "      <th>img_id</th>\n",
              "      <th>ACK</th>\n",
              "      <th>BCC</th>\n",
              "      <th>MEL</th>\n",
              "      <th>NEV</th>\n",
              "      <th>SCC</th>\n",
              "      <th>SEK</th>\n",
              "    </tr>\n",
              "  </thead>\n",
              "  <tbody>\n",
              "    <tr>\n",
              "      <th>0</th>\n",
              "      <td>PAT_1516_1765_530.png</td>\n",
              "      <td>0</td>\n",
              "      <td>0</td>\n",
              "      <td>0</td>\n",
              "      <td>1</td>\n",
              "      <td>0</td>\n",
              "      <td>0</td>\n",
              "    </tr>\n",
              "    <tr>\n",
              "      <th>1</th>\n",
              "      <td>PAT_46_881_939.png</td>\n",
              "      <td>0</td>\n",
              "      <td>1</td>\n",
              "      <td>0</td>\n",
              "      <td>0</td>\n",
              "      <td>0</td>\n",
              "      <td>0</td>\n",
              "    </tr>\n",
              "    <tr>\n",
              "      <th>2</th>\n",
              "      <td>PAT_1545_1867_547.png</td>\n",
              "      <td>1</td>\n",
              "      <td>0</td>\n",
              "      <td>0</td>\n",
              "      <td>0</td>\n",
              "      <td>0</td>\n",
              "      <td>0</td>\n",
              "    </tr>\n",
              "    <tr>\n",
              "      <th>3</th>\n",
              "      <td>PAT_1989_4061_934.png</td>\n",
              "      <td>1</td>\n",
              "      <td>0</td>\n",
              "      <td>0</td>\n",
              "      <td>0</td>\n",
              "      <td>0</td>\n",
              "      <td>0</td>\n",
              "    </tr>\n",
              "    <tr>\n",
              "      <th>4</th>\n",
              "      <td>PAT_684_1302_588.png</td>\n",
              "      <td>0</td>\n",
              "      <td>1</td>\n",
              "      <td>0</td>\n",
              "      <td>0</td>\n",
              "      <td>0</td>\n",
              "      <td>0</td>\n",
              "    </tr>\n",
              "  </tbody>\n",
              "</table>\n",
              "</div>"
            ],
            "text/plain": [
              "                  img_id  ACK  BCC  MEL  NEV  SCC  SEK\n",
              "0  PAT_1516_1765_530.png    0    0    0    1    0    0\n",
              "1     PAT_46_881_939.png    0    1    0    0    0    0\n",
              "2  PAT_1545_1867_547.png    1    0    0    0    0    0\n",
              "3  PAT_1989_4061_934.png    1    0    0    0    0    0\n",
              "4   PAT_684_1302_588.png    0    1    0    0    0    0"
            ]
          },
          "metadata": {
            "tags": []
          },
          "execution_count": 11
        }
      ]
    },
    {
      "cell_type": "code",
      "metadata": {
        "id": "40Dn7fRDMbov",
        "colab_type": "code",
        "colab": {}
      },
      "source": [
        "df['skin_cancer_history']=df['skin_cancer_history'].fillna('unknown').astype('str')\n",
        "df['cancer_history']=df['cancer_history'].fillna('unknown').astype('str')"
      ],
      "execution_count": 12,
      "outputs": []
    },
    {
      "cell_type": "code",
      "metadata": {
        "id": "aAJmc3qmNhwu",
        "colab_type": "code",
        "colab": {}
      },
      "source": [
        "df['diameter_1'].fillna(df['diameter_1'].mean(),inplace=True)\n",
        "df['diameter_2'].fillna(df['diameter_2'].mean(),inplace=True)"
      ],
      "execution_count": 13,
      "outputs": []
    },
    {
      "cell_type": "code",
      "metadata": {
        "id": "zuyhF-KYPACS",
        "colab_type": "code",
        "colab": {}
      },
      "source": [
        "from sklearn.preprocessing import LabelEncoder,OneHotEncoder\n",
        "encLE=LabelEncoder()\n",
        "encOHE=OneHotEncoder(sparse=False)"
      ],
      "execution_count": 14,
      "outputs": []
    },
    {
      "cell_type": "code",
      "metadata": {
        "id": "htAJackwOI18",
        "colab_type": "code",
        "colab": {}
      },
      "source": [
        "for i in df.columns[2::]:\n",
        "  if i!='diagnostic' or i!='img_id':\n",
        "    df[i]=encLE.fit_transform(df[i].astype('str'))"
      ],
      "execution_count": 15,
      "outputs": []
    },
    {
      "cell_type": "code",
      "metadata": {
        "id": "DZxpslEFNjvn",
        "colab_type": "code",
        "colab": {
          "base_uri": "https://localhost:8080/",
          "height": 215
        },
        "outputId": "f8d5df23-34a3-4fdb-bfad-5c6c48ca817a"
      },
      "source": [
        "df.head()"
      ],
      "execution_count": 16,
      "outputs": [
        {
          "output_type": "execute_result",
          "data": {
            "text/html": [
              "<div>\n",
              "<style scoped>\n",
              "    .dataframe tbody tr th:only-of-type {\n",
              "        vertical-align: middle;\n",
              "    }\n",
              "\n",
              "    .dataframe tbody tr th {\n",
              "        vertical-align: top;\n",
              "    }\n",
              "\n",
              "    .dataframe thead th {\n",
              "        text-align: right;\n",
              "    }\n",
              "</style>\n",
              "<table border=\"1\" class=\"dataframe\">\n",
              "  <thead>\n",
              "    <tr style=\"text-align: right;\">\n",
              "      <th></th>\n",
              "      <th>patient_id</th>\n",
              "      <th>lesion_id</th>\n",
              "      <th>smoke</th>\n",
              "      <th>drink</th>\n",
              "      <th>background_father</th>\n",
              "      <th>background_mother</th>\n",
              "      <th>age</th>\n",
              "      <th>pesticide</th>\n",
              "      <th>gender</th>\n",
              "      <th>skin_cancer_history</th>\n",
              "      <th>cancer_history</th>\n",
              "      <th>has_piped_water</th>\n",
              "      <th>has_sewage_system</th>\n",
              "      <th>fitspatrick</th>\n",
              "      <th>region</th>\n",
              "      <th>diameter_1</th>\n",
              "      <th>diameter_2</th>\n",
              "      <th>diagnostic</th>\n",
              "      <th>itch</th>\n",
              "      <th>grew</th>\n",
              "      <th>hurt</th>\n",
              "      <th>changed</th>\n",
              "      <th>bleed</th>\n",
              "      <th>elevation</th>\n",
              "      <th>img_id</th>\n",
              "      <th>biopsed</th>\n",
              "    </tr>\n",
              "  </thead>\n",
              "  <tbody>\n",
              "    <tr>\n",
              "      <th>0</th>\n",
              "      <td>PAT_1516</td>\n",
              "      <td>1765</td>\n",
              "      <td>2</td>\n",
              "      <td>2</td>\n",
              "      <td>13</td>\n",
              "      <td>11</td>\n",
              "      <td>68</td>\n",
              "      <td>2</td>\n",
              "      <td>2</td>\n",
              "      <td>2</td>\n",
              "      <td>2</td>\n",
              "      <td>2</td>\n",
              "      <td>2</td>\n",
              "      <td>6</td>\n",
              "      <td>1</td>\n",
              "      <td>6</td>\n",
              "      <td>37</td>\n",
              "      <td>3</td>\n",
              "      <td>0</td>\n",
              "      <td>0</td>\n",
              "      <td>0</td>\n",
              "      <td>0</td>\n",
              "      <td>0</td>\n",
              "      <td>0</td>\n",
              "      <td>456</td>\n",
              "      <td>0</td>\n",
              "    </tr>\n",
              "    <tr>\n",
              "      <th>1</th>\n",
              "      <td>PAT_46</td>\n",
              "      <td>881</td>\n",
              "      <td>0</td>\n",
              "      <td>0</td>\n",
              "      <td>9</td>\n",
              "      <td>7</td>\n",
              "      <td>42</td>\n",
              "      <td>0</td>\n",
              "      <td>0</td>\n",
              "      <td>1</td>\n",
              "      <td>1</td>\n",
              "      <td>1</td>\n",
              "      <td>1</td>\n",
              "      <td>2</td>\n",
              "      <td>10</td>\n",
              "      <td>35</td>\n",
              "      <td>31</td>\n",
              "      <td>1</td>\n",
              "      <td>1</td>\n",
              "      <td>1</td>\n",
              "      <td>0</td>\n",
              "      <td>1</td>\n",
              "      <td>1</td>\n",
              "      <td>1</td>\n",
              "      <td>1446</td>\n",
              "      <td>1</td>\n",
              "    </tr>\n",
              "    <tr>\n",
              "      <th>2</th>\n",
              "      <td>PAT_1545</td>\n",
              "      <td>1867</td>\n",
              "      <td>2</td>\n",
              "      <td>2</td>\n",
              "      <td>13</td>\n",
              "      <td>11</td>\n",
              "      <td>65</td>\n",
              "      <td>2</td>\n",
              "      <td>2</td>\n",
              "      <td>2</td>\n",
              "      <td>2</td>\n",
              "      <td>2</td>\n",
              "      <td>2</td>\n",
              "      <td>6</td>\n",
              "      <td>5</td>\n",
              "      <td>6</td>\n",
              "      <td>37</td>\n",
              "      <td>0</td>\n",
              "      <td>1</td>\n",
              "      <td>0</td>\n",
              "      <td>0</td>\n",
              "      <td>0</td>\n",
              "      <td>0</td>\n",
              "      <td>0</td>\n",
              "      <td>478</td>\n",
              "      <td>0</td>\n",
              "    </tr>\n",
              "    <tr>\n",
              "      <th>3</th>\n",
              "      <td>PAT_1989</td>\n",
              "      <td>4061</td>\n",
              "      <td>2</td>\n",
              "      <td>2</td>\n",
              "      <td>13</td>\n",
              "      <td>11</td>\n",
              "      <td>63</td>\n",
              "      <td>2</td>\n",
              "      <td>2</td>\n",
              "      <td>2</td>\n",
              "      <td>2</td>\n",
              "      <td>2</td>\n",
              "      <td>2</td>\n",
              "      <td>6</td>\n",
              "      <td>8</td>\n",
              "      <td>6</td>\n",
              "      <td>37</td>\n",
              "      <td>0</td>\n",
              "      <td>1</td>\n",
              "      <td>0</td>\n",
              "      <td>0</td>\n",
              "      <td>0</td>\n",
              "      <td>0</td>\n",
              "      <td>0</td>\n",
              "      <td>845</td>\n",
              "      <td>0</td>\n",
              "    </tr>\n",
              "    <tr>\n",
              "      <th>4</th>\n",
              "      <td>PAT_684</td>\n",
              "      <td>1302</td>\n",
              "      <td>0</td>\n",
              "      <td>1</td>\n",
              "      <td>9</td>\n",
              "      <td>7</td>\n",
              "      <td>67</td>\n",
              "      <td>0</td>\n",
              "      <td>1</td>\n",
              "      <td>1</td>\n",
              "      <td>0</td>\n",
              "      <td>0</td>\n",
              "      <td>0</td>\n",
              "      <td>0</td>\n",
              "      <td>7</td>\n",
              "      <td>33</td>\n",
              "      <td>31</td>\n",
              "      <td>1</td>\n",
              "      <td>1</td>\n",
              "      <td>1</td>\n",
              "      <td>0</td>\n",
              "      <td>0</td>\n",
              "      <td>1</td>\n",
              "      <td>1</td>\n",
              "      <td>1770</td>\n",
              "      <td>1</td>\n",
              "    </tr>\n",
              "  </tbody>\n",
              "</table>\n",
              "</div>"
            ],
            "text/plain": [
              "  patient_id  lesion_id  smoke  drink  ...  bleed  elevation  img_id  biopsed\n",
              "0   PAT_1516       1765      2      2  ...      0          0     456        0\n",
              "1     PAT_46        881      0      0  ...      1          1    1446        1\n",
              "2   PAT_1545       1867      2      2  ...      0          0     478        0\n",
              "3   PAT_1989       4061      2      2  ...      0          0     845        0\n",
              "4    PAT_684       1302      0      1  ...      1          1    1770        1\n",
              "\n",
              "[5 rows x 26 columns]"
            ]
          },
          "metadata": {
            "tags": []
          },
          "execution_count": 16
        }
      ]
    },
    {
      "cell_type": "code",
      "metadata": {
        "id": "2bXbUQUwNjtD",
        "colab_type": "code",
        "colab": {
          "base_uri": "https://localhost:8080/",
          "height": 215
        },
        "outputId": "161c5bd4-c1e8-498f-9e58-eabc6af5ecb1"
      },
      "source": [
        "tab_features=df.drop(['patient_id','lesion_id','diagnostic','img_id'],axis=1)\n",
        "tab_labels=df['diagnostic']\n",
        "tab_features.head()"
      ],
      "execution_count": 17,
      "outputs": [
        {
          "output_type": "execute_result",
          "data": {
            "text/html": [
              "<div>\n",
              "<style scoped>\n",
              "    .dataframe tbody tr th:only-of-type {\n",
              "        vertical-align: middle;\n",
              "    }\n",
              "\n",
              "    .dataframe tbody tr th {\n",
              "        vertical-align: top;\n",
              "    }\n",
              "\n",
              "    .dataframe thead th {\n",
              "        text-align: right;\n",
              "    }\n",
              "</style>\n",
              "<table border=\"1\" class=\"dataframe\">\n",
              "  <thead>\n",
              "    <tr style=\"text-align: right;\">\n",
              "      <th></th>\n",
              "      <th>smoke</th>\n",
              "      <th>drink</th>\n",
              "      <th>background_father</th>\n",
              "      <th>background_mother</th>\n",
              "      <th>age</th>\n",
              "      <th>pesticide</th>\n",
              "      <th>gender</th>\n",
              "      <th>skin_cancer_history</th>\n",
              "      <th>cancer_history</th>\n",
              "      <th>has_piped_water</th>\n",
              "      <th>has_sewage_system</th>\n",
              "      <th>fitspatrick</th>\n",
              "      <th>region</th>\n",
              "      <th>diameter_1</th>\n",
              "      <th>diameter_2</th>\n",
              "      <th>itch</th>\n",
              "      <th>grew</th>\n",
              "      <th>hurt</th>\n",
              "      <th>changed</th>\n",
              "      <th>bleed</th>\n",
              "      <th>elevation</th>\n",
              "      <th>biopsed</th>\n",
              "    </tr>\n",
              "  </thead>\n",
              "  <tbody>\n",
              "    <tr>\n",
              "      <th>0</th>\n",
              "      <td>2</td>\n",
              "      <td>2</td>\n",
              "      <td>13</td>\n",
              "      <td>11</td>\n",
              "      <td>68</td>\n",
              "      <td>2</td>\n",
              "      <td>2</td>\n",
              "      <td>2</td>\n",
              "      <td>2</td>\n",
              "      <td>2</td>\n",
              "      <td>2</td>\n",
              "      <td>6</td>\n",
              "      <td>1</td>\n",
              "      <td>6</td>\n",
              "      <td>37</td>\n",
              "      <td>0</td>\n",
              "      <td>0</td>\n",
              "      <td>0</td>\n",
              "      <td>0</td>\n",
              "      <td>0</td>\n",
              "      <td>0</td>\n",
              "      <td>0</td>\n",
              "    </tr>\n",
              "    <tr>\n",
              "      <th>1</th>\n",
              "      <td>0</td>\n",
              "      <td>0</td>\n",
              "      <td>9</td>\n",
              "      <td>7</td>\n",
              "      <td>42</td>\n",
              "      <td>0</td>\n",
              "      <td>0</td>\n",
              "      <td>1</td>\n",
              "      <td>1</td>\n",
              "      <td>1</td>\n",
              "      <td>1</td>\n",
              "      <td>2</td>\n",
              "      <td>10</td>\n",
              "      <td>35</td>\n",
              "      <td>31</td>\n",
              "      <td>1</td>\n",
              "      <td>1</td>\n",
              "      <td>0</td>\n",
              "      <td>1</td>\n",
              "      <td>1</td>\n",
              "      <td>1</td>\n",
              "      <td>1</td>\n",
              "    </tr>\n",
              "    <tr>\n",
              "      <th>2</th>\n",
              "      <td>2</td>\n",
              "      <td>2</td>\n",
              "      <td>13</td>\n",
              "      <td>11</td>\n",
              "      <td>65</td>\n",
              "      <td>2</td>\n",
              "      <td>2</td>\n",
              "      <td>2</td>\n",
              "      <td>2</td>\n",
              "      <td>2</td>\n",
              "      <td>2</td>\n",
              "      <td>6</td>\n",
              "      <td>5</td>\n",
              "      <td>6</td>\n",
              "      <td>37</td>\n",
              "      <td>1</td>\n",
              "      <td>0</td>\n",
              "      <td>0</td>\n",
              "      <td>0</td>\n",
              "      <td>0</td>\n",
              "      <td>0</td>\n",
              "      <td>0</td>\n",
              "    </tr>\n",
              "    <tr>\n",
              "      <th>3</th>\n",
              "      <td>2</td>\n",
              "      <td>2</td>\n",
              "      <td>13</td>\n",
              "      <td>11</td>\n",
              "      <td>63</td>\n",
              "      <td>2</td>\n",
              "      <td>2</td>\n",
              "      <td>2</td>\n",
              "      <td>2</td>\n",
              "      <td>2</td>\n",
              "      <td>2</td>\n",
              "      <td>6</td>\n",
              "      <td>8</td>\n",
              "      <td>6</td>\n",
              "      <td>37</td>\n",
              "      <td>1</td>\n",
              "      <td>0</td>\n",
              "      <td>0</td>\n",
              "      <td>0</td>\n",
              "      <td>0</td>\n",
              "      <td>0</td>\n",
              "      <td>0</td>\n",
              "    </tr>\n",
              "    <tr>\n",
              "      <th>4</th>\n",
              "      <td>0</td>\n",
              "      <td>1</td>\n",
              "      <td>9</td>\n",
              "      <td>7</td>\n",
              "      <td>67</td>\n",
              "      <td>0</td>\n",
              "      <td>1</td>\n",
              "      <td>1</td>\n",
              "      <td>0</td>\n",
              "      <td>0</td>\n",
              "      <td>0</td>\n",
              "      <td>0</td>\n",
              "      <td>7</td>\n",
              "      <td>33</td>\n",
              "      <td>31</td>\n",
              "      <td>1</td>\n",
              "      <td>1</td>\n",
              "      <td>0</td>\n",
              "      <td>0</td>\n",
              "      <td>1</td>\n",
              "      <td>1</td>\n",
              "      <td>1</td>\n",
              "    </tr>\n",
              "  </tbody>\n",
              "</table>\n",
              "</div>"
            ],
            "text/plain": [
              "   smoke  drink  background_father  ...  bleed  elevation  biopsed\n",
              "0      2      2                 13  ...      0          0        0\n",
              "1      0      0                  9  ...      1          1        1\n",
              "2      2      2                 13  ...      0          0        0\n",
              "3      2      2                 13  ...      0          0        0\n",
              "4      0      1                  9  ...      1          1        1\n",
              "\n",
              "[5 rows x 22 columns]"
            ]
          },
          "metadata": {
            "tags": []
          },
          "execution_count": 17
        }
      ]
    },
    {
      "cell_type": "code",
      "metadata": {
        "id": "vVXhV9XmTZRS",
        "colab_type": "code",
        "colab": {}
      },
      "source": [
        "from sklearn.model_selection import RandomizedSearchCV, GridSearchCV\n",
        "from sklearn.model_selection import KFold\n",
        "from xgboost import XGBClassifier\n",
        "params = {\n",
        "        'min_child_weight': [1, 5, 10],\n",
        "        'gamma': [0.5, 1, 1.5, 2, 5],\n",
        "        'subsample': [0.6, 0.8, 1.0],\n",
        "        'colsample_bytree': [0.6, 0.8, 1.0],\n",
        "        'max_depth': [3, 4, 5],\n",
        "        'learning_rate':[0.1,0.2,0.5,0.01,0.0001,0.005]\n",
        "        }\n",
        "\n",
        "xgb = XGBClassifier(learning_rate=0.02, n_estimators=1000, objective='multi:softprob',\n",
        "                    silent=True, nthread=1)"
      ],
      "execution_count": 18,
      "outputs": []
    },
    {
      "cell_type": "code",
      "metadata": {
        "id": "owEtPbGFUGY0",
        "colab_type": "code",
        "colab": {}
      },
      "source": [
        "random_search = RandomizedSearchCV(xgb, param_distributions=params, n_iter=5, scoring='f1_macro', n_jobs=-1, cv=KFold(5).split(tab_features,tab_labels), verbose=3, random_state=1001 )"
      ],
      "execution_count": 19,
      "outputs": []
    },
    {
      "cell_type": "code",
      "metadata": {
        "id": "o54qZg7NUeW0",
        "colab_type": "code",
        "colab": {
          "base_uri": "https://localhost:8080/",
          "height": 437
        },
        "outputId": "3fd95775-2242-443b-9cfc-0f9fe30df6d5"
      },
      "source": [
        "random_search.fit(tab_features,tab_labels)\n"
      ],
      "execution_count": 20,
      "outputs": [
        {
          "output_type": "stream",
          "text": [
            "Fitting 5 folds for each of 5 candidates, totalling 25 fits\n"
          ],
          "name": "stdout"
        },
        {
          "output_type": "stream",
          "text": [
            "[Parallel(n_jobs=-1)]: Using backend LokyBackend with 2 concurrent workers.\n",
            "[Parallel(n_jobs=-1)]: Done  25 out of  25 | elapsed:  2.9min finished\n"
          ],
          "name": "stderr"
        },
        {
          "output_type": "execute_result",
          "data": {
            "text/plain": [
              "RandomizedSearchCV(cv=<generator object _BaseKFold.split at 0x7fb504093728>,\n",
              "                   error_score=nan,\n",
              "                   estimator=XGBClassifier(base_score=0.5, booster='gbtree',\n",
              "                                           colsample_bylevel=1,\n",
              "                                           colsample_bynode=1,\n",
              "                                           colsample_bytree=1, gamma=0,\n",
              "                                           learning_rate=0.02, max_delta_step=0,\n",
              "                                           max_depth=3, min_child_weight=1,\n",
              "                                           missing=None, n_estimators=1000,\n",
              "                                           n_jobs=1, nthread=1,\n",
              "                                           objective='multi:softpr...\n",
              "                                           verbosity=1),\n",
              "                   iid='deprecated', n_iter=5, n_jobs=-1,\n",
              "                   param_distributions={'colsample_bytree': [0.6, 0.8, 1.0],\n",
              "                                        'gamma': [0.5, 1, 1.5, 2, 5],\n",
              "                                        'learning_rate': [0.1, 0.2, 0.5, 0.01,\n",
              "                                                          0.0001, 0.005],\n",
              "                                        'max_depth': [3, 4, 5],\n",
              "                                        'min_child_weight': [1, 5, 10],\n",
              "                                        'subsample': [0.6, 0.8, 1.0]},\n",
              "                   pre_dispatch='2*n_jobs', random_state=1001, refit=True,\n",
              "                   return_train_score=False, scoring='f1_macro', verbose=3)"
            ]
          },
          "metadata": {
            "tags": []
          },
          "execution_count": 20
        }
      ]
    },
    {
      "cell_type": "code",
      "metadata": {
        "id": "0ErQ-cedVrap",
        "colab_type": "code",
        "colab": {
          "base_uri": "https://localhost:8080/",
          "height": 151
        },
        "outputId": "5a92a7c0-1adb-4a4a-b3f2-80c44ec8a58d"
      },
      "source": [
        "print(random_search.best_score_)\n",
        "print(random_search.best_estimator_)"
      ],
      "execution_count": 21,
      "outputs": [
        {
          "output_type": "stream",
          "text": [
            "0.7283370750670046\n",
            "XGBClassifier(base_score=0.5, booster='gbtree', colsample_bylevel=1,\n",
            "              colsample_bynode=1, colsample_bytree=0.6, gamma=1,\n",
            "              learning_rate=0.5, max_delta_step=0, max_depth=4,\n",
            "              min_child_weight=1, missing=None, n_estimators=1000, n_jobs=1,\n",
            "              nthread=1, objective='multi:softprob', random_state=0,\n",
            "              reg_alpha=0, reg_lambda=1, scale_pos_weight=1, seed=None,\n",
            "              silent=True, subsample=1.0, verbosity=1)\n"
          ],
          "name": "stdout"
        }
      ]
    },
    {
      "cell_type": "code",
      "metadata": {
        "id": "l_S4PAJUaEMj",
        "colab_type": "code",
        "colab": {}
      },
      "source": [
        "xgb_clf = XGBClassifier(base_score=0.5, booster='gbtree', colsample_bylevel=1,\n",
        "              colsample_bynode=1, colsample_bytree=0.6, gamma=1,\n",
        "              learning_rate=0.5, max_delta_step=0, max_depth=4,\n",
        "              min_child_weight=1, missing=None, n_estimators=1000, n_jobs=1,\n",
        "              nthread=1, objective='multi:softprob', random_state=0,\n",
        "              reg_alpha=0, reg_lambda=1, scale_pos_weight=1, seed=None,\n",
        "              silent=True, subsample=1.0, verbosity=1)"
      ],
      "execution_count": 22,
      "outputs": []
    },
    {
      "cell_type": "code",
      "metadata": {
        "id": "ZrJMy0WOa0d1",
        "colab_type": "code",
        "colab": {}
      },
      "source": [
        "# from xgboost import plot_importance\n",
        "# plot_importance(xgb)"
      ],
      "execution_count": 24,
      "outputs": []
    },
    {
      "cell_type": "code",
      "metadata": {
        "id": "6KfNQyNGcKio",
        "colab_type": "code",
        "colab": {}
      },
      "source": [
        "# tab_cols=['age', 'fitspatrick', 'region','diameter_1', 'diameter_2', 'itch', 'grew', 'changed','elevation', 'biopsed']\n",
        "# random_search.fit(tab_features[tab_cols],tab_labels)\n"
      ],
      "execution_count": 25,
      "outputs": []
    },
    {
      "cell_type": "code",
      "metadata": {
        "id": "Ogf8B7C-G2NB",
        "colab_type": "code",
        "colab": {
          "base_uri": "https://localhost:8080/",
          "height": 34
        },
        "outputId": "c14a4c4d-8c42-4ef4-b22a-4746be86d743"
      },
      "source": [
        "#labels columns in dataframe\n",
        "col=list(df_img.columns)[-6::]\n",
        "col"
      ],
      "execution_count": 26,
      "outputs": [
        {
          "output_type": "execute_result",
          "data": {
            "text/plain": [
              "['ACK', 'BCC', 'MEL', 'NEV', 'SCC', 'SEK']"
            ]
          },
          "metadata": {
            "tags": []
          },
          "execution_count": 26
        }
      ]
    },
    {
      "cell_type": "code",
      "metadata": {
        "id": "ihQ3fznlG2Q7",
        "colab_type": "code",
        "colab": {}
      },
      "source": [
        "# data augmentation\n",
        "from tensorflow.keras.preprocessing.image import ImageDataGenerator\n",
        "data_gen= ImageDataGenerator(\n",
        "    horizontal_flip=True,\n",
        "    vertical_flip=True,\n",
        "    rotation_range=360,\n",
        "    width_shift_range=0.1,\n",
        "    height_shift_range=0.1,\n",
        "    zoom_range=.1,\n",
        "    rescale=1/255,\n",
        "    fill_mode='nearest')"
      ],
      "execution_count": 27,
      "outputs": []
    },
    {
      "cell_type": "code",
      "metadata": {
        "id": "Y4GNCOf3G2KD",
        "colab_type": "code",
        "colab": {}
      },
      "source": [
        "# model hyperparameters\n",
        "img_shape=300\n",
        "batch_size=20\n",
        "n_epochs=20"
      ],
      "execution_count": 33,
      "outputs": []
    },
    {
      "cell_type": "code",
      "metadata": {
        "id": "P72df_UPH2l1",
        "colab_type": "code",
        "colab": {}
      },
      "source": [
        "from tensorflow.keras.layers import GlobalAveragePooling2D,Dropout,Dense\n",
        "from tensorflow.keras.callbacks import ModelCheckpoint,ReduceLROnPlateau\n",
        "from tensorflow.keras.optimizers import Adam\n",
        "import tensorflow.keras.backend as K\n",
        "from tensorflow.keras.models import Sequential,Model"
      ],
      "execution_count": 34,
      "outputs": []
    },
    {
      "cell_type": "code",
      "metadata": {
        "id": "ngi230XBH5MN",
        "colab_type": "code",
        "colab": {}
      },
      "source": [
        "#first create the pretrained model and load weights\n"
      ],
      "execution_count": 35,
      "outputs": []
    },
    {
      "cell_type": "code",
      "metadata": {
        "id": "_e3UDto2KtoS",
        "colab_type": "code",
        "colab": {}
      },
      "source": [
        "def basemodel():\n",
        "  import efficientnet.tfkeras as efn\n",
        "  pre_trained_model =efn.EfficientNetB3(weights =None, include_top=False, input_shape = (img_shape,img_shape,3))\n",
        "  x = pre_trained_model.output\n",
        "  x = GlobalAveragePooling2D()(x)\n",
        "  x = Dropout(0.3)(x)\n",
        "  x = Dense(128, activation=\"relu\")(x)\n",
        "  x = Dropout(0.3)(x)\n",
        "  x = Dense(64, activation=\"relu\")(x)\n",
        "  predictions = Dense(8, activation=\"softmax\")(x) #pretrained model has 7 classes\n",
        "  pre_trained_model = Model(inputs=pre_trained_model.input, outputs=predictions)\n",
        "  pre_trained_model.load_weights('/content/isicall_eff3_weights.hdf5') #load pretrained weights to to model\n",
        "  #now remove all added layers in pretrained layers add new leayer and create base model\n",
        "  #here we can test how many layers we want to remove\n",
        "  base_model = Model(pre_trained_model.input, pre_trained_model.layers[-7].output)\n",
        "  #now add our new layers\n",
        "  x = base_model.output\n",
        "  x = GlobalAveragePooling2D()(x)\n",
        "  x = Dropout(0.3)(x)\n",
        "  x = Dense(128,name='dense1', activation=\"relu\")(x)\n",
        "  x = Dropout(0.3)(x)\n",
        "  x = Dense(64,name='dense2', activation=\"relu\")(x)\n",
        "\n",
        "  predictions  = Dense(len(col),name='output', activation=\"softmax\")(x) #base model has six layers\n",
        "  base_model = Model(inputs=base_model.input, outputs=predictions )\n",
        "  #compile the base model\n",
        "  base_model.compile(optimizer=Adam(0.001), loss='categorical_crossentropy', metrics=['accuracy'])\n",
        "  return base_model"
      ],
      "execution_count": 36,
      "outputs": []
    },
    {
      "cell_type": "code",
      "metadata": {
        "id": "hx-WGWBVNMri",
        "colab_type": "code",
        "colab": {
          "base_uri": "https://localhost:8080/",
          "height": 1000
        },
        "outputId": "16e3096d-839c-43cc-df32-d0d8b5ff4b0e"
      },
      "source": [
        "\n",
        "\n",
        "classification_reports=[]\n",
        "kf = KFold(n_splits=5,shuffle=True)\n",
        "history=[]\n",
        "accuracy=[]\n",
        "f1_scores=[]\n",
        "recall=[]\n",
        "precision=[]\n",
        "auc=[]\n",
        "y_pred=[]\n",
        "fold=0\n",
        "for train_index, test_index in kf.split(df):\n",
        "  train=df_img.iloc[train_index,:]\n",
        "  val=df_img.iloc[test_index,:]\n",
        "  print('-----------fold {}--------------'.format(fold))\n",
        "  train_generator=data_gen.flow_from_dataframe(train,directory='/content/data',\n",
        "                                               target_size=(img_shape,img_shape),\n",
        "                                               x_col='img_id',\n",
        "                                               y_col=col,\n",
        "                                               class_mode='raw',\n",
        "                                               shuffle=False,\n",
        "                                               batch_size=batch_size)\n",
        "\n",
        "  val_generator=data_gen.flow_from_dataframe(val,directory='/content/data',\n",
        "                                             target_size=(img_shape,img_shape),\n",
        "                                             x_col=\"img_id\",\n",
        "                                             y_col=col,\n",
        "                                             class_mode='raw',\n",
        "                                             shuffle=False,\n",
        "                                             batch_size=batch_size)\n",
        "  #train_generator.next()[0].shape,train_generator.next()[1].shape\n",
        "\n",
        "  #load base model\n",
        "  base_model=basemodel()\n",
        "  #train model\n",
        "  results = base_model.fit(train_generator,epochs=25,verbose=1,\n",
        "                              steps_per_epoch=train_generator.n/batch_size,\n",
        "                              validation_data=val_generator,\n",
        "                             validation_steps=val_generator.n/batch_size,\n",
        "                              callbacks=[ReduceLROnPlateau(monitor='val_loss', factor=0.5,patience=5, min_lr=0.000001),\n",
        "                                         #ModelCheckpoint('model_{}.hdf5'.format(fold), save_best_only=True, monitor='val_loss', mode='min')\n",
        "                                         ])\n",
        "  #model.load_weights('model_{}.hdf5'.format(fold))\n",
        "\n",
        "  xgb_clf.fit(tab_features.values[train_index,:],tab_labels.iloc[train_index],verbose=False)\n",
        "  tab_pred=xgb_clf.predict_proba(tab_features.values[test_index,:])\n",
        "  val_generator.reset()\n",
        "  img_pred=base_model.predict(val_generator,steps=val_generator.n/batch_size,verbose=0)\n",
        "\n",
        "  y_true=val.iloc[:,-6::]\n",
        "  f1_img=f1_score(y_true,np.round(img_pred,0),average='macro')\n",
        "  f1_tab=f1_score(y_true,np.round(tab_pred,0),average='macro')\n",
        "\n",
        "  print('tab_f1',f1_tab,'img_f1',f1_img)\n",
        "  wt=f1_tab+f1_img\n",
        "  y_pred=((f1_tab/wt)*tab_pred)+((f1_img/wt)*img_pred)\n",
        "\n",
        "\n",
        "  \n",
        "\n",
        "  f1=f1_score(y_true,np.round(y_pred,0),average='macro')\n",
        "  print('f1 score is ', f1)\n",
        "\n",
        "  accuracy.append(accuracy_score(y_true,np.round(y_pred,0)))\n",
        "  auc.append(roc_auc_score(y_true,np.round(y_pred,0)))\n",
        "  precision.append(precision_score(y_true,np.round(y_pred,0),average='macro'))\n",
        "  recall.append(recall_score(y_true,np.round(y_pred,0),average='macro'))\n",
        "  f1_scores.append(f1)\n",
        "  history.append(results)\n",
        "  fold+=1\n",
        "\n"
      ],
      "execution_count": 37,
      "outputs": [
        {
          "output_type": "stream",
          "text": [
            "-----------fold 0--------------\n",
            "Found 1838 validated image filenames.\n",
            "Found 460 validated image filenames.\n",
            "Epoch 1/25\n",
            " 2/91 [..............................] - ETA: 55s - loss: 1.8261 - accuracy: 0.1500WARNING:tensorflow:Callbacks method `on_train_batch_end` is slow compared to the batch time (batch time: 0.4864s vs `on_train_batch_end` time: 0.7586s). Check your callbacks.\n",
            "92/91 [==============================] - 179s 2s/step - loss: 1.2069 - accuracy: 0.5642 - val_loss: 1.0530 - val_accuracy: 0.6957\n",
            "Epoch 2/25\n",
            "92/91 [==============================] - 173s 2s/step - loss: 0.8881 - accuracy: 0.6872 - val_loss: 0.7825 - val_accuracy: 0.7522\n",
            "Epoch 3/25\n",
            "92/91 [==============================] - 170s 2s/step - loss: 0.7840 - accuracy: 0.7171 - val_loss: 0.8253 - val_accuracy: 0.7022\n",
            "Epoch 4/25\n",
            "92/91 [==============================] - 169s 2s/step - loss: 0.7088 - accuracy: 0.7476 - val_loss: 0.8601 - val_accuracy: 0.7065\n",
            "Epoch 5/25\n",
            "92/91 [==============================] - 168s 2s/step - loss: 0.6316 - accuracy: 0.7731 - val_loss: 0.7378 - val_accuracy: 0.7587\n",
            "Epoch 6/25\n",
            "92/91 [==============================] - 169s 2s/step - loss: 0.5747 - accuracy: 0.7922 - val_loss: 0.7525 - val_accuracy: 0.7609\n",
            "Epoch 7/25\n",
            "92/91 [==============================] - 169s 2s/step - loss: 0.5511 - accuracy: 0.7905 - val_loss: 0.8816 - val_accuracy: 0.7217\n",
            "Epoch 8/25\n",
            "92/91 [==============================] - 170s 2s/step - loss: 0.5115 - accuracy: 0.8237 - val_loss: 0.8426 - val_accuracy: 0.7696\n",
            "Epoch 9/25\n",
            "92/91 [==============================] - 170s 2s/step - loss: 0.4822 - accuracy: 0.8215 - val_loss: 0.9111 - val_accuracy: 0.7174\n",
            "Epoch 10/25\n",
            "92/91 [==============================] - 171s 2s/step - loss: 0.4572 - accuracy: 0.8428 - val_loss: 0.7975 - val_accuracy: 0.7304\n",
            "Epoch 11/25\n",
            "92/91 [==============================] - 170s 2s/step - loss: 0.3416 - accuracy: 0.8716 - val_loss: 0.9072 - val_accuracy: 0.7348\n",
            "Epoch 12/25\n",
            "92/91 [==============================] - 171s 2s/step - loss: 0.2645 - accuracy: 0.9086 - val_loss: 0.8884 - val_accuracy: 0.7457\n",
            "Epoch 13/25\n",
            "92/91 [==============================] - 170s 2s/step - loss: 0.2158 - accuracy: 0.9227 - val_loss: 1.0103 - val_accuracy: 0.7457\n",
            "Epoch 14/25\n",
            "92/91 [==============================] - 170s 2s/step - loss: 0.2174 - accuracy: 0.9244 - val_loss: 1.0095 - val_accuracy: 0.7370\n",
            "Epoch 15/25\n",
            "92/91 [==============================] - 169s 2s/step - loss: 0.2077 - accuracy: 0.9287 - val_loss: 1.0508 - val_accuracy: 0.7022\n",
            "Epoch 16/25\n",
            "92/91 [==============================] - 168s 2s/step - loss: 0.1504 - accuracy: 0.9548 - val_loss: 1.2147 - val_accuracy: 0.7087\n",
            "Epoch 17/25\n",
            "92/91 [==============================] - 168s 2s/step - loss: 0.1122 - accuracy: 0.9597 - val_loss: 1.1746 - val_accuracy: 0.7652\n",
            "Epoch 18/25\n",
            "92/91 [==============================] - 169s 2s/step - loss: 0.0961 - accuracy: 0.9690 - val_loss: 1.1674 - val_accuracy: 0.7413\n",
            "Epoch 19/25\n",
            "92/91 [==============================] - 169s 2s/step - loss: 0.0898 - accuracy: 0.9706 - val_loss: 1.1582 - val_accuracy: 0.7543\n",
            "Epoch 20/25\n",
            "92/91 [==============================] - 172s 2s/step - loss: 0.0736 - accuracy: 0.9771 - val_loss: 1.2228 - val_accuracy: 0.7370\n",
            "Epoch 21/25\n",
            "92/91 [==============================] - 169s 2s/step - loss: 0.0614 - accuracy: 0.9815 - val_loss: 1.2635 - val_accuracy: 0.7478\n",
            "Epoch 22/25\n",
            "92/91 [==============================] - 170s 2s/step - loss: 0.0528 - accuracy: 0.9826 - val_loss: 1.2687 - val_accuracy: 0.7457\n",
            "Epoch 23/25\n",
            "92/91 [==============================] - 169s 2s/step - loss: 0.0521 - accuracy: 0.9826 - val_loss: 1.2557 - val_accuracy: 0.7652\n",
            "Epoch 24/25\n",
            "92/91 [==============================] - 169s 2s/step - loss: 0.0436 - accuracy: 0.9859 - val_loss: 1.4740 - val_accuracy: 0.7022\n",
            "Epoch 25/25\n",
            "92/91 [==============================] - 168s 2s/step - loss: 0.0454 - accuracy: 0.9848 - val_loss: 1.2576 - val_accuracy: 0.7630\n",
            "tab_f1 0.7078476457218007 img_f1 0.6809090626717852\n",
            "f1 score is  0.7718288325431182\n",
            "-----------fold 1--------------\n",
            "Found 1838 validated image filenames.\n",
            "Found 460 validated image filenames.\n",
            "Epoch 1/25\n",
            "92/91 [==============================] - 173s 2s/step - loss: 1.1569 - accuracy: 0.5914 - val_loss: 1.0692 - val_accuracy: 0.6587\n",
            "Epoch 2/25\n",
            "92/91 [==============================] - 171s 2s/step - loss: 0.8541 - accuracy: 0.7046 - val_loss: 0.9661 - val_accuracy: 0.6696\n",
            "Epoch 3/25\n",
            "92/91 [==============================] - 170s 2s/step - loss: 0.7691 - accuracy: 0.7312 - val_loss: 0.8481 - val_accuracy: 0.6522\n",
            "Epoch 4/25\n",
            "92/91 [==============================] - 171s 2s/step - loss: 0.6925 - accuracy: 0.7552 - val_loss: 0.9585 - val_accuracy: 0.7109\n",
            "Epoch 5/25\n",
            "92/91 [==============================] - 170s 2s/step - loss: 0.6696 - accuracy: 0.7622 - val_loss: 0.7781 - val_accuracy: 0.7304\n",
            "Epoch 6/25\n",
            "92/91 [==============================] - 171s 2s/step - loss: 0.5625 - accuracy: 0.7933 - val_loss: 0.7837 - val_accuracy: 0.7196\n",
            "Epoch 7/25\n",
            "92/91 [==============================] - 170s 2s/step - loss: 0.5627 - accuracy: 0.7987 - val_loss: 0.8289 - val_accuracy: 0.7304\n",
            "Epoch 8/25\n",
            "92/91 [==============================] - 170s 2s/step - loss: 0.5025 - accuracy: 0.8079 - val_loss: 0.8957 - val_accuracy: 0.7109\n",
            "Epoch 9/25\n",
            "92/91 [==============================] - 170s 2s/step - loss: 0.4565 - accuracy: 0.8411 - val_loss: 0.8174 - val_accuracy: 0.7435\n",
            "Epoch 10/25\n",
            "92/91 [==============================] - 171s 2s/step - loss: 0.4369 - accuracy: 0.8406 - val_loss: 1.1820 - val_accuracy: 0.7217\n",
            "Epoch 11/25\n",
            "92/91 [==============================] - 169s 2s/step - loss: 0.3061 - accuracy: 0.9004 - val_loss: 0.8780 - val_accuracy: 0.7326\n",
            "Epoch 12/25\n",
            "92/91 [==============================] - 170s 2s/step - loss: 0.2429 - accuracy: 0.9108 - val_loss: 1.0207 - val_accuracy: 0.7348\n",
            "Epoch 13/25\n",
            "92/91 [==============================] - 169s 2s/step - loss: 0.2048 - accuracy: 0.9227 - val_loss: 1.1508 - val_accuracy: 0.7500\n",
            "Epoch 14/25\n",
            "92/91 [==============================] - 169s 2s/step - loss: 0.1889 - accuracy: 0.9325 - val_loss: 1.0878 - val_accuracy: 0.7543\n",
            "Epoch 15/25\n",
            "92/91 [==============================] - 169s 2s/step - loss: 0.1821 - accuracy: 0.9331 - val_loss: 1.1563 - val_accuracy: 0.7522\n",
            "Epoch 16/25\n",
            "92/91 [==============================] - 169s 2s/step - loss: 0.1189 - accuracy: 0.9548 - val_loss: 1.1777 - val_accuracy: 0.7522\n",
            "Epoch 17/25\n",
            "92/91 [==============================] - 169s 2s/step - loss: 0.0951 - accuracy: 0.9679 - val_loss: 1.2315 - val_accuracy: 0.7522\n",
            "Epoch 18/25\n",
            "92/91 [==============================] - 168s 2s/step - loss: 0.0744 - accuracy: 0.9750 - val_loss: 1.2145 - val_accuracy: 0.7609\n",
            "Epoch 19/25\n",
            "92/91 [==============================] - 169s 2s/step - loss: 0.0745 - accuracy: 0.9761 - val_loss: 1.3884 - val_accuracy: 0.7435\n",
            "Epoch 20/25\n",
            "92/91 [==============================] - 170s 2s/step - loss: 0.0624 - accuracy: 0.9761 - val_loss: 1.3300 - val_accuracy: 0.7304\n",
            "Epoch 21/25\n",
            "92/91 [==============================] - 170s 2s/step - loss: 0.0555 - accuracy: 0.9793 - val_loss: 1.3251 - val_accuracy: 0.7652\n",
            "Epoch 22/25\n",
            "92/91 [==============================] - 169s 2s/step - loss: 0.0453 - accuracy: 0.9853 - val_loss: 1.3310 - val_accuracy: 0.7739\n",
            "Epoch 23/25\n",
            "92/91 [==============================] - 169s 2s/step - loss: 0.0389 - accuracy: 0.9918 - val_loss: 1.4467 - val_accuracy: 0.7609\n",
            "Epoch 24/25\n",
            "92/91 [==============================] - 170s 2s/step - loss: 0.0355 - accuracy: 0.9859 - val_loss: 1.5040 - val_accuracy: 0.7478\n",
            "Epoch 25/25\n",
            "92/91 [==============================] - 170s 2s/step - loss: 0.0377 - accuracy: 0.9869 - val_loss: 1.5393 - val_accuracy: 0.7652\n",
            "tab_f1 0.6459310746664305 img_f1 0.6864296635547792\n",
            "f1 score is  0.7063917436433167\n",
            "-----------fold 2--------------\n",
            "Found 1838 validated image filenames.\n",
            "Found 460 validated image filenames.\n",
            "Epoch 1/25\n",
            "92/91 [==============================] - 173s 2s/step - loss: 1.1234 - accuracy: 0.5958 - val_loss: 1.0164 - val_accuracy: 0.6674\n",
            "Epoch 2/25\n",
            "92/91 [==============================] - 170s 2s/step - loss: 0.8157 - accuracy: 0.7046 - val_loss: 0.9587 - val_accuracy: 0.6609\n",
            "Epoch 3/25\n",
            "92/91 [==============================] - 170s 2s/step - loss: 0.7281 - accuracy: 0.7307 - val_loss: 0.8922 - val_accuracy: 0.6913\n",
            "Epoch 4/25\n",
            "92/91 [==============================] - 170s 2s/step - loss: 0.6630 - accuracy: 0.7764 - val_loss: 1.0027 - val_accuracy: 0.6717\n",
            "Epoch 5/25\n",
            "92/91 [==============================] - 170s 2s/step - loss: 0.6166 - accuracy: 0.7922 - val_loss: 1.1161 - val_accuracy: 0.6522\n",
            "Epoch 6/25\n",
            "92/91 [==============================] - 171s 2s/step - loss: 0.5510 - accuracy: 0.7965 - val_loss: 0.9144 - val_accuracy: 0.6804\n",
            "Epoch 7/25\n",
            "92/91 [==============================] - 170s 2s/step - loss: 0.5346 - accuracy: 0.7998 - val_loss: 0.8711 - val_accuracy: 0.7261\n",
            "Epoch 8/25\n",
            "92/91 [==============================] - 170s 2s/step - loss: 0.4788 - accuracy: 0.8264 - val_loss: 0.9537 - val_accuracy: 0.7065\n",
            "Epoch 9/25\n",
            "92/91 [==============================] - 171s 2s/step - loss: 0.4344 - accuracy: 0.8433 - val_loss: 1.0236 - val_accuracy: 0.7043\n",
            "Epoch 10/25\n",
            "92/91 [==============================] - 170s 2s/step - loss: 0.4009 - accuracy: 0.8526 - val_loss: 0.9981 - val_accuracy: 0.7109\n",
            "Epoch 11/25\n",
            "92/91 [==============================] - 167s 2s/step - loss: 0.3798 - accuracy: 0.8634 - val_loss: 1.1173 - val_accuracy: 0.6783\n",
            "Epoch 12/25\n",
            "92/91 [==============================] - 168s 2s/step - loss: 0.3749 - accuracy: 0.8629 - val_loss: 1.1375 - val_accuracy: 0.7087\n",
            "Epoch 13/25\n",
            "92/91 [==============================] - 168s 2s/step - loss: 0.2818 - accuracy: 0.9075 - val_loss: 1.0617 - val_accuracy: 0.7065\n",
            "Epoch 14/25\n",
            "92/91 [==============================] - 168s 2s/step - loss: 0.1903 - accuracy: 0.9336 - val_loss: 1.1569 - val_accuracy: 0.7196\n",
            "Epoch 15/25\n",
            "92/91 [==============================] - 168s 2s/step - loss: 0.1677 - accuracy: 0.9418 - val_loss: 1.3183 - val_accuracy: 0.6978\n",
            "Epoch 16/25\n",
            "92/91 [==============================] - 168s 2s/step - loss: 0.1317 - accuracy: 0.9489 - val_loss: 1.2002 - val_accuracy: 0.7239\n",
            "Epoch 17/25\n",
            "92/91 [==============================] - 167s 2s/step - loss: 0.1420 - accuracy: 0.9494 - val_loss: 1.2574 - val_accuracy: 0.7348\n",
            "Epoch 18/25\n",
            "92/91 [==============================] - 168s 2s/step - loss: 0.1091 - accuracy: 0.9608 - val_loss: 1.2988 - val_accuracy: 0.7217\n",
            "Epoch 19/25\n",
            "92/91 [==============================] - 168s 2s/step - loss: 0.0726 - accuracy: 0.9777 - val_loss: 1.2746 - val_accuracy: 0.7413\n",
            "Epoch 20/25\n",
            "92/91 [==============================] - 168s 2s/step - loss: 0.0777 - accuracy: 0.9739 - val_loss: 1.3701 - val_accuracy: 0.7217\n",
            "Epoch 21/25\n",
            "92/91 [==============================] - 167s 2s/step - loss: 0.0628 - accuracy: 0.9788 - val_loss: 1.4522 - val_accuracy: 0.7261\n",
            "Epoch 22/25\n",
            "92/91 [==============================] - 168s 2s/step - loss: 0.0453 - accuracy: 0.9853 - val_loss: 1.6102 - val_accuracy: 0.7109\n",
            "Epoch 23/25\n",
            "92/91 [==============================] - 168s 2s/step - loss: 0.0576 - accuracy: 0.9810 - val_loss: 1.5118 - val_accuracy: 0.7174\n",
            "Epoch 24/25\n",
            "92/91 [==============================] - 168s 2s/step - loss: 0.0322 - accuracy: 0.9924 - val_loss: 1.6436 - val_accuracy: 0.7109\n",
            "Epoch 25/25\n",
            "92/91 [==============================] - 167s 2s/step - loss: 0.0235 - accuracy: 0.9929 - val_loss: 1.5420 - val_accuracy: 0.7283\n",
            "tab_f1 0.6706962536043575 img_f1 0.6350717892954832\n",
            "f1 score is  0.677142872536754\n",
            "-----------fold 3--------------\n",
            "Found 1839 validated image filenames.\n",
            "Found 459 validated image filenames.\n",
            "Epoch 1/25\n",
            "92/91 [==============================] - 173s 2s/step - loss: 1.2028 - accuracy: 0.5601 - val_loss: 1.0251 - val_accuracy: 0.6340\n",
            "Epoch 2/25\n",
            "92/91 [==============================] - 168s 2s/step - loss: 0.8729 - accuracy: 0.6813 - val_loss: 0.9407 - val_accuracy: 0.6253\n",
            "Epoch 3/25\n",
            "92/91 [==============================] - 167s 2s/step - loss: 0.7217 - accuracy: 0.7433 - val_loss: 0.9252 - val_accuracy: 0.6841\n",
            "Epoch 4/25\n",
            "92/91 [==============================] - 167s 2s/step - loss: 0.7017 - accuracy: 0.7515 - val_loss: 0.9326 - val_accuracy: 0.6776\n",
            "Epoch 5/25\n",
            "92/91 [==============================] - 166s 2s/step - loss: 0.6244 - accuracy: 0.7689 - val_loss: 0.9093 - val_accuracy: 0.7211\n",
            "Epoch 6/25\n",
            "92/91 [==============================] - 166s 2s/step - loss: 0.5530 - accuracy: 0.7993 - val_loss: 1.0398 - val_accuracy: 0.6906\n",
            "Epoch 7/25\n",
            "92/91 [==============================] - 166s 2s/step - loss: 0.5207 - accuracy: 0.8151 - val_loss: 0.8549 - val_accuracy: 0.6885\n",
            "Epoch 8/25\n",
            "92/91 [==============================] - 166s 2s/step - loss: 0.4882 - accuracy: 0.8233 - val_loss: 1.0961 - val_accuracy: 0.6972\n",
            "Epoch 9/25\n",
            "92/91 [==============================] - 166s 2s/step - loss: 0.4166 - accuracy: 0.8428 - val_loss: 1.0308 - val_accuracy: 0.7146\n",
            "Epoch 10/25\n",
            "92/91 [==============================] - 166s 2s/step - loss: 0.4453 - accuracy: 0.8401 - val_loss: 1.1164 - val_accuracy: 0.6885\n",
            "Epoch 11/25\n",
            "92/91 [==============================] - 166s 2s/step - loss: 0.3686 - accuracy: 0.8711 - val_loss: 1.2499 - val_accuracy: 0.6841\n",
            "Epoch 12/25\n",
            "92/91 [==============================] - 165s 2s/step - loss: 0.3248 - accuracy: 0.8869 - val_loss: 1.0524 - val_accuracy: 0.6950\n",
            "Epoch 13/25\n",
            "92/91 [==============================] - 165s 2s/step - loss: 0.2337 - accuracy: 0.9168 - val_loss: 1.0519 - val_accuracy: 0.7102\n",
            "Epoch 14/25\n",
            "92/91 [==============================] - 165s 2s/step - loss: 0.1575 - accuracy: 0.9445 - val_loss: 1.2294 - val_accuracy: 0.7407\n",
            "Epoch 15/25\n",
            "92/91 [==============================] - 166s 2s/step - loss: 0.1495 - accuracy: 0.9434 - val_loss: 1.3599 - val_accuracy: 0.7081\n",
            "Epoch 16/25\n",
            "92/91 [==============================] - 166s 2s/step - loss: 0.1660 - accuracy: 0.9424 - val_loss: 1.1501 - val_accuracy: 0.7190\n",
            "Epoch 17/25\n",
            "92/91 [==============================] - 166s 2s/step - loss: 0.1359 - accuracy: 0.9521 - val_loss: 1.2539 - val_accuracy: 0.7298\n",
            "Epoch 18/25\n",
            "92/91 [==============================] - 167s 2s/step - loss: 0.0911 - accuracy: 0.9701 - val_loss: 1.3809 - val_accuracy: 0.7429\n",
            "Epoch 19/25\n",
            "92/91 [==============================] - 166s 2s/step - loss: 0.0905 - accuracy: 0.9641 - val_loss: 1.3773 - val_accuracy: 0.7364\n",
            "Epoch 20/25\n",
            "92/91 [==============================] - 166s 2s/step - loss: 0.0653 - accuracy: 0.9777 - val_loss: 1.4518 - val_accuracy: 0.7342\n",
            "Epoch 21/25\n",
            "92/91 [==============================] - 165s 2s/step - loss: 0.0607 - accuracy: 0.9821 - val_loss: 1.5002 - val_accuracy: 0.7495\n",
            "Epoch 22/25\n",
            "92/91 [==============================] - 165s 2s/step - loss: 0.0584 - accuracy: 0.9815 - val_loss: 1.4014 - val_accuracy: 0.7538\n",
            "Epoch 23/25\n",
            "92/91 [==============================] - 165s 2s/step - loss: 0.0440 - accuracy: 0.9837 - val_loss: 1.5189 - val_accuracy: 0.7538\n",
            "Epoch 24/25\n",
            "92/91 [==============================] - 166s 2s/step - loss: 0.0449 - accuracy: 0.9864 - val_loss: 1.6172 - val_accuracy: 0.7298\n",
            "Epoch 25/25\n",
            "92/91 [==============================] - 166s 2s/step - loss: 0.0340 - accuracy: 0.9897 - val_loss: 1.6264 - val_accuracy: 0.7538\n",
            "tab_f1 0.731658877112774 img_f1 0.7031550401505657\n",
            "f1 score is  0.7807265113553902\n",
            "-----------fold 4--------------\n",
            "Found 1839 validated image filenames.\n",
            "Found 459 validated image filenames.\n",
            "Epoch 1/25\n",
            "92/91 [==============================] - 169s 2s/step - loss: 1.1631 - accuracy: 0.5895 - val_loss: 1.0228 - val_accuracy: 0.6645\n",
            "Epoch 2/25\n",
            "92/91 [==============================] - 167s 2s/step - loss: 0.8155 - accuracy: 0.6993 - val_loss: 0.8456 - val_accuracy: 0.6885\n",
            "Epoch 3/25\n",
            "92/91 [==============================] - 167s 2s/step - loss: 0.7375 - accuracy: 0.7314 - val_loss: 0.8224 - val_accuracy: 0.7255\n",
            "Epoch 4/25\n",
            "92/91 [==============================] - 166s 2s/step - loss: 0.6817 - accuracy: 0.7656 - val_loss: 0.9136 - val_accuracy: 0.6776\n",
            "Epoch 5/25\n",
            "92/91 [==============================] - 165s 2s/step - loss: 0.6073 - accuracy: 0.7781 - val_loss: 0.9024 - val_accuracy: 0.7037\n",
            "Epoch 6/25\n",
            "92/91 [==============================] - 166s 2s/step - loss: 0.5491 - accuracy: 0.7928 - val_loss: 0.9220 - val_accuracy: 0.6993\n",
            "Epoch 7/25\n",
            "92/91 [==============================] - 166s 2s/step - loss: 0.5386 - accuracy: 0.8026 - val_loss: 0.8841 - val_accuracy: 0.7081\n",
            "Epoch 8/25\n",
            "92/91 [==============================] - 166s 2s/step - loss: 0.4698 - accuracy: 0.8363 - val_loss: 0.9104 - val_accuracy: 0.7059\n",
            "Epoch 9/25\n",
            "92/91 [==============================] - 166s 2s/step - loss: 0.3568 - accuracy: 0.8651 - val_loss: 0.9858 - val_accuracy: 0.7059\n",
            "Epoch 10/25\n",
            "92/91 [==============================] - 167s 2s/step - loss: 0.3155 - accuracy: 0.8918 - val_loss: 0.8891 - val_accuracy: 0.7124\n",
            "Epoch 11/25\n",
            "92/91 [==============================] - 167s 2s/step - loss: 0.2447 - accuracy: 0.9141 - val_loss: 1.1048 - val_accuracy: 0.7255\n",
            "Epoch 12/25\n",
            "92/91 [==============================] - 167s 2s/step - loss: 0.2431 - accuracy: 0.9097 - val_loss: 1.2263 - val_accuracy: 0.7015\n",
            "Epoch 13/25\n",
            "92/91 [==============================] - 166s 2s/step - loss: 0.2300 - accuracy: 0.9152 - val_loss: 1.1743 - val_accuracy: 0.6776\n",
            "Epoch 14/25\n",
            "92/91 [==============================] - 166s 2s/step - loss: 0.1864 - accuracy: 0.9282 - val_loss: 1.1437 - val_accuracy: 0.6906\n",
            "Epoch 15/25\n",
            "92/91 [==============================] - 166s 2s/step - loss: 0.1549 - accuracy: 0.9451 - val_loss: 1.2604 - val_accuracy: 0.7146\n",
            "Epoch 16/25\n",
            "92/91 [==============================] - 165s 2s/step - loss: 0.1572 - accuracy: 0.9396 - val_loss: 1.2805 - val_accuracy: 0.7211\n",
            "Epoch 17/25\n",
            "92/91 [==============================] - 166s 2s/step - loss: 0.1134 - accuracy: 0.9614 - val_loss: 1.2416 - val_accuracy: 0.7364\n",
            "Epoch 18/25\n",
            "92/91 [==============================] - 166s 2s/step - loss: 0.1135 - accuracy: 0.9608 - val_loss: 1.2884 - val_accuracy: 0.7320\n",
            "Epoch 19/25\n",
            "92/91 [==============================] - 166s 2s/step - loss: 0.0873 - accuracy: 0.9668 - val_loss: 1.2719 - val_accuracy: 0.7582\n",
            "Epoch 20/25\n",
            "92/91 [==============================] - 166s 2s/step - loss: 0.0822 - accuracy: 0.9695 - val_loss: 1.3726 - val_accuracy: 0.7451\n",
            "Epoch 21/25\n",
            "92/91 [==============================] - 165s 2s/step - loss: 0.0669 - accuracy: 0.9788 - val_loss: 1.3203 - val_accuracy: 0.7538\n",
            "Epoch 22/25\n",
            "92/91 [==============================] - 166s 2s/step - loss: 0.0659 - accuracy: 0.9777 - val_loss: 1.4385 - val_accuracy: 0.7386\n",
            "Epoch 23/25\n",
            "92/91 [==============================] - 166s 2s/step - loss: 0.0576 - accuracy: 0.9804 - val_loss: 1.4423 - val_accuracy: 0.7364\n",
            "Epoch 24/25\n",
            "92/91 [==============================] - 166s 2s/step - loss: 0.0482 - accuracy: 0.9826 - val_loss: 1.4794 - val_accuracy: 0.7603\n",
            "Epoch 25/25\n",
            "92/91 [==============================] - 166s 2s/step - loss: 0.0424 - accuracy: 0.9869 - val_loss: 1.3095 - val_accuracy: 0.7625\n",
            "tab_f1 0.7498317369902526 img_f1 0.6504188366173079\n",
            "f1 score is  0.6988645210402734\n"
          ],
          "name": "stdout"
        }
      ]
    },
    {
      "cell_type": "code",
      "metadata": {
        "id": "yesXG_AnTxV_",
        "colab_type": "code",
        "colab": {
          "base_uri": "https://localhost:8080/",
          "height": 35
        },
        "outputId": "f1e07fa3-df29-44d0-fe51-cbffd5ef12c5"
      },
      "source": [
        "#average accuracy across all folds\n",
        "np.mean(accuracy)"
      ],
      "execution_count": 38,
      "outputs": [
        {
          "output_type": "execute_result",
          "data": {
            "text/plain": [
              "0.7719806763285024"
            ]
          },
          "metadata": {
            "tags": []
          },
          "execution_count": 38
        }
      ]
    },
    {
      "cell_type": "code",
      "metadata": {
        "id": "IBEnsXEAUE0v",
        "colab_type": "code",
        "colab": {
          "base_uri": "https://localhost:8080/",
          "height": 34
        },
        "outputId": "960bc400-a5a0-4def-a61f-40b7f727532a"
      },
      "source": [
        "#average f1_scores across all folds\n",
        "np.mean(f1_scores)"
      ],
      "execution_count": 39,
      "outputs": [
        {
          "output_type": "execute_result",
          "data": {
            "text/plain": [
              "0.7269908962237704"
            ]
          },
          "metadata": {
            "tags": []
          },
          "execution_count": 39
        }
      ]
    },
    {
      "cell_type": "code",
      "metadata": {
        "id": "nSynF5hyUJKL",
        "colab_type": "code",
        "colab": {
          "base_uri": "https://localhost:8080/",
          "height": 34
        },
        "outputId": "c329fd7e-3576-4492-f2ab-72db5b1a75df"
      },
      "source": [
        "#average auc_scores across all folds\n",
        "np.mean(auc)"
      ],
      "execution_count": 40,
      "outputs": [
        {
          "output_type": "execute_result",
          "data": {
            "text/plain": [
              "0.8196434873710216"
            ]
          },
          "metadata": {
            "tags": []
          },
          "execution_count": 40
        }
      ]
    },
    {
      "cell_type": "code",
      "metadata": {
        "id": "ZS59r4ejUMib",
        "colab_type": "code",
        "colab": {
          "base_uri": "https://localhost:8080/",
          "height": 34
        },
        "outputId": "042abdd2-0c45-4522-f3ba-d5db2e1d4582"
      },
      "source": [
        "history[0].history.keys()"
      ],
      "execution_count": 41,
      "outputs": [
        {
          "output_type": "execute_result",
          "data": {
            "text/plain": [
              "dict_keys(['loss', 'accuracy', 'val_loss', 'val_accuracy', 'lr'])"
            ]
          },
          "metadata": {
            "tags": []
          },
          "execution_count": 41
        }
      ]
    },
    {
      "cell_type": "code",
      "metadata": {
        "id": "gqrytK3kUz8y",
        "colab_type": "code",
        "colab": {}
      },
      "source": [
        "def plot_accuracy(hist,acc='val_accuracy'):\n",
        "    for i in range(5):\n",
        "      plt.plot(hist[i].history[acc],linestyle='-.',linewidth=1.5)\n",
        "     \n",
        "    mean=np.mean([[j for j in x.history[acc]] for x in hist],axis=0)\n",
        "    std=np.std([[j for j in x.history[acc]] for x in hist],axis=0)\n",
        "    plt.plot(mean,linewidth=2,color='black')\n",
        "    if acc=='val_accuracy':\n",
        "      plt.title('Model Validation Accuracy')\n",
        "    else:\n",
        "      plt.title('Model Training Accuracy')\n",
        "    plt.ylabel('Accuracy')\n",
        "    plt.xlabel('Epochs')\n",
        "    plt.legend(['Fold1','Fold2','Fold3','Fold4','Fold5','Average Val Accuracy' ], loc='best')\n",
        "    plt.show()"
      ],
      "execution_count": 42,
      "outputs": []
    },
    {
      "cell_type": "code",
      "metadata": {
        "id": "bU00gMO6Vjt0",
        "colab_type": "code",
        "colab": {
          "base_uri": "https://localhost:8080/",
          "height": 295
        },
        "outputId": "d2236de4-783b-4870-e782-7d3d8b65feea"
      },
      "source": [
        "plot_accuracy(history)"
      ],
      "execution_count": 43,
      "outputs": [
        {
          "output_type": "display_data",
          "data": {
            "image/png": "[encoded data removed]",
            "text/plain": [
              "<Figure size 432x288 with 1 Axes>"
            ]
          },
          "metadata": {
            "tags": [],
            "needs_background": "light"
          }
        }
      ]
    },
    {
      "cell_type": "code",
      "metadata": {
        "id": "iCsZIxDS2Pck",
        "colab_type": "code",
        "colab": {
          "base_uri": "https://localhost:8080/",
          "height": 295
        },
        "outputId": "4fa9c7be-6f57-4b21-c779-9553982b709e"
      },
      "source": [
        "plot_accuracy(history,acc='accuracy')"
      ],
      "execution_count": 44,
      "outputs": [
        {
          "output_type": "display_data",
          "data": {
            "image/png": "[encoded data removed]",
            "text/plain": [
              "<Figure size 432x288 with 1 Axes>"
            ]
          },
          "metadata": {
            "tags": [],
            "needs_background": "light"
          }
        }
      ]
    },
    {
      "cell_type": "code",
      "metadata": {
        "id": "o0nx7FTsogaB",
        "colab_type": "code",
        "colab": {}
      },
      "source": [
        ""
      ],
      "execution_count": null,
      "outputs": []
    }
  ]
}