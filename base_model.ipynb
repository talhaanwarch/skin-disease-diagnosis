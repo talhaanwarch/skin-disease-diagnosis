{
  "nbformat": 4,
  "nbformat_minor": 0,
  "metadata": {
    "colab": {
      "name": "base_model.ipynb",
      "provenance": []
    },
    "kernelspec": {
      "name": "python3",
      "display_name": "Python 3"
    },
    "accelerator": "GPU"
  },
  "cells": [
    {
      "cell_type": "code",
      "metadata": {
        "id": "FzpATBgHIHqu",
        "colab_type": "code",
        "colab": {
          "base_uri": "https://localhost:8080/",
          "height": 130
        },
        "outputId": "5d4de3ee-c15a-4c56-f1ba-86be6210f3c2"
      },
      "source": [
        "from google.colab import drive\n",
        "drive.mount('/content/drive')"
      ],
      "execution_count": 1,
      "outputs": [
        {
          "output_type": "stream",
          "text": [
            "Go to this URL in a browser: https://accounts.google.com/o/oauth2/auth?client_id=947318989803-6bn6qk8qdgf4n4g3pfee6491hc0brc4i.apps.googleusercontent.com&redirect_uri=urn%3aietf%3awg%3aoauth%3a2.0%3aoob&response_type=code&scope=email%20https%3a%2f%2fwww.googleapis.com%2fauth%2fdocs.test%20https%3a%2f%2fwww.googleapis.com%2fauth%2fdrive%20https%3a%2f%2fwww.googleapis.com%2fauth%2fdrive.photos.readonly%20https%3a%2f%2fwww.googleapis.com%2fauth%2fpeopleapi.readonly\n",
            "\n",
            "Enter your authorization code:\n",
            "··········\n",
            "Mounted at /content/drive\n"
          ],
          "name": "stdout"
        }
      ]
    },
    {
      "cell_type": "code",
      "metadata": {
        "id": "ogr6mRTfIPTn",
        "colab_type": "code",
        "colab": {
          "base_uri": "https://localhost:8080/",
          "height": 91
        },
        "outputId": "13a9e61d-eeb2-4528-d0c5-e82356e4bf7b"
      },
      "source": [
        "print('Are you using the model for the first time')\n",
        "if input('y/n \\n')=='y':\n",
        "  print('donwloading the model')\n",
        "  !wget https://www.kaggleusercontent.com/kf/40082680/eyJhbGciOiJkaXIiLCJlbmMiOiJBMTI4Q0JDLUhTMjU2In0..E_XAUtjdDidxaML8Ct3SAg.X6vbQHK5QH7vnYLcyAGqMAEPr0cshww9Tsz_PlQ_xlKmUmcXHKD1TL1nS3cqyjp6s2-NDkIBBwko2LkoNtMwugZ8KG8UoqnRoqCBRbZ-seJBlRPu6aE6cIPMrmTjYAiRTQkfwCGm7Bb70uGdFse8DMBnDGyfQf285Hxhz9tcNdGCwfDNvf3bpxYgWiIIMTCffT0mZnHOq-5pEU5OhC5tdh8bQuuWGWUIgO9xcYvoYQNZdyeQh3-oi3F7LHZxl39pqjXZZLIP5aafs4tl-0mYCtbNGki6naV-sNSrDU4aRDjomqTcxKO4fHkJwlJYMrjGLuXnupa21NxAEyvbQmU5p2DABSAyWzuq_7yAdoLC4HozKcyZPlSWCmAS4_urG1EEZ0ao1FC9Ocms4jeGUDXDWOydqRoKPBMJHzn_S3fad07pinwTBvwj3tSUHEw7VWFYEyZR6Ffn6U4o6qMcSTMMweRuXDC0aNJg5u_3uzuqJsJdye2_NeGMX0bQ15zKtKK3Q6bZ1y4b4JVqO7yPtLJWBfyUBFFrQ1dWgmpkmlSRrFyXAqFBGmCBhYl-6yl0XVgRYrwbd0TptPc_8u6iROMUOxMWtkyNTWbFhxmxrVqkz4t5R1rFtZ61joTZ_8g_dx-in_yJTpCLqQfnwS-B9G6vIQ.2QRaAD9Er0LczqFQSDoaTg/ham_eff3_weights.hdf5\n",
        "  print('saving model to drive')\n",
        "  !cp /content/ham_eff3_weights.hdf5  /content/drive/My\\ Drive/\n",
        "else:\n",
        "  print('load model from thie google drive') \n",
        "  !cp /content/drive/My\\ Drive/ham_eff3_weights.hdf5 /content/"
      ],
      "execution_count": 2,
      "outputs": [
        {
          "output_type": "stream",
          "text": [
            "Are you using the model for the first time\n",
            "y/n \n",
            "n\n",
            "load model from thie google drive\n"
          ],
          "name": "stdout"
        }
      ]
    },
    {
      "cell_type": "code",
      "metadata": {
        "id": "tN-dRYVxFchm",
        "colab_type": "code",
        "colab": {}
      },
      "source": [
        "%%capture\n",
        "!pip install efficientnet"
      ],
      "execution_count": 3,
      "outputs": []
    },
    {
      "cell_type": "code",
      "metadata": {
        "id": "Ys4Vc6mwF_U8",
        "colab_type": "code",
        "colab": {
          "base_uri": "https://localhost:8080/",
          "height": 241
        },
        "outputId": "910a069a-89c5-460d-8ffd-be1a26571b4b"
      },
      "source": [
        "#download the dataset\n",
        "!wget https://md-datasets-cache-zipfiles-prod.s3.eu-west-1.amazonaws.com/zr7vgbcyr2-1.zip"
      ],
      "execution_count": 4,
      "outputs": [
        {
          "output_type": "stream",
          "text": [
            "--2020-08-04 06:31:16--  https://md-datasets-cache-zipfiles-prod.s3.eu-west-1.amazonaws.com/zr7vgbcyr2-1.zip\n",
            "Resolving md-datasets-cache-zipfiles-prod.s3.eu-west-1.amazonaws.com (md-datasets-cache-zipfiles-prod.s3.eu-west-1.amazonaws.com)... 52.218.101.192\n",
            "Connecting to md-datasets-cache-zipfiles-prod.s3.eu-west-1.amazonaws.com (md-datasets-cache-zipfiles-prod.s3.eu-west-1.amazonaws.com)|52.218.101.192|:443... connected.\n",
            "HTTP request sent, awaiting response... 200 OK\n",
            "Length: 3593344681 (3.3G) [application/octet-stream]\n",
            "Saving to: ‘zr7vgbcyr2-1.zip’\n",
            "\n",
            "zr7vgbcyr2-1.zip    100%[===================>]   3.35G  21.9MB/s    in 2m 41s  \n",
            "\n",
            "2020-08-04 06:33:57 (21.3 MB/s) - ‘zr7vgbcyr2-1.zip’ saved [3593344681/3593344681]\n",
            "\n"
          ],
          "name": "stdout"
        }
      ]
    },
    {
      "cell_type": "code",
      "metadata": {
        "id": "crr19GsaGB2w",
        "colab_type": "code",
        "colab": {}
      },
      "source": [
        "#unzip the dataset\n",
        "%%capture\n",
        "!unzip zr7vgbcyr2-1.zip"
      ],
      "execution_count": 5,
      "outputs": []
    },
    {
      "cell_type": "code",
      "metadata": {
        "id": "_bPafWo1GCQF",
        "colab_type": "code",
        "colab": {}
      },
      "source": [
        "#create a new folder named as data\n",
        "!mkdir data"
      ],
      "execution_count": 6,
      "outputs": []
    },
    {
      "cell_type": "code",
      "metadata": {
        "id": "qjc8HZ54GCTG",
        "colab_type": "code",
        "colab": {}
      },
      "source": [
        "#unzip all subfolder\n",
        "%%capture\n",
        "!unzip /content/images/imgs_part_1.zip\n",
        "!unzip /content/images/imgs_part_2.zip\n",
        "!unzip /content/images/imgs_part_3.zip"
      ],
      "execution_count": 7,
      "outputs": []
    },
    {
      "cell_type": "code",
      "metadata": {
        "id": "evwiG9ihGCWK",
        "colab_type": "code",
        "colab": {}
      },
      "source": [
        "#move all pictures from subfolder to main folder data\n",
        "!mv  /content/imgs_part_1/* /content/data\n",
        "!mv  /content/imgs_part_2/* /content/data\n",
        "!mv  /content/imgs_part_3/* /content/data"
      ],
      "execution_count": 8,
      "outputs": []
    },
    {
      "cell_type": "code",
      "metadata": {
        "id": "Wymt3DYLGCew",
        "colab_type": "code",
        "colab": {}
      },
      "source": [
        "#remove the folder that contain subfolders\n",
        "!rm -r /content/images"
      ],
      "execution_count": 9,
      "outputs": []
    },
    {
      "cell_type": "code",
      "metadata": {
        "id": "HAEyK-mJGCb6",
        "colab_type": "code",
        "colab": {
          "base_uri": "https://localhost:8080/",
          "height": 226
        },
        "outputId": "61c06495-aef7-486f-aebd-bf8dc3c1c591"
      },
      "source": [
        "import pandas as pd\n",
        "import numpy as np\n",
        "import matplotlib.pyplot as plt\n",
        "#read annotation file\n",
        "df=pd.read_csv('/content/metadata.csv')\n",
        "df.head()"
      ],
      "execution_count": 10,
      "outputs": [
        {
          "output_type": "execute_result",
          "data": {
            "text/html": [
              "<div>\n",
              "<style scoped>\n",
              "    .dataframe tbody tr th:only-of-type {\n",
              "        vertical-align: middle;\n",
              "    }\n",
              "\n",
              "    .dataframe tbody tr th {\n",
              "        vertical-align: top;\n",
              "    }\n",
              "\n",
              "    .dataframe thead th {\n",
              "        text-align: right;\n",
              "    }\n",
              "</style>\n",
              "<table border=\"1\" class=\"dataframe\">\n",
              "  <thead>\n",
              "    <tr style=\"text-align: right;\">\n",
              "      <th></th>\n",
              "      <th>patient_id</th>\n",
              "      <th>lesion_id</th>\n",
              "      <th>smoke</th>\n",
              "      <th>drink</th>\n",
              "      <th>background_father</th>\n",
              "      <th>background_mother</th>\n",
              "      <th>age</th>\n",
              "      <th>pesticide</th>\n",
              "      <th>gender</th>\n",
              "      <th>skin_cancer_history</th>\n",
              "      <th>cancer_history</th>\n",
              "      <th>has_piped_water</th>\n",
              "      <th>has_sewage_system</th>\n",
              "      <th>fitspatrick</th>\n",
              "      <th>region</th>\n",
              "      <th>diameter_1</th>\n",
              "      <th>diameter_2</th>\n",
              "      <th>diagnostic</th>\n",
              "      <th>itch</th>\n",
              "      <th>grew</th>\n",
              "      <th>hurt</th>\n",
              "      <th>changed</th>\n",
              "      <th>bleed</th>\n",
              "      <th>elevation</th>\n",
              "      <th>img_id</th>\n",
              "      <th>biopsed</th>\n",
              "    </tr>\n",
              "  </thead>\n",
              "  <tbody>\n",
              "    <tr>\n",
              "      <th>0</th>\n",
              "      <td>PAT_1516</td>\n",
              "      <td>1765</td>\n",
              "      <td>NaN</td>\n",
              "      <td>NaN</td>\n",
              "      <td>NaN</td>\n",
              "      <td>NaN</td>\n",
              "      <td>8</td>\n",
              "      <td>NaN</td>\n",
              "      <td>NaN</td>\n",
              "      <td>NaN</td>\n",
              "      <td>NaN</td>\n",
              "      <td>NaN</td>\n",
              "      <td>NaN</td>\n",
              "      <td>NaN</td>\n",
              "      <td>ARM</td>\n",
              "      <td>NaN</td>\n",
              "      <td>NaN</td>\n",
              "      <td>NEV</td>\n",
              "      <td>False</td>\n",
              "      <td>False</td>\n",
              "      <td>False</td>\n",
              "      <td>False</td>\n",
              "      <td>False</td>\n",
              "      <td>False</td>\n",
              "      <td>PAT_1516_1765_530.png</td>\n",
              "      <td>False</td>\n",
              "    </tr>\n",
              "    <tr>\n",
              "      <th>1</th>\n",
              "      <td>PAT_46</td>\n",
              "      <td>881</td>\n",
              "      <td>False</td>\n",
              "      <td>False</td>\n",
              "      <td>POMERANIA</td>\n",
              "      <td>POMERANIA</td>\n",
              "      <td>55</td>\n",
              "      <td>False</td>\n",
              "      <td>FEMALE</td>\n",
              "      <td>True</td>\n",
              "      <td>True</td>\n",
              "      <td>True</td>\n",
              "      <td>True</td>\n",
              "      <td>3.0</td>\n",
              "      <td>NECK</td>\n",
              "      <td>6.0</td>\n",
              "      <td>5.0</td>\n",
              "      <td>BCC</td>\n",
              "      <td>True</td>\n",
              "      <td>True</td>\n",
              "      <td>False</td>\n",
              "      <td>True</td>\n",
              "      <td>True</td>\n",
              "      <td>True</td>\n",
              "      <td>PAT_46_881_939.png</td>\n",
              "      <td>True</td>\n",
              "    </tr>\n",
              "    <tr>\n",
              "      <th>2</th>\n",
              "      <td>PAT_1545</td>\n",
              "      <td>1867</td>\n",
              "      <td>NaN</td>\n",
              "      <td>NaN</td>\n",
              "      <td>NaN</td>\n",
              "      <td>NaN</td>\n",
              "      <td>77</td>\n",
              "      <td>NaN</td>\n",
              "      <td>NaN</td>\n",
              "      <td>NaN</td>\n",
              "      <td>NaN</td>\n",
              "      <td>NaN</td>\n",
              "      <td>NaN</td>\n",
              "      <td>NaN</td>\n",
              "      <td>FACE</td>\n",
              "      <td>NaN</td>\n",
              "      <td>NaN</td>\n",
              "      <td>ACK</td>\n",
              "      <td>True</td>\n",
              "      <td>False</td>\n",
              "      <td>False</td>\n",
              "      <td>False</td>\n",
              "      <td>False</td>\n",
              "      <td>False</td>\n",
              "      <td>PAT_1545_1867_547.png</td>\n",
              "      <td>False</td>\n",
              "    </tr>\n",
              "    <tr>\n",
              "      <th>3</th>\n",
              "      <td>PAT_1989</td>\n",
              "      <td>4061</td>\n",
              "      <td>NaN</td>\n",
              "      <td>NaN</td>\n",
              "      <td>NaN</td>\n",
              "      <td>NaN</td>\n",
              "      <td>75</td>\n",
              "      <td>NaN</td>\n",
              "      <td>NaN</td>\n",
              "      <td>NaN</td>\n",
              "      <td>NaN</td>\n",
              "      <td>NaN</td>\n",
              "      <td>NaN</td>\n",
              "      <td>NaN</td>\n",
              "      <td>HAND</td>\n",
              "      <td>NaN</td>\n",
              "      <td>NaN</td>\n",
              "      <td>ACK</td>\n",
              "      <td>True</td>\n",
              "      <td>False</td>\n",
              "      <td>False</td>\n",
              "      <td>False</td>\n",
              "      <td>False</td>\n",
              "      <td>False</td>\n",
              "      <td>PAT_1989_4061_934.png</td>\n",
              "      <td>False</td>\n",
              "    </tr>\n",
              "    <tr>\n",
              "      <th>4</th>\n",
              "      <td>PAT_684</td>\n",
              "      <td>1302</td>\n",
              "      <td>False</td>\n",
              "      <td>True</td>\n",
              "      <td>POMERANIA</td>\n",
              "      <td>POMERANIA</td>\n",
              "      <td>79</td>\n",
              "      <td>False</td>\n",
              "      <td>MALE</td>\n",
              "      <td>True</td>\n",
              "      <td>False</td>\n",
              "      <td>False</td>\n",
              "      <td>False</td>\n",
              "      <td>1.0</td>\n",
              "      <td>FOREARM</td>\n",
              "      <td>5.0</td>\n",
              "      <td>5.0</td>\n",
              "      <td>BCC</td>\n",
              "      <td>True</td>\n",
              "      <td>True</td>\n",
              "      <td>False</td>\n",
              "      <td>False</td>\n",
              "      <td>True</td>\n",
              "      <td>True</td>\n",
              "      <td>PAT_684_1302_588.png</td>\n",
              "      <td>True</td>\n",
              "    </tr>\n",
              "  </tbody>\n",
              "</table>\n",
              "</div>"
            ],
            "text/plain": [
              "  patient_id  lesion_id  smoke  ... elevation                 img_id biopsed\n",
              "0   PAT_1516       1765    NaN  ...     False  PAT_1516_1765_530.png   False\n",
              "1     PAT_46        881  False  ...      True     PAT_46_881_939.png    True\n",
              "2   PAT_1545       1867    NaN  ...     False  PAT_1545_1867_547.png   False\n",
              "3   PAT_1989       4061    NaN  ...     False  PAT_1989_4061_934.png   False\n",
              "4    PAT_684       1302  False  ...      True   PAT_684_1302_588.png    True\n",
              "\n",
              "[5 rows x 26 columns]"
            ]
          },
          "metadata": {
            "tags": []
          },
          "execution_count": 10
        }
      ]
    },
    {
      "cell_type": "code",
      "metadata": {
        "id": "oIP9M4WoGCZz",
        "colab_type": "code",
        "colab": {
          "base_uri": "https://localhost:8080/",
          "height": 206
        },
        "outputId": "c8b64e4a-46df-499a-8677-99520b63af8b"
      },
      "source": [
        "#create a dataframe with image name and encoded labels\n",
        "labels=pd.get_dummies(df['diagnostic'])\n",
        "df=pd.concat([df['img_id'],labels],axis=1)\n",
        "df.head()"
      ],
      "execution_count": 11,
      "outputs": [
        {
          "output_type": "execute_result",
          "data": {
            "text/html": [
              "<div>\n",
              "<style scoped>\n",
              "    .dataframe tbody tr th:only-of-type {\n",
              "        vertical-align: middle;\n",
              "    }\n",
              "\n",
              "    .dataframe tbody tr th {\n",
              "        vertical-align: top;\n",
              "    }\n",
              "\n",
              "    .dataframe thead th {\n",
              "        text-align: right;\n",
              "    }\n",
              "</style>\n",
              "<table border=\"1\" class=\"dataframe\">\n",
              "  <thead>\n",
              "    <tr style=\"text-align: right;\">\n",
              "      <th></th>\n",
              "      <th>img_id</th>\n",
              "      <th>ACK</th>\n",
              "      <th>BCC</th>\n",
              "      <th>MEL</th>\n",
              "      <th>NEV</th>\n",
              "      <th>SCC</th>\n",
              "      <th>SEK</th>\n",
              "    </tr>\n",
              "  </thead>\n",
              "  <tbody>\n",
              "    <tr>\n",
              "      <th>0</th>\n",
              "      <td>PAT_1516_1765_530.png</td>\n",
              "      <td>0</td>\n",
              "      <td>0</td>\n",
              "      <td>0</td>\n",
              "      <td>1</td>\n",
              "      <td>0</td>\n",
              "      <td>0</td>\n",
              "    </tr>\n",
              "    <tr>\n",
              "      <th>1</th>\n",
              "      <td>PAT_46_881_939.png</td>\n",
              "      <td>0</td>\n",
              "      <td>1</td>\n",
              "      <td>0</td>\n",
              "      <td>0</td>\n",
              "      <td>0</td>\n",
              "      <td>0</td>\n",
              "    </tr>\n",
              "    <tr>\n",
              "      <th>2</th>\n",
              "      <td>PAT_1545_1867_547.png</td>\n",
              "      <td>1</td>\n",
              "      <td>0</td>\n",
              "      <td>0</td>\n",
              "      <td>0</td>\n",
              "      <td>0</td>\n",
              "      <td>0</td>\n",
              "    </tr>\n",
              "    <tr>\n",
              "      <th>3</th>\n",
              "      <td>PAT_1989_4061_934.png</td>\n",
              "      <td>1</td>\n",
              "      <td>0</td>\n",
              "      <td>0</td>\n",
              "      <td>0</td>\n",
              "      <td>0</td>\n",
              "      <td>0</td>\n",
              "    </tr>\n",
              "    <tr>\n",
              "      <th>4</th>\n",
              "      <td>PAT_684_1302_588.png</td>\n",
              "      <td>0</td>\n",
              "      <td>1</td>\n",
              "      <td>0</td>\n",
              "      <td>0</td>\n",
              "      <td>0</td>\n",
              "      <td>0</td>\n",
              "    </tr>\n",
              "  </tbody>\n",
              "</table>\n",
              "</div>"
            ],
            "text/plain": [
              "                  img_id  ACK  BCC  MEL  NEV  SCC  SEK\n",
              "0  PAT_1516_1765_530.png    0    0    0    1    0    0\n",
              "1     PAT_46_881_939.png    0    1    0    0    0    0\n",
              "2  PAT_1545_1867_547.png    1    0    0    0    0    0\n",
              "3  PAT_1989_4061_934.png    1    0    0    0    0    0\n",
              "4   PAT_684_1302_588.png    0    1    0    0    0    0"
            ]
          },
          "metadata": {
            "tags": []
          },
          "execution_count": 11
        }
      ]
    },
    {
      "cell_type": "code",
      "metadata": {
        "id": "B4uO3ChKG2EO",
        "colab_type": "code",
        "colab": {
          "base_uri": "https://localhost:8080/",
          "height": 206
        },
        "outputId": "6033ed0f-2170-4f72-ae8a-3d5ce3695491"
      },
      "source": [
        "#shuffle the dataframe\n",
        "df=df.sample(frac=1)\n",
        "df.head()"
      ],
      "execution_count": 12,
      "outputs": [
        {
          "output_type": "execute_result",
          "data": {
            "text/html": [
              "<div>\n",
              "<style scoped>\n",
              "    .dataframe tbody tr th:only-of-type {\n",
              "        vertical-align: middle;\n",
              "    }\n",
              "\n",
              "    .dataframe tbody tr th {\n",
              "        vertical-align: top;\n",
              "    }\n",
              "\n",
              "    .dataframe thead th {\n",
              "        text-align: right;\n",
              "    }\n",
              "</style>\n",
              "<table border=\"1\" class=\"dataframe\">\n",
              "  <thead>\n",
              "    <tr style=\"text-align: right;\">\n",
              "      <th></th>\n",
              "      <th>img_id</th>\n",
              "      <th>ACK</th>\n",
              "      <th>BCC</th>\n",
              "      <th>MEL</th>\n",
              "      <th>NEV</th>\n",
              "      <th>SCC</th>\n",
              "      <th>SEK</th>\n",
              "    </tr>\n",
              "  </thead>\n",
              "  <tbody>\n",
              "    <tr>\n",
              "      <th>686</th>\n",
              "      <td>PAT_1379_4145_486.png</td>\n",
              "      <td>0</td>\n",
              "      <td>0</td>\n",
              "      <td>0</td>\n",
              "      <td>1</td>\n",
              "      <td>0</td>\n",
              "      <td>0</td>\n",
              "    </tr>\n",
              "    <tr>\n",
              "      <th>2088</th>\n",
              "      <td>PAT_2062_4397_39.png</td>\n",
              "      <td>0</td>\n",
              "      <td>0</td>\n",
              "      <td>0</td>\n",
              "      <td>1</td>\n",
              "      <td>0</td>\n",
              "      <td>0</td>\n",
              "    </tr>\n",
              "    <tr>\n",
              "      <th>2221</th>\n",
              "      <td>PAT_131_197_260.png</td>\n",
              "      <td>0</td>\n",
              "      <td>0</td>\n",
              "      <td>0</td>\n",
              "      <td>0</td>\n",
              "      <td>1</td>\n",
              "      <td>0</td>\n",
              "    </tr>\n",
              "    <tr>\n",
              "      <th>1203</th>\n",
              "      <td>PAT_352_729_947.png</td>\n",
              "      <td>0</td>\n",
              "      <td>0</td>\n",
              "      <td>0</td>\n",
              "      <td>1</td>\n",
              "      <td>0</td>\n",
              "      <td>0</td>\n",
              "    </tr>\n",
              "    <tr>\n",
              "      <th>605</th>\n",
              "      <td>PAT_1065_277_768.png</td>\n",
              "      <td>1</td>\n",
              "      <td>0</td>\n",
              "      <td>0</td>\n",
              "      <td>0</td>\n",
              "      <td>0</td>\n",
              "      <td>0</td>\n",
              "    </tr>\n",
              "  </tbody>\n",
              "</table>\n",
              "</div>"
            ],
            "text/plain": [
              "                     img_id  ACK  BCC  MEL  NEV  SCC  SEK\n",
              "686   PAT_1379_4145_486.png    0    0    0    1    0    0\n",
              "2088   PAT_2062_4397_39.png    0    0    0    1    0    0\n",
              "2221    PAT_131_197_260.png    0    0    0    0    1    0\n",
              "1203    PAT_352_729_947.png    0    0    0    1    0    0\n",
              "605    PAT_1065_277_768.png    1    0    0    0    0    0"
            ]
          },
          "metadata": {
            "tags": []
          },
          "execution_count": 12
        }
      ]
    },
    {
      "cell_type": "code",
      "metadata": {
        "id": "Ogf8B7C-G2NB",
        "colab_type": "code",
        "colab": {
          "base_uri": "https://localhost:8080/",
          "height": 36
        },
        "outputId": "f3cb0616-af90-412b-87ea-f4193e50d271"
      },
      "source": [
        "#labels columns in dataframe\n",
        "col=list(df.columns)[1::]\n",
        "col"
      ],
      "execution_count": 13,
      "outputs": [
        {
          "output_type": "execute_result",
          "data": {
            "text/plain": [
              "['ACK', 'BCC', 'MEL', 'NEV', 'SCC', 'SEK']"
            ]
          },
          "metadata": {
            "tags": []
          },
          "execution_count": 13
        }
      ]
    },
    {
      "cell_type": "code",
      "metadata": {
        "id": "ihQ3fznlG2Q7",
        "colab_type": "code",
        "colab": {}
      },
      "source": [
        "# data augmentation\n",
        "from tensorflow.keras.preprocessing.image import ImageDataGenerator\n",
        "data_gen= ImageDataGenerator(\n",
        "    horizontal_flip=True,\n",
        "    vertical_flip=True,\n",
        "    rotation_range=360,\n",
        "    width_shift_range=0.1,\n",
        "    height_shift_range=0.1,\n",
        "    zoom_range=.1,\n",
        "    rescale=1/255,\n",
        "    fill_mode='nearest')"
      ],
      "execution_count": 14,
      "outputs": []
    },
    {
      "cell_type": "code",
      "metadata": {
        "id": "Y4GNCOf3G2KD",
        "colab_type": "code",
        "colab": {}
      },
      "source": [
        "# model hyperparameters\n",
        "img_shape=300\n",
        "batch_size=24\n",
        "n_epochs=20"
      ],
      "execution_count": 15,
      "outputs": []
    },
    {
      "cell_type": "code",
      "metadata": {
        "id": "P72df_UPH2l1",
        "colab_type": "code",
        "colab": {}
      },
      "source": [
        "from tensorflow.keras.layers import GlobalAveragePooling2D,Dropout,Dense\n",
        "from tensorflow.keras.callbacks import ModelCheckpoint,ReduceLROnPlateau\n",
        "from tensorflow.keras.optimizers import Adam\n",
        "import tensorflow.keras.backend as K\n",
        "from tensorflow.keras.models import Sequential,Model"
      ],
      "execution_count": 16,
      "outputs": []
    },
    {
      "cell_type": "code",
      "metadata": {
        "id": "ngi230XBH5MN",
        "colab_type": "code",
        "colab": {}
      },
      "source": [
        "def basemodel():\n",
        "  import efficientnet.tfkeras as efn\n",
        "  base_model =efn.EfficientNetB3(weights ='noisy-student', include_top=False, input_shape = (img_shape,img_shape,3))\n",
        "  x = base_model.output\n",
        "  x = GlobalAveragePooling2D()(x)\n",
        "  x = Dropout(0.3)(x)\n",
        "  x = Dense(128, activation=\"relu\")(x)\n",
        "  x = Dropout(0.3)(x)\n",
        "  x = Dense(64, activation=\"relu\")(x)\n",
        "  predictions = Dense(len(col), activation=\"softmax\")(x) \n",
        "  base_model = Model(inputs=base_model.input, outputs=predictions)\n",
        "  base_model.compile(optimizer=Adam(0.001), loss='categorical_crossentropy', metrics=['accuracy'])\n",
        "  return base_model"
      ],
      "execution_count": 21,
      "outputs": []
    },
    {
      "cell_type": "code",
      "metadata": {
        "id": "hx-WGWBVNMri",
        "colab_type": "code",
        "colab": {
          "base_uri": "https://localhost:8080/",
          "height": 705
        },
        "outputId": "d51fd67f-2bf5-43de-b47b-85f5182fec31"
      },
      "source": [
        "\n",
        "from sklearn.model_selection import KFold\n",
        "import gc\n",
        "\n",
        "from sklearn.metrics import classification_report,accuracy_score,f1_score,roc_auc_score\n",
        "classification_reports=[]\n",
        "kf = KFold(n_splits=5)\n",
        "history=[]\n",
        "accuracy=[]\n",
        "f1_scores=[]\n",
        "auc=[]\n",
        "y_pred=[]\n",
        "fold=0\n",
        "for train_index, test_index in kf.split(df):\n",
        "  train=df.iloc[train_index,:]\n",
        "  val=df.iloc[test_index,:]\n",
        "  print('-----------fold {}--------------'.format(fold))\n",
        "  train_generator=data_gen.flow_from_dataframe(train,directory='/content/data',\n",
        "                                               target_size=(img_shape,img_shape),\n",
        "                                               x_col='img_id',\n",
        "                                               y_col=col,\n",
        "                                               class_mode='raw',\n",
        "                                               shuffle=True,\n",
        "                                               batch_size=batch_size)\n",
        "\n",
        "  val_generator=data_gen.flow_from_dataframe(val,directory='/content/data',\n",
        "                                             target_size=(img_shape,img_shape),\n",
        "                                             x_col=\"img_id\",\n",
        "                                             y_col=col,\n",
        "                                             class_mode='raw',\n",
        "                                             shuffle=False,\n",
        "                                             batch_size=batch_size)\n",
        "  #train_generator.next()[0].shape,train_generator.next()[1].shape\n",
        "\n",
        "  #load base model\n",
        "  base_model=basemodel()\n",
        "  #train model\n",
        "  results = base_model.fit(train_generator,epochs=10,verbose=0,\n",
        "                              steps_per_epoch=train_generator.n/batch_size,\n",
        "                              validation_data=val_generator,\n",
        "                             validation_steps=val_generator.n/batch_size,\n",
        "                              callbacks=[ReduceLROnPlateau(monitor='val_loss', factor=0.5,patience=3, min_lr=0.000001),\n",
        "                                         #ModelCheckpoint('model_{}.hdf5'.format(fold), save_best_only=True, monitor='val_loss', mode='min')\n",
        "                                         ])\n",
        "  #model.load_weights('model_{}.hdf5'.format(fold))\n",
        "  val_generator.reset()\n",
        "  y_pred=base_model.predict(val_generator,steps=val_generator.n/batch_size,verbose=0)\n",
        "  y_pred=y_pred.round().astype(int)\n",
        "  y_true=val.iloc[:,1::]\n",
        "\n",
        "  f1=f1_score(y_true,y_pred,average='macro',labels=np.unique(y_pred))\n",
        "  print('f1 score is ', f1)\n",
        "\n",
        "  classification_reports.append(classification_report(y_true, y_pred,target_names=col))#\n",
        "  accuracy.append(accuracy_score(y_true,y_pred))\n",
        "  auc.append(roc_auc_score(y_true,y_pred))\n",
        "  f1_scores.append(f1)\n",
        "  history.append(results)\n",
        "  fold+=1\n",
        "\n",
        "  del base_model\n",
        "  K.clear_session()\n",
        "  gc.collect()"
      ],
      "execution_count": 22,
      "outputs": [
        {
          "output_type": "stream",
          "text": [
            "-----------fold 0--------------\n",
            "Found 1838 validated image filenames.\n",
            "Found 460 validated image filenames.\n",
            "f1 score is  0.7678115624020421\n"
          ],
          "name": "stdout"
        },
        {
          "output_type": "stream",
          "text": [
            "/usr/local/lib/python3.6/dist-packages/sklearn/metrics/_classification.py:1272: UndefinedMetricWarning: Precision and F-score are ill-defined and being set to 0.0 in samples with no predicted labels. Use `zero_division` parameter to control this behavior.\n",
            "  _warn_prf(average, modifier, msg_start, len(result))\n"
          ],
          "name": "stderr"
        },
        {
          "output_type": "stream",
          "text": [
            "-----------fold 1--------------\n",
            "Found 1838 validated image filenames.\n",
            "Found 460 validated image filenames.\n",
            "f1 score is  0.726167983510821\n"
          ],
          "name": "stdout"
        },
        {
          "output_type": "stream",
          "text": [
            "/usr/local/lib/python3.6/dist-packages/sklearn/metrics/_classification.py:1272: UndefinedMetricWarning: Precision and F-score are ill-defined and being set to 0.0 in samples with no predicted labels. Use `zero_division` parameter to control this behavior.\n",
            "  _warn_prf(average, modifier, msg_start, len(result))\n"
          ],
          "name": "stderr"
        },
        {
          "output_type": "stream",
          "text": [
            "-----------fold 2--------------\n",
            "Found 1838 validated image filenames.\n",
            "Found 460 validated image filenames.\n",
            "f1 score is  0.7682283402094574\n"
          ],
          "name": "stdout"
        },
        {
          "output_type": "stream",
          "text": [
            "/usr/local/lib/python3.6/dist-packages/sklearn/metrics/_classification.py:1272: UndefinedMetricWarning: Precision and F-score are ill-defined and being set to 0.0 in samples with no predicted labels. Use `zero_division` parameter to control this behavior.\n",
            "  _warn_prf(average, modifier, msg_start, len(result))\n"
          ],
          "name": "stderr"
        },
        {
          "output_type": "stream",
          "text": [
            "-----------fold 3--------------\n",
            "Found 1839 validated image filenames.\n",
            "Found 459 validated image filenames.\n",
            "f1 score is  0.659610821072615\n"
          ],
          "name": "stdout"
        },
        {
          "output_type": "stream",
          "text": [
            "/usr/local/lib/python3.6/dist-packages/sklearn/metrics/_classification.py:1272: UndefinedMetricWarning: Precision and F-score are ill-defined and being set to 0.0 in samples with no predicted labels. Use `zero_division` parameter to control this behavior.\n",
            "  _warn_prf(average, modifier, msg_start, len(result))\n"
          ],
          "name": "stderr"
        },
        {
          "output_type": "stream",
          "text": [
            "-----------fold 4--------------\n",
            "Found 1839 validated image filenames.\n",
            "Found 459 validated image filenames.\n",
            "f1 score is  0.7602161370088836\n"
          ],
          "name": "stdout"
        },
        {
          "output_type": "stream",
          "text": [
            "/usr/local/lib/python3.6/dist-packages/sklearn/metrics/_classification.py:1272: UndefinedMetricWarning: Precision and F-score are ill-defined and being set to 0.0 in labels with no predicted samples. Use `zero_division` parameter to control this behavior.\n",
            "  _warn_prf(average, modifier, msg_start, len(result))\n",
            "/usr/local/lib/python3.6/dist-packages/sklearn/metrics/_classification.py:1272: UndefinedMetricWarning: Precision and F-score are ill-defined and being set to 0.0 in labels with no predicted samples. Use `zero_division` parameter to control this behavior.\n",
            "  _warn_prf(average, modifier, msg_start, len(result))\n",
            "/usr/local/lib/python3.6/dist-packages/sklearn/metrics/_classification.py:1272: UndefinedMetricWarning: Precision and F-score are ill-defined and being set to 0.0 in labels with no predicted samples. Use `zero_division` parameter to control this behavior.\n",
            "  _warn_prf(average, modifier, msg_start, len(result))\n",
            "/usr/local/lib/python3.6/dist-packages/sklearn/metrics/_classification.py:1272: UndefinedMetricWarning: Precision and F-score are ill-defined and being set to 0.0 in samples with no predicted labels. Use `zero_division` parameter to control this behavior.\n",
            "  _warn_prf(average, modifier, msg_start, len(result))\n"
          ],
          "name": "stderr"
        }
      ]
    },
    {
      "cell_type": "code",
      "metadata": {
        "id": "DCKnaWlGQGf5",
        "colab_type": "code",
        "colab": {
          "base_uri": "https://localhost:8080/",
          "height": 1000
        },
        "outputId": "031a253b-1354-4d95-c3be-40700df3e8e1"
      },
      "source": [
        "# print classification report of all folds\n",
        "for report in classification_reports:\n",
        "  print('--------------------------------------------------------')\n",
        "  print(report)"
      ],
      "execution_count": 23,
      "outputs": [
        {
          "output_type": "stream",
          "text": [
            "--------------------------------------------------------\n",
            "              precision    recall  f1-score   support\n",
            "\n",
            "         ACK       0.79      0.77      0.78       139\n",
            "         BCC       0.80      0.72      0.75       172\n",
            "         MEL       0.33      0.22      0.27         9\n",
            "         NEV       0.80      0.65      0.72        55\n",
            "         SCC       0.37      0.34      0.36        38\n",
            "         SEK       0.82      0.57      0.68        47\n",
            "\n",
            "   micro avg       0.75      0.67      0.71       460\n",
            "   macro avg       0.65      0.55      0.59       460\n",
            "weighted avg       0.75      0.67      0.71       460\n",
            " samples avg       0.67      0.67      0.67       460\n",
            "\n",
            "--------------------------------------------------------\n",
            "              precision    recall  f1-score   support\n",
            "\n",
            "         ACK       0.68      0.87      0.76       144\n",
            "         BCC       0.82      0.60      0.69       164\n",
            "         MEL       0.57      0.36      0.44        11\n",
            "         NEV       0.80      0.67      0.73        49\n",
            "         SCC       0.38      0.14      0.20        43\n",
            "         SEK       0.77      0.67      0.72        49\n",
            "\n",
            "   micro avg       0.73      0.65      0.69       460\n",
            "   macro avg       0.67      0.55      0.59       460\n",
            "weighted avg       0.72      0.65      0.67       460\n",
            " samples avg       0.65      0.65      0.65       460\n",
            "\n",
            "--------------------------------------------------------\n",
            "              precision    recall  f1-score   support\n",
            "\n",
            "         ACK       0.88      0.70      0.78       153\n",
            "         BCC       0.68      0.84      0.76       165\n",
            "         MEL       0.40      0.25      0.31         8\n",
            "         NEV       0.68      0.74      0.71        46\n",
            "         SCC       0.33      0.06      0.10        35\n",
            "         SEK       0.86      0.72      0.78        53\n",
            "\n",
            "   micro avg       0.75      0.70      0.72       460\n",
            "   macro avg       0.64      0.55      0.57       460\n",
            "weighted avg       0.74      0.70      0.70       460\n",
            " samples avg       0.70      0.70      0.70       460\n",
            "\n",
            "--------------------------------------------------------\n",
            "              precision    recall  f1-score   support\n",
            "\n",
            "         ACK       0.73      0.80      0.76       143\n",
            "         BCC       0.91      0.40      0.56       170\n",
            "         MEL       1.00      0.23      0.38        13\n",
            "         NEV       0.66      0.67      0.67        43\n",
            "         SCC       0.33      0.10      0.16        39\n",
            "         SEK       0.56      0.88      0.68        51\n",
            "\n",
            "   micro avg       0.71      0.58      0.63       459\n",
            "   macro avg       0.70      0.52      0.53       459\n",
            "weighted avg       0.74      0.58      0.61       459\n",
            " samples avg       0.58      0.58      0.58       459\n",
            "\n",
            "--------------------------------------------------------\n",
            "              precision    recall  f1-score   support\n",
            "\n",
            "         ACK       0.75      0.77      0.76       151\n",
            "         BCC       0.74      0.78      0.76       174\n",
            "         MEL       1.00      0.36      0.53        11\n",
            "         NEV       0.66      0.76      0.71        51\n",
            "         SCC       0.00      0.00      0.00        37\n",
            "         SEK       0.65      0.63      0.64        35\n",
            "\n",
            "   micro avg       0.73      0.69      0.71       459\n",
            "   macro avg       0.63      0.55      0.57       459\n",
            "weighted avg       0.67      0.69      0.68       459\n",
            " samples avg       0.69      0.69      0.69       459\n",
            "\n"
          ],
          "name": "stdout"
        }
      ]
    },
    {
      "cell_type": "code",
      "metadata": {
        "id": "yesXG_AnTxV_",
        "colab_type": "code",
        "colab": {
          "base_uri": "https://localhost:8080/",
          "height": 36
        },
        "outputId": "6c612442-42fb-403f-a163-7f8623420da4"
      },
      "source": [
        "#average accuracy across all folds\n",
        "np.mean(accuracy)"
      ],
      "execution_count": 24,
      "outputs": [
        {
          "output_type": "execute_result",
          "data": {
            "text/plain": [
              "0.6570720848725963"
            ]
          },
          "metadata": {
            "tags": []
          },
          "execution_count": 24
        }
      ]
    },
    {
      "cell_type": "code",
      "metadata": {
        "id": "IBEnsXEAUE0v",
        "colab_type": "code",
        "colab": {
          "base_uri": "https://localhost:8080/",
          "height": 36
        },
        "outputId": "ae8cb887-6307-4530-f84b-3129db6bad9b"
      },
      "source": [
        "#average f1_scores across all folds\n",
        "np.mean(f1_scores)"
      ],
      "execution_count": 25,
      "outputs": [
        {
          "output_type": "execute_result",
          "data": {
            "text/plain": [
              "0.7364069688407638"
            ]
          },
          "metadata": {
            "tags": []
          },
          "execution_count": 25
        }
      ]
    },
    {
      "cell_type": "code",
      "metadata": {
        "id": "nSynF5hyUJKL",
        "colab_type": "code",
        "colab": {
          "base_uri": "https://localhost:8080/",
          "height": 36
        },
        "outputId": "23b54cb3-55c5-4d2f-bab5-b87f736cb3c9"
      },
      "source": [
        "#average auc_scores across all folds\n",
        "np.mean(auc)"
      ],
      "execution_count": 26,
      "outputs": [
        {
          "output_type": "execute_result",
          "data": {
            "text/plain": [
              "0.7444528660282039"
            ]
          },
          "metadata": {
            "tags": []
          },
          "execution_count": 26
        }
      ]
    },
    {
      "cell_type": "code",
      "metadata": {
        "id": "gqrytK3kUz8y",
        "colab_type": "code",
        "colab": {}
      },
      "source": [
        "def plot_accuracy(hist,acc='val_accuracy'):\n",
        "    for i in range(5):\n",
        "      plt.plot(hist[i].history[acc],linestyle='-.',linewidth=1.5)\n",
        "     \n",
        "    mean=np.mean([[j for j in x.history[acc]] for x in hist],axis=0)\n",
        "    std=np.std([[j for j in x.history[acc]] for x in hist],axis=0)\n",
        "    plt.plot(mean,linewidth=2,color='black')\n",
        "    if acc=='val_accuracy':\n",
        "      plt.title('Model Validation Accuracy')\n",
        "    else:\n",
        "      plt.title('Model Training Accuracy')\n",
        "    plt.ylabel('Accuracy')\n",
        "    plt.xlabel('Epochs')\n",
        "    plt.legend(['Fold1','Fold2','Fold3','Fold4','Fold5','Average Val Accuracy' ], loc='best')\n",
        "    plt.show()"
      ],
      "execution_count": 27,
      "outputs": []
    },
    {
      "cell_type": "code",
      "metadata": {
        "id": "bU00gMO6Vjt0",
        "colab_type": "code",
        "colab": {
          "base_uri": "https://localhost:8080/",
          "height": 295
        },
        "outputId": "51912116-207d-4947-f8c9-97e9c0dc9d2c"
      },
      "source": [
        "plot_accuracy(history)"
      ],
      "execution_count": 28,
      "outputs": [
        {
          "output_type": "display_data",
          "data": {
            "image/png": "[encoded data removed]",
            "text/plain": [
              "<Figure size 432x288 with 1 Axes>"
            ]
          },
          "metadata": {
            "tags": [],
            "needs_background": "light"
          }
        }
      ]
    },
    {
      "cell_type": "code",
      "metadata": {
        "id": "iCsZIxDS2Pck",
        "colab_type": "code",
        "colab": {
          "base_uri": "https://localhost:8080/",
          "height": 295
        },
        "outputId": "ff22483e-f7be-46cc-db9d-f7a188b222f2"
      },
      "source": [
        "plot_accuracy(history,acc='accuracy')"
      ],
      "execution_count": 29,
      "outputs": [
        {
          "output_type": "display_data",
          "data": {
            "image/png": "[encoded data removed]",
            "text/plain": [
              "<Figure size 432x288 with 1 Axes>"
            ]
          },
          "metadata": {
            "tags": [],
            "needs_background": "light"
          }
        }
      ]
    },
    {
      "cell_type": "code",
      "metadata": {
        "id": "f71aEPbRpDQQ",
        "colab_type": "code",
        "colab": {}
      },
      "source": [
        ""
      ],
      "execution_count": null,
      "outputs": []
    }
  ]
}