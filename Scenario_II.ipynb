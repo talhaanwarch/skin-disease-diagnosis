{
  "nbformat": 4,
  "nbformat_minor": 0,
  "metadata": {
    "colab": {
      "name": "Scenario_II.ipynb",
      "provenance": [],
      "collapsed_sections": [],
      "include_colab_link": true
    },
    "kernelspec": {
      "name": "python3",
      "display_name": "Python 3"
    },
    "accelerator": "GPU"
  },
  "cells": [
    {
      "cell_type": "markdown",
      "metadata": {
        "id": "view-in-github",
        "colab_type": "text"
      },
      "source": [
        "<a href=\"https://colab.research.google.com/github/talhaanwarch/skin-disease-diagnosis/blob/master/Scenario_II.ipynb\" target=\"_parent\"><img src=\"https://colab.research.google.com/assets/colab-badge.svg\" alt=\"Open In Colab\"/></a>"
      ]
    },
    {
      "cell_type": "code",
      "metadata": {
        "id": "FzpATBgHIHqu",
        "outputId": "81f1cbb1-bcb3-4134-a87b-a25224f65204",
        "colab": {
          "base_uri": "https://localhost:8080/",
          "height": 35
        }
      },
      "source": [
        "from google.colab import drive\n",
        "drive.mount('/content/drive')"
      ],
      "execution_count": 1,
      "outputs": [
        {
          "output_type": "stream",
          "text": [
            "Mounted at /content/drive\n"
          ],
          "name": "stdout"
        }
      ]
    },
    {
      "cell_type": "code",
      "metadata": {
        "id": "ogr6mRTfIPTn"
      },
      "source": [
        "!cp /content/drive/My\\ Drive/isic_weights/isicall_eff3_weights.hdf5 /content/"
      ],
      "execution_count": 2,
      "outputs": []
    },
    {
      "cell_type": "code",
      "metadata": {
        "id": "tN-dRYVxFchm"
      },
      "source": [
        "%%capture\n",
        "!pip install efficientnet"
      ],
      "execution_count": 3,
      "outputs": []
    },
    {
      "cell_type": "code",
      "metadata": {
        "id": "Ys4Vc6mwF_U8",
        "outputId": "1e7175f0-27eb-464f-baba-71f645ba68ed",
        "colab": {
          "base_uri": "https://localhost:8080/",
          "height": 240
        }
      },
      "source": [
        "#download the dataset\n",
        "!wget https://md-datasets-cache-zipfiles-prod.s3.eu-west-1.amazonaws.com/zr7vgbcyr2-1.zip"
      ],
      "execution_count": 4,
      "outputs": [
        {
          "output_type": "stream",
          "text": [
            "--2020-09-28 09:07:27--  https://md-datasets-cache-zipfiles-prod.s3.eu-west-1.amazonaws.com/zr7vgbcyr2-1.zip\n",
            "Resolving md-datasets-cache-zipfiles-prod.s3.eu-west-1.amazonaws.com (md-datasets-cache-zipfiles-prod.s3.eu-west-1.amazonaws.com)... 52.218.97.3\n",
            "Connecting to md-datasets-cache-zipfiles-prod.s3.eu-west-1.amazonaws.com (md-datasets-cache-zipfiles-prod.s3.eu-west-1.amazonaws.com)|52.218.97.3|:443... connected.\n",
            "HTTP request sent, awaiting response... 200 OK\n",
            "Length: 3593344681 (3.3G) [application/octet-stream]\n",
            "Saving to: ‘zr7vgbcyr2-1.zip’\n",
            "\n",
            "zr7vgbcyr2-1.zip    100%[===================>]   3.35G  21.9MB/s    in 2m 39s  \n",
            "\n",
            "2020-09-28 09:10:06 (21.6 MB/s) - ‘zr7vgbcyr2-1.zip’ saved [3593344681/3593344681]\n",
            "\n"
          ],
          "name": "stdout"
        }
      ]
    },
    {
      "cell_type": "code",
      "metadata": {
        "id": "crr19GsaGB2w"
      },
      "source": [
        "#unzip the dataset\n",
        "%%capture\n",
        "!unzip zr7vgbcyr2-1.zip"
      ],
      "execution_count": 5,
      "outputs": []
    },
    {
      "cell_type": "code",
      "metadata": {
        "id": "_bPafWo1GCQF"
      },
      "source": [
        "#create a new folder named as data\n",
        "!mkdir data"
      ],
      "execution_count": 6,
      "outputs": []
    },
    {
      "cell_type": "code",
      "metadata": {
        "id": "qjc8HZ54GCTG"
      },
      "source": [
        "#unzip all subfolder\n",
        "%%capture\n",
        "!unzip /content/images/imgs_part_1.zip\n",
        "!unzip /content/images/imgs_part_2.zip\n",
        "!unzip /content/images/imgs_part_3.zip"
      ],
      "execution_count": 7,
      "outputs": []
    },
    {
      "cell_type": "code",
      "metadata": {
        "id": "evwiG9ihGCWK"
      },
      "source": [
        "#move all pictures from subfolder to main folder data\n",
        "!mv  /content/imgs_part_1/* /content/data\n",
        "!mv  /content/imgs_part_2/* /content/data\n",
        "!mv  /content/imgs_part_3/* /content/data"
      ],
      "execution_count": 8,
      "outputs": []
    },
    {
      "cell_type": "code",
      "metadata": {
        "id": "Wymt3DYLGCew"
      },
      "source": [
        "#remove the folder that contain subfolders\n",
        "!rm -r /content/images"
      ],
      "execution_count": 9,
      "outputs": []
    },
    {
      "cell_type": "code",
      "metadata": {
        "id": "HAEyK-mJGCb6",
        "outputId": "ba1cd58f-f2a5-4156-8cdf-d649ff93b0ea",
        "colab": {
          "base_uri": "https://localhost:8080/",
          "height": 226
        }
      },
      "source": [
        "import pandas as pd\n",
        "import numpy as np\n",
        "import matplotlib.pyplot as plt\n",
        "#read annotation file\n",
        "df=pd.read_csv('/content/metadata.csv')\n",
        "df.head()"
      ],
      "execution_count": 10,
      "outputs": [
        {
          "output_type": "execute_result",
          "data": {
            "text/html": [
              "<div>\n",
              "<style scoped>\n",
              "    .dataframe tbody tr th:only-of-type {\n",
              "        vertical-align: middle;\n",
              "    }\n",
              "\n",
              "    .dataframe tbody tr th {\n",
              "        vertical-align: top;\n",
              "    }\n",
              "\n",
              "    .dataframe thead th {\n",
              "        text-align: right;\n",
              "    }\n",
              "</style>\n",
              "<table border=\"1\" class=\"dataframe\">\n",
              "  <thead>\n",
              "    <tr style=\"text-align: right;\">\n",
              "      <th></th>\n",
              "      <th>patient_id</th>\n",
              "      <th>lesion_id</th>\n",
              "      <th>smoke</th>\n",
              "      <th>drink</th>\n",
              "      <th>background_father</th>\n",
              "      <th>background_mother</th>\n",
              "      <th>age</th>\n",
              "      <th>pesticide</th>\n",
              "      <th>gender</th>\n",
              "      <th>skin_cancer_history</th>\n",
              "      <th>cancer_history</th>\n",
              "      <th>has_piped_water</th>\n",
              "      <th>has_sewage_system</th>\n",
              "      <th>fitspatrick</th>\n",
              "      <th>region</th>\n",
              "      <th>diameter_1</th>\n",
              "      <th>diameter_2</th>\n",
              "      <th>diagnostic</th>\n",
              "      <th>itch</th>\n",
              "      <th>grew</th>\n",
              "      <th>hurt</th>\n",
              "      <th>changed</th>\n",
              "      <th>bleed</th>\n",
              "      <th>elevation</th>\n",
              "      <th>img_id</th>\n",
              "      <th>biopsed</th>\n",
              "    </tr>\n",
              "  </thead>\n",
              "  <tbody>\n",
              "    <tr>\n",
              "      <th>0</th>\n",
              "      <td>PAT_1516</td>\n",
              "      <td>1765</td>\n",
              "      <td>NaN</td>\n",
              "      <td>NaN</td>\n",
              "      <td>NaN</td>\n",
              "      <td>NaN</td>\n",
              "      <td>8</td>\n",
              "      <td>NaN</td>\n",
              "      <td>NaN</td>\n",
              "      <td>NaN</td>\n",
              "      <td>NaN</td>\n",
              "      <td>NaN</td>\n",
              "      <td>NaN</td>\n",
              "      <td>NaN</td>\n",
              "      <td>ARM</td>\n",
              "      <td>NaN</td>\n",
              "      <td>NaN</td>\n",
              "      <td>NEV</td>\n",
              "      <td>False</td>\n",
              "      <td>False</td>\n",
              "      <td>False</td>\n",
              "      <td>False</td>\n",
              "      <td>False</td>\n",
              "      <td>False</td>\n",
              "      <td>PAT_1516_1765_530.png</td>\n",
              "      <td>False</td>\n",
              "    </tr>\n",
              "    <tr>\n",
              "      <th>1</th>\n",
              "      <td>PAT_46</td>\n",
              "      <td>881</td>\n",
              "      <td>False</td>\n",
              "      <td>False</td>\n",
              "      <td>POMERANIA</td>\n",
              "      <td>POMERANIA</td>\n",
              "      <td>55</td>\n",
              "      <td>False</td>\n",
              "      <td>FEMALE</td>\n",
              "      <td>True</td>\n",
              "      <td>True</td>\n",
              "      <td>True</td>\n",
              "      <td>True</td>\n",
              "      <td>3.0</td>\n",
              "      <td>NECK</td>\n",
              "      <td>6.0</td>\n",
              "      <td>5.0</td>\n",
              "      <td>BCC</td>\n",
              "      <td>True</td>\n",
              "      <td>True</td>\n",
              "      <td>False</td>\n",
              "      <td>True</td>\n",
              "      <td>True</td>\n",
              "      <td>True</td>\n",
              "      <td>PAT_46_881_939.png</td>\n",
              "      <td>True</td>\n",
              "    </tr>\n",
              "    <tr>\n",
              "      <th>2</th>\n",
              "      <td>PAT_1545</td>\n",
              "      <td>1867</td>\n",
              "      <td>NaN</td>\n",
              "      <td>NaN</td>\n",
              "      <td>NaN</td>\n",
              "      <td>NaN</td>\n",
              "      <td>77</td>\n",
              "      <td>NaN</td>\n",
              "      <td>NaN</td>\n",
              "      <td>NaN</td>\n",
              "      <td>NaN</td>\n",
              "      <td>NaN</td>\n",
              "      <td>NaN</td>\n",
              "      <td>NaN</td>\n",
              "      <td>FACE</td>\n",
              "      <td>NaN</td>\n",
              "      <td>NaN</td>\n",
              "      <td>ACK</td>\n",
              "      <td>True</td>\n",
              "      <td>False</td>\n",
              "      <td>False</td>\n",
              "      <td>False</td>\n",
              "      <td>False</td>\n",
              "      <td>False</td>\n",
              "      <td>PAT_1545_1867_547.png</td>\n",
              "      <td>False</td>\n",
              "    </tr>\n",
              "    <tr>\n",
              "      <th>3</th>\n",
              "      <td>PAT_1989</td>\n",
              "      <td>4061</td>\n",
              "      <td>NaN</td>\n",
              "      <td>NaN</td>\n",
              "      <td>NaN</td>\n",
              "      <td>NaN</td>\n",
              "      <td>75</td>\n",
              "      <td>NaN</td>\n",
              "      <td>NaN</td>\n",
              "      <td>NaN</td>\n",
              "      <td>NaN</td>\n",
              "      <td>NaN</td>\n",
              "      <td>NaN</td>\n",
              "      <td>NaN</td>\n",
              "      <td>HAND</td>\n",
              "      <td>NaN</td>\n",
              "      <td>NaN</td>\n",
              "      <td>ACK</td>\n",
              "      <td>True</td>\n",
              "      <td>False</td>\n",
              "      <td>False</td>\n",
              "      <td>False</td>\n",
              "      <td>False</td>\n",
              "      <td>False</td>\n",
              "      <td>PAT_1989_4061_934.png</td>\n",
              "      <td>False</td>\n",
              "    </tr>\n",
              "    <tr>\n",
              "      <th>4</th>\n",
              "      <td>PAT_684</td>\n",
              "      <td>1302</td>\n",
              "      <td>False</td>\n",
              "      <td>True</td>\n",
              "      <td>POMERANIA</td>\n",
              "      <td>POMERANIA</td>\n",
              "      <td>79</td>\n",
              "      <td>False</td>\n",
              "      <td>MALE</td>\n",
              "      <td>True</td>\n",
              "      <td>False</td>\n",
              "      <td>False</td>\n",
              "      <td>False</td>\n",
              "      <td>1.0</td>\n",
              "      <td>FOREARM</td>\n",
              "      <td>5.0</td>\n",
              "      <td>5.0</td>\n",
              "      <td>BCC</td>\n",
              "      <td>True</td>\n",
              "      <td>True</td>\n",
              "      <td>False</td>\n",
              "      <td>False</td>\n",
              "      <td>True</td>\n",
              "      <td>True</td>\n",
              "      <td>PAT_684_1302_588.png</td>\n",
              "      <td>True</td>\n",
              "    </tr>\n",
              "  </tbody>\n",
              "</table>\n",
              "</div>"
            ],
            "text/plain": [
              "  patient_id  lesion_id  smoke  ... elevation                 img_id biopsed\n",
              "0   PAT_1516       1765    NaN  ...     False  PAT_1516_1765_530.png   False\n",
              "1     PAT_46        881  False  ...      True     PAT_46_881_939.png    True\n",
              "2   PAT_1545       1867    NaN  ...     False  PAT_1545_1867_547.png   False\n",
              "3   PAT_1989       4061    NaN  ...     False  PAT_1989_4061_934.png   False\n",
              "4    PAT_684       1302  False  ...      True   PAT_684_1302_588.png    True\n",
              "\n",
              "[5 rows x 26 columns]"
            ]
          },
          "metadata": {
            "tags": []
          },
          "execution_count": 10
        }
      ]
    },
    {
      "cell_type": "code",
      "metadata": {
        "id": "oIP9M4WoGCZz",
        "outputId": "3a2962c3-4e3b-4f35-ec6f-9f5bef26dc6c",
        "colab": {
          "base_uri": "https://localhost:8080/",
          "height": 206
        }
      },
      "source": [
        "#create a dataframe with image name and encoded labels\n",
        "labels=pd.get_dummies(df['diagnostic'])\n",
        "df=pd.concat([df['img_id'],labels],axis=1)\n",
        "df.head()\n",
        "#MEL\tNV\tBCC\tAK\tBKL\t\tSCC"
      ],
      "execution_count": 11,
      "outputs": [
        {
          "output_type": "execute_result",
          "data": {
            "text/html": [
              "<div>\n",
              "<style scoped>\n",
              "    .dataframe tbody tr th:only-of-type {\n",
              "        vertical-align: middle;\n",
              "    }\n",
              "\n",
              "    .dataframe tbody tr th {\n",
              "        vertical-align: top;\n",
              "    }\n",
              "\n",
              "    .dataframe thead th {\n",
              "        text-align: right;\n",
              "    }\n",
              "</style>\n",
              "<table border=\"1\" class=\"dataframe\">\n",
              "  <thead>\n",
              "    <tr style=\"text-align: right;\">\n",
              "      <th></th>\n",
              "      <th>img_id</th>\n",
              "      <th>ACK</th>\n",
              "      <th>BCC</th>\n",
              "      <th>MEL</th>\n",
              "      <th>NEV</th>\n",
              "      <th>SCC</th>\n",
              "      <th>SEK</th>\n",
              "    </tr>\n",
              "  </thead>\n",
              "  <tbody>\n",
              "    <tr>\n",
              "      <th>0</th>\n",
              "      <td>PAT_1516_1765_530.png</td>\n",
              "      <td>0</td>\n",
              "      <td>0</td>\n",
              "      <td>0</td>\n",
              "      <td>1</td>\n",
              "      <td>0</td>\n",
              "      <td>0</td>\n",
              "    </tr>\n",
              "    <tr>\n",
              "      <th>1</th>\n",
              "      <td>PAT_46_881_939.png</td>\n",
              "      <td>0</td>\n",
              "      <td>1</td>\n",
              "      <td>0</td>\n",
              "      <td>0</td>\n",
              "      <td>0</td>\n",
              "      <td>0</td>\n",
              "    </tr>\n",
              "    <tr>\n",
              "      <th>2</th>\n",
              "      <td>PAT_1545_1867_547.png</td>\n",
              "      <td>1</td>\n",
              "      <td>0</td>\n",
              "      <td>0</td>\n",
              "      <td>0</td>\n",
              "      <td>0</td>\n",
              "      <td>0</td>\n",
              "    </tr>\n",
              "    <tr>\n",
              "      <th>3</th>\n",
              "      <td>PAT_1989_4061_934.png</td>\n",
              "      <td>1</td>\n",
              "      <td>0</td>\n",
              "      <td>0</td>\n",
              "      <td>0</td>\n",
              "      <td>0</td>\n",
              "      <td>0</td>\n",
              "    </tr>\n",
              "    <tr>\n",
              "      <th>4</th>\n",
              "      <td>PAT_684_1302_588.png</td>\n",
              "      <td>0</td>\n",
              "      <td>1</td>\n",
              "      <td>0</td>\n",
              "      <td>0</td>\n",
              "      <td>0</td>\n",
              "      <td>0</td>\n",
              "    </tr>\n",
              "  </tbody>\n",
              "</table>\n",
              "</div>"
            ],
            "text/plain": [
              "                  img_id  ACK  BCC  MEL  NEV  SCC  SEK\n",
              "0  PAT_1516_1765_530.png    0    0    0    1    0    0\n",
              "1     PAT_46_881_939.png    0    1    0    0    0    0\n",
              "2  PAT_1545_1867_547.png    1    0    0    0    0    0\n",
              "3  PAT_1989_4061_934.png    1    0    0    0    0    0\n",
              "4   PAT_684_1302_588.png    0    1    0    0    0    0"
            ]
          },
          "metadata": {
            "tags": []
          },
          "execution_count": 11
        }
      ]
    },
    {
      "cell_type": "code",
      "metadata": {
        "id": "B4uO3ChKG2EO",
        "outputId": "36a43898-2b16-4833-d5da-c74df116bd43",
        "colab": {
          "base_uri": "https://localhost:8080/",
          "height": 206
        }
      },
      "source": [
        "#shuffle the dataframe\n",
        "df=df.sample(frac=1)\n",
        "df.head()"
      ],
      "execution_count": 12,
      "outputs": [
        {
          "output_type": "execute_result",
          "data": {
            "text/html": [
              "<div>\n",
              "<style scoped>\n",
              "    .dataframe tbody tr th:only-of-type {\n",
              "        vertical-align: middle;\n",
              "    }\n",
              "\n",
              "    .dataframe tbody tr th {\n",
              "        vertical-align: top;\n",
              "    }\n",
              "\n",
              "    .dataframe thead th {\n",
              "        text-align: right;\n",
              "    }\n",
              "</style>\n",
              "<table border=\"1\" class=\"dataframe\">\n",
              "  <thead>\n",
              "    <tr style=\"text-align: right;\">\n",
              "      <th></th>\n",
              "      <th>img_id</th>\n",
              "      <th>ACK</th>\n",
              "      <th>BCC</th>\n",
              "      <th>MEL</th>\n",
              "      <th>NEV</th>\n",
              "      <th>SCC</th>\n",
              "      <th>SEK</th>\n",
              "    </tr>\n",
              "  </thead>\n",
              "  <tbody>\n",
              "    <tr>\n",
              "      <th>2078</th>\n",
              "      <td>PAT_388_4500_103.png</td>\n",
              "      <td>1</td>\n",
              "      <td>0</td>\n",
              "      <td>0</td>\n",
              "      <td>0</td>\n",
              "      <td>0</td>\n",
              "      <td>0</td>\n",
              "    </tr>\n",
              "    <tr>\n",
              "      <th>315</th>\n",
              "      <td>PAT_831_1570_991.png</td>\n",
              "      <td>1</td>\n",
              "      <td>0</td>\n",
              "      <td>0</td>\n",
              "      <td>0</td>\n",
              "      <td>0</td>\n",
              "      <td>0</td>\n",
              "    </tr>\n",
              "    <tr>\n",
              "      <th>659</th>\n",
              "      <td>PAT_529_994_419.png</td>\n",
              "      <td>0</td>\n",
              "      <td>1</td>\n",
              "      <td>0</td>\n",
              "      <td>0</td>\n",
              "      <td>0</td>\n",
              "      <td>0</td>\n",
              "    </tr>\n",
              "    <tr>\n",
              "      <th>1132</th>\n",
              "      <td>PAT_1807_3481_801.png</td>\n",
              "      <td>1</td>\n",
              "      <td>0</td>\n",
              "      <td>0</td>\n",
              "      <td>0</td>\n",
              "      <td>0</td>\n",
              "      <td>0</td>\n",
              "    </tr>\n",
              "    <tr>\n",
              "      <th>1066</th>\n",
              "      <td>PAT_269_415_103.png</td>\n",
              "      <td>0</td>\n",
              "      <td>1</td>\n",
              "      <td>0</td>\n",
              "      <td>0</td>\n",
              "      <td>0</td>\n",
              "      <td>0</td>\n",
              "    </tr>\n",
              "  </tbody>\n",
              "</table>\n",
              "</div>"
            ],
            "text/plain": [
              "                     img_id  ACK  BCC  MEL  NEV  SCC  SEK\n",
              "2078   PAT_388_4500_103.png    1    0    0    0    0    0\n",
              "315    PAT_831_1570_991.png    1    0    0    0    0    0\n",
              "659     PAT_529_994_419.png    0    1    0    0    0    0\n",
              "1132  PAT_1807_3481_801.png    1    0    0    0    0    0\n",
              "1066    PAT_269_415_103.png    0    1    0    0    0    0"
            ]
          },
          "metadata": {
            "tags": []
          },
          "execution_count": 12
        }
      ]
    },
    {
      "cell_type": "code",
      "metadata": {
        "id": "Ogf8B7C-G2NB",
        "outputId": "b7883763-00af-4e19-95d0-31b79e503511",
        "colab": {
          "base_uri": "https://localhost:8080/",
          "height": 35
        }
      },
      "source": [
        "#labels columns in dataframe\n",
        "col=list(df.columns)[1::]\n",
        "col"
      ],
      "execution_count": 13,
      "outputs": [
        {
          "output_type": "execute_result",
          "data": {
            "text/plain": [
              "['ACK', 'BCC', 'MEL', 'NEV', 'SCC', 'SEK']"
            ]
          },
          "metadata": {
            "tags": []
          },
          "execution_count": 13
        }
      ]
    },
    {
      "cell_type": "code",
      "metadata": {
        "id": "ihQ3fznlG2Q7"
      },
      "source": [
        "# data augmentation\n",
        "from tensorflow.keras.preprocessing.image import ImageDataGenerator\n",
        "data_gen= ImageDataGenerator(\n",
        "    horizontal_flip=True,\n",
        "    vertical_flip=True,\n",
        "    rotation_range=360,\n",
        "    width_shift_range=0.1,\n",
        "    height_shift_range=0.1,\n",
        "    zoom_range=.1,\n",
        "    rescale=1/255,\n",
        "    fill_mode='nearest')"
      ],
      "execution_count": 14,
      "outputs": []
    },
    {
      "cell_type": "code",
      "metadata": {
        "id": "Y4GNCOf3G2KD"
      },
      "source": [
        "# model hyperparameters\n",
        "img_shape=300\n",
        "batch_size=20\n",
        "n_epochs=20"
      ],
      "execution_count": 15,
      "outputs": []
    },
    {
      "cell_type": "code",
      "metadata": {
        "id": "P72df_UPH2l1"
      },
      "source": [
        "from tensorflow.keras.layers import GlobalAveragePooling2D,Dropout,Dense\n",
        "from tensorflow.keras.callbacks import ModelCheckpoint,ReduceLROnPlateau\n",
        "from tensorflow.keras.optimizers import Adam\n",
        "import tensorflow.keras.backend as K\n",
        "from tensorflow.keras.models import Sequential,Model"
      ],
      "execution_count": 16,
      "outputs": []
    },
    {
      "cell_type": "code",
      "metadata": {
        "id": "ngi230XBH5MN"
      },
      "source": [
        "#first create the pretrained model and load weights\n"
      ],
      "execution_count": 17,
      "outputs": []
    },
    {
      "cell_type": "code",
      "metadata": {
        "id": "_e3UDto2KtoS"
      },
      "source": [
        "def basemodel():\n",
        "  import efficientnet.tfkeras as efn\n",
        "  pre_trained_model =efn.EfficientNetB3(weights =None, include_top=False, input_shape = (img_shape,img_shape,3))\n",
        "  x = pre_trained_model.output\n",
        "  x = GlobalAveragePooling2D()(x)\n",
        "  x = Dropout(0.3)(x)\n",
        "  x = Dense(128, activation=\"relu\")(x)\n",
        "  x = Dropout(0.3)(x)\n",
        "  x = Dense(64, activation=\"relu\")(x)\n",
        "  predictions = Dense(8, activation=\"softmax\")(x) #pretrained model has 7 classes\n",
        "  pre_trained_model = Model(inputs=pre_trained_model.input, outputs=predictions)\n",
        "  pre_trained_model.load_weights('/content/isicall_eff3_weights.hdf5') #load pretrained weights to to model\n",
        "  #now remove all added layers in pretrained layers add new leayer and create base model\n",
        "  #here we can test how many layers we want to remove\n",
        "  base_model = Model(pre_trained_model.input, pre_trained_model.layers[-7].output)\n",
        "  #now add our new layers\n",
        "  x = base_model.output\n",
        "  x = GlobalAveragePooling2D()(x)\n",
        "  x = Dropout(0.3)(x)\n",
        "  x = Dense(128,name='dense1', activation=\"relu\")(x)\n",
        "  x = Dropout(0.3)(x)\n",
        "  x = Dense(64,name='dense2', activation=\"relu\")(x)\n",
        "\n",
        "  predictions  = Dense(len(col),name='output', activation=\"softmax\")(x) #base model has six layers\n",
        "  base_model = Model(inputs=base_model.input, outputs=predictions )\n",
        "  #compile the base model\n",
        "  base_model.compile(optimizer=Adam(0.001), loss='categorical_crossentropy', metrics=['accuracy'])\n",
        "  return base_model"
      ],
      "execution_count": 18,
      "outputs": []
    },
    {
      "cell_type": "code",
      "metadata": {
        "id": "hx-WGWBVNMri",
        "outputId": "635c302b-6ef0-4b47-fcb8-499238a93ae7",
        "colab": {
          "base_uri": "https://localhost:8080/",
          "height": 386
        }
      },
      "source": [
        "\n",
        "from sklearn.model_selection import KFold,StratifiedKFold\n",
        "import gc\n",
        "\n",
        "from sklearn.metrics import classification_report,accuracy_score,f1_score,roc_auc_score,recall_score,precision_score,balanced_accuracy_score\n",
        "classification_reports=[]\n",
        "kf = KFold(n_splits=5,shuffle=True)\n",
        "history=[]\n",
        "accuracy=[]\n",
        "f1_scores=[]\n",
        "auc=[]\n",
        "y_pred=[]\n",
        "precision=[]\n",
        "recall=[]\n",
        "balanced_acc=[]\n",
        "fold=0\n",
        "for train_index, test_index in kf.split(df):\n",
        "  train=df.iloc[train_index,:]\n",
        "  val=df.iloc[test_index,:]\n",
        "  print('-----------fold {}--------------'.format(fold))\n",
        "  train_generator=data_gen.flow_from_dataframe(train,directory='/content/data',\n",
        "                                               target_size=(img_shape,img_shape),\n",
        "                                               x_col='img_id',\n",
        "                                               y_col=col,\n",
        "                                               class_mode='raw',\n",
        "                                               shuffle=True,\n",
        "                                               batch_size=batch_size)\n",
        "\n",
        "  val_generator=data_gen.flow_from_dataframe(val,directory='/content/data',\n",
        "                                             target_size=(img_shape,img_shape),\n",
        "                                             x_col=\"img_id\",\n",
        "                                             y_col=col,\n",
        "                                             class_mode='raw',\n",
        "                                             shuffle=False,\n",
        "                                             batch_size=batch_size)\n",
        "  #train_generator.next()[0].shape,train_generator.next()[1].shape\n",
        "\n",
        "  #load base model\n",
        "  base_model=basemodel()\n",
        "  #train model\n",
        "  results = base_model.fit(train_generator,epochs=25,verbose=0,\n",
        "                              steps_per_epoch=train_generator.n/batch_size,\n",
        "                              validation_data=val_generator,\n",
        "                             validation_steps=val_generator.n/batch_size,\n",
        "                              callbacks=[ReduceLROnPlateau(monitor='val_loss', factor=0.5,patience=5, min_lr=0.000001),\n",
        "                                         #ModelCheckpoint('model_{}.hdf5'.format(fold), save_best_only=True, monitor='val_loss', mode='min')\n",
        "                                         ])\n",
        "  #model.load_weights('model_{}.hdf5'.format(fold))\n",
        "  val_generator.reset()\n",
        "  y_pred=base_model.predict(val_generator,steps=val_generator.n/batch_size,verbose=0)\n",
        "  y_pred=y_pred.round().astype(int)\n",
        "  y_true=val.iloc[:,1::]\n",
        "\n",
        "  f1=f1_score(y_true,y_pred,average='macro',labels=np.unique(y_pred))\n",
        "  print('f1 score is ', f1)\n",
        "\n",
        "  accuracy.append(accuracy_score(y_true,y_pred))\n",
        "  auc.append(roc_auc_score(y_true,y_pred))\n",
        "  precision.append(precision_score(y_true,y_pred,average='macro',labels=np.unique(y_pred)))\n",
        "  recall.append(recall_score(y_true,y_pred,average='macro',labels=np.unique(y_pred)))\n",
        "  balanced_acc.append(balanced_accuracy_score(y_true.values.argmax(axis=1), y_pred.argmax(axis=1)))\n",
        "\n",
        "  f1_scores.append(f1)\n",
        "  history.append(results)\n",
        "  fold+=1\n",
        "\n",
        "  del base_model\n",
        "  K.clear_session()\n",
        "  gc.collect()"
      ],
      "execution_count": 19,
      "outputs": [
        {
          "output_type": "stream",
          "text": [
            "-----------fold 0--------------\n",
            "Found 1838 validated image filenames.\n",
            "Found 460 validated image filenames.\n",
            "f1 score is  0.8070011127596439\n",
            "-----------fold 1--------------\n",
            "Found 1838 validated image filenames.\n",
            "Found 460 validated image filenames.\n",
            "f1 score is  0.7678571428571428\n",
            "-----------fold 2--------------\n",
            "Found 1838 validated image filenames.\n",
            "Found 460 validated image filenames.\n",
            "f1 score is  0.7674404323262097\n",
            "-----------fold 3--------------\n",
            "Found 1839 validated image filenames.\n",
            "Found 459 validated image filenames.\n",
            "f1 score is  0.8013578512311936\n",
            "-----------fold 4--------------\n",
            "Found 1839 validated image filenames.\n",
            "Found 459 validated image filenames.\n",
            "f1 score is  0.8196036486922829\n"
          ],
          "name": "stdout"
        }
      ]
    },
    {
      "cell_type": "code",
      "metadata": {
        "id": "yesXG_AnTxV_",
        "outputId": "66ba8547-9036-4b6e-ee10-44140af8f445",
        "colab": {
          "base_uri": "https://localhost:8080/",
          "height": 35
        }
      },
      "source": [
        "#average accuracy across all folds\n",
        "np.mean(accuracy)"
      ],
      "execution_count": 20,
      "outputs": [
        {
          "output_type": "execute_result",
          "data": {
            "text/plain": [
              "0.74195699535853"
            ]
          },
          "metadata": {
            "tags": []
          },
          "execution_count": 20
        }
      ]
    },
    {
      "cell_type": "code",
      "metadata": {
        "id": "IBEnsXEAUE0v",
        "outputId": "147ba9e8-f8a6-4088-b743-d8a41abbc3b1",
        "colab": {
          "base_uri": "https://localhost:8080/",
          "height": 35
        }
      },
      "source": [
        "#average f1_scores across all folds\n",
        "np.mean(f1_scores)"
      ],
      "execution_count": 21,
      "outputs": [
        {
          "output_type": "execute_result",
          "data": {
            "text/plain": [
              "0.7926520375732945"
            ]
          },
          "metadata": {
            "tags": []
          },
          "execution_count": 21
        }
      ]
    },
    {
      "cell_type": "code",
      "metadata": {
        "id": "nSynF5hyUJKL",
        "outputId": "349f4ca6-6710-4444-e45f-9badd71b4f58",
        "colab": {
          "base_uri": "https://localhost:8080/",
          "height": 35
        }
      },
      "source": [
        "#average auc_scores across all folds\n",
        "np.mean(auc)"
      ],
      "execution_count": 22,
      "outputs": [
        {
          "output_type": "execute_result",
          "data": {
            "text/plain": [
              "0.8082275839823829"
            ]
          },
          "metadata": {
            "tags": []
          },
          "execution_count": 22
        }
      ]
    },
    {
      "cell_type": "code",
      "metadata": {
        "id": "QJ_LjVRklTn1",
        "outputId": "e76449a0-2985-4463-f18c-47a751cac61b",
        "colab": {
          "base_uri": "https://localhost:8080/",
          "height": 35
        }
      },
      "source": [
        "np.mean(balanced_acc)"
      ],
      "execution_count": 23,
      "outputs": [
        {
          "output_type": "execute_result",
          "data": {
            "text/plain": [
              "0.6719192036037243"
            ]
          },
          "metadata": {
            "tags": []
          },
          "execution_count": 23
        }
      ]
    },
    {
      "cell_type": "code",
      "metadata": {
        "id": "DJmKatx8ulQL",
        "outputId": "8eed63a6-ab4c-4792-bd76-d3acc8c92fd9",
        "colab": {
          "base_uri": "https://localhost:8080/",
          "height": 35
        }
      },
      "source": [
        "np.mean(precision)"
      ],
      "execution_count": 24,
      "outputs": [
        {
          "output_type": "execute_result",
          "data": {
            "text/plain": [
              "0.7958815719313675"
            ]
          },
          "metadata": {
            "tags": []
          },
          "execution_count": 24
        }
      ]
    },
    {
      "cell_type": "code",
      "metadata": {
        "id": "6u4zfNFulYI4",
        "outputId": "e78c5a9b-da8f-406e-d96e-757acc8c047f",
        "colab": {
          "base_uri": "https://localhost:8080/",
          "height": 35
        }
      },
      "source": [
        "np.mean(recall)"
      ],
      "execution_count": 25,
      "outputs": [
        {
          "output_type": "execute_result",
          "data": {
            "text/plain": [
              "0.7900509784261175"
            ]
          },
          "metadata": {
            "tags": []
          },
          "execution_count": 25
        }
      ]
    },
    {
      "cell_type": "code",
      "metadata": {
        "id": "ZS59r4ejUMib",
        "outputId": "bac916e4-7e92-4ec8-b842-6e38ce909b09",
        "colab": {
          "base_uri": "https://localhost:8080/",
          "height": 35
        }
      },
      "source": [
        "\n",
        "history[0].history.keys()"
      ],
      "execution_count": 26,
      "outputs": [
        {
          "output_type": "execute_result",
          "data": {
            "text/plain": [
              "dict_keys(['loss', 'accuracy', 'val_loss', 'val_accuracy', 'lr'])"
            ]
          },
          "metadata": {
            "tags": []
          },
          "execution_count": 26
        }
      ]
    },
    {
      "cell_type": "code",
      "metadata": {
        "id": "gqrytK3kUz8y"
      },
      "source": [
        "\n",
        "def plot_accuracy(hist,acc='val_accuracy'):\n",
        "    for i in range(5):\n",
        "      plt.plot(hist[i].history[acc],linestyle='-.',linewidth=1.5)\n",
        "     \n",
        "    mean=np.mean([[j for j in x.history[acc]] for x in hist],axis=0)\n",
        "    std=np.std([[j for j in x.history[acc]] for x in hist],axis=0)\n",
        "    plt.plot(mean,linewidth=2,color='black')\n",
        "    if acc=='val_accuracy':\n",
        "      plt.title('Model Validation Accuracy')\n",
        "    else:\n",
        "      plt.title('Model Training Accuracy')\n",
        "    plt.ylabel('Accuracy')\n",
        "    plt.xlabel('Epochs')\n",
        "    plt.legend(['Fold1','Fold2','Fold3','Fold4','Fold5','Average Val Accuracy' ], loc='best')\n",
        "    plt.show()"
      ],
      "execution_count": 27,
      "outputs": []
    },
    {
      "cell_type": "code",
      "metadata": {
        "id": "bU00gMO6Vjt0",
        "outputId": "34c026a3-e877-49e3-85e9-9d1a8980f449",
        "colab": {
          "base_uri": "https://localhost:8080/",
          "height": 295
        }
      },
      "source": [
        "plot_accuracy(history)"
      ],
      "execution_count": 28,
      "outputs": [
        {
          "output_type": "display_data",
          "data": {
            "image/png": "[encoded data removed]",
            "text/plain": [
              "<Figure size 432x288 with 1 Axes>"
            ]
          },
          "metadata": {
            "tags": [],
            "needs_background": "light"
          }
        }
      ]
    },
    {
      "cell_type": "code",
      "metadata": {
        "id": "iCsZIxDS2Pck",
        "outputId": "76433426-e535-4eb5-a859-5cc0eaf5fc3f",
        "colab": {
          "base_uri": "https://localhost:8080/",
          "height": 295
        }
      },
      "source": [
        "plot_accuracy(history,acc='accuracy')"
      ],
      "execution_count": 29,
      "outputs": [
        {
          "output_type": "display_data",
          "data": {
            "image/png": "[encoded data removed]",
            "text/plain": [
              "<Figure size 432x288 with 1 Axes>"
            ]
          },
          "metadata": {
            "tags": [],
            "needs_background": "light"
          }
        }
      ]
    },
    {
      "cell_type": "code",
      "metadata": {
        "id": "o0nx7FTsogaB"
      },
      "source": [
        " "
      ],
      "execution_count": 29,
      "outputs": []
    },
    {
      "cell_type": "code",
      "metadata": {
        "id": "-Sd5HUgt939j"
      },
      "source": [
        ""
      ],
      "execution_count": null,
      "outputs": []
    }
  ]
}