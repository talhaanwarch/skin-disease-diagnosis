{
  "nbformat": 4,
  "nbformat_minor": 0,
  "metadata": {
    "colab": {
      "name": "Scenario_II.ipynb",
      "provenance": [],
      "include_colab_link": true
    },
    "kernelspec": {
      "name": "python3",
      "display_name": "Python 3"
    },
    "accelerator": "GPU"
  },
  "cells": [
    {
      "cell_type": "markdown",
      "metadata": {
        "id": "view-in-github",
        "colab_type": "text"
      },
      "source": [
        "<a href=\"https://colab.research.google.com/github/talhaanwarch/skin_cancer_detection_phone_camera/blob/master/Scenario_II.ipynb\" target=\"_parent\"><img src=\"https://colab.research.google.com/assets/colab-badge.svg\" alt=\"Open In Colab\"/></a>"
      ]
    },
    {
      "cell_type": "markdown",
      "metadata": {
        "id": "REQXLqij5JoE",
        "colab_type": "text"
      },
      "source": [
        "**Scenario II:** Training on ISIC 2019 and tested on PAD dataset (Only images)\n"
      ]
    },
    {
      "cell_type": "code",
      "metadata": {
        "id": "FzpATBgHIHqu",
        "colab_type": "code",
        "colab": {
          "base_uri": "https://localhost:8080/",
          "height": 126
        },
        "outputId": "7772d3db-3a1c-4df9-8af9-f946d83c3336"
      },
      "source": [
        "from google.colab import drive\n",
        "drive.mount('/content/drive')"
      ],
      "execution_count": 1,
      "outputs": [
        {
          "output_type": "stream",
          "text": [
            "Go to this URL in a browser: https://accounts.google.com/o/oauth2/auth?client_id=947318989803-6bn6qk8qdgf4n4g3pfee6491hc0brc4i.apps.googleusercontent.com&redirect_uri=urn%3aietf%3awg%3aoauth%3a2.0%3aoob&scope=email%20https%3a%2f%2fwww.googleapis.com%2fauth%2fdocs.test%20https%3a%2f%2fwww.googleapis.com%2fauth%2fdrive%20https%3a%2f%2fwww.googleapis.com%2fauth%2fdrive.photos.readonly%20https%3a%2f%2fwww.googleapis.com%2fauth%2fpeopleapi.readonly&response_type=code\n",
            "\n",
            "Enter your authorization code:\n",
            "··········\n",
            "Mounted at /content/drive\n"
          ],
          "name": "stdout"
        }
      ]
    },
    {
      "cell_type": "code",
      "metadata": {
        "id": "ogr6mRTfIPTn",
        "colab_type": "code",
        "colab": {}
      },
      "source": [
        "!cp /content/drive/My\\ Drive/isic_weights/isicall_eff3_weights.hdf5 /content/"
      ],
      "execution_count": 2,
      "outputs": []
    },
    {
      "cell_type": "code",
      "metadata": {
        "id": "tN-dRYVxFchm",
        "colab_type": "code",
        "colab": {}
      },
      "source": [
        "%%capture\n",
        "!pip install efficientnet"
      ],
      "execution_count": 3,
      "outputs": []
    },
    {
      "cell_type": "code",
      "metadata": {
        "id": "Ys4Vc6mwF_U8",
        "colab_type": "code",
        "colab": {
          "base_uri": "https://localhost:8080/",
          "height": 212
        },
        "outputId": "988a939f-148d-41cd-d452-601225410796"
      },
      "source": [
        "#download the dataset\n",
        "!wget https://md-datasets-cache-zipfiles-prod.s3.eu-west-1.amazonaws.com/zr7vgbcyr2-1.zip"
      ],
      "execution_count": 4,
      "outputs": [
        {
          "output_type": "stream",
          "text": [
            "--2020-08-27 08:56:20--  https://md-datasets-cache-zipfiles-prod.s3.eu-west-1.amazonaws.com/zr7vgbcyr2-1.zip\n",
            "Resolving md-datasets-cache-zipfiles-prod.s3.eu-west-1.amazonaws.com (md-datasets-cache-zipfiles-prod.s3.eu-west-1.amazonaws.com)... 52.218.61.216\n",
            "Connecting to md-datasets-cache-zipfiles-prod.s3.eu-west-1.amazonaws.com (md-datasets-cache-zipfiles-prod.s3.eu-west-1.amazonaws.com)|52.218.61.216|:443... connected.\n",
            "HTTP request sent, awaiting response... 200 OK\n",
            "Length: 3593344681 (3.3G) [application/octet-stream]\n",
            "Saving to: ‘zr7vgbcyr2-1.zip’\n",
            "\n",
            "zr7vgbcyr2-1.zip    100%[===================>]   3.35G  36.6MB/s    in 59s     \n",
            "\n",
            "2020-08-27 08:57:20 (57.7 MB/s) - ‘zr7vgbcyr2-1.zip’ saved [3593344681/3593344681]\n",
            "\n"
          ],
          "name": "stdout"
        }
      ]
    },
    {
      "cell_type": "code",
      "metadata": {
        "id": "crr19GsaGB2w",
        "colab_type": "code",
        "colab": {}
      },
      "source": [
        "#unzip the dataset\n",
        "%%capture\n",
        "!unzip zr7vgbcyr2-1.zip"
      ],
      "execution_count": 5,
      "outputs": []
    },
    {
      "cell_type": "code",
      "metadata": {
        "id": "_bPafWo1GCQF",
        "colab_type": "code",
        "colab": {}
      },
      "source": [
        "#create a new folder named as data\n",
        "!mkdir data"
      ],
      "execution_count": 6,
      "outputs": []
    },
    {
      "cell_type": "code",
      "metadata": {
        "id": "qjc8HZ54GCTG",
        "colab_type": "code",
        "colab": {}
      },
      "source": [
        "#unzip all subfolder\n",
        "%%capture\n",
        "!unzip /content/images/imgs_part_1.zip\n",
        "!unzip /content/images/imgs_part_2.zip\n",
        "!unzip /content/images/imgs_part_3.zip"
      ],
      "execution_count": 7,
      "outputs": []
    },
    {
      "cell_type": "code",
      "metadata": {
        "id": "evwiG9ihGCWK",
        "colab_type": "code",
        "colab": {}
      },
      "source": [
        "#move all pictures from subfolder to main folder data\n",
        "!mv  /content/imgs_part_1/* /content/data\n",
        "!mv  /content/imgs_part_2/* /content/data\n",
        "!mv  /content/imgs_part_3/* /content/data"
      ],
      "execution_count": 8,
      "outputs": []
    },
    {
      "cell_type": "code",
      "metadata": {
        "id": "Wymt3DYLGCew",
        "colab_type": "code",
        "colab": {}
      },
      "source": [
        "#remove the folder that contain subfolders\n",
        "!rm -r /content/images"
      ],
      "execution_count": 9,
      "outputs": []
    },
    {
      "cell_type": "code",
      "metadata": {
        "id": "HAEyK-mJGCb6",
        "colab_type": "code",
        "colab": {
          "base_uri": "https://localhost:8080/",
          "height": 220
        },
        "outputId": "51e4d081-7874-4379-969e-5c1458f6f329"
      },
      "source": [
        "import pandas as pd\n",
        "import numpy as np\n",
        "import matplotlib.pyplot as plt\n",
        "#read annotation file\n",
        "df=pd.read_csv('/content/metadata.csv')\n",
        "df.head()"
      ],
      "execution_count": 10,
      "outputs": [
        {
          "output_type": "execute_result",
          "data": {
            "text/html": [
              "<div>\n",
              "<style scoped>\n",
              "    .dataframe tbody tr th:only-of-type {\n",
              "        vertical-align: middle;\n",
              "    }\n",
              "\n",
              "    .dataframe tbody tr th {\n",
              "        vertical-align: top;\n",
              "    }\n",
              "\n",
              "    .dataframe thead th {\n",
              "        text-align: right;\n",
              "    }\n",
              "</style>\n",
              "<table border=\"1\" class=\"dataframe\">\n",
              "  <thead>\n",
              "    <tr style=\"text-align: right;\">\n",
              "      <th></th>\n",
              "      <th>patient_id</th>\n",
              "      <th>lesion_id</th>\n",
              "      <th>smoke</th>\n",
              "      <th>drink</th>\n",
              "      <th>background_father</th>\n",
              "      <th>background_mother</th>\n",
              "      <th>age</th>\n",
              "      <th>pesticide</th>\n",
              "      <th>gender</th>\n",
              "      <th>skin_cancer_history</th>\n",
              "      <th>cancer_history</th>\n",
              "      <th>has_piped_water</th>\n",
              "      <th>has_sewage_system</th>\n",
              "      <th>fitspatrick</th>\n",
              "      <th>region</th>\n",
              "      <th>diameter_1</th>\n",
              "      <th>diameter_2</th>\n",
              "      <th>diagnostic</th>\n",
              "      <th>itch</th>\n",
              "      <th>grew</th>\n",
              "      <th>hurt</th>\n",
              "      <th>changed</th>\n",
              "      <th>bleed</th>\n",
              "      <th>elevation</th>\n",
              "      <th>img_id</th>\n",
              "      <th>biopsed</th>\n",
              "    </tr>\n",
              "  </thead>\n",
              "  <tbody>\n",
              "    <tr>\n",
              "      <th>0</th>\n",
              "      <td>PAT_1516</td>\n",
              "      <td>1765</td>\n",
              "      <td>NaN</td>\n",
              "      <td>NaN</td>\n",
              "      <td>NaN</td>\n",
              "      <td>NaN</td>\n",
              "      <td>8</td>\n",
              "      <td>NaN</td>\n",
              "      <td>NaN</td>\n",
              "      <td>NaN</td>\n",
              "      <td>NaN</td>\n",
              "      <td>NaN</td>\n",
              "      <td>NaN</td>\n",
              "      <td>NaN</td>\n",
              "      <td>ARM</td>\n",
              "      <td>NaN</td>\n",
              "      <td>NaN</td>\n",
              "      <td>NEV</td>\n",
              "      <td>False</td>\n",
              "      <td>False</td>\n",
              "      <td>False</td>\n",
              "      <td>False</td>\n",
              "      <td>False</td>\n",
              "      <td>False</td>\n",
              "      <td>PAT_1516_1765_530.png</td>\n",
              "      <td>False</td>\n",
              "    </tr>\n",
              "    <tr>\n",
              "      <th>1</th>\n",
              "      <td>PAT_46</td>\n",
              "      <td>881</td>\n",
              "      <td>False</td>\n",
              "      <td>False</td>\n",
              "      <td>POMERANIA</td>\n",
              "      <td>POMERANIA</td>\n",
              "      <td>55</td>\n",
              "      <td>False</td>\n",
              "      <td>FEMALE</td>\n",
              "      <td>True</td>\n",
              "      <td>True</td>\n",
              "      <td>True</td>\n",
              "      <td>True</td>\n",
              "      <td>3.0</td>\n",
              "      <td>NECK</td>\n",
              "      <td>6.0</td>\n",
              "      <td>5.0</td>\n",
              "      <td>BCC</td>\n",
              "      <td>True</td>\n",
              "      <td>True</td>\n",
              "      <td>False</td>\n",
              "      <td>True</td>\n",
              "      <td>True</td>\n",
              "      <td>True</td>\n",
              "      <td>PAT_46_881_939.png</td>\n",
              "      <td>True</td>\n",
              "    </tr>\n",
              "    <tr>\n",
              "      <th>2</th>\n",
              "      <td>PAT_1545</td>\n",
              "      <td>1867</td>\n",
              "      <td>NaN</td>\n",
              "      <td>NaN</td>\n",
              "      <td>NaN</td>\n",
              "      <td>NaN</td>\n",
              "      <td>77</td>\n",
              "      <td>NaN</td>\n",
              "      <td>NaN</td>\n",
              "      <td>NaN</td>\n",
              "      <td>NaN</td>\n",
              "      <td>NaN</td>\n",
              "      <td>NaN</td>\n",
              "      <td>NaN</td>\n",
              "      <td>FACE</td>\n",
              "      <td>NaN</td>\n",
              "      <td>NaN</td>\n",
              "      <td>ACK</td>\n",
              "      <td>True</td>\n",
              "      <td>False</td>\n",
              "      <td>False</td>\n",
              "      <td>False</td>\n",
              "      <td>False</td>\n",
              "      <td>False</td>\n",
              "      <td>PAT_1545_1867_547.png</td>\n",
              "      <td>False</td>\n",
              "    </tr>\n",
              "    <tr>\n",
              "      <th>3</th>\n",
              "      <td>PAT_1989</td>\n",
              "      <td>4061</td>\n",
              "      <td>NaN</td>\n",
              "      <td>NaN</td>\n",
              "      <td>NaN</td>\n",
              "      <td>NaN</td>\n",
              "      <td>75</td>\n",
              "      <td>NaN</td>\n",
              "      <td>NaN</td>\n",
              "      <td>NaN</td>\n",
              "      <td>NaN</td>\n",
              "      <td>NaN</td>\n",
              "      <td>NaN</td>\n",
              "      <td>NaN</td>\n",
              "      <td>HAND</td>\n",
              "      <td>NaN</td>\n",
              "      <td>NaN</td>\n",
              "      <td>ACK</td>\n",
              "      <td>True</td>\n",
              "      <td>False</td>\n",
              "      <td>False</td>\n",
              "      <td>False</td>\n",
              "      <td>False</td>\n",
              "      <td>False</td>\n",
              "      <td>PAT_1989_4061_934.png</td>\n",
              "      <td>False</td>\n",
              "    </tr>\n",
              "    <tr>\n",
              "      <th>4</th>\n",
              "      <td>PAT_684</td>\n",
              "      <td>1302</td>\n",
              "      <td>False</td>\n",
              "      <td>True</td>\n",
              "      <td>POMERANIA</td>\n",
              "      <td>POMERANIA</td>\n",
              "      <td>79</td>\n",
              "      <td>False</td>\n",
              "      <td>MALE</td>\n",
              "      <td>True</td>\n",
              "      <td>False</td>\n",
              "      <td>False</td>\n",
              "      <td>False</td>\n",
              "      <td>1.0</td>\n",
              "      <td>FOREARM</td>\n",
              "      <td>5.0</td>\n",
              "      <td>5.0</td>\n",
              "      <td>BCC</td>\n",
              "      <td>True</td>\n",
              "      <td>True</td>\n",
              "      <td>False</td>\n",
              "      <td>False</td>\n",
              "      <td>True</td>\n",
              "      <td>True</td>\n",
              "      <td>PAT_684_1302_588.png</td>\n",
              "      <td>True</td>\n",
              "    </tr>\n",
              "  </tbody>\n",
              "</table>\n",
              "</div>"
            ],
            "text/plain": [
              "  patient_id  lesion_id  smoke  ... elevation                 img_id biopsed\n",
              "0   PAT_1516       1765    NaN  ...     False  PAT_1516_1765_530.png   False\n",
              "1     PAT_46        881  False  ...      True     PAT_46_881_939.png    True\n",
              "2   PAT_1545       1867    NaN  ...     False  PAT_1545_1867_547.png   False\n",
              "3   PAT_1989       4061    NaN  ...     False  PAT_1989_4061_934.png   False\n",
              "4    PAT_684       1302  False  ...      True   PAT_684_1302_588.png    True\n",
              "\n",
              "[5 rows x 26 columns]"
            ]
          },
          "metadata": {
            "tags": []
          },
          "execution_count": 10
        }
      ]
    },
    {
      "cell_type": "code",
      "metadata": {
        "id": "oIP9M4WoGCZz",
        "colab_type": "code",
        "colab": {
          "base_uri": "https://localhost:8080/",
          "height": 200
        },
        "outputId": "f31eee27-5578-4442-d99b-52a9cd728677"
      },
      "source": [
        "#create a dataframe with image name and encoded labels\n",
        "labels=pd.get_dummies(df['diagnostic'])\n",
        "df=pd.concat([df['img_id'],labels],axis=1)\n",
        "df.head()\n",
        "#MEL\tNV\tBCC\tAK\tBKL\t\tSCC"
      ],
      "execution_count": 11,
      "outputs": [
        {
          "output_type": "execute_result",
          "data": {
            "text/html": [
              "<div>\n",
              "<style scoped>\n",
              "    .dataframe tbody tr th:only-of-type {\n",
              "        vertical-align: middle;\n",
              "    }\n",
              "\n",
              "    .dataframe tbody tr th {\n",
              "        vertical-align: top;\n",
              "    }\n",
              "\n",
              "    .dataframe thead th {\n",
              "        text-align: right;\n",
              "    }\n",
              "</style>\n",
              "<table border=\"1\" class=\"dataframe\">\n",
              "  <thead>\n",
              "    <tr style=\"text-align: right;\">\n",
              "      <th></th>\n",
              "      <th>img_id</th>\n",
              "      <th>ACK</th>\n",
              "      <th>BCC</th>\n",
              "      <th>MEL</th>\n",
              "      <th>NEV</th>\n",
              "      <th>SCC</th>\n",
              "      <th>SEK</th>\n",
              "    </tr>\n",
              "  </thead>\n",
              "  <tbody>\n",
              "    <tr>\n",
              "      <th>0</th>\n",
              "      <td>PAT_1516_1765_530.png</td>\n",
              "      <td>0</td>\n",
              "      <td>0</td>\n",
              "      <td>0</td>\n",
              "      <td>1</td>\n",
              "      <td>0</td>\n",
              "      <td>0</td>\n",
              "    </tr>\n",
              "    <tr>\n",
              "      <th>1</th>\n",
              "      <td>PAT_46_881_939.png</td>\n",
              "      <td>0</td>\n",
              "      <td>1</td>\n",
              "      <td>0</td>\n",
              "      <td>0</td>\n",
              "      <td>0</td>\n",
              "      <td>0</td>\n",
              "    </tr>\n",
              "    <tr>\n",
              "      <th>2</th>\n",
              "      <td>PAT_1545_1867_547.png</td>\n",
              "      <td>1</td>\n",
              "      <td>0</td>\n",
              "      <td>0</td>\n",
              "      <td>0</td>\n",
              "      <td>0</td>\n",
              "      <td>0</td>\n",
              "    </tr>\n",
              "    <tr>\n",
              "      <th>3</th>\n",
              "      <td>PAT_1989_4061_934.png</td>\n",
              "      <td>1</td>\n",
              "      <td>0</td>\n",
              "      <td>0</td>\n",
              "      <td>0</td>\n",
              "      <td>0</td>\n",
              "      <td>0</td>\n",
              "    </tr>\n",
              "    <tr>\n",
              "      <th>4</th>\n",
              "      <td>PAT_684_1302_588.png</td>\n",
              "      <td>0</td>\n",
              "      <td>1</td>\n",
              "      <td>0</td>\n",
              "      <td>0</td>\n",
              "      <td>0</td>\n",
              "      <td>0</td>\n",
              "    </tr>\n",
              "  </tbody>\n",
              "</table>\n",
              "</div>"
            ],
            "text/plain": [
              "                  img_id  ACK  BCC  MEL  NEV  SCC  SEK\n",
              "0  PAT_1516_1765_530.png    0    0    0    1    0    0\n",
              "1     PAT_46_881_939.png    0    1    0    0    0    0\n",
              "2  PAT_1545_1867_547.png    1    0    0    0    0    0\n",
              "3  PAT_1989_4061_934.png    1    0    0    0    0    0\n",
              "4   PAT_684_1302_588.png    0    1    0    0    0    0"
            ]
          },
          "metadata": {
            "tags": []
          },
          "execution_count": 11
        }
      ]
    },
    {
      "cell_type": "code",
      "metadata": {
        "id": "B4uO3ChKG2EO",
        "colab_type": "code",
        "colab": {
          "base_uri": "https://localhost:8080/",
          "height": 200
        },
        "outputId": "c0479977-9b55-4f2a-a06d-976fe2702661"
      },
      "source": [
        "#shuffle the dataframe\n",
        "df=df.sample(frac=1)\n",
        "df.head()"
      ],
      "execution_count": 12,
      "outputs": [
        {
          "output_type": "execute_result",
          "data": {
            "text/html": [
              "<div>\n",
              "<style scoped>\n",
              "    .dataframe tbody tr th:only-of-type {\n",
              "        vertical-align: middle;\n",
              "    }\n",
              "\n",
              "    .dataframe tbody tr th {\n",
              "        vertical-align: top;\n",
              "    }\n",
              "\n",
              "    .dataframe thead th {\n",
              "        text-align: right;\n",
              "    }\n",
              "</style>\n",
              "<table border=\"1\" class=\"dataframe\">\n",
              "  <thead>\n",
              "    <tr style=\"text-align: right;\">\n",
              "      <th></th>\n",
              "      <th>img_id</th>\n",
              "      <th>ACK</th>\n",
              "      <th>BCC</th>\n",
              "      <th>MEL</th>\n",
              "      <th>NEV</th>\n",
              "      <th>SCC</th>\n",
              "      <th>SEK</th>\n",
              "    </tr>\n",
              "  </thead>\n",
              "  <tbody>\n",
              "    <tr>\n",
              "      <th>787</th>\n",
              "      <td>PAT_184_284_721.png</td>\n",
              "      <td>1</td>\n",
              "      <td>0</td>\n",
              "      <td>0</td>\n",
              "      <td>0</td>\n",
              "      <td>0</td>\n",
              "      <td>0</td>\n",
              "    </tr>\n",
              "    <tr>\n",
              "      <th>753</th>\n",
              "      <td>PAT_744_1405_742.png</td>\n",
              "      <td>0</td>\n",
              "      <td>1</td>\n",
              "      <td>0</td>\n",
              "      <td>0</td>\n",
              "      <td>0</td>\n",
              "      <td>0</td>\n",
              "    </tr>\n",
              "    <tr>\n",
              "      <th>560</th>\n",
              "      <td>PAT_1565_2432_808.png</td>\n",
              "      <td>1</td>\n",
              "      <td>0</td>\n",
              "      <td>0</td>\n",
              "      <td>0</td>\n",
              "      <td>0</td>\n",
              "      <td>0</td>\n",
              "    </tr>\n",
              "    <tr>\n",
              "      <th>525</th>\n",
              "      <td>PAT_1369_1269_370.png</td>\n",
              "      <td>1</td>\n",
              "      <td>0</td>\n",
              "      <td>0</td>\n",
              "      <td>0</td>\n",
              "      <td>0</td>\n",
              "      <td>0</td>\n",
              "    </tr>\n",
              "    <tr>\n",
              "      <th>1435</th>\n",
              "      <td>PAT_243_372_640.png</td>\n",
              "      <td>0</td>\n",
              "      <td>1</td>\n",
              "      <td>0</td>\n",
              "      <td>0</td>\n",
              "      <td>0</td>\n",
              "      <td>0</td>\n",
              "    </tr>\n",
              "  </tbody>\n",
              "</table>\n",
              "</div>"
            ],
            "text/plain": [
              "                     img_id  ACK  BCC  MEL  NEV  SCC  SEK\n",
              "787     PAT_184_284_721.png    1    0    0    0    0    0\n",
              "753    PAT_744_1405_742.png    0    1    0    0    0    0\n",
              "560   PAT_1565_2432_808.png    1    0    0    0    0    0\n",
              "525   PAT_1369_1269_370.png    1    0    0    0    0    0\n",
              "1435    PAT_243_372_640.png    0    1    0    0    0    0"
            ]
          },
          "metadata": {
            "tags": []
          },
          "execution_count": 12
        }
      ]
    },
    {
      "cell_type": "code",
      "metadata": {
        "id": "Ogf8B7C-G2NB",
        "colab_type": "code",
        "colab": {
          "base_uri": "https://localhost:8080/",
          "height": 35
        },
        "outputId": "9cd75aa3-0447-4b6a-c123-2894a0b936e7"
      },
      "source": [
        "#labels columns in dataframe\n",
        "col=list(df.columns)[1::]\n",
        "col"
      ],
      "execution_count": 13,
      "outputs": [
        {
          "output_type": "execute_result",
          "data": {
            "text/plain": [
              "['ACK', 'BCC', 'MEL', 'NEV', 'SCC', 'SEK']"
            ]
          },
          "metadata": {
            "tags": []
          },
          "execution_count": 13
        }
      ]
    },
    {
      "cell_type": "code",
      "metadata": {
        "id": "ihQ3fznlG2Q7",
        "colab_type": "code",
        "colab": {}
      },
      "source": [
        "# data augmentation\n",
        "from tensorflow.keras.preprocessing.image import ImageDataGenerator\n",
        "data_gen= ImageDataGenerator(\n",
        "    horizontal_flip=True,\n",
        "    vertical_flip=True,\n",
        "    rotation_range=360,\n",
        "    width_shift_range=0.1,\n",
        "    height_shift_range=0.1,\n",
        "    zoom_range=.1,\n",
        "    rescale=1/255,\n",
        "    fill_mode='nearest')"
      ],
      "execution_count": 14,
      "outputs": []
    },
    {
      "cell_type": "code",
      "metadata": {
        "id": "Y4GNCOf3G2KD",
        "colab_type": "code",
        "colab": {}
      },
      "source": [
        "# model hyperparameters\n",
        "img_shape=300\n",
        "batch_size=20\n",
        "n_epochs=20"
      ],
      "execution_count": 15,
      "outputs": []
    },
    {
      "cell_type": "code",
      "metadata": {
        "id": "P72df_UPH2l1",
        "colab_type": "code",
        "colab": {}
      },
      "source": [
        "from tensorflow.keras.layers import GlobalAveragePooling2D,Dropout,Dense\n",
        "from tensorflow.keras.callbacks import ModelCheckpoint,ReduceLROnPlateau\n",
        "from tensorflow.keras.optimizers import Adam\n",
        "import tensorflow.keras.backend as K\n",
        "from tensorflow.keras.models import Sequential,Model"
      ],
      "execution_count": 16,
      "outputs": []
    },
    {
      "cell_type": "code",
      "metadata": {
        "id": "ngi230XBH5MN",
        "colab_type": "code",
        "colab": {}
      },
      "source": [
        "#first create the pretrained model and load weights\n"
      ],
      "execution_count": 17,
      "outputs": []
    },
    {
      "cell_type": "code",
      "metadata": {
        "id": "_e3UDto2KtoS",
        "colab_type": "code",
        "colab": {}
      },
      "source": [
        "def basemodel():\n",
        "  import efficientnet.tfkeras as efn\n",
        "  pre_trained_model =efn.EfficientNetB3(weights =None, include_top=False, input_shape = (img_shape,img_shape,3))\n",
        "  x = pre_trained_model.output\n",
        "  x = GlobalAveragePooling2D()(x)\n",
        "  x = Dropout(0.3)(x)\n",
        "  x = Dense(128, activation=\"relu\")(x)\n",
        "  x = Dropout(0.3)(x)\n",
        "  x = Dense(64, activation=\"relu\")(x)\n",
        "  predictions = Dense(8, activation=\"softmax\")(x) #pretrained model has 7 classes\n",
        "  pre_trained_model = Model(inputs=pre_trained_model.input, outputs=predictions)\n",
        "  pre_trained_model.load_weights('/content/isicall_eff3_weights.hdf5') #load pretrained weights to to model\n",
        "  #now remove all added layers in pretrained layers add new leayer and create base model\n",
        "  #here we can test how many layers we want to remove\n",
        "  base_model = Model(pre_trained_model.input, pre_trained_model.layers[-7].output)\n",
        "  #now add our new layers\n",
        "  x = base_model.output\n",
        "  x = GlobalAveragePooling2D()(x)\n",
        "  x = Dropout(0.3)(x)\n",
        "  x = Dense(128,name='dense1', activation=\"relu\")(x)\n",
        "  x = Dropout(0.3)(x)\n",
        "  x = Dense(64,name='dense2', activation=\"relu\")(x)\n",
        "\n",
        "  predictions  = Dense(len(col),name='output', activation=\"softmax\")(x) #base model has six layers\n",
        "  base_model = Model(inputs=base_model.input, outputs=predictions )\n",
        "  #compile the base model\n",
        "  base_model.compile(optimizer=Adam(0.001), loss='categorical_crossentropy', metrics=['accuracy'])\n",
        "  return base_model"
      ],
      "execution_count": 19,
      "outputs": []
    },
    {
      "cell_type": "code",
      "metadata": {
        "id": "hx-WGWBVNMri",
        "colab_type": "code",
        "colab": {
          "base_uri": "https://localhost:8080/",
          "height": 1000
        },
        "outputId": "0ac9626f-c260-4cbf-85e4-3b083a36f49b"
      },
      "source": [
        "\n",
        "from sklearn.model_selection import KFold,StratifiedKFold\n",
        "import gc\n",
        "\n",
        "from sklearn.metrics import classification_report,accuracy_score,f1_score,roc_auc_score,recall_score,precision_score\n",
        "classification_reports=[]\n",
        "kf = KFold(n_splits=5,shuffle=True)\n",
        "history=[]\n",
        "accuracy=[]\n",
        "f1_scores=[]\n",
        "auc=[]\n",
        "y_pred=[]\n",
        "precision=[]\n",
        "recall=[]\n",
        "fold=0\n",
        "for train_index, test_index in kf.split(df):\n",
        "  train=df.iloc[train_index,:]\n",
        "  val=df.iloc[test_index,:]\n",
        "  print('-----------fold {}--------------'.format(fold))\n",
        "  train_generator=data_gen.flow_from_dataframe(train,directory='/content/data',\n",
        "                                               target_size=(img_shape,img_shape),\n",
        "                                               x_col='img_id',\n",
        "                                               y_col=col,\n",
        "                                               class_mode='raw',\n",
        "                                               shuffle=True,\n",
        "                                               batch_size=batch_size)\n",
        "\n",
        "  val_generator=data_gen.flow_from_dataframe(val,directory='/content/data',\n",
        "                                             target_size=(img_shape,img_shape),\n",
        "                                             x_col=\"img_id\",\n",
        "                                             y_col=col,\n",
        "                                             class_mode='raw',\n",
        "                                             shuffle=False,\n",
        "                                             batch_size=batch_size)\n",
        "  #train_generator.next()[0].shape,train_generator.next()[1].shape\n",
        "\n",
        "  #load base model\n",
        "  base_model=basemodel()\n",
        "  #train model\n",
        "  results = base_model.fit(train_generator,epochs=25,verbose=1,\n",
        "                              steps_per_epoch=train_generator.n/batch_size,\n",
        "                              validation_data=val_generator,\n",
        "                             validation_steps=val_generator.n/batch_size,\n",
        "                              callbacks=[ReduceLROnPlateau(monitor='val_loss', factor=0.5,patience=5, min_lr=0.000001),\n",
        "                                         #ModelCheckpoint('model_{}.hdf5'.format(fold), save_best_only=True, monitor='val_loss', mode='min')\n",
        "                                         ])\n",
        "  #model.load_weights('model_{}.hdf5'.format(fold))\n",
        "  val_generator.reset()\n",
        "  y_pred=base_model.predict(val_generator,steps=val_generator.n/batch_size,verbose=0)\n",
        "  y_pred=y_pred.round().astype(int)\n",
        "  y_true=val.iloc[:,1::]\n",
        "\n",
        "  f1=f1_score(y_true,y_pred,average='macro',labels=np.unique(y_pred))\n",
        "  print('f1 score is ', f1)\n",
        "\n",
        "  accuracy.append(accuracy_score(y_true,y_pred))\n",
        "  auc.append(roc_auc_score(y_true,y_pred))\n",
        "  precision.append(precision_score(y_true,y_pred,average='macro'))\n",
        "  recall.append(recall_score(y_true,y_pred,average='macro'))\n",
        "  f1_scores.append(f1)\n",
        "  history.append(results)\n",
        "  fold+=1\n",
        "\n",
        "  del base_model\n",
        "  K.clear_session()\n",
        "  gc.collect()"
      ],
      "execution_count": 22,
      "outputs": [
        {
          "output_type": "stream",
          "text": [
            "-----------fold 0--------------\n",
            "Found 1838 validated image filenames.\n",
            "Found 460 validated image filenames.\n",
            "Epoch 1/25\n",
            "92/91 [==============================] - 168s 2s/step - loss: 1.1967 - accuracy: 0.5680 - val_loss: 0.9448 - val_accuracy: 0.6761\n",
            "Epoch 2/25\n",
            "92/91 [==============================] - 166s 2s/step - loss: 0.8497 - accuracy: 0.6953 - val_loss: 0.9731 - val_accuracy: 0.6739\n",
            "Epoch 3/25\n",
            "92/91 [==============================] - 166s 2s/step - loss: 0.7540 - accuracy: 0.7258 - val_loss: 0.8310 - val_accuracy: 0.6935\n",
            "Epoch 4/25\n",
            "92/91 [==============================] - 165s 2s/step - loss: 0.7167 - accuracy: 0.7339 - val_loss: 0.8406 - val_accuracy: 0.7304\n",
            "Epoch 5/25\n",
            "92/91 [==============================] - 165s 2s/step - loss: 0.6739 - accuracy: 0.7612 - val_loss: 1.0347 - val_accuracy: 0.6565\n",
            "Epoch 6/25\n",
            "92/91 [==============================] - 164s 2s/step - loss: 0.6182 - accuracy: 0.7709 - val_loss: 0.8634 - val_accuracy: 0.7283\n",
            "Epoch 7/25\n",
            "92/91 [==============================] - 164s 2s/step - loss: 0.6127 - accuracy: 0.7764 - val_loss: 0.7500 - val_accuracy: 0.7304\n",
            "Epoch 8/25\n",
            "92/91 [==============================] - 163s 2s/step - loss: 0.5681 - accuracy: 0.7971 - val_loss: 0.7290 - val_accuracy: 0.7391\n",
            "Epoch 9/25\n",
            "92/91 [==============================] - 162s 2s/step - loss: 0.5002 - accuracy: 0.8286 - val_loss: 1.0291 - val_accuracy: 0.7000\n",
            "Epoch 10/25\n",
            "92/91 [==============================] - 164s 2s/step - loss: 0.5064 - accuracy: 0.8210 - val_loss: 0.7808 - val_accuracy: 0.7413\n",
            "Epoch 11/25\n",
            "92/91 [==============================] - 162s 2s/step - loss: 0.4646 - accuracy: 0.8308 - val_loss: 0.8702 - val_accuracy: 0.7196\n",
            "Epoch 12/25\n",
            "92/91 [==============================] - 163s 2s/step - loss: 0.4376 - accuracy: 0.8406 - val_loss: 0.8212 - val_accuracy: 0.7457\n",
            "Epoch 13/25\n",
            "92/91 [==============================] - 167s 2s/step - loss: 0.4100 - accuracy: 0.8580 - val_loss: 0.8533 - val_accuracy: 0.7130\n",
            "Epoch 14/25\n",
            "92/91 [==============================] - 167s 2s/step - loss: 0.3171 - accuracy: 0.8896 - val_loss: 0.8773 - val_accuracy: 0.7370\n",
            "Epoch 15/25\n",
            "92/91 [==============================] - 167s 2s/step - loss: 0.2938 - accuracy: 0.8972 - val_loss: 0.9137 - val_accuracy: 0.7500\n",
            "Epoch 16/25\n",
            "92/91 [==============================] - 166s 2s/step - loss: 0.2850 - accuracy: 0.8972 - val_loss: 0.9716 - val_accuracy: 0.7000\n",
            "Epoch 17/25\n",
            "92/91 [==============================] - 164s 2s/step - loss: 0.2294 - accuracy: 0.9189 - val_loss: 1.0092 - val_accuracy: 0.7174\n",
            "Epoch 18/25\n",
            "92/91 [==============================] - 163s 2s/step - loss: 0.2289 - accuracy: 0.9211 - val_loss: 0.8843 - val_accuracy: 0.7652\n",
            "Epoch 19/25\n",
            "92/91 [==============================] - 167s 2s/step - loss: 0.1950 - accuracy: 0.9233 - val_loss: 0.8899 - val_accuracy: 0.7500\n",
            "Epoch 20/25\n",
            "92/91 [==============================] - 169s 2s/step - loss: 0.1360 - accuracy: 0.9516 - val_loss: 1.0101 - val_accuracy: 0.7674\n",
            "Epoch 21/25\n",
            "92/91 [==============================] - 171s 2s/step - loss: 0.1377 - accuracy: 0.9521 - val_loss: 1.0400 - val_accuracy: 0.7457\n",
            "Epoch 22/25\n",
            "92/91 [==============================] - 170s 2s/step - loss: 0.1356 - accuracy: 0.9494 - val_loss: 1.0292 - val_accuracy: 0.7413\n",
            "Epoch 23/25\n",
            "92/91 [==============================] - 168s 2s/step - loss: 0.1054 - accuracy: 0.9684 - val_loss: 1.1012 - val_accuracy: 0.7609\n",
            "Epoch 24/25\n",
            "92/91 [==============================] - 169s 2s/step - loss: 0.1086 - accuracy: 0.9652 - val_loss: 1.1570 - val_accuracy: 0.7522\n",
            "Epoch 25/25\n",
            "92/91 [==============================] - 167s 2s/step - loss: 0.0856 - accuracy: 0.9663 - val_loss: 1.0608 - val_accuracy: 0.7609\n",
            "f1 score is  0.7888947092718701\n",
            "-----------fold 1--------------\n",
            "Found 1838 validated image filenames.\n",
            "Found 460 validated image filenames.\n",
            "Epoch 1/25\n",
            " 2/91 [..............................] - ETA: 56s - loss: 1.8605 - accuracy: 0.1000WARNING:tensorflow:Callbacks method `on_train_batch_end` is slow compared to the batch time (batch time: 0.5012s vs `on_train_batch_end` time: 0.7641s). Check your callbacks.\n",
            "92/91 [==============================] - 171s 2s/step - loss: 1.1248 - accuracy: 0.5947 - val_loss: 0.9605 - val_accuracy: 0.6500\n",
            "Epoch 2/25\n",
            "92/91 [==============================] - 170s 2s/step - loss: 0.8776 - accuracy: 0.6877 - val_loss: 0.9003 - val_accuracy: 0.7000\n",
            "Epoch 3/25\n",
            "92/91 [==============================] - 170s 2s/step - loss: 0.7596 - accuracy: 0.7203 - val_loss: 0.9697 - val_accuracy: 0.6717\n",
            "Epoch 4/25\n",
            "92/91 [==============================] - 170s 2s/step - loss: 0.7107 - accuracy: 0.7367 - val_loss: 0.7848 - val_accuracy: 0.7000\n",
            "Epoch 5/25\n",
            "92/91 [==============================] - 173s 2s/step - loss: 0.6472 - accuracy: 0.7748 - val_loss: 0.7884 - val_accuracy: 0.7348\n",
            "Epoch 6/25\n",
            "92/91 [==============================] - 168s 2s/step - loss: 0.6089 - accuracy: 0.7786 - val_loss: 0.9276 - val_accuracy: 0.7065\n",
            "Epoch 7/25\n",
            "92/91 [==============================] - 169s 2s/step - loss: 0.6204 - accuracy: 0.7671 - val_loss: 0.8131 - val_accuracy: 0.6957\n",
            "Epoch 8/25\n",
            "92/91 [==============================] - 168s 2s/step - loss: 0.5550 - accuracy: 0.8025 - val_loss: 0.7474 - val_accuracy: 0.7391\n",
            "Epoch 9/25\n",
            "92/91 [==============================] - 169s 2s/step - loss: 0.5662 - accuracy: 0.7927 - val_loss: 0.8481 - val_accuracy: 0.6935\n",
            "Epoch 10/25\n",
            "92/91 [==============================] - 170s 2s/step - loss: 0.5298 - accuracy: 0.8205 - val_loss: 0.8323 - val_accuracy: 0.6978\n",
            "Epoch 11/25\n",
            "92/91 [==============================] - 171s 2s/step - loss: 0.4845 - accuracy: 0.8161 - val_loss: 0.8070 - val_accuracy: 0.7435\n",
            "Epoch 12/25\n",
            "92/91 [==============================] - 171s 2s/step - loss: 0.4445 - accuracy: 0.8341 - val_loss: 0.7546 - val_accuracy: 0.7696\n",
            "Epoch 13/25\n",
            "92/91 [==============================] - 166s 2s/step - loss: 0.4315 - accuracy: 0.8504 - val_loss: 1.1195 - val_accuracy: 0.6217\n",
            "Epoch 14/25\n",
            "92/91 [==============================] - 168s 2s/step - loss: 0.3607 - accuracy: 0.8743 - val_loss: 0.7519 - val_accuracy: 0.7848\n",
            "Epoch 15/25\n",
            "92/91 [==============================] - 165s 2s/step - loss: 0.3117 - accuracy: 0.8879 - val_loss: 0.9494 - val_accuracy: 0.7435\n",
            "Epoch 16/25\n",
            "92/91 [==============================] - 165s 2s/step - loss: 0.2863 - accuracy: 0.9081 - val_loss: 0.8626 - val_accuracy: 0.7196\n",
            "Epoch 17/25\n",
            "92/91 [==============================] - 165s 2s/step - loss: 0.2487 - accuracy: 0.9108 - val_loss: 1.0002 - val_accuracy: 0.7478\n",
            "Epoch 18/25\n",
            "92/91 [==============================] - 164s 2s/step - loss: 0.2266 - accuracy: 0.9227 - val_loss: 0.8629 - val_accuracy: 0.7652\n",
            "Epoch 19/25\n",
            "92/91 [==============================] - 167s 2s/step - loss: 0.1924 - accuracy: 0.9287 - val_loss: 0.8934 - val_accuracy: 0.7587\n",
            "Epoch 20/25\n",
            "92/91 [==============================] - 165s 2s/step - loss: 0.1626 - accuracy: 0.9450 - val_loss: 0.8840 - val_accuracy: 0.7870\n",
            "Epoch 21/25\n",
            "92/91 [==============================] - 167s 2s/step - loss: 0.1509 - accuracy: 0.9434 - val_loss: 0.8451 - val_accuracy: 0.7913\n",
            "Epoch 22/25\n",
            "92/91 [==============================] - 167s 2s/step - loss: 0.1584 - accuracy: 0.9483 - val_loss: 0.9112 - val_accuracy: 0.7870\n",
            "Epoch 23/25\n",
            "92/91 [==============================] - 167s 2s/step - loss: 0.1445 - accuracy: 0.9532 - val_loss: 0.7862 - val_accuracy: 0.8022\n",
            "Epoch 24/25\n",
            "92/91 [==============================] - 167s 2s/step - loss: 0.1230 - accuracy: 0.9548 - val_loss: 0.8789 - val_accuracy: 0.7891\n",
            "Epoch 25/25\n",
            "92/91 [==============================] - 166s 2s/step - loss: 0.0997 - accuracy: 0.9695 - val_loss: 0.9573 - val_accuracy: 0.7913\n",
            "f1 score is  0.8298683959565134\n",
            "-----------fold 2--------------\n",
            "Found 1838 validated image filenames.\n",
            "Found 460 validated image filenames.\n",
            "Epoch 1/25\n",
            "92/91 [==============================] - 169s 2s/step - loss: 1.1624 - accuracy: 0.5871 - val_loss: 1.0567 - val_accuracy: 0.6457\n",
            "Epoch 2/25\n",
            "92/91 [==============================] - 169s 2s/step - loss: 0.8663 - accuracy: 0.7035 - val_loss: 0.9682 - val_accuracy: 0.6348\n",
            "Epoch 3/25\n",
            "92/91 [==============================] - 168s 2s/step - loss: 0.7331 - accuracy: 0.7448 - val_loss: 0.9152 - val_accuracy: 0.6717\n",
            "Epoch 4/25\n",
            "92/91 [==============================] - 167s 2s/step - loss: 0.7074 - accuracy: 0.7514 - val_loss: 0.9692 - val_accuracy: 0.6696\n",
            "Epoch 5/25\n",
            "92/91 [==============================] - 167s 2s/step - loss: 0.6802 - accuracy: 0.7448 - val_loss: 0.9221 - val_accuracy: 0.6913\n",
            "Epoch 6/25\n",
            "92/91 [==============================] - 167s 2s/step - loss: 0.6377 - accuracy: 0.7682 - val_loss: 0.8441 - val_accuracy: 0.7130\n",
            "Epoch 7/25\n",
            "92/91 [==============================] - 166s 2s/step - loss: 0.5772 - accuracy: 0.7856 - val_loss: 0.9826 - val_accuracy: 0.6826\n",
            "Epoch 8/25\n",
            "92/91 [==============================] - 166s 2s/step - loss: 0.5802 - accuracy: 0.7753 - val_loss: 0.9408 - val_accuracy: 0.6826\n",
            "Epoch 9/25\n",
            "92/91 [==============================] - 167s 2s/step - loss: 0.5309 - accuracy: 0.8085 - val_loss: 1.0129 - val_accuracy: 0.6435\n",
            "Epoch 10/25\n",
            "92/91 [==============================] - 167s 2s/step - loss: 0.5336 - accuracy: 0.8107 - val_loss: 0.9978 - val_accuracy: 0.6804\n",
            "Epoch 11/25\n",
            "92/91 [==============================] - 167s 2s/step - loss: 0.4806 - accuracy: 0.8264 - val_loss: 0.8674 - val_accuracy: 0.7370\n",
            "Epoch 12/25\n",
            "92/91 [==============================] - 167s 2s/step - loss: 0.4241 - accuracy: 0.8515 - val_loss: 0.8601 - val_accuracy: 0.7478\n",
            "Epoch 13/25\n",
            "92/91 [==============================] - 167s 2s/step - loss: 0.3500 - accuracy: 0.8716 - val_loss: 0.8637 - val_accuracy: 0.7239\n",
            "Epoch 14/25\n",
            "92/91 [==============================] - 167s 2s/step - loss: 0.3372 - accuracy: 0.8743 - val_loss: 0.8595 - val_accuracy: 0.7435\n",
            "Epoch 15/25\n",
            "92/91 [==============================] - 167s 2s/step - loss: 0.2866 - accuracy: 0.8917 - val_loss: 1.0260 - val_accuracy: 0.6696\n",
            "Epoch 16/25\n",
            "92/91 [==============================] - 167s 2s/step - loss: 0.2801 - accuracy: 0.9037 - val_loss: 1.1433 - val_accuracy: 0.6913\n",
            "Epoch 17/25\n",
            "92/91 [==============================] - 167s 2s/step - loss: 0.2341 - accuracy: 0.9162 - val_loss: 0.9996 - val_accuracy: 0.7304\n",
            "Epoch 18/25\n",
            "92/91 [==============================] - 167s 2s/step - loss: 0.2109 - accuracy: 0.9238 - val_loss: 1.0750 - val_accuracy: 0.7065\n",
            "Epoch 19/25\n",
            "92/91 [==============================] - 169s 2s/step - loss: 0.1950 - accuracy: 0.9287 - val_loss: 1.1349 - val_accuracy: 0.7043\n",
            "Epoch 20/25\n",
            "92/91 [==============================] - 169s 2s/step - loss: 0.1889 - accuracy: 0.9293 - val_loss: 1.0006 - val_accuracy: 0.7304\n",
            "Epoch 21/25\n",
            "92/91 [==============================] - 167s 2s/step - loss: 0.1775 - accuracy: 0.9369 - val_loss: 1.1165 - val_accuracy: 0.7283\n",
            "Epoch 22/25\n",
            "92/91 [==============================] - 166s 2s/step - loss: 0.1442 - accuracy: 0.9483 - val_loss: 1.0770 - val_accuracy: 0.7326\n",
            "Epoch 23/25\n",
            "92/91 [==============================] - 167s 2s/step - loss: 0.1276 - accuracy: 0.9581 - val_loss: 1.0711 - val_accuracy: 0.7391\n",
            "Epoch 24/25\n",
            "92/91 [==============================] - 166s 2s/step - loss: 0.1251 - accuracy: 0.9576 - val_loss: 1.0988 - val_accuracy: 0.7413\n",
            "Epoch 25/25\n",
            "92/91 [==============================] - 166s 2s/step - loss: 0.1248 - accuracy: 0.9559 - val_loss: 1.1785 - val_accuracy: 0.7413\n",
            "f1 score is  0.791248241878215\n",
            "-----------fold 3--------------\n",
            "Found 1839 validated image filenames.\n",
            "Found 459 validated image filenames.\n",
            "Epoch 1/25\n",
            "92/91 [==============================] - 172s 2s/step - loss: 1.1551 - accuracy: 0.5780 - val_loss: 0.9272 - val_accuracy: 0.6645\n",
            "Epoch 2/25\n",
            "92/91 [==============================] - 166s 2s/step - loss: 0.8307 - accuracy: 0.6966 - val_loss: 0.8175 - val_accuracy: 0.6928\n",
            "Epoch 3/25\n",
            "92/91 [==============================] - 166s 2s/step - loss: 0.7536 - accuracy: 0.7216 - val_loss: 0.9617 - val_accuracy: 0.6928\n",
            "Epoch 4/25\n",
            "92/91 [==============================] - 169s 2s/step - loss: 0.7122 - accuracy: 0.7450 - val_loss: 0.8842 - val_accuracy: 0.6928\n",
            "Epoch 5/25\n",
            "92/91 [==============================] - 169s 2s/step - loss: 0.6583 - accuracy: 0.7629 - val_loss: 0.8978 - val_accuracy: 0.6645\n",
            "Epoch 6/25\n",
            "92/91 [==============================] - 168s 2s/step - loss: 0.6037 - accuracy: 0.7803 - val_loss: 0.8511 - val_accuracy: 0.7190\n",
            "Epoch 7/25\n",
            "92/91 [==============================] - 168s 2s/step - loss: 0.5869 - accuracy: 0.7841 - val_loss: 0.8352 - val_accuracy: 0.7102\n",
            "Epoch 8/25\n",
            "92/91 [==============================] - 167s 2s/step - loss: 0.4777 - accuracy: 0.8249 - val_loss: 0.7224 - val_accuracy: 0.7560\n",
            "Epoch 9/25\n",
            "92/91 [==============================] - 167s 2s/step - loss: 0.4285 - accuracy: 0.8445 - val_loss: 0.7579 - val_accuracy: 0.7691\n",
            "Epoch 10/25\n",
            "92/91 [==============================] - 167s 2s/step - loss: 0.3860 - accuracy: 0.8619 - val_loss: 0.8158 - val_accuracy: 0.7429\n",
            "Epoch 11/25\n",
            "92/91 [==============================] - 167s 2s/step - loss: 0.4088 - accuracy: 0.8461 - val_loss: 0.7897 - val_accuracy: 0.7386\n",
            "Epoch 12/25\n",
            "92/91 [==============================] - 168s 2s/step - loss: 0.3457 - accuracy: 0.8690 - val_loss: 0.8363 - val_accuracy: 0.7560\n",
            "Epoch 13/25\n",
            "92/91 [==============================] - 167s 2s/step - loss: 0.2946 - accuracy: 0.8923 - val_loss: 0.8773 - val_accuracy: 0.7386\n",
            "Epoch 14/25\n",
            "92/91 [==============================] - 168s 2s/step - loss: 0.2786 - accuracy: 0.8902 - val_loss: 0.7822 - val_accuracy: 0.7451\n",
            "Epoch 15/25\n",
            "92/91 [==============================] - 167s 2s/step - loss: 0.2266 - accuracy: 0.9228 - val_loss: 0.9098 - val_accuracy: 0.7538\n",
            "Epoch 16/25\n",
            "92/91 [==============================] - 167s 2s/step - loss: 0.2244 - accuracy: 0.9184 - val_loss: 0.9097 - val_accuracy: 0.7473\n",
            "Epoch 17/25\n",
            "92/91 [==============================] - 167s 2s/step - loss: 0.2284 - accuracy: 0.9233 - val_loss: 0.9472 - val_accuracy: 0.7451\n",
            "Epoch 18/25\n",
            "92/91 [==============================] - 170s 2s/step - loss: 0.2060 - accuracy: 0.9277 - val_loss: 0.8801 - val_accuracy: 0.7647\n",
            "Epoch 19/25\n",
            "92/91 [==============================] - 170s 2s/step - loss: 0.1833 - accuracy: 0.9347 - val_loss: 0.8762 - val_accuracy: 0.7734\n",
            "Epoch 20/25\n",
            "92/91 [==============================] - 170s 2s/step - loss: 0.1619 - accuracy: 0.9391 - val_loss: 0.9214 - val_accuracy: 0.7712\n",
            "Epoch 21/25\n",
            "92/91 [==============================] - 169s 2s/step - loss: 0.1601 - accuracy: 0.9456 - val_loss: 0.9530 - val_accuracy: 0.7669\n",
            "Epoch 22/25\n",
            "92/91 [==============================] - 168s 2s/step - loss: 0.1819 - accuracy: 0.9391 - val_loss: 0.9423 - val_accuracy: 0.7538\n",
            "Epoch 23/25\n",
            "92/91 [==============================] - 170s 2s/step - loss: 0.1562 - accuracy: 0.9505 - val_loss: 0.9684 - val_accuracy: 0.7712\n",
            "Epoch 24/25\n",
            "92/91 [==============================] - 169s 2s/step - loss: 0.1229 - accuracy: 0.9576 - val_loss: 0.9589 - val_accuracy: 0.7669\n",
            "Epoch 25/25\n",
            "92/91 [==============================] - 169s 2s/step - loss: 0.1450 - accuracy: 0.9532 - val_loss: 0.9773 - val_accuracy: 0.7603\n",
            "f1 score is  0.8257975522598086\n",
            "-----------fold 4--------------\n",
            "Found 1839 validated image filenames.\n",
            "Found 459 validated image filenames.\n",
            "Epoch 1/25\n",
            "92/91 [==============================] - 173s 2s/step - loss: 1.1839 - accuracy: 0.5943 - val_loss: 1.0822 - val_accuracy: 0.6427\n",
            "Epoch 2/25\n",
            "92/91 [==============================] - 170s 2s/step - loss: 0.8881 - accuracy: 0.6797 - val_loss: 0.8914 - val_accuracy: 0.6993\n",
            "Epoch 3/25\n",
            "92/91 [==============================] - 170s 2s/step - loss: 0.7673 - accuracy: 0.7265 - val_loss: 0.7799 - val_accuracy: 0.7516\n",
            "Epoch 4/25\n",
            "92/91 [==============================] - 170s 2s/step - loss: 0.6904 - accuracy: 0.7493 - val_loss: 0.7748 - val_accuracy: 0.7386\n",
            "Epoch 5/25\n",
            "92/91 [==============================] - 170s 2s/step - loss: 0.6526 - accuracy: 0.7678 - val_loss: 0.7639 - val_accuracy: 0.7451\n",
            "Epoch 6/25\n",
            "92/91 [==============================] - 169s 2s/step - loss: 0.6253 - accuracy: 0.7635 - val_loss: 0.8496 - val_accuracy: 0.7298\n",
            "Epoch 7/25\n",
            "92/91 [==============================] - 171s 2s/step - loss: 0.5729 - accuracy: 0.7999 - val_loss: 0.8292 - val_accuracy: 0.7190\n",
            "Epoch 8/25\n",
            "92/91 [==============================] - 171s 2s/step - loss: 0.5555 - accuracy: 0.8015 - val_loss: 0.9179 - val_accuracy: 0.6732\n",
            "Epoch 9/25\n",
            "92/91 [==============================] - 171s 2s/step - loss: 0.5286 - accuracy: 0.8140 - val_loss: 0.7791 - val_accuracy: 0.7495\n",
            "Epoch 10/25\n",
            "92/91 [==============================] - 171s 2s/step - loss: 0.5007 - accuracy: 0.8157 - val_loss: 0.7840 - val_accuracy: 0.7233\n",
            "Epoch 11/25\n",
            "92/91 [==============================] - 170s 2s/step - loss: 0.3868 - accuracy: 0.8711 - val_loss: 0.7458 - val_accuracy: 0.7691\n",
            "Epoch 12/25\n",
            "92/91 [==============================] - 170s 2s/step - loss: 0.3532 - accuracy: 0.8787 - val_loss: 0.7934 - val_accuracy: 0.7712\n",
            "Epoch 13/25\n",
            "92/91 [==============================] - 169s 2s/step - loss: 0.3107 - accuracy: 0.8907 - val_loss: 0.7753 - val_accuracy: 0.7516\n",
            "Epoch 14/25\n",
            "92/91 [==============================] - 168s 2s/step - loss: 0.2988 - accuracy: 0.8961 - val_loss: 0.8260 - val_accuracy: 0.7603\n",
            "Epoch 15/25\n",
            "92/91 [==============================] - 168s 2s/step - loss: 0.2679 - accuracy: 0.9065 - val_loss: 0.8375 - val_accuracy: 0.7625\n",
            "Epoch 16/25\n",
            "92/91 [==============================] - 169s 2s/step - loss: 0.2405 - accuracy: 0.9157 - val_loss: 0.9248 - val_accuracy: 0.7429\n",
            "Epoch 17/25\n",
            "92/91 [==============================] - 169s 2s/step - loss: 0.2322 - accuracy: 0.9331 - val_loss: 0.7862 - val_accuracy: 0.7669\n",
            "Epoch 18/25\n",
            "92/91 [==============================] - 170s 2s/step - loss: 0.1920 - accuracy: 0.9293 - val_loss: 0.8646 - val_accuracy: 0.7603\n",
            "Epoch 19/25\n",
            "92/91 [==============================] - 168s 2s/step - loss: 0.1972 - accuracy: 0.9277 - val_loss: 0.8782 - val_accuracy: 0.7582\n",
            "Epoch 20/25\n",
            "92/91 [==============================] - 168s 2s/step - loss: 0.1449 - accuracy: 0.9489 - val_loss: 0.9541 - val_accuracy: 0.7800\n",
            "Epoch 21/25\n",
            "92/91 [==============================] - 169s 2s/step - loss: 0.1522 - accuracy: 0.9462 - val_loss: 0.9521 - val_accuracy: 0.7756\n",
            "Epoch 22/25\n",
            "92/91 [==============================] - 168s 2s/step - loss: 0.1424 - accuracy: 0.9549 - val_loss: 0.9111 - val_accuracy: 0.7582\n",
            "Epoch 23/25\n",
            "92/91 [==============================] - 168s 2s/step - loss: 0.1144 - accuracy: 0.9619 - val_loss: 1.0031 - val_accuracy: 0.7538\n",
            "Epoch 24/25\n",
            "92/91 [==============================] - 168s 2s/step - loss: 0.0971 - accuracy: 0.9679 - val_loss: 0.9891 - val_accuracy: 0.7669\n",
            "Epoch 25/25\n",
            "92/91 [==============================] - 167s 2s/step - loss: 0.0989 - accuracy: 0.9608 - val_loss: 1.0406 - val_accuracy: 0.7560\n",
            "f1 score is  0.7917908568070189\n"
          ],
          "name": "stdout"
        }
      ]
    },
    {
      "cell_type": "code",
      "metadata": {
        "id": "yesXG_AnTxV_",
        "colab_type": "code",
        "colab": {
          "base_uri": "https://localhost:8080/",
          "height": 35
        },
        "outputId": "82037eec-29f3-4bec-8735-17f8ee36299d"
      },
      "source": [
        "#average accuracy across all folds\n",
        "np.mean(accuracy)"
      ],
      "execution_count": 23,
      "outputs": [
        {
          "output_type": "execute_result",
          "data": {
            "text/plain": [
              "0.7502226011177416"
            ]
          },
          "metadata": {
            "tags": []
          },
          "execution_count": 23
        }
      ]
    },
    {
      "cell_type": "code",
      "metadata": {
        "id": "IBEnsXEAUE0v",
        "colab_type": "code",
        "colab": {
          "base_uri": "https://localhost:8080/",
          "height": 35
        },
        "outputId": "3903a291-9c36-4e59-a82a-6eba1eea6e5d"
      },
      "source": [
        "#average f1_scores across all folds\n",
        "np.mean(f1_scores)"
      ],
      "execution_count": 24,
      "outputs": [
        {
          "output_type": "execute_result",
          "data": {
            "text/plain": [
              "0.8055199512346853"
            ]
          },
          "metadata": {
            "tags": []
          },
          "execution_count": 24
        }
      ]
    },
    {
      "cell_type": "code",
      "metadata": {
        "id": "nSynF5hyUJKL",
        "colab_type": "code",
        "colab": {
          "base_uri": "https://localhost:8080/",
          "height": 35
        },
        "outputId": "fb96888d-e02f-4add-c02b-126c726949a6"
      },
      "source": [
        "#average auc_scores across all folds\n",
        "np.mean(auc)"
      ],
      "execution_count": 25,
      "outputs": [
        {
          "output_type": "execute_result",
          "data": {
            "text/plain": [
              "0.8090635947111554"
            ]
          },
          "metadata": {
            "tags": []
          },
          "execution_count": 25
        }
      ]
    },
    {
      "cell_type": "code",
      "metadata": {
        "id": "ZS59r4ejUMib",
        "colab_type": "code",
        "colab": {
          "base_uri": "https://localhost:8080/",
          "height": 35
        },
        "outputId": "2931bf60-e594-440f-ecfb-a8762446e936"
      },
      "source": [
        "history[0].history.keys()"
      ],
      "execution_count": 26,
      "outputs": [
        {
          "output_type": "execute_result",
          "data": {
            "text/plain": [
              "dict_keys(['loss', 'accuracy', 'val_loss', 'val_accuracy', 'lr'])"
            ]
          },
          "metadata": {
            "tags": []
          },
          "execution_count": 26
        }
      ]
    },
    {
      "cell_type": "code",
      "metadata": {
        "id": "gqrytK3kUz8y",
        "colab_type": "code",
        "colab": {}
      },
      "source": [
        "def plot_accuracy(hist,acc='val_accuracy'):\n",
        "    for i in range(5):\n",
        "      plt.plot(hist[i].history[acc],linestyle='-.',linewidth=1.5)\n",
        "     \n",
        "    mean=np.mean([[j for j in x.history[acc]] for x in hist],axis=0)\n",
        "    std=np.std([[j for j in x.history[acc]] for x in hist],axis=0)\n",
        "    plt.plot(mean,linewidth=2,color='black')\n",
        "    if acc=='val_accuracy':\n",
        "      plt.title('Model Validation Accuracy')\n",
        "    else:\n",
        "      plt.title('Model Training Accuracy')\n",
        "    plt.ylabel('Accuracy')\n",
        "    plt.xlabel('Epochs')\n",
        "    plt.legend(['Fold1','Fold2','Fold3','Fold4','Fold5','Average Val Accuracy' ], loc='best')\n",
        "    plt.show()"
      ],
      "execution_count": 27,
      "outputs": []
    },
    {
      "cell_type": "code",
      "metadata": {
        "id": "bU00gMO6Vjt0",
        "colab_type": "code",
        "colab": {
          "base_uri": "https://localhost:8080/",
          "height": 295
        },
        "outputId": "e677daca-1f56-4677-a73c-b4629faba78f"
      },
      "source": [
        "plot_accuracy(history)"
      ],
      "execution_count": 28,
      "outputs": [
        {
          "output_type": "display_data",
          "data": {
            "image/png": "[encoded data removed]",
            "text/plain": [
              "<Figure size 432x288 with 1 Axes>"
            ]
          },
          "metadata": {
            "tags": [],
            "needs_background": "light"
          }
        }
      ]
    },
    {
      "cell_type": "code",
      "metadata": {
        "id": "iCsZIxDS2Pck",
        "colab_type": "code",
        "colab": {
          "base_uri": "https://localhost:8080/",
          "height": 295
        },
        "outputId": "ec648046-16bf-44d6-9502-70a3fdf3751c"
      },
      "source": [
        "plot_accuracy(history,acc='accuracy')"
      ],
      "execution_count": 29,
      "outputs": [
        {
          "output_type": "display_data",
          "data": {
            "image/png": "[encoded data removed]",
            "text/plain": [
              "<Figure size 432x288 with 1 Axes>"
            ]
          },
          "metadata": {
            "tags": [],
            "needs_background": "light"
          }
        }
      ]
    },
    {
      "cell_type": "code",
      "metadata": {
        "id": "o0nx7FTsogaB",
        "colab_type": "code",
        "colab": {}
      },
      "source": [
        ""
      ],
      "execution_count": null,
      "outputs": []
    }
  ]
}